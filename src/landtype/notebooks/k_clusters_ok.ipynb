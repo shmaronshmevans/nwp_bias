{
 "cells": [
  {
   "cell_type": "code",
   "execution_count": null,
   "metadata": {},
   "outputs": [],
   "source": [
    "%load_ext autoreload\n",
    "%autoreload 2\n",
    "import sys\n",
    "\n",
    "# instead of creating a package using setup.py or building from a docker/singularity file,\n",
    "# import the sister directory of src code to be called on in notebook.\n",
    "# This keeps the notebook free from code to only hold visualizations and is easier to test\n",
    "# It also helps keep the state of variables clean such that cells aren't run out of order with a mysterious state\n",
    "sys.path.append(\"..\")"
   ]
  },
  {
   "cell_type": "code",
   "execution_count": null,
   "metadata": {},
   "outputs": [],
   "source": [
    "import numpy as np\n",
    "import pandas as pd\n",
    "from matplotlib import pyplot as plt\n",
    "from sklearn.cluster import KMeans\n",
    "\n",
    "# import sklearn.cluster.hierarchical as hclust\n",
    "from sklearn import preprocessing\n",
    "import seaborn as sns\n",
    "\n",
    "from src import most_recent_mesonet_data\n",
    "from src import most_recent_mesonet_time\n",
    "from src import landtype_describe\n",
    "from src.plotting_scripts import landtype\n",
    "import os\n",
    "import pandas as pd\n",
    "import cartopy.crs as crs\n",
    "import cartopy.feature as cfeature"
   ]
  },
  {
   "cell_type": "code",
   "execution_count": null,
   "metadata": {},
   "outputs": [],
   "source": [
    "def plurality_plot(df):\n",
    "    projPC = crs.PlateCarree()\n",
    "    latN = df[\"lat\"].max() + 1\n",
    "    latS = df[\"lat\"].min() - 1\n",
    "    lonW = df[\"lon\"].max() + 1\n",
    "    lonE = df[\"lon\"].min() - 1\n",
    "    cLat = (latN + latS) / 2\n",
    "    cLon = (lonW + lonE) / 2\n",
    "    projLcc = crs.LambertConformal(central_longitude=cLon, central_latitude=cLat)\n",
    "\n",
    "    fig, ax = plt.subplots(\n",
    "        figsize=(12, 9), subplot_kw={\"projection\": crs.PlateCarree()}, dpi=400\n",
    "    )\n",
    "    ax.set_extent([lonW, lonE, latS, latN], crs=projPC)\n",
    "    ax.add_feature(cfeature.LAND)\n",
    "    ax.add_feature(cfeature.COASTLINE)\n",
    "    ax.add_feature(cfeature.BORDERS, linestyle=\"--\")\n",
    "    ax.add_feature(cfeature.LAKES, alpha=0.5)\n",
    "    ax.add_feature(cfeature.STATES)\n",
    "    ax.xticklabels_top = False\n",
    "    ax.ylabels_right = False\n",
    "    ax.gridlines(\n",
    "        crs=crs.PlateCarree(),\n",
    "        draw_labels=True,\n",
    "        linewidth=2,\n",
    "        color=\"black\",\n",
    "        alpha=0.5,\n",
    "        linestyle=\"--\",\n",
    "    )\n",
    "    ax.scatter(\n",
    "        x=df[\"lon\"],\n",
    "        y=df[\"lat\"],\n",
    "        c=df[\"color\"],\n",
    "        s=40,\n",
    "        marker=\"o\",\n",
    "        edgecolor=\"black\",\n",
    "        transform=crs.PlateCarree(),\n",
    "    )\n",
    "    ax.set_title(\"Mesonet Site Groups\", size=16)\n",
    "    ax.set_xlabel(\"Longitude\", size=14)\n",
    "    ax.set_ylabel(\"Latitude\", size=14)\n",
    "    ax.tick_params(axis=\"x\", labelsize=12)\n",
    "    ax.tick_params(axis=\"y\", labelsize=12)\n",
    "    ax.grid()"
   ]
  },
  {
   "cell_type": "code",
   "execution_count": null,
   "metadata": {},
   "outputs": [],
   "source": [
    "# get lons and lats\n",
    "# This will return the most recent data avail on mesonet\n",
    "# this is my file path\n",
    "ny_mesonet_data_path = \"/home/aevans/nysm/archive/nysm/netcdf/proc\"\n",
    "ok_mesonet_data_path = \"/home/aevans/landtype/geoinfo.csv\""
   ]
  },
  {
   "cell_type": "code",
   "execution_count": null,
   "metadata": {},
   "outputs": [],
   "source": [
    "# create a dataframe of mesonet data ok\n",
    "ok_df = pd.read_csv(ok_mesonet_data_path)"
   ]
  },
  {
   "cell_type": "code",
   "execution_count": null,
   "metadata": {},
   "outputs": [],
   "source": [
    "ok_df_lons = ok_df[\"elon\"].to_list()\n",
    "ok_df_lats = ok_df[\"nlat\"].to_list()"
   ]
  },
  {
   "cell_type": "code",
   "execution_count": null,
   "metadata": {},
   "outputs": [],
   "source": [
    "df_lulc = pd.read_csv(\"/home/aevans/landtype/data/OKbuffer_10_percent.csv\")"
   ]
  },
  {
   "cell_type": "code",
   "execution_count": null,
   "metadata": {},
   "outputs": [],
   "source": [
    "# exclude the categorical columns\n",
    "features = df_lulc.drop([\"site\", \"station\"], axis=1)"
   ]
  },
  {
   "cell_type": "code",
   "execution_count": null,
   "metadata": {},
   "outputs": [],
   "source": [
    "features.describe()"
   ]
  },
  {
   "cell_type": "code",
   "execution_count": null,
   "metadata": {},
   "outputs": [],
   "source": [
    "# noramalize data\n",
    "scaler = preprocessing.MinMaxScaler()\n",
    "features_normal = scaler.fit_transform(features)"
   ]
  },
  {
   "cell_type": "code",
   "execution_count": null,
   "metadata": {},
   "outputs": [],
   "source": [
    "pd.DataFrame(features_normal).describe()"
   ]
  },
  {
   "cell_type": "code",
   "execution_count": null,
   "metadata": {},
   "outputs": [],
   "source": [
    "# kmeans clustering\n",
    "inertia = []\n",
    "K = range(1, 20)\n",
    "for k in K:\n",
    "    kmeanModel = KMeans(n_clusters=k).fit(features_normal)\n",
    "    kmeanModel.fit(features_normal)\n",
    "    inertia.append(kmeanModel.inertia_)"
   ]
  },
  {
   "cell_type": "code",
   "execution_count": null,
   "metadata": {},
   "outputs": [],
   "source": [
    "# Plot the elbow\n",
    "plt.plot(K, inertia, \"bx-\")\n",
    "plt.xlabel(\"k\")\n",
    "plt.ylabel(\"Inertia\")\n",
    "plt.show()"
   ]
  },
  {
   "cell_type": "code",
   "execution_count": null,
   "metadata": {},
   "outputs": [],
   "source": [
    "# let's say our elbow is 12\n",
    "kmeans = KMeans(n_clusters=6).fit(features_normal)"
   ]
  },
  {
   "cell_type": "code",
   "execution_count": null,
   "metadata": {},
   "outputs": [],
   "source": [
    "labels = pd.DataFrame(\n",
    "    kmeans.labels_\n",
    ")  # This is where the label output of the KMeans we just ran lives. Make it a dataframe so we can concatenate back to the original data\n",
    "labeledClasses = pd.concat((features, labels), axis=1)\n",
    "labeledClasses = labeledClasses.rename({0: \"labels\"}, axis=1)"
   ]
  },
  {
   "cell_type": "code",
   "execution_count": null,
   "metadata": {},
   "outputs": [],
   "source": [
    "labeledClasses.head()"
   ]
  },
  {
   "cell_type": "code",
   "execution_count": null,
   "metadata": {},
   "outputs": [],
   "source": [
    "sns.pairplot(labeledClasses, hue=\"labels\")"
   ]
  },
  {
   "cell_type": "code",
   "execution_count": null,
   "metadata": {},
   "outputs": [],
   "source": [
    "labeledClasses[\n",
    "    \"Constant\"\n",
    "] = \"Data\"  # This is just to add something constant for the strip/swarm plots' X axis. Can be anything you want it to be."
   ]
  },
  {
   "cell_type": "code",
   "execution_count": null,
   "metadata": {},
   "outputs": [],
   "source": [
    "f, axes = plt.subplots(\n",
    "    4, 5, figsize=(20, 25), sharex=False\n",
    ")  # create a 4x5 grid of empty figures where we will plot our feature plots. We will have a couple empty ones.\n",
    "f.subplots_adjust(hspace=0.2, wspace=0.7)  # Scooch em apart, give em some room\n",
    "# In this for loop, I step through every column that I want to plot. This is a 4x5 grid, so I split this up by rows of 5 in the else if statements\n",
    "for i in range(\n",
    "    0, len(list(labeledClasses)) - 2\n",
    "):  # minus two because I don't want to plot labels or constant\n",
    "    col = labeledClasses.columns[i]\n",
    "    if i < 5:\n",
    "        ax = sns.stripplot(\n",
    "            x=labeledClasses[\"Constant\"],\n",
    "            y=labeledClasses[col].values,\n",
    "            hue=labeledClasses[\"labels\"],\n",
    "            jitter=True,\n",
    "            ax=axes[0, (i)],\n",
    "        )\n",
    "        ax.set_title(col)\n",
    "    elif i >= 5 and i < 10:\n",
    "        ax = sns.stripplot(\n",
    "            x=labeledClasses[\"Constant\"],\n",
    "            y=labeledClasses[col].values,\n",
    "            hue=labeledClasses[\"labels\"],\n",
    "            jitter=True,\n",
    "            ax=axes[1, (i - 5)],\n",
    "        )  # so if i=6 it is row 1 column 1\n",
    "        ax.set_title(col)\n",
    "    elif i >= 10 and i < 15:\n",
    "        ax = sns.stripplot(\n",
    "            x=labeledClasses[\"Constant\"],\n",
    "            y=labeledClasses[col].values,\n",
    "            hue=labeledClasses[\"labels\"],\n",
    "            jitter=True,\n",
    "            ax=axes[2, (i - 10)],\n",
    "        )\n",
    "        ax.set_title(col)\n",
    "    elif i >= 15:\n",
    "        ax = sns.stripplot(\n",
    "            x=labeledClasses[\"Constant\"],\n",
    "            y=labeledClasses[col].values,\n",
    "            hue=labeledClasses[\"labels\"],\n",
    "            jitter=True,\n",
    "            ax=axes[3, (i - 15)],\n",
    "        )\n",
    "        ax.set_title(col)"
   ]
  },
  {
   "cell_type": "code",
   "execution_count": null,
   "metadata": {},
   "outputs": [],
   "source": [
    "f, axes = plt.subplots(4, 5, figsize=(20, 25), sharex=False)\n",
    "f.subplots_adjust(hspace=0.2, wspace=0.7)\n",
    "for i in range(0, len(list(labeledClasses)) - 2):\n",
    "    col = labeledClasses.columns[i]\n",
    "    if i < 5:\n",
    "        ax = sns.swarmplot(\n",
    "            x=labeledClasses[\"Constant\"],\n",
    "            y=labeledClasses[col].values,\n",
    "            hue=labeledClasses[\"labels\"],\n",
    "            ax=axes[0, (i)],\n",
    "        )\n",
    "        ax.set_title(col)\n",
    "    elif i >= 5 and i < 10:\n",
    "        ax = sns.swarmplot(\n",
    "            x=labeledClasses[\"Constant\"],\n",
    "            y=labeledClasses[col].values,\n",
    "            hue=labeledClasses[\"labels\"],\n",
    "            ax=axes[1, (i - 5)],\n",
    "        )\n",
    "        ax.set_title(col)\n",
    "    elif i >= 10 and i < 15:\n",
    "        ax = sns.swarmplot(\n",
    "            x=labeledClasses[\"Constant\"],\n",
    "            y=labeledClasses[col].values,\n",
    "            hue=labeledClasses[\"labels\"],\n",
    "            ax=axes[2, (i - 10)],\n",
    "        )\n",
    "        ax.set_title(col)\n",
    "    elif i >= 15:\n",
    "        ax = sns.swarmplot(\n",
    "            x=labeledClasses[\"Constant\"],\n",
    "            y=labeledClasses[col].values,\n",
    "            hue=labeledClasses[\"labels\"],\n",
    "            ax=axes[3, (i - 15)],\n",
    "        )\n",
    "        ax.set_title(col)"
   ]
  },
  {
   "cell_type": "code",
   "execution_count": null,
   "metadata": {},
   "outputs": [],
   "source": [
    "classes = df_lulc[\"station\"]\n",
    "classes = pd.concat((classes, labels), axis=1)\n",
    "classes = classes.rename({\"station\": \"station\", 0: \"Cluster\"}, axis=1)\n",
    "sortclasses = classes.sort_values([\"station\"])\n",
    "pd.set_option(\"display.max_rows\", 1000)\n",
    "sortclasses[\"lon\"] = ok_df_lons\n",
    "sortclasses[\"lat\"] = ok_df_lats"
   ]
  },
  {
   "cell_type": "code",
   "execution_count": null,
   "metadata": {},
   "outputs": [],
   "source": [
    "colors = [\n",
    "    \"black\",\n",
    "    \"blue\",\n",
    "    \"green\",\n",
    "    \"red\",\n",
    "    \"orange\",\n",
    "    \"yellow\",\n",
    "    \"white\",\n",
    "    \"purple\",\n",
    "    \"cyan\",\n",
    "    \"plum\",\n",
    "    \"coral\",\n",
    "    \"pink\",\n",
    "]\n",
    "legend = [0, 1, 2, 3, 4, 5, 6, 7, 8, 9, 10, 11]\n",
    "\n",
    "colordict = {}\n",
    "\n",
    "for x, _ in enumerate(colors):\n",
    "    colordict.update({legend[x]: colors[x]})\n",
    "\n",
    "sortclasses[\"color\"] = sortclasses[\"Cluster\"].map(colordict)"
   ]
  },
  {
   "cell_type": "code",
   "execution_count": null,
   "metadata": {},
   "outputs": [],
   "source": [
    "plurality_plot(sortclasses)"
   ]
  },
  {
   "cell_type": "markdown",
   "metadata": {},
   "source": [
    "# Let's cluster on Elevation"
   ]
  },
  {
   "cell_type": "code",
   "execution_count": null,
   "metadata": {},
   "outputs": [],
   "source": [
    "elev_df = pd.read_csv(\"/home/aevans/landtype/elevation/data/OK/elev/ok30_df.csv\")\n",
    "elev_df.head()"
   ]
  },
  {
   "cell_type": "code",
   "execution_count": null,
   "metadata": {},
   "outputs": [],
   "source": [
    "# exclude the categorical columns\n",
    "features_elev = elev_df.drop([\"station\", \"Unnamed: 0\", \"lon\", \"lat\"], axis=1)"
   ]
  },
  {
   "cell_type": "code",
   "execution_count": null,
   "metadata": {},
   "outputs": [],
   "source": [
    "# noramalize data\n",
    "scaler = preprocessing.MinMaxScaler()\n",
    "features_norm = scaler.fit_transform(features_elev)"
   ]
  },
  {
   "cell_type": "code",
   "execution_count": null,
   "metadata": {},
   "outputs": [],
   "source": [
    "pd.DataFrame(features_norm).describe()"
   ]
  },
  {
   "cell_type": "code",
   "execution_count": null,
   "metadata": {},
   "outputs": [],
   "source": [
    "# kmeans clustering\n",
    "inertia_elev = []\n",
    "K = range(1, 15)\n",
    "for k in K:\n",
    "    kmeanModel = KMeans(n_clusters=k).fit(features_norm)\n",
    "    kmeanModel.fit(features_norm)\n",
    "    inertia_elev.append(kmeanModel.inertia_)"
   ]
  },
  {
   "cell_type": "code",
   "execution_count": null,
   "metadata": {},
   "outputs": [],
   "source": [
    "# Plot the elbow\n",
    "plt.plot(K, inertia_elev, \"bx-\")\n",
    "plt.xlabel(\"k\")\n",
    "plt.ylabel(\"Inertia\")\n",
    "plt.show()"
   ]
  },
  {
   "cell_type": "code",
   "execution_count": null,
   "metadata": {},
   "outputs": [],
   "source": [
    "# let's say our elbow is 12\n",
    "kmeans_elev = KMeans(n_clusters=6).fit(features_norm)"
   ]
  },
  {
   "cell_type": "code",
   "execution_count": null,
   "metadata": {},
   "outputs": [],
   "source": [
    "labels_elev = pd.DataFrame(\n",
    "    kmeans_elev.labels_\n",
    ")  # This is where the label output of the KMeans we just ran lives. Make it a dataframe so we can concatenate back to the original data\n",
    "labeledElev = pd.concat((features_elev, labels_elev), axis=1)\n",
    "labeledElev = labeledElev.rename({0: \"labels\"}, axis=1)"
   ]
  },
  {
   "cell_type": "code",
   "execution_count": null,
   "metadata": {},
   "outputs": [],
   "source": [
    "labeledElev.head()"
   ]
  },
  {
   "cell_type": "code",
   "execution_count": null,
   "metadata": {},
   "outputs": [],
   "source": [
    "sns.pairplot(labeledElev, hue=\"labels\")"
   ]
  },
  {
   "cell_type": "code",
   "execution_count": null,
   "metadata": {},
   "outputs": [],
   "source": [
    "labeledElev[\n",
    "    \"Constant\"\n",
    "] = \"Data\"  # This is just to add something constant for the strip/swarm plots' X axis. Can be anything you want it to be."
   ]
  },
  {
   "cell_type": "code",
   "execution_count": null,
   "metadata": {},
   "outputs": [],
   "source": [
    "f, axes = plt.subplots(\n",
    "    4, 5, figsize=(20, 25), sharex=False\n",
    ")  # create a 4x5 grid of empty figures where we will plot our feature plots. We will have a couple empty ones.\n",
    "f.subplots_adjust(hspace=0.2, wspace=0.7)  # Scooch em apart, give em some room\n",
    "# In this for loop, I step through every column that I want to plot. This is a 4x5 grid, so I split this up by rows of 5 in the else if statements\n",
    "for i in range(\n",
    "    0, len(list(labeledElev)) - 2\n",
    "):  # minus two because I don't want to plot labels or constant\n",
    "    col = labeledElev.columns[i]\n",
    "    if i < 5:\n",
    "        ax = sns.stripplot(\n",
    "            x=labeledElev[\"Constant\"],\n",
    "            y=labeledElev[col].values,\n",
    "            hue=labeledElev[\"labels\"],\n",
    "            jitter=True,\n",
    "            ax=axes[0, (i)],\n",
    "        )\n",
    "        ax.set_title(col)\n",
    "    elif i >= 5 and i < 10:\n",
    "        ax = sns.stripplot(\n",
    "            x=labeledElev[\"Constant\"],\n",
    "            y=labeledElev[col].values,\n",
    "            hue=labeledElev[\"labels\"],\n",
    "            jitter=True,\n",
    "            ax=axes[1, (i - 5)],\n",
    "        )  # so if i=6 it is row 1 column 1\n",
    "        ax.set_title(col)\n",
    "    elif i >= 10 and i < 15:\n",
    "        ax = sns.stripplot(\n",
    "            x=labeledElev[\"Constant\"],\n",
    "            y=labeledElev[col].values,\n",
    "            hue=labeledElev[\"labels\"],\n",
    "            jitter=True,\n",
    "            ax=axes[2, (i - 10)],\n",
    "        )\n",
    "        ax.set_title(col)\n",
    "    elif i >= 15:\n",
    "        ax = sns.stripplot(\n",
    "            x=labeledElev[\"Constant\"],\n",
    "            y=labeledElev[col].values,\n",
    "            hue=labeledElev[\"labels\"],\n",
    "            jitter=True,\n",
    "            ax=axes[3, (i - 15)],\n",
    "        )\n",
    "        ax.set_title(col)"
   ]
  },
  {
   "cell_type": "code",
   "execution_count": null,
   "metadata": {},
   "outputs": [],
   "source": [
    "f, axes = plt.subplots(4, 5, figsize=(20, 25), sharex=False)\n",
    "f.subplots_adjust(hspace=0.2, wspace=0.7)\n",
    "for i in range(0, len(list(labeledElev)) - 2):\n",
    "    col = labeledElev.columns[i]\n",
    "    if i < 5:\n",
    "        ax = sns.swarmplot(\n",
    "            x=labeledElev[\"Constant\"],\n",
    "            y=labeledElev[col].values,\n",
    "            hue=labeledElev[\"labels\"],\n",
    "            ax=axes[0, (i)],\n",
    "        )\n",
    "        ax.set_title(col)\n",
    "    elif i >= 5 and i < 10:\n",
    "        ax = sns.swarmplot(\n",
    "            x=labeledElev[\"Constant\"],\n",
    "            y=labeledElev[col].values,\n",
    "            hue=labeledElev[\"labels\"],\n",
    "            ax=axes[1, (i - 5)],\n",
    "        )\n",
    "        ax.set_title(col)\n",
    "    elif i >= 10 and i < 15:\n",
    "        ax = sns.swarmplot(\n",
    "            x=labeledElev[\"Constant\"],\n",
    "            y=labeledElev[col].values,\n",
    "            hue=labeledElev[\"labels\"],\n",
    "            ax=axes[2, (i - 10)],\n",
    "        )\n",
    "        ax.set_title(col)\n",
    "    elif i >= 15:\n",
    "        ax = sns.swarmplot(\n",
    "            x=labeledElev[\"Constant\"],\n",
    "            y=labeledElev[col].values,\n",
    "            hue=labeledElev[\"labels\"],\n",
    "            ax=axes[3, (i - 15)],\n",
    "        )\n",
    "        ax.set_title(col)"
   ]
  },
  {
   "cell_type": "code",
   "execution_count": null,
   "metadata": {},
   "outputs": [],
   "source": [
    "elevs = df_lulc[\"station\"]\n",
    "elevs = pd.concat((elevs, labels_elev), axis=1)\n",
    "elevs = elevs.rename({\"station\": \"station\", 0: \"Cluster\"}, axis=1)\n",
    "sortelevs = elevs.sort_values([\"station\"])\n",
    "pd.set_option(\"display.max_rows\", 1000)\n",
    "sortelevs[\"lon\"] = ok_df_lons\n",
    "sortelevs[\"lat\"] = ok_df_lats"
   ]
  },
  {
   "cell_type": "code",
   "execution_count": null,
   "metadata": {},
   "outputs": [],
   "source": [
    "colors = [\n",
    "    \"black\",\n",
    "    \"blue\",\n",
    "    \"green\",\n",
    "    \"red\",\n",
    "    \"orange\",\n",
    "    \"yellow\",\n",
    "    \"white\",\n",
    "    \"purple\",\n",
    "    \"cyan\",\n",
    "    \"plum\",\n",
    "    \"coral\",\n",
    "    \"pink\",\n",
    "]\n",
    "legend = [0, 1, 2, 3, 4, 5, 6, 7, 8, 9, 10, 11]\n",
    "\n",
    "colordict = {}\n",
    "\n",
    "for x, _ in enumerate(colors):\n",
    "    colordict.update({legend[x]: colors[x]})\n",
    "\n",
    "sortelevs[\"color\"] = sortelevs[\"Cluster\"].map(colordict)"
   ]
  },
  {
   "cell_type": "code",
   "execution_count": null,
   "metadata": {},
   "outputs": [],
   "source": [
    "plurality_plot(sortelevs)"
   ]
  },
  {
   "cell_type": "markdown",
   "metadata": {},
   "source": [
    "# let's cluster on slope"
   ]
  },
  {
   "cell_type": "code",
   "execution_count": null,
   "metadata": {},
   "outputs": [],
   "source": [
    "slope_df = pd.read_csv(\n",
    "    \"/home/aevans/landtype/elevation/data/OK/slope/sl_percent_30.csv\"\n",
    ")\n",
    "slope_df.head()"
   ]
  },
  {
   "cell_type": "code",
   "execution_count": null,
   "metadata": {},
   "outputs": [],
   "source": [
    "# exclude the categorical columns\n",
    "features_slope = slope_df.drop([\"site\", \"station\"], axis=1)"
   ]
  },
  {
   "cell_type": "code",
   "execution_count": null,
   "metadata": {},
   "outputs": [],
   "source": [
    "# noramalize data\n",
    "scaler = preprocessing.MinMaxScaler()\n",
    "features_norm_sl = scaler.fit_transform(features_slope)"
   ]
  },
  {
   "cell_type": "code",
   "execution_count": null,
   "metadata": {},
   "outputs": [],
   "source": [
    "pd.DataFrame(features_norm_sl).describe()"
   ]
  },
  {
   "cell_type": "code",
   "execution_count": null,
   "metadata": {},
   "outputs": [],
   "source": [
    "# kmeans clustering\n",
    "inertia_slope = []\n",
    "K = range(1, 15)\n",
    "for k in K:\n",
    "    kmeanModel = KMeans(n_clusters=k).fit(features_norm_sl)\n",
    "    kmeanModel.fit(features_norm_sl)\n",
    "    inertia_slope.append(kmeanModel.inertia_)"
   ]
  },
  {
   "cell_type": "code",
   "execution_count": null,
   "metadata": {},
   "outputs": [],
   "source": [
    "# Plot the elbow\n",
    "plt.plot(K, inertia_slope, \"bx-\")\n",
    "plt.xlabel(\"k\")\n",
    "plt.ylabel(\"Inertia\")\n",
    "plt.show()"
   ]
  },
  {
   "cell_type": "code",
   "execution_count": null,
   "metadata": {},
   "outputs": [],
   "source": [
    "# let's say our elbow is 12\n",
    "kmeans_slope = KMeans(n_clusters=4).fit(features_norm_sl)"
   ]
  },
  {
   "cell_type": "code",
   "execution_count": null,
   "metadata": {},
   "outputs": [],
   "source": [
    "labels_slope = pd.DataFrame(\n",
    "    kmeans_slope.labels_\n",
    ")  # This is where the label output of the KMeans we just ran lives. Make it a dataframe so we can concatenate back to the original data\n",
    "labeledSlope = pd.concat((features_slope, labels_slope), axis=1)\n",
    "labeledSlope = labeledSlope.rename({0: \"labels\"}, axis=1)"
   ]
  },
  {
   "cell_type": "code",
   "execution_count": null,
   "metadata": {},
   "outputs": [],
   "source": [
    "labeledSlope.head()"
   ]
  },
  {
   "cell_type": "code",
   "execution_count": null,
   "metadata": {},
   "outputs": [],
   "source": [
    "sns.pairplot(labeledSlope, hue=\"labels\")"
   ]
  },
  {
   "cell_type": "code",
   "execution_count": null,
   "metadata": {},
   "outputs": [],
   "source": [
    "labeledSlope[\n",
    "    \"Constant\"\n",
    "] = \"Data\"  # This is just to add something constant for the strip/swarm plots' X axis. Can be anything you want it to be."
   ]
  },
  {
   "cell_type": "code",
   "execution_count": null,
   "metadata": {},
   "outputs": [],
   "source": [
    "f, axes = plt.subplots(\n",
    "    4, 5, figsize=(20, 25), sharex=False\n",
    ")  # create a 4x5 grid of empty figures where we will plot our feature plots. We will have a couple empty ones.\n",
    "f.subplots_adjust(hspace=0.2, wspace=0.7)  # Scooch em apart, give em some room\n",
    "# In this for loop, I step through every column that I want to plot. This is a 4x5 grid, so I split this up by rows of 5 in the else if statements\n",
    "for i in range(\n",
    "    0, len(list(labeledSlope)) - 2\n",
    "):  # minus two because I don't want to plot labels or constant\n",
    "    col = labeledSlope.columns[i]\n",
    "    if i < 5:\n",
    "        ax = sns.stripplot(\n",
    "            x=labeledSlope[\"Constant\"],\n",
    "            y=labeledSlope[col].values,\n",
    "            hue=labeledSlope[\"labels\"],\n",
    "            jitter=True,\n",
    "            ax=axes[0, (i)],\n",
    "        )\n",
    "        ax.set_title(col)\n",
    "    elif i >= 5 and i < 10:\n",
    "        ax = sns.stripplot(\n",
    "            x=labeledSlope[\"Constant\"],\n",
    "            y=labeledSlope[col].values,\n",
    "            hue=labeledSlope[\"labels\"],\n",
    "            jitter=True,\n",
    "            ax=axes[1, (i - 5)],\n",
    "        )  # so if i=6 it is row 1 column 1\n",
    "        ax.set_title(col)\n",
    "    elif i >= 10 and i < 15:\n",
    "        ax = sns.stripplot(\n",
    "            x=labeledSlope[\"Constant\"],\n",
    "            y=labeledSlope[col].values,\n",
    "            hue=labeledSlope[\"labels\"],\n",
    "            jitter=True,\n",
    "            ax=axes[2, (i - 10)],\n",
    "        )\n",
    "        ax.set_title(col)\n",
    "    elif i >= 15:\n",
    "        ax = sns.stripplot(\n",
    "            x=labeledSlope[\"Constant\"],\n",
    "            y=labeledSlope[col].values,\n",
    "            hue=labeledSlope[\"labels\"],\n",
    "            jitter=True,\n",
    "            ax=axes[3, (i - 15)],\n",
    "        )\n",
    "        ax.set_title(col)"
   ]
  },
  {
   "cell_type": "code",
   "execution_count": null,
   "metadata": {},
   "outputs": [],
   "source": [
    "f, axes = plt.subplots(4, 5, figsize=(20, 25), sharex=False)\n",
    "f.subplots_adjust(hspace=0.2, wspace=0.7)\n",
    "for i in range(0, len(list(labeledSlope)) - 2):\n",
    "    col = labeledSlope.columns[i]\n",
    "    if i < 5:\n",
    "        ax = sns.swarmplot(\n",
    "            x=labeledSlope[\"Constant\"],\n",
    "            y=labeledSlope[col].values,\n",
    "            hue=labeledSlope[\"labels\"],\n",
    "            ax=axes[0, (i)],\n",
    "        )\n",
    "        ax.set_title(col)\n",
    "    elif i >= 5 and i < 10:\n",
    "        ax = sns.swarmplot(\n",
    "            x=labeledSlope[\"Constant\"],\n",
    "            y=labeledSlope[col].values,\n",
    "            hue=labeledSlope[\"labels\"],\n",
    "            ax=axes[1, (i - 5)],\n",
    "        )\n",
    "        ax.set_title(col)\n",
    "    elif i >= 10 and i < 15:\n",
    "        ax = sns.swarmplot(\n",
    "            x=labeledSlope[\"Constant\"],\n",
    "            y=labeledSlope[col].values,\n",
    "            hue=labeledSlope[\"labels\"],\n",
    "            ax=axes[2, (i - 10)],\n",
    "        )\n",
    "        ax.set_title(col)\n",
    "    elif i >= 15:\n",
    "        ax = sns.swarmplot(\n",
    "            x=labeledSlope[\"Constant\"],\n",
    "            y=labeledSlope[col].values,\n",
    "            hue=labeledSlope[\"labels\"],\n",
    "            ax=axes[3, (i - 15)],\n",
    "        )\n",
    "        ax.set_title(col)"
   ]
  },
  {
   "cell_type": "code",
   "execution_count": null,
   "metadata": {},
   "outputs": [],
   "source": [
    "slopes = df_lulc[\"station\"]\n",
    "slopes = pd.concat((slopes, labels_slope), axis=1)\n",
    "slopes = slopes.rename({\"station\": \"station\", 0: \"Cluster\"}, axis=1)\n",
    "sortslopes = slopes.sort_values([\"station\"])\n",
    "pd.set_option(\"display.max_rows\", 1000)\n",
    "sortslopes[\"lon\"] = ok_df_lons\n",
    "sortslopes[\"lat\"] = ok_df_lats"
   ]
  },
  {
   "cell_type": "code",
   "execution_count": null,
   "metadata": {},
   "outputs": [],
   "source": [
    "colors = [\n",
    "    \"black\",\n",
    "    \"blue\",\n",
    "    \"green\",\n",
    "    \"red\",\n",
    "    \"orange\",\n",
    "    \"yellow\",\n",
    "    \"white\",\n",
    "    \"purple\",\n",
    "    \"cyan\",\n",
    "    \"plum\",\n",
    "    \"coral\",\n",
    "    \"pink\",\n",
    "]\n",
    "legend = [0, 1, 2, 3, 4, 5, 6, 7, 8, 9, 10, 11]\n",
    "\n",
    "colordict = {}\n",
    "\n",
    "for x, _ in enumerate(colors):\n",
    "    colordict.update({legend[x]: colors[x]})\n",
    "\n",
    "sortslopes[\"color\"] = sortslopes[\"Cluster\"].map(colordict)"
   ]
  },
  {
   "cell_type": "code",
   "execution_count": null,
   "metadata": {},
   "outputs": [],
   "source": [
    "print(\"Slopes\")\n",
    "plurality_plot(sortslopes)\n",
    "print(\"Landtype\")\n",
    "plurality_plot(sortclasses)\n",
    "print(\"Elevation\")\n",
    "plurality_plot(sortelevs)"
   ]
  },
  {
   "cell_type": "code",
   "execution_count": null,
   "metadata": {},
   "outputs": [],
   "source": [
    "# for i in np.arange(1,7):\n",
    "#     slopes_cat = sortslopes.loc[sortslopes['Cluster'] == i]\n",
    "#     slopes_cat = slopes_cat.loc[sortelevs['Cluster'] == i]\n",
    "#     print(f'category {i}', slopes_cat)\n",
    "#     slopes_cat.to_csv(f'/home/aevans/landtype/data/clean_cats/ok/df_{i}.csv')"
   ]
  },
  {
   "cell_type": "code",
   "execution_count": null,
   "metadata": {},
   "outputs": [],
   "source": [
    "# dirs = sorted(os.listdir('/home/aevans/landtype/data/clean_cats/ok/'))"
   ]
  },
  {
   "cell_type": "code",
   "execution_count": null,
   "metadata": {},
   "outputs": [],
   "source": [
    "# for n,_ in enumerate(dirs):\n",
    "#     df = pd.read_csv(f'/home/aevans/landtype/data/clean_cats/ok/{dirs[n]}')\n",
    "#     plurality_plot(df)"
   ]
  },
  {
   "cell_type": "code",
   "execution_count": null,
   "metadata": {},
   "outputs": [],
   "source": []
  },
  {
   "cell_type": "markdown",
   "metadata": {},
   "source": [
    "# Let's Cluster on All Vars"
   ]
  },
  {
   "cell_type": "code",
   "execution_count": null,
   "metadata": {},
   "outputs": [],
   "source": [
    "comb = pd.merge(df_lulc, elev_df, on=\"station\")\n",
    "comb_df = pd.merge(comb, slope_df, on=\"station\")"
   ]
  },
  {
   "cell_type": "code",
   "execution_count": null,
   "metadata": {},
   "outputs": [],
   "source": [
    "comb_df.head()"
   ]
  },
  {
   "cell_type": "code",
   "execution_count": null,
   "metadata": {},
   "outputs": [],
   "source": [
    "features_all = comb_df.drop(\n",
    "    [\"site_x\", \"station\", \"variance\", \"Unnamed: 0\", \"lon\", \"lat\", \"site_y\"], axis=1\n",
    ")"
   ]
  },
  {
   "cell_type": "code",
   "execution_count": null,
   "metadata": {},
   "outputs": [],
   "source": [
    "features_all.head()"
   ]
  },
  {
   "cell_type": "code",
   "execution_count": null,
   "metadata": {},
   "outputs": [],
   "source": [
    "# noramalize data\n",
    "scaler = preprocessing.MinMaxScaler()\n",
    "features_norm_a = scaler.fit_transform(features_all)"
   ]
  },
  {
   "cell_type": "code",
   "execution_count": null,
   "metadata": {},
   "outputs": [],
   "source": [
    "# kmeans clustering\n",
    "inertia_elev = []\n",
    "K = range(1, 20)\n",
    "for k in K:\n",
    "    kmeanModel = KMeans(n_clusters=k).fit(features_norm_a)\n",
    "    kmeanModel.fit(features_norm_a)\n",
    "    inertia_elev.append(kmeanModel.inertia_)"
   ]
  },
  {
   "cell_type": "code",
   "execution_count": null,
   "metadata": {},
   "outputs": [],
   "source": [
    "# Plot the elbow\n",
    "plt.plot(K, inertia_elev, \"bx-\")\n",
    "plt.xlabel(\"k\")\n",
    "plt.ylabel(\"Inertia\")\n",
    "plt.show()"
   ]
  },
  {
   "cell_type": "code",
   "execution_count": null,
   "metadata": {},
   "outputs": [],
   "source": [
    "# let's say our elbow is 12\n",
    "kmeans_all = KMeans(n_clusters=6).fit(features_norm_a)"
   ]
  },
  {
   "cell_type": "code",
   "execution_count": null,
   "metadata": {},
   "outputs": [],
   "source": [
    "labels_a = pd.DataFrame(\n",
    "    kmeans_all.labels_\n",
    ")  # This is where the label output of the KMeans we just ran lives. Make it a dataframe so we can concatenate back to the original data\n",
    "labeledAll = pd.concat((features_all, labels_a), axis=1)\n",
    "labeledAll = labeledAll.rename({0: \"labels\"}, axis=1)"
   ]
  },
  {
   "cell_type": "code",
   "execution_count": null,
   "metadata": {},
   "outputs": [],
   "source": [
    "sns.pairplot(labeledAll, hue=\"labels\")"
   ]
  },
  {
   "cell_type": "code",
   "execution_count": null,
   "metadata": {},
   "outputs": [],
   "source": [
    "labeledAll[\n",
    "    \"Constant\"\n",
    "] = \"Data\"  # This is just to add something constant for the strip/swarm plots' X axis. Can be anything you want it to be."
   ]
  },
  {
   "cell_type": "code",
   "execution_count": null,
   "metadata": {},
   "outputs": [],
   "source": [
    "# f, axes = plt.subplots(4, 5, figsize=(20, 25), sharex=False) #create a 4x5 grid of empty figures where we will plot our feature plots. We will have a couple empty ones.\n",
    "# f.subplots_adjust(hspace=0.2, wspace=0.7) #Scooch em apart, give em some room\n",
    "# #In this for loop, I step through every column that I want to plot. This is a 4x5 grid, so I split this up by rows of 5 in the else if statements\n",
    "# for i in range(0,len(list(labeledAll))-2): #minus two because I don't want to plot labels or constant\n",
    "#     col = labeledAll.columns[i]\n",
    "#     if i < 5:\n",
    "#         ax = sns.stripplot(x=labeledAll['Constant'],y=labeledAll[col].values,hue=labeledAll['labels'],jitter=True,ax=axes[0,(i)])\n",
    "#         ax.set_title(col)\n",
    "#     elif i >= 5 and i<10:\n",
    "#         ax = sns.stripplot(x=labeledAll['Constant'],y=labeledAll[col].values,hue=labeledAll['labels'],jitter=True,ax=axes[1,(i-5)]) #so if i=6 it is row 1 column 1\n",
    "#         ax.set_title(col)\n",
    "#     elif i >= 10 and i<15:\n",
    "#         ax = sns.stripplot(x=labeledAll['Constant'],y=labeledAll[col].values,hue=labeledAll['labels'],jitter=True,ax=axes[2,(i-10)])\n",
    "#         ax.set_title(col)\n",
    "#     elif i >= 15:\n",
    "#         ax = sns.stripplot(x=labeledAll['Constant'],y=labeledAll[col].values,hue=labeledAll['labels'],jitter=True,ax=axes[3,(i-15)])\n",
    "#         ax.set_title(col)"
   ]
  },
  {
   "cell_type": "code",
   "execution_count": null,
   "metadata": {},
   "outputs": [],
   "source": [
    "# f, axes = plt.subplots(4, 5, figsize=(20, 25), sharex=False)\n",
    "# f.subplots_adjust(hspace=0.2, wspace=0.7)\n",
    "# for i in range(0,len(list(labeledAll))-2):\n",
    "#     col = labeledAll.columns[i]\n",
    "#     if i < 5:\n",
    "#         ax = sns.swarmplot(x=labeledAll['Constant'],y=labeledAll[col].values,hue=labeledAll['labels'],ax=axes[0,(i)])\n",
    "#         ax.set_title(col)\n",
    "#     elif i >= 5 and i<10:\n",
    "#         ax = sns.swarmplot(x=labeledAll['Constant'],y=labeledAll[col].values,hue=labeledAll['labels'],ax=axes[1,(i-5)])\n",
    "#         ax.set_title(col)\n",
    "#     elif i >= 10 and i<15:\n",
    "#         ax = sns.swarmplot(x=labeledAll['Constant'],y=labeledAll[col].values,hue=labeledAll['labels'],ax=axes[2,(i-10)])\n",
    "#         ax.set_title(col)\n",
    "#     elif i >= 15:\n",
    "#         ax = sns.swarmplot(x=labeledAll['Constant'],y=labeledAll[col].values,hue=labeledAll['labels'],ax=axes[3,(i-15)])\n",
    "#         ax.set_title(col)"
   ]
  },
  {
   "cell_type": "code",
   "execution_count": null,
   "metadata": {},
   "outputs": [],
   "source": [
    "alls = df_lulc[\"station\"]\n",
    "alls = pd.concat((alls, labels_a), axis=1)\n",
    "alls = alls.rename({\"station\": \"station\", 0: \"Cluster\"}, axis=1)\n",
    "sortAll = alls.sort_values([\"station\"])\n",
    "pd.set_option(\"display.max_rows\", 1000)\n",
    "sortAll[\"lon\"] = ok_df_lons\n",
    "sortAll[\"lat\"] = ok_df_lats"
   ]
  },
  {
   "cell_type": "code",
   "execution_count": null,
   "metadata": {},
   "outputs": [],
   "source": [
    "colors = [\n",
    "    \"black\",\n",
    "    \"blue\",\n",
    "    \"green\",\n",
    "    \"red\",\n",
    "    \"orange\",\n",
    "    \"yellow\",\n",
    "    \"grey\",\n",
    "    \"purple\",\n",
    "    \"cyan\",\n",
    "    \"plum\",\n",
    "    \"coral\",\n",
    "    \"pink\",\n",
    "]\n",
    "legend = [0, 1, 2, 3, 4, 5, 6, 7, 8, 9, 10, 11]\n",
    "\n",
    "colordict = {}\n",
    "\n",
    "for x, _ in enumerate(colors):\n",
    "    colordict.update({legend[x]: colors[x]})\n",
    "\n",
    "sortAll[\"color\"] = sortAll[\"Cluster\"].map(colordict)"
   ]
  },
  {
   "cell_type": "code",
   "execution_count": null,
   "metadata": {},
   "outputs": [],
   "source": [
    "plurality_plot(sortAll)"
   ]
  },
  {
   "cell_type": "code",
   "execution_count": null,
   "metadata": {},
   "outputs": [],
   "source": [
    "df_land = pd.read_csv(\"/home/aevans/landtype/data/buffer_10_km/avg_lulc_ok_10.csv\")"
   ]
  },
  {
   "cell_type": "code",
   "execution_count": null,
   "metadata": {},
   "outputs": [],
   "source": [
    "for i in np.arange(0, 10):\n",
    "    slopes_cat = sortAll.loc[sortAll[\"Cluster\"] == i]\n",
    "    slopes_cat = pd.merge(slopes_cat, comb_df, on=\"station\")\n",
    "    slopes_cat = pd.merge(slopes_cat, df_land, on=\"station\")\n",
    "    # slopes_cat.to_csv(f'/home/aevans/landtype/data/clean_cats/ok/df_{i}.csv')"
   ]
  },
  {
   "cell_type": "code",
   "execution_count": null,
   "metadata": {},
   "outputs": [],
   "source": [
    "def plurality_plot_x(df):\n",
    "    projPC = crs.PlateCarree()\n",
    "    latN = df[\"lat_x\"].max() + 1\n",
    "    latS = df[\"lat_x\"].min() - 1\n",
    "    lonW = df[\"lon_x\"].max() + 1\n",
    "    lonE = df[\"lon_x\"].min() - 1\n",
    "    cLat = (latN + latS) / 2\n",
    "    cLon = (lonW + lonE) / 2\n",
    "    projLcc = crs.LambertConformal(central_longitude=cLon, central_latitude=cLat)\n",
    "\n",
    "    fig, ax = plt.subplots(\n",
    "        figsize=(12, 9), subplot_kw={\"projection\": crs.PlateCarree()}, dpi=400\n",
    "    )\n",
    "    ax.set_extent([lonW, lonE, latS, latN], crs=projPC)\n",
    "    ax.add_feature(cfeature.LAND)\n",
    "    ax.add_feature(cfeature.COASTLINE)\n",
    "    ax.add_feature(cfeature.BORDERS, linestyle=\"--\")\n",
    "    ax.add_feature(cfeature.LAKES, alpha=0.5)\n",
    "    ax.add_feature(cfeature.STATES)\n",
    "    ax.xticklabels_top = False\n",
    "    ax.ylabels_right = False\n",
    "    ax.gridlines(\n",
    "        crs=crs.PlateCarree(),\n",
    "        draw_labels=True,\n",
    "        linewidth=2,\n",
    "        color=\"black\",\n",
    "        alpha=0.5,\n",
    "        linestyle=\"--\",\n",
    "    )\n",
    "    ax.scatter(\n",
    "        x=df[\"lon_x\"],\n",
    "        y=df[\"lat_x\"],\n",
    "        c=df[\"color\"],\n",
    "        s=40,\n",
    "        marker=\"o\",\n",
    "        edgecolor=\"black\",\n",
    "        transform=crs.PlateCarree(),\n",
    "    )\n",
    "    ax.set_title(\"Mesonet Site Groups\", size=16)\n",
    "    ax.set_xlabel(\"Longitude\", size=14)\n",
    "    ax.set_ylabel(\"Latitude\", size=14)\n",
    "    ax.tick_params(axis=\"x\", labelsize=12)\n",
    "    ax.tick_params(axis=\"y\", labelsize=12)\n",
    "    ax.grid()"
   ]
  },
  {
   "cell_type": "code",
   "execution_count": null,
   "metadata": {},
   "outputs": [],
   "source": [
    "dirs = sorted(os.listdir(\"/home/aevans/landtype/data/clean_cats/ok/\"))"
   ]
  },
  {
   "cell_type": "code",
   "execution_count": null,
   "metadata": {},
   "outputs": [],
   "source": [
    "df_a = pd.read_csv(f\"/home/aevans/landtype/data/clean_cats/ok/df_0.csv\")"
   ]
  },
  {
   "cell_type": "code",
   "execution_count": null,
   "metadata": {},
   "outputs": [],
   "source": [
    "plurality_plot_x(df_a)"
   ]
  },
  {
   "cell_type": "code",
   "execution_count": null,
   "metadata": {},
   "outputs": [],
   "source": [
    "df_b = pd.read_csv(f\"/home/aevans/landtype/data/clean_cats/ok/df_1.csv\")"
   ]
  },
  {
   "cell_type": "code",
   "execution_count": null,
   "metadata": {},
   "outputs": [],
   "source": [
    "plurality_plot_x(df_b)"
   ]
  },
  {
   "cell_type": "code",
   "execution_count": null,
   "metadata": {},
   "outputs": [],
   "source": [
    "df_c = pd.read_csv(f\"/home/aevans/landtype/data/clean_cats/ok/df_2.csv\")"
   ]
  },
  {
   "cell_type": "code",
   "execution_count": null,
   "metadata": {},
   "outputs": [],
   "source": [
    "plurality_plot_x(df_c)"
   ]
  },
  {
   "cell_type": "code",
   "execution_count": null,
   "metadata": {},
   "outputs": [],
   "source": [
    "df_d = pd.read_csv(f\"/home/aevans/landtype/data/clean_cats/ok/df_3.csv\")"
   ]
  },
  {
   "cell_type": "code",
   "execution_count": null,
   "metadata": {},
   "outputs": [],
   "source": [
    "plurality_plot_x(df_d)"
   ]
  },
  {
   "cell_type": "code",
   "execution_count": null,
   "metadata": {},
   "outputs": [],
   "source": [
    "df_e = pd.read_csv(f\"/home/aevans/landtype/data/clean_cats/ok/df_4.csv\")"
   ]
  },
  {
   "cell_type": "code",
   "execution_count": null,
   "metadata": {},
   "outputs": [],
   "source": [
    "plurality_plot_x(df_e)"
   ]
  },
  {
   "cell_type": "code",
   "execution_count": null,
   "metadata": {},
   "outputs": [],
   "source": [
    "df_f = pd.read_csv(f\"/home/aevans/landtype/data/clean_cats/ok/df_5.csv\")"
   ]
  },
  {
   "cell_type": "code",
   "execution_count": null,
   "metadata": {},
   "outputs": [],
   "source": [
    "plurality_plot_x(df_f)"
   ]
  },
  {
   "cell_type": "code",
   "execution_count": null,
   "metadata": {},
   "outputs": [],
   "source": [
    "# df_new_cats = pd.concat([df_a, df_b, df_c, df_d, df_e, df_f])\n",
    "# df_new_cats.to_csv('/home/aevans/landtype/df_new_cats_ok.csv')"
   ]
  },
  {
   "cell_type": "markdown",
   "metadata": {},
   "source": [
    "# Let's Explain the Clusters"
   ]
  },
  {
   "cell_type": "code",
   "execution_count": null,
   "metadata": {},
   "outputs": [],
   "source": [
    "from kmeans_interp.kmeans_feature_imp import KMeansInterp\n",
    "\n",
    "kms = KMeansInterp(\n",
    "    n_clusters=len(sortAll[\"Cluster\"].unique()),\n",
    "    random_state=1,\n",
    "    ordered_feature_names=features_all.keys(),\n",
    "    feature_importance_method=\"wcss_min\",\n",
    ").fit(features_all)\n",
    "labels = kms.labels_\n",
    "sortAll[\"Cluster\"] = labels"
   ]
  },
  {
   "cell_type": "code",
   "execution_count": null,
   "metadata": {},
   "outputs": [],
   "source": [
    "centroids = kms.cluster_centers_\n",
    "num_clusters = kms.n_clusters\n",
    "n_features = kms.n_features_in_\n",
    "centroids_labels = pd.DataFrame(\n",
    "    {\n",
    "        \"centroid_dim\": np.array(\n",
    "            [centroids[i] for i in range(len(centroids))]\n",
    "        ).flatten(),\n",
    "        \"cluster_label\": np.array(\n",
    "            [np.repeat(label, n_features) for label in range(num_clusters)]\n",
    "        ).flatten(),\n",
    "    }\n",
    ")"
   ]
  },
  {
   "cell_type": "code",
   "execution_count": null,
   "metadata": {},
   "outputs": [],
   "source": [
    "centroids_labels[centroids_labels[\"cluster_label\"] == 0][\"centroid_dim\"]"
   ]
  },
  {
   "cell_type": "code",
   "execution_count": null,
   "metadata": {},
   "outputs": [],
   "source": [
    "kms.feature_importances_[1][:-1]"
   ]
  },
  {
   "cell_type": "code",
   "execution_count": null,
   "metadata": {},
   "outputs": [],
   "source": [
    "for cluster_label, feature_weights in kms.feature_importances_.items():\n",
    "    df_feature_weight = pd.DataFrame(\n",
    "        feature_weights[:15], columns=[\"Feature\", \"Weight\"]\n",
    "    )\n",
    "    fig, ax = plt.subplots(figsize=(14, 6))\n",
    "    sns.barplot(x=\"Feature\", y=\"Weight\", data=df_feature_weight)\n",
    "    plt.xticks(rotation=-45, ha=\"left\")\n",
    "    ax.tick_params(axis=\"both\", which=\"major\", labelsize=22)\n",
    "    plt.title(\n",
    "        f\"Highest Weight Features in Cluster {cluster_label}\", fontsize=\"xx-large\"\n",
    "    )\n",
    "    plt.xlabel(\"Feature\", fontsize=18)\n",
    "    plt.ylabel(\"Weight\", fontsize=18)\n",
    "\n",
    "    plt.show()\n",
    "\n",
    "    print(\"\\n\\n\")"
   ]
  }
 ],
 "metadata": {
  "kernelspec": {
   "display_name": "Python 3.9.13 ('base': conda)",
   "language": "python",
   "name": "python3"
  },
  "language_info": {
   "codemirror_mode": {
    "name": "ipython",
    "version": 3
   },
   "file_extension": ".py",
   "mimetype": "text/x-python",
   "name": "python",
   "nbconvert_exporter": "python",
   "pygments_lexer": "ipython3",
   "version": "3.9.13"
  },
  "orig_nbformat": 4,
  "vscode": {
   "interpreter": {
    "hash": "44818f36aeaf89db1a1d21a2bee6031a28b4e41595a65903b38b9b0c4417365f"
   }
  }
 },
 "nbformat": 4,
 "nbformat_minor": 2
}
