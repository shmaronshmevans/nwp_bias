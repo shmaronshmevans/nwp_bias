{
 "cells": [
  {
   "cell_type": "code",
   "execution_count": 28,
   "metadata": {},
   "outputs": [],
   "source": [
    "import pandas as pd\n",
    "import numpy as np\n",
    "import matplotlib.pyplot as plt\n",
    "import re\n",
    "import statistics as st\n",
    "from datetime import datetime"
   ]
  },
  {
   "cell_type": "code",
   "execution_count": 29,
   "metadata": {},
   "outputs": [],
   "source": [
    "model_path = \"/home/aevans/nwp_bias/src/machine_learning/data/lstm_eval_csvs/20240328/OLEA/OLEA_loss_0.2145647332072258_ml_output_OLEA.parquet\""
   ]
  },
  {
   "cell_type": "code",
   "execution_count": 30,
   "metadata": {},
   "outputs": [],
   "source": [
    "df = pd.read_parquet(model_path)\n",
    "df = df.sort_index()"
   ]
  },
  {
   "cell_type": "code",
   "execution_count": 31,
   "metadata": {},
   "outputs": [
    {
     "data": {
      "text/html": [
       "<div>\n",
       "<style scoped>\n",
       "    .dataframe tbody tr th:only-of-type {\n",
       "        vertical-align: middle;\n",
       "    }\n",
       "\n",
       "    .dataframe tbody tr th {\n",
       "        vertical-align: top;\n",
       "    }\n",
       "\n",
       "    .dataframe thead th {\n",
       "        text-align: right;\n",
       "    }\n",
       "</style>\n",
       "<table border=\"1\" class=\"dataframe\">\n",
       "  <thead>\n",
       "    <tr style=\"text-align: right;\">\n",
       "      <th></th>\n",
       "      <th>target_error_lead_10</th>\n",
       "      <th>Model forecast</th>\n",
       "      <th>diff</th>\n",
       "    </tr>\n",
       "  </thead>\n",
       "  <tbody>\n",
       "    <tr>\n",
       "      <th>0</th>\n",
       "      <td>0.925813</td>\n",
       "      <td>1.935594</td>\n",
       "      <td>-1.009780</td>\n",
       "    </tr>\n",
       "    <tr>\n",
       "      <th>1</th>\n",
       "      <td>2.967896</td>\n",
       "      <td>2.201633</td>\n",
       "      <td>0.766263</td>\n",
       "    </tr>\n",
       "    <tr>\n",
       "      <th>2</th>\n",
       "      <td>3.101874</td>\n",
       "      <td>2.559372</td>\n",
       "      <td>0.542502</td>\n",
       "    </tr>\n",
       "    <tr>\n",
       "      <th>3</th>\n",
       "      <td>2.945138</td>\n",
       "      <td>2.736600</td>\n",
       "      <td>0.208538</td>\n",
       "    </tr>\n",
       "    <tr>\n",
       "      <th>4</th>\n",
       "      <td>2.035452</td>\n",
       "      <td>2.015078</td>\n",
       "      <td>0.020374</td>\n",
       "    </tr>\n",
       "    <tr>\n",
       "      <th>...</th>\n",
       "      <td>...</td>\n",
       "      <td>...</td>\n",
       "      <td>...</td>\n",
       "    </tr>\n",
       "    <tr>\n",
       "      <th>47284</th>\n",
       "      <td>-0.492044</td>\n",
       "      <td>-0.150276</td>\n",
       "      <td>-0.341768</td>\n",
       "    </tr>\n",
       "    <tr>\n",
       "      <th>47285</th>\n",
       "      <td>-0.493571</td>\n",
       "      <td>-0.014834</td>\n",
       "      <td>-0.478737</td>\n",
       "    </tr>\n",
       "    <tr>\n",
       "      <th>47286</th>\n",
       "      <td>-0.518964</td>\n",
       "      <td>0.164201</td>\n",
       "      <td>-0.683164</td>\n",
       "    </tr>\n",
       "    <tr>\n",
       "      <th>47287</th>\n",
       "      <td>-0.383281</td>\n",
       "      <td>0.190372</td>\n",
       "      <td>-0.573653</td>\n",
       "    </tr>\n",
       "    <tr>\n",
       "      <th>47288</th>\n",
       "      <td>-0.030720</td>\n",
       "      <td>0.121730</td>\n",
       "      <td>-0.152450</td>\n",
       "    </tr>\n",
       "  </tbody>\n",
       "</table>\n",
       "<p>47289 rows × 3 columns</p>\n",
       "</div>"
      ],
      "text/plain": [
       "       target_error_lead_10  Model forecast      diff\n",
       "0                  0.925813        1.935594 -1.009780\n",
       "1                  2.967896        2.201633  0.766263\n",
       "2                  3.101874        2.559372  0.542502\n",
       "3                  2.945138        2.736600  0.208538\n",
       "4                  2.035452        2.015078  0.020374\n",
       "...                     ...             ...       ...\n",
       "47284             -0.492044       -0.150276 -0.341768\n",
       "47285             -0.493571       -0.014834 -0.478737\n",
       "47286             -0.518964        0.164201 -0.683164\n",
       "47287             -0.383281        0.190372 -0.573653\n",
       "47288             -0.030720        0.121730 -0.152450\n",
       "\n",
       "[47289 rows x 3 columns]"
      ]
     },
     "execution_count": 31,
     "metadata": {},
     "output_type": "execute_result"
    }
   ],
   "source": [
    "df"
   ]
  },
  {
   "cell_type": "code",
   "execution_count": 32,
   "metadata": {},
   "outputs": [],
   "source": [
    "# rnn_path = \"/home/aevans/nwp_bias/src/machine_learning/data/lstm_eval_csvs/RNN/RAND_loss_0.037602543272078036_ml_output_RAND.parquet\"\n",
    "# rnn_df = pd.read_parquet(rnn_path)\n",
    "# rnn_df = rnn_df.sort_index()"
   ]
  },
  {
   "cell_type": "code",
   "execution_count": 33,
   "metadata": {},
   "outputs": [],
   "source": [
    "# rnn_df"
   ]
  },
  {
   "cell_type": "code",
   "execution_count": 34,
   "metadata": {},
   "outputs": [],
   "source": [
    "full_df = pd.read_parquet(\n",
    "    \"/home/aevans/nwp_bias/src/machine_learning/data/lstm_eval_csvs/20240328/OLEA/03_28_2024_17:23:48_full_OLEA.parquet\"\n",
    ")"
   ]
  },
  {
   "cell_type": "code",
   "execution_count": 35,
   "metadata": {},
   "outputs": [
    {
     "data": {
      "text/plain": [
       "Index(['valid_time', 'valid_time_cos', 'valid_time_sin', 'target_error',\n",
       "       't2m_OLEA', 'sh2_OLEA', 'd2m_OLEA', 'r2_OLEA', 'u10_OLEA', 'v10_OLEA',\n",
       "       ...\n",
       "       'relh_RAND', 'srad_RAND', 'pres_RAND', 'mslp_RAND',\n",
       "       'wspd_sonic_mean_RAND', 'wspd_sonic_RAND', 'wmax_sonic_RAND',\n",
       "       'wdir_sonic_RAND', 'snow_depth_RAND', 'precip_total_RAND'],\n",
       "      dtype='object', length=140)"
      ]
     },
     "execution_count": 35,
     "metadata": {},
     "output_type": "execute_result"
    }
   ],
   "source": [
    "full_df.keys()"
   ]
  },
  {
   "cell_type": "code",
   "execution_count": 36,
   "metadata": {},
   "outputs": [
    {
     "name": "stdout",
     "output_type": "stream",
     "text": [
      "valid_time\n",
      "valid_time_cos\n",
      "valid_time_sin\n",
      "target_error\n",
      "t2m_OLEA\n",
      "sh2_OLEA\n",
      "d2m_OLEA\n",
      "r2_OLEA\n",
      "u10_OLEA\n",
      "v10_OLEA\n",
      "tp_OLEA\n",
      "mslma_OLEA\n",
      "orog_OLEA\n",
      "tcc_OLEA\n",
      "asnow_OLEA\n",
      "cape_OLEA\n",
      "dswrf_OLEA\n",
      "dlwrf_OLEA\n",
      "gh_OLEA\n",
      "u_total_OLEA\n",
      "u_dir_OLEA\n",
      "new_tp_OLEA\n",
      "t2m_BELM\n",
      "sh2_BELM\n",
      "d2m_BELM\n",
      "r2_BELM\n",
      "u10_BELM\n",
      "v10_BELM\n",
      "tp_BELM\n",
      "mslma_BELM\n",
      "orog_BELM\n",
      "tcc_BELM\n",
      "asnow_BELM\n",
      "cape_BELM\n",
      "dswrf_BELM\n",
      "dlwrf_BELM\n",
      "gh_BELM\n",
      "u_total_BELM\n",
      "u_dir_BELM\n",
      "new_tp_BELM\n",
      "t2m_DELE\n",
      "sh2_DELE\n",
      "d2m_DELE\n",
      "r2_DELE\n",
      "u10_DELE\n",
      "v10_DELE\n",
      "tp_DELE\n",
      "mslma_DELE\n",
      "orog_DELE\n",
      "tcc_DELE\n",
      "asnow_DELE\n",
      "cape_DELE\n",
      "dswrf_DELE\n",
      "dlwrf_DELE\n",
      "gh_DELE\n",
      "u_total_DELE\n",
      "u_dir_DELE\n",
      "new_tp_DELE\n",
      "t2m_RAND\n",
      "sh2_RAND\n",
      "d2m_RAND\n",
      "r2_RAND\n",
      "u10_RAND\n",
      "v10_RAND\n",
      "tp_RAND\n",
      "mslma_RAND\n",
      "orog_RAND\n",
      "tcc_RAND\n",
      "asnow_RAND\n",
      "cape_RAND\n",
      "dswrf_RAND\n",
      "dlwrf_RAND\n",
      "gh_RAND\n",
      "u_total_RAND\n",
      "u_dir_RAND\n",
      "new_tp_RAND\n",
      "lat_OLEA\n",
      "lon_OLEA\n",
      "elev_OLEA\n",
      "tair_OLEA\n",
      "ta9m_OLEA\n",
      "td_OLEA\n",
      "relh_OLEA\n",
      "srad_OLEA\n",
      "pres_OLEA\n",
      "mslp_OLEA\n",
      "wspd_sonic_mean_OLEA\n",
      "wspd_sonic_OLEA\n",
      "wmax_sonic_OLEA\n",
      "wdir_sonic_OLEA\n",
      "snow_depth_OLEA\n",
      "precip_total_OLEA\n",
      "lat_BELM\n",
      "lon_BELM\n",
      "elev_BELM\n",
      "tair_BELM\n",
      "ta9m_BELM\n",
      "td_BELM\n",
      "relh_BELM\n",
      "srad_BELM\n",
      "pres_BELM\n",
      "mslp_BELM\n",
      "wspd_sonic_mean_BELM\n",
      "wspd_sonic_BELM\n",
      "wmax_sonic_BELM\n",
      "wdir_sonic_BELM\n",
      "snow_depth_BELM\n",
      "precip_total_BELM\n",
      "lat_DELE\n",
      "lon_DELE\n",
      "elev_DELE\n",
      "tair_DELE\n",
      "ta9m_DELE\n",
      "td_DELE\n",
      "relh_DELE\n",
      "srad_DELE\n",
      "pres_DELE\n",
      "mslp_DELE\n",
      "wspd_sonic_mean_DELE\n",
      "wspd_sonic_DELE\n",
      "wmax_sonic_DELE\n",
      "wdir_sonic_DELE\n",
      "snow_depth_DELE\n",
      "precip_total_DELE\n",
      "lat_RAND\n",
      "lon_RAND\n",
      "elev_RAND\n",
      "tair_RAND\n",
      "ta9m_RAND\n",
      "td_RAND\n",
      "relh_RAND\n",
      "srad_RAND\n",
      "pres_RAND\n",
      "mslp_RAND\n",
      "wspd_sonic_mean_RAND\n",
      "wspd_sonic_RAND\n",
      "wmax_sonic_RAND\n",
      "wdir_sonic_RAND\n",
      "snow_depth_RAND\n",
      "precip_total_RAND\n"
     ]
    }
   ],
   "source": [
    "for k in full_df.keys():\n",
    "    print(k)"
   ]
  },
  {
   "cell_type": "code",
   "execution_count": 37,
   "metadata": {},
   "outputs": [],
   "source": [
    "df[\"valid_time\"] = full_df[\"valid_time\"]\n",
    "# df['rnn_err'] = rnn_df['diff']"
   ]
  },
  {
   "cell_type": "code",
   "execution_count": 38,
   "metadata": {},
   "outputs": [
    {
     "data": {
      "text/html": [
       "<div>\n",
       "<style scoped>\n",
       "    .dataframe tbody tr th:only-of-type {\n",
       "        vertical-align: middle;\n",
       "    }\n",
       "\n",
       "    .dataframe tbody tr th {\n",
       "        vertical-align: top;\n",
       "    }\n",
       "\n",
       "    .dataframe thead th {\n",
       "        text-align: right;\n",
       "    }\n",
       "</style>\n",
       "<table border=\"1\" class=\"dataframe\">\n",
       "  <thead>\n",
       "    <tr style=\"text-align: right;\">\n",
       "      <th></th>\n",
       "      <th>target_error_lead_10</th>\n",
       "      <th>Model forecast</th>\n",
       "      <th>diff</th>\n",
       "      <th>valid_time</th>\n",
       "    </tr>\n",
       "  </thead>\n",
       "  <tbody>\n",
       "    <tr>\n",
       "      <th>0</th>\n",
       "      <td>0.925813</td>\n",
       "      <td>1.935594</td>\n",
       "      <td>-1.009780</td>\n",
       "      <td>2018-01-01 12:00:00</td>\n",
       "    </tr>\n",
       "    <tr>\n",
       "      <th>1</th>\n",
       "      <td>2.967896</td>\n",
       "      <td>2.201633</td>\n",
       "      <td>0.766263</td>\n",
       "      <td>2018-01-01 13:00:00</td>\n",
       "    </tr>\n",
       "    <tr>\n",
       "      <th>2</th>\n",
       "      <td>3.101874</td>\n",
       "      <td>2.559372</td>\n",
       "      <td>0.542502</td>\n",
       "      <td>2018-01-01 14:00:00</td>\n",
       "    </tr>\n",
       "    <tr>\n",
       "      <th>3</th>\n",
       "      <td>2.945138</td>\n",
       "      <td>2.736600</td>\n",
       "      <td>0.208538</td>\n",
       "      <td>2018-01-01 15:00:00</td>\n",
       "    </tr>\n",
       "    <tr>\n",
       "      <th>4</th>\n",
       "      <td>2.035452</td>\n",
       "      <td>2.015078</td>\n",
       "      <td>0.020374</td>\n",
       "      <td>2018-01-01 16:00:00</td>\n",
       "    </tr>\n",
       "    <tr>\n",
       "      <th>...</th>\n",
       "      <td>...</td>\n",
       "      <td>...</td>\n",
       "      <td>...</td>\n",
       "      <td>...</td>\n",
       "    </tr>\n",
       "    <tr>\n",
       "      <th>47284</th>\n",
       "      <td>-0.492044</td>\n",
       "      <td>-0.150276</td>\n",
       "      <td>-0.341768</td>\n",
       "      <td>NaT</td>\n",
       "    </tr>\n",
       "    <tr>\n",
       "      <th>47285</th>\n",
       "      <td>-0.493571</td>\n",
       "      <td>-0.014834</td>\n",
       "      <td>-0.478737</td>\n",
       "      <td>NaT</td>\n",
       "    </tr>\n",
       "    <tr>\n",
       "      <th>47286</th>\n",
       "      <td>-0.518964</td>\n",
       "      <td>0.164201</td>\n",
       "      <td>-0.683164</td>\n",
       "      <td>NaT</td>\n",
       "    </tr>\n",
       "    <tr>\n",
       "      <th>47287</th>\n",
       "      <td>-0.383281</td>\n",
       "      <td>0.190372</td>\n",
       "      <td>-0.573653</td>\n",
       "      <td>NaT</td>\n",
       "    </tr>\n",
       "    <tr>\n",
       "      <th>47288</th>\n",
       "      <td>-0.030720</td>\n",
       "      <td>0.121730</td>\n",
       "      <td>-0.152450</td>\n",
       "      <td>NaT</td>\n",
       "    </tr>\n",
       "  </tbody>\n",
       "</table>\n",
       "<p>47289 rows × 4 columns</p>\n",
       "</div>"
      ],
      "text/plain": [
       "       target_error_lead_10  Model forecast      diff          valid_time\n",
       "0                  0.925813        1.935594 -1.009780 2018-01-01 12:00:00\n",
       "1                  2.967896        2.201633  0.766263 2018-01-01 13:00:00\n",
       "2                  3.101874        2.559372  0.542502 2018-01-01 14:00:00\n",
       "3                  2.945138        2.736600  0.208538 2018-01-01 15:00:00\n",
       "4                  2.035452        2.015078  0.020374 2018-01-01 16:00:00\n",
       "...                     ...             ...       ...                 ...\n",
       "47284             -0.492044       -0.150276 -0.341768                 NaT\n",
       "47285             -0.493571       -0.014834 -0.478737                 NaT\n",
       "47286             -0.518964        0.164201 -0.683164                 NaT\n",
       "47287             -0.383281        0.190372 -0.573653                 NaT\n",
       "47288             -0.030720        0.121730 -0.152450                 NaT\n",
       "\n",
       "[47289 rows x 4 columns]"
      ]
     },
     "execution_count": 38,
     "metadata": {},
     "output_type": "execute_result"
    }
   ],
   "source": [
    "df"
   ]
  },
  {
   "cell_type": "code",
   "execution_count": 39,
   "metadata": {},
   "outputs": [],
   "source": [
    "def which_fold(df, fold):\n",
    "    length = len(df)\n",
    "    test_len = int(length * 0.2)\n",
    "    df_train = pd.DataFrame()\n",
    "\n",
    "    for n in np.arange(0, 5):\n",
    "        if n != fold:\n",
    "            df1 = df.iloc[int(0.2 * n * length) : int(0.2 * (n + 1) * length)]\n",
    "            df_train = pd.concat([df_train, df1])\n",
    "        else:\n",
    "            df_test = df.iloc[int(0.2 * n * length) : int(0.2 * (n + 1) * length)]\n",
    "\n",
    "    return df_train['valid_time'], df_test['valid_time']"
   ]
  },
  {
   "cell_type": "code",
   "execution_count": 40,
   "metadata": {},
   "outputs": [],
   "source": [
    "station = \"VOOR\""
   ]
  },
  {
   "cell_type": "code",
   "execution_count": 41,
   "metadata": {},
   "outputs": [],
   "source": [
    "df['valid_time'] = pd.to_datetime(df['valid_time'])"
   ]
  },
  {
   "cell_type": "code",
   "execution_count": 42,
   "metadata": {},
   "outputs": [],
   "source": [
    "df.dropna(inplace=True)"
   ]
  },
  {
   "cell_type": "code",
   "execution_count": 43,
   "metadata": {},
   "outputs": [],
   "source": [
    "df_train, df_test = which_fold(df, 4)"
   ]
  },
  {
   "cell_type": "code",
   "execution_count": 44,
   "metadata": {},
   "outputs": [
    {
     "data": {
      "text/plain": [
       "Timestamp('2022-11-23 08:00:00')"
      ]
     },
     "execution_count": 44,
     "metadata": {},
     "output_type": "execute_result"
    }
   ],
   "source": [
    "df_test.iloc[0]"
   ]
  },
  {
   "cell_type": "code",
   "execution_count": 45,
   "metadata": {},
   "outputs": [
    {
     "data": {
      "text/plain": [
       "Timestamp('2023-12-31 23:00:00')"
      ]
     },
     "execution_count": 45,
     "metadata": {},
     "output_type": "execute_result"
    }
   ],
   "source": [
    "df_test.iloc[-1]"
   ]
  },
  {
   "cell_type": "code",
   "execution_count": 46,
   "metadata": {},
   "outputs": [],
   "source": [
    "df = df[df['valid_time'] > datetime(2022, 12, 1, 0, 0, 0)]\n",
    "df = df[df['valid_time'] < datetime(2023, 12, 30, 23, 0, 0)]"
   ]
  },
  {
   "cell_type": "code",
   "execution_count": 47,
   "metadata": {},
   "outputs": [
    {
     "data": {
      "text/plain": [
       "0.5368912240018116"
      ]
     },
     "execution_count": 47,
     "metadata": {},
     "output_type": "execute_result"
    }
   ],
   "source": [
    "mean = st.mean(abs(df['diff']))\n",
    "mean"
   ]
  },
  {
   "cell_type": "code",
   "execution_count": 48,
   "metadata": {},
   "outputs": [],
   "source": [
    "import matplotlib.dates as mdates"
   ]
  },
  {
   "cell_type": "code",
   "execution_count": 49,
   "metadata": {},
   "outputs": [],
   "source": [
    "import matplotlib.pyplot as plt\n",
    "import matplotlib.dates as mdates\n",
    "import numpy as np\n",
    "\n",
    "def ml_output(df, fold, station):\n",
    "    fig, ax = plt.subplots(figsize=(24, 6))\n",
    "    x = df[\"valid_time\"]\n",
    "\n",
    "    # Convert datetime values to numerical values\n",
    "    x_numeric = mdates.date2num(x)\n",
    "\n",
    "    # Assuming your timestamps are in a datetime64 format\n",
    "    day_mask = (x.dt.hour >= 6) & (x.dt.hour < 18)  # Adjust the hours based on your day/night definition\n",
    "\n",
    "    plt.plot(x, df[\"target_error_lead_10\"], c=\"r\", linewidth=3, label=\"T2M_error: HRRR\")\n",
    "    plt.plot(x, df[\"Model forecast\"], c=\"b\", alpha=0.7, label=\"LSTM Output\")\n",
    "    # plt.plot(x, df[\"rnn_err\"], c=\"g\", alpha=0.7, label=\"RNN Output\")\n",
    "\n",
    "    # plt.axvline(\n",
    "    #     x=(int(0.2 * len(x)) * fold),\n",
    "    #     c=\"green\",\n",
    "    #     linestyle=\"--\",\n",
    "    #     linewidth=2.0,\n",
    "    #     label=\"Test Set Start\",\n",
    "    # )\n",
    "    # plt.axvline(\n",
    "    #     x=(int(0.2 * len(x)) * (fold + 1)),\n",
    "    #     c=\"red\",\n",
    "    #     linestyle=\"--\",\n",
    "    #     linewidth=2.0,\n",
    "    #     label=\"Test Set Finish\",\n",
    "    # )\n",
    "\n",
    "\n",
    "\n",
    "    # Fill daytime hours with white color\n",
    "    ax.fill_between(x_numeric, -10, 10.1, where=day_mask, color=\"white\", alpha=0.5, label=\"Daytime\")\n",
    "\n",
    "    # Fill nighttime hours with grey color\n",
    "    ax.fill_between(x_numeric, -10, 10.1, where=~day_mask, color=\"grey\", alpha=0.2, label=\"Nighttime\")\n",
    "\n",
    "    ax.set_title(f\"LSTM Output v Target: {station}: FH30\", fontsize=28)\n",
    "    # plt.ylim(-5, 5.)\n",
    "    ax.legend()\n",
    "    \n",
    "    plt.show()\n",
    "\n",
    "# Example usage\n",
    "# ml_output(df, fold, station)\n"
   ]
  },
  {
   "cell_type": "code",
   "execution_count": 50,
   "metadata": {},
   "outputs": [
    {
     "data": {
      "image/png": "[encoded data removed]",
      "text/plain": [
       "<Figure size 2400x600 with 1 Axes>"
      ]
     },
     "metadata": {},
     "output_type": "display_data"
    }
   ],
   "source": [
    "x = ml_output(df, 4, station)"
   ]
  },
  {
   "cell_type": "code",
   "execution_count": null,
   "metadata": {},
   "outputs": [],
   "source": [
    "full_df[\"Abs_err\"] = df[\"diff\"]"
   ]
  },
  {
   "cell_type": "code",
   "execution_count": null,
   "metadata": {},
   "outputs": [],
   "source": [
    "for k in full_df.columns:\n",
    "    if re.search(\n",
    "        f\"{station}|valid|Model forecast|Abs_err\",\n",
    "        k,\n",
    "    ):\n",
    "        continue\n",
    "    else:\n",
    "        full_df = full_df.drop(columns=[k])"
   ]
  },
  {
   "cell_type": "code",
   "execution_count": null,
   "metadata": {},
   "outputs": [],
   "source": [
    "# test_len = int(len(full_df['valid_time'])*0.2)\n",
    "# full_df = full_df.iloc[0:test_len]"
   ]
  },
  {
   "cell_type": "code",
   "execution_count": null,
   "metadata": {},
   "outputs": [],
   "source": [
    "def groupby_month(df, col):\n",
    "    df = df[df[col] > -999]\n",
    "    GB = df.groupby([(df.valid_time.dt.month), (df.valid_time.dt.year)])[col].mean()\n",
    "    the_list = GB.tolist()\n",
    "    fig, ax = plt.subplots(figsize=(21, 6))\n",
    "    x = np.arange(1, len(the_list) + 1)\n",
    "    plt.bar(x, the_list)\n",
    "    ax.set_xticklabels([2018, 2019, 2020, 2021, 2022, 2023])\n",
    "    ax.set_xticks(np.arange(1, len(the_list) + 1, int((len(the_list) + 1) / 6)))\n",
    "    return the_list"
   ]
  },
  {
   "cell_type": "code",
   "execution_count": null,
   "metadata": {},
   "outputs": [],
   "source": [
    "err_by_month = groupby_month(full_df, \"Abs_err\")"
   ]
  },
  {
   "cell_type": "code",
   "execution_count": null,
   "metadata": {},
   "outputs": [],
   "source": [
    "def groupby_time(df, col):\n",
    "    df = df[df[col] > -999]\n",
    "    GB = df.groupby([(df.valid_time.dt.hour)])[col].mean()\n",
    "    the_list = GB.tolist()\n",
    "    fig, ax = plt.subplots(figsize=(21, 6))\n",
    "    x = np.arange(0, len(the_list))\n",
    "    plt.bar(x, the_list, color=\"g\")\n",
    "    return the_list"
   ]
  },
  {
   "cell_type": "code",
   "execution_count": null,
   "metadata": {},
   "outputs": [],
   "source": [
    "err_by_time = groupby_time(full_df, \"Abs_err\")"
   ]
  },
  {
   "cell_type": "code",
   "execution_count": null,
   "metadata": {},
   "outputs": [],
   "source": [
    "def myround(x, base):\n",
    "    return base * round(x / base)"
   ]
  },
  {
   "cell_type": "code",
   "execution_count": null,
   "metadata": {},
   "outputs": [],
   "source": [
    "# function to get unique values\n",
    "def unique(list1):\n",
    "    # initialize a null list\n",
    "    unique_list = []\n",
    "\n",
    "    # traverse for all elements\n",
    "    for x in list1:\n",
    "        # check if exists in unique_list or not\n",
    "        if x not in unique_list:\n",
    "            unique_list.append(x)\n",
    "    return unique_list"
   ]
  },
  {
   "cell_type": "code",
   "execution_count": null,
   "metadata": {},
   "outputs": [],
   "source": [
    "def err_bucket(full_df, met_col, rounded_base):\n",
    "    temps = []\n",
    "    for i, _ in enumerate(full_df[met_col]):\n",
    "        rounded = myround(full_df[met_col].iloc[i], rounded_base)\n",
    "        temps.append(rounded)\n",
    "\n",
    "    unique_temps = unique(temps)\n",
    "\n",
    "    zeros = np.zeros(len(unique_temps))\n",
    "    rs = np.resize(zeros, (len(unique_temps), len(unique_temps)))\n",
    "\n",
    "    temp_df = pd.DataFrame(\n",
    "        data=rs, index=[np.arange(len(unique_temps))], columns=sorted(unique_temps)\n",
    "    )\n",
    "\n",
    "    for i, _ in enumerate(full_df[met_col]):\n",
    "        rounded = myround(full_df[met_col].iloc[i], rounded_base)\n",
    "        err = full_df[\"Abs_err\"].iloc[i]\n",
    "        temp_df[rounded].iloc[0] = abs(err) + abs(temp_df[rounded].iloc[0])\n",
    "        temp_df[rounded].iloc[-1] += 1\n",
    "\n",
    "    instances = temp_df.iloc[-1]\n",
    "    temp_df = temp_df.iloc[0]\n",
    "\n",
    "    return temp_df, instances"
   ]
  },
  {
   "cell_type": "code",
   "execution_count": null,
   "metadata": {},
   "outputs": [],
   "source": [
    "def plot_buckets(temp_df, instances, var_name, cmap, width):\n",
    "    my_cmap = plt.get_cmap(cmap)\n",
    "    averages = temp_df / instances\n",
    "    y = averages\n",
    "    rescale = lambda y: (y - np.min(y)) / (np.max(y) - np.min(y))\n",
    "    the_list = averages.tolist()\n",
    "    fig, ax = plt.subplots(figsize=(21, 6), facecolor=\"slategrey\", layout=\"compressed\")\n",
    "    bars = plt.bar(temp_df.keys(), the_list, color=my_cmap(rescale(y)), width=width)\n",
    "    ax.set_title(\"Absolute Error of LSTM\", fontsize=28, c=\"white\")\n",
    "    ax.set_xlabel(var_name, fontsize=18, c=\"white\")\n",
    "    ax.set_ylabel(\"Mean Absolute Error\", fontsize=18, c=\"white\")\n",
    "    # Iterating over the bars one-by-one\n",
    "    # Annotate each bar with its value\n",
    "    # Annotate each bar with the number of instances\n",
    "    for bar, value, instance_count in zip(bars, the_list, instances):\n",
    "        yval = value + 0.01  # Adjust the vertical position of the label\n",
    "        ax.text(\n",
    "            bar.get_x() + bar.get_width() / 2,\n",
    "            yval,\n",
    "            f\"n={instance_count}\",\n",
    "            ha=\"center\",\n",
    "            va=\"bottom\",\n",
    "            color=\"black\",\n",
    "            fontsize=12,\n",
    "            rotation=90,\n",
    "        )"
   ]
  },
  {
   "cell_type": "code",
   "execution_count": null,
   "metadata": {},
   "outputs": [],
   "source": [
    "for k in full_df.keys():\n",
    "    print(k)"
   ]
  },
  {
   "cell_type": "code",
   "execution_count": null,
   "metadata": {},
   "outputs": [],
   "source": [
    "# diector = sorted(os.listdir('/home/aevans/nwp_bias/src/machine_learning/data/lstm_eval_csvs/20231129/'))\n",
    "\n",
    "# for d in diector:\n",
    "#         full_df = pd.read_parquet(\n",
    "#         f\"/home/aevans/nwp_bias/src/machine_learning/data/lstm_eval_csvs/20231129/{d}\"\n",
    "#     )\n",
    "#         for k in full_df.columns:\n",
    "#             if re.search(\n",
    "#                 f\"{station}\",\n",
    "#                 k,\n",
    "#             ):\n",
    "#                 print(\"Succes!!\")\n",
    "#                 print(d)\n",
    "#             else:\n",
    "#                 continue"
   ]
  },
  {
   "cell_type": "code",
   "execution_count": null,
   "metadata": {},
   "outputs": [],
   "source": [
    "temp_df, instances = err_bucket(full_df, f\"tair_{station}\", 2)"
   ]
  },
  {
   "cell_type": "code",
   "execution_count": null,
   "metadata": {},
   "outputs": [],
   "source": [
    "plot_buckets(temp_df, instances, \"Temperature (C)\", \"Wistia\", 2.5)"
   ]
  },
  {
   "cell_type": "code",
   "execution_count": null,
   "metadata": {},
   "outputs": [],
   "source": [
    "relh_df, instances = err_bucket(full_df, f\"relh_{station}\", 2)"
   ]
  },
  {
   "cell_type": "code",
   "execution_count": null,
   "metadata": {},
   "outputs": [],
   "source": [
    "plot_buckets(relh_df, instances, \"Relative Humidity (%)\", \"copper\", 2.5)"
   ]
  },
  {
   "cell_type": "code",
   "execution_count": null,
   "metadata": {},
   "outputs": [],
   "source": [
    "new_df, instances = err_bucket(full_df, f\"srad_{station}\", 40)"
   ]
  },
  {
   "cell_type": "code",
   "execution_count": null,
   "metadata": {},
   "outputs": [],
   "source": [
    "plot_buckets(new_df, instances, \"Solar Radiation (W / m*m)\", \"copper\", 50.0)"
   ]
  },
  {
   "cell_type": "code",
   "execution_count": null,
   "metadata": {},
   "outputs": [],
   "source": [
    "pres_df, instances = err_bucket(full_df, f\"pres_{station}\", 2)"
   ]
  },
  {
   "cell_type": "code",
   "execution_count": null,
   "metadata": {},
   "outputs": [],
   "source": [
    "full_df[f\"pres_{station}\"].mean()"
   ]
  },
  {
   "cell_type": "code",
   "execution_count": null,
   "metadata": {},
   "outputs": [],
   "source": [
    "plot_buckets(pres_df, instances, \"Surface Pressure (mb)\", \"copper\", 1.5)"
   ]
  },
  {
   "cell_type": "code",
   "execution_count": null,
   "metadata": {},
   "outputs": [],
   "source": [
    "def round_small(full_df, met_col, rounded_base):\n",
    "    temps = []\n",
    "    for i, _ in enumerate(full_df[met_col]):\n",
    "        if full_df[met_col].iloc[i] < 1.0 and full_df[met_col].iloc[i] >= 0:\n",
    "            rounded = round(full_df[met_col].iloc[i], rounded_base)\n",
    "            temps.append(rounded)\n",
    "        else:\n",
    "            rounded = myround(full_df[met_col].iloc[i], 1)\n",
    "            temps.append(rounded)\n",
    "\n",
    "    unique_temps = unique(temps)\n",
    "\n",
    "    zeros = np.zeros(len(unique_temps))\n",
    "    rs = np.resize(zeros, (len(unique_temps), len(unique_temps)))\n",
    "    temp_df = pd.DataFrame(\n",
    "        data=rs, index=[np.arange(len(unique_temps))], columns=sorted(unique_temps)\n",
    "    )\n",
    "\n",
    "    for i, _ in enumerate(full_df[met_col]):\n",
    "        if full_df[met_col].iloc[i] < 1.0 and full_df[met_col].iloc[i] >= 0:\n",
    "            rounded = round(full_df[met_col].iloc[i], rounded_base)\n",
    "        else:\n",
    "            rounded = float(myround(full_df[met_col].iloc[i], base=1))\n",
    "        err = float(full_df[\"Abs_err\"].iloc[i])\n",
    "        temp_df[rounded].iloc[0] = abs(err) + abs(temp_df[rounded].iloc[0])\n",
    "        temp_df[rounded].iloc[-1] += 1\n",
    "\n",
    "    instances = temp_df.iloc[-1]\n",
    "    temp_df = temp_df.iloc[0]\n",
    "    temp_df = temp_df.loc[~(temp_df == 0)]\n",
    "    instances = instances.loc[~(instances == 0)]\n",
    "    return temp_df, instances"
   ]
  },
  {
   "cell_type": "code",
   "execution_count": null,
   "metadata": {},
   "outputs": [],
   "source": [
    "rain_df, instances = err_bucket(full_df, f\"precip_total_{station}\", 2)"
   ]
  },
  {
   "cell_type": "code",
   "execution_count": null,
   "metadata": {},
   "outputs": [],
   "source": [
    "plot_buckets(rain_df, instances, \"Precipitation [mm/hr]\", \"winter\", 1.0)"
   ]
  },
  {
   "cell_type": "code",
   "execution_count": null,
   "metadata": {},
   "outputs": [],
   "source": [
    "snow_df, instances = round_small(full_df, f\"snow_depth_{station}\", 2)"
   ]
  },
  {
   "cell_type": "code",
   "execution_count": null,
   "metadata": {},
   "outputs": [],
   "source": [
    "snow_df = snow_df.iloc[1:]\n",
    "instances = instances.iloc[1:]"
   ]
  },
  {
   "cell_type": "code",
   "execution_count": null,
   "metadata": {},
   "outputs": [],
   "source": [
    "plot_buckets(snow_df, instances, \"Accumulated Snow (m)\", \"cool\", 0.01)"
   ]
  },
  {
   "cell_type": "code",
   "execution_count": null,
   "metadata": {},
   "outputs": [],
   "source": [
    "wmax, instances = err_bucket(full_df, f\"wmax_sonic_{station}\", 2)"
   ]
  },
  {
   "cell_type": "code",
   "execution_count": null,
   "metadata": {},
   "outputs": [],
   "source": [
    "plot_buckets(wmax, instances, \"Wind Max (m/s)\", \"copper\", 1.0)"
   ]
  },
  {
   "cell_type": "code",
   "execution_count": null,
   "metadata": {},
   "outputs": [],
   "source": []
  }
 ],
 "metadata": {
  "kernelspec": {
   "display_name": "Python 3.9.16 ('base': conda)",
   "language": "python",
   "name": "python3"
  },
  "language_info": {
   "codemirror_mode": {
    "name": "ipython",
    "version": 3
   },
   "file_extension": ".py",
   "mimetype": "text/x-python",
   "name": "python",
   "nbconvert_exporter": "python",
   "pygments_lexer": "ipython3",
   "version": "3.9.16"
  },
  "orig_nbformat": 4,
  "vscode": {
   "interpreter": {
    "hash": "44818f36aeaf89db1a1d21a2bee6031a28b4e41595a65903b38b9b0c4417365f"
   }
  }
 },
 "nbformat": 4,
 "nbformat_minor": 2
}
