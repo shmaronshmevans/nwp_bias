{
 "cells": [
  {
   "cell_type": "code",
   "execution_count": 256,
   "metadata": {},
   "outputs": [],
   "source": [
    "import pandas as pd\n",
    "import numpy as np\n",
    "import matplotlib.pyplot as plt\n",
    "import re\n",
    "import statistics as st\n",
    "from datetime import datetime"
   ]
  },
  {
   "cell_type": "code",
   "execution_count": 257,
   "metadata": {},
   "outputs": [],
   "source": [
    "model_path_LSTM = \"/home/aevans/nwp_bias/src/machine_learning/data/AMS_2025/20250102/CROG/CROG_fh33_t2m_GFS_ml_output_linear.parquet\""
   ]
  },
  {
   "cell_type": "code",
   "execution_count": 258,
   "metadata": {},
   "outputs": [],
   "source": [
    "station = \"BKLN\"\n",
    "fh = 3"
   ]
  },
  {
   "cell_type": "code",
   "execution_count": 259,
   "metadata": {},
   "outputs": [],
   "source": [
    "full_df = pd.read_parquet(\n",
    "    \"/home/aevans/nwp_bias/src/machine_learning/data/lstm_eval_csvs/20250102/BKLN/01_02_2025_17:20:59_full_BKLN.parquet\"\n",
    ")"
   ]
  },
  {
   "cell_type": "code",
   "execution_count": 260,
   "metadata": {},
   "outputs": [],
   "source": [
    "lookup_path = \"/home/aevans/nwp_bias/src/machine_learning/data/parent_models/HRRR/s2s/Central Lakes_t2m_HRRR_lookup_linear.csv\"\n",
    "\n",
    "lookup_path_quad = \"/home/aevans/nwp_bias/src/machine_learning/data/parent_models/HRRR/s2s/Central Lakes_t2m_HRRR_lookup_quad.csv\""
   ]
  },
  {
   "cell_type": "code",
   "execution_count": 261,
   "metadata": {},
   "outputs": [
    {
     "data": {
      "text/html": [
       "<div>\n",
       "<style scoped>\n",
       "    .dataframe tbody tr th:only-of-type {\n",
       "        vertical-align: middle;\n",
       "    }\n",
       "\n",
       "    .dataframe tbody tr th {\n",
       "        vertical-align: top;\n",
       "    }\n",
       "\n",
       "    .dataframe thead th {\n",
       "        text-align: right;\n",
       "    }\n",
       "</style>\n",
       "<table border=\"1\" class=\"dataframe\">\n",
       "  <thead>\n",
       "    <tr style=\"text-align: right;\">\n",
       "      <th></th>\n",
       "      <th>target_error_lead_0</th>\n",
       "      <th>Model forecast</th>\n",
       "      <th>diff</th>\n",
       "      <th>valid_time</th>\n",
       "    </tr>\n",
       "  </thead>\n",
       "  <tbody>\n",
       "    <tr>\n",
       "      <th>0</th>\n",
       "      <td>-0.088623</td>\n",
       "      <td>-4576.990234</td>\n",
       "      <td>998.871787</td>\n",
       "      <td>2018-02-12 15:00:00</td>\n",
       "    </tr>\n",
       "    <tr>\n",
       "      <th>1</th>\n",
       "      <td>-0.887447</td>\n",
       "      <td>-4576.990234</td>\n",
       "      <td>998.072962</td>\n",
       "      <td>2018-02-12 21:00:00</td>\n",
       "    </tr>\n",
       "    <tr>\n",
       "      <th>2</th>\n",
       "      <td>0.954996</td>\n",
       "      <td>-4576.990234</td>\n",
       "      <td>999.915406</td>\n",
       "      <td>2018-02-13 03:00:00</td>\n",
       "    </tr>\n",
       "    <tr>\n",
       "      <th>3</th>\n",
       "      <td>3.066732</td>\n",
       "      <td>-4576.990234</td>\n",
       "      <td>1002.027142</td>\n",
       "      <td>2018-02-13 09:00:00</td>\n",
       "    </tr>\n",
       "    <tr>\n",
       "      <th>4</th>\n",
       "      <td>0.371486</td>\n",
       "      <td>-4576.990234</td>\n",
       "      <td>999.331896</td>\n",
       "      <td>2018-02-13 15:00:00</td>\n",
       "    </tr>\n",
       "  </tbody>\n",
       "</table>\n",
       "</div>"
      ],
      "text/plain": [
       "   target_error_lead_0  Model forecast         diff          valid_time\n",
       "0            -0.088623    -4576.990234   998.871787 2018-02-12 15:00:00\n",
       "1            -0.887447    -4576.990234   998.072962 2018-02-12 21:00:00\n",
       "2             0.954996    -4576.990234   999.915406 2018-02-13 03:00:00\n",
       "3             3.066732    -4576.990234  1002.027142 2018-02-13 09:00:00\n",
       "4             0.371486    -4576.990234   999.331896 2018-02-13 15:00:00"
      ]
     },
     "execution_count": 261,
     "metadata": {},
     "output_type": "execute_result"
    }
   ],
   "source": [
    "ldf = pd.read_parquet(model_path_LSTM)\n",
    "# ldf = ldf.sort_index()\n",
    "# ldf['Model forecast'] = ldf['Model forecast']*-1\n",
    "ldf.head()"
   ]
  },
  {
   "cell_type": "code",
   "execution_count": 262,
   "metadata": {},
   "outputs": [
    {
     "name": "stdout",
     "output_type": "stream",
     "text": [
      "FH 1\n",
      "14.581338189863715 63261.487106092936\n",
      "FH 2\n",
      "14.581636043524203 63263.01132349947\n",
      "FH 3\n",
      "14.581636009330289 63261.58341424043\n",
      "FH 4\n",
      "14.581635971948625 63258.121023867585\n",
      "FH 5\n",
      "14.58163592003083 63257.79493282417\n",
      "FH 6\n",
      "14.581758520002243 63258.35582533733\n",
      "FH 7\n",
      "14.581919369542888 63259.28062847865\n",
      "FH 8\n",
      "14.582012619645125 63259.82186063573\n",
      "FH 9\n",
      "14.58201257428909 63258.913660707134\n",
      "FH 10\n",
      "14.582358473623337 63260.90663081858\n",
      "FH 11\n",
      "14.582384215905439 63262.94966747416\n",
      "FH 12\n",
      "14.582393596854564 63263.21544223266\n",
      "FH 13\n",
      "14.58254445295275 63265.404199440796\n",
      "FH 14\n",
      "14.583336171007977 63271.166401303286\n",
      "FH 15\n",
      "14.583905901589057 63274.467620698895\n",
      "FH 16\n",
      "14.584043016845298 63277.8555932926\n",
      "FH 17\n",
      "14.584505995774371 63279.97482215358\n",
      "FH 18\n",
      "14.584671737712737 63280.733250640726\n",
      "FH 19\n",
      "14.584671768578893 63281.92551620706\n",
      "FH 20\n",
      "14.584671796056035 63282.74664457653\n",
      "FH 21\n",
      "14.584216877387036 63280.62588150476\n",
      "FH 22\n",
      "14.584157259592432 63279.10507791088\n",
      "FH 23\n",
      "14.583935043491387 63277.84344610556\n",
      "FH 24\n",
      "14.584015061588223 63280.0628947242\n",
      "FH 25\n",
      "14.584015074730498 63283.13264086195\n",
      "FH 26\n",
      "14.584015088091538 63284.969480364656\n",
      "FH 27\n",
      "14.584015106681738 63286.07976147357\n",
      "FH 28\n",
      "14.584012382663255 63285.65725498227\n",
      "FH 29\n",
      "14.583872582473205 63283.0924104579\n",
      "FH 30\n",
      "14.583753465235938 63282.32420935647\n",
      "FH 31\n",
      "14.583753470841375 63281.042654632205\n",
      "FH 32\n",
      "14.58373088041026 63278.80095121358\n",
      "FH 33\n",
      "14.583730878980148 63278.926074663395\n",
      "FH 34\n",
      "14.583730876853734 63280.597275035274\n",
      "FH 35\n",
      "14.583832278226739 63282.063299710426\n",
      "FH 36\n",
      "14.583982109981752 63282.749093020444\n",
      "FH 37\n",
      "14.583982105413895 63282.51170513769\n",
      "FH 38\n",
      "14.583982102289902 63285.22119723228\n",
      "FH 39\n",
      "14.584225513476888 63286.33526998416\n",
      "FH 40\n",
      "14.583966600232342 63285.15022473128\n",
      "FH 41\n",
      "14.584188825937886 63287.41234425992\n",
      "FH 42\n",
      "14.5841888254641 63291.374395433326\n",
      "FH 43\n",
      "14.583726867789766 63286.00155285225\n",
      "FH 44\n",
      "14.583192057657943 63281.60271925968\n",
      "FH 45\n",
      "14.582694645956765 63277.67301324554\n",
      "FH 46\n",
      "14.582697376602015 63279.65801242528\n",
      "FH 47\n",
      "14.582615870668727 63279.28496595669\n",
      "FH 48\n",
      "14.582327634118386 63277.965707171046\n",
      "FH 49\n",
      "14.582327636601079 63278.55919121935\n",
      "FH 50\n",
      "14.582350230858742 63281.99517025271\n",
      "FH 51\n",
      "14.58216907302539 63280.347461818776\n",
      "FH 52\n",
      "14.581548105050745 63273.07353758167\n",
      "FH 53\n",
      "14.581548099402804 63273.99136760768\n",
      "FH 54\n",
      "14.581591496861147 63278.18271867626\n",
      "FH 55\n",
      "14.581484831778138 63275.78724470507\n",
      "FH 56\n",
      "14.581110169809087 63270.38062163236\n",
      "FH 57\n",
      "14.580776405501503 63268.8529745049\n",
      "FH 58\n",
      "14.581094966380476 63271.48618900297\n",
      "FH 59\n",
      "14.58101008600013 63269.852703218545\n"
     ]
    }
   ],
   "source": [
    "for i in np.arange(1, 60):\n",
    "    df = ldf.copy()\n",
    "    df[\"Model forecast\"] = df[\"Model forecast\"].shift(i).fillna(0)\n",
    "    df[\"diff\"] = df.iloc[:, 0] - df.iloc[:, 1]\n",
    "    mean = st.mean(abs(df[\"diff\"]))\n",
    "    mean_s = st.mean(df[\"diff\"] ** 2)\n",
    "\n",
    "    print(\"FH\", i)\n",
    "    print(mean, mean_s)"
   ]
  },
  {
   "cell_type": "code",
   "execution_count": 263,
   "metadata": {},
   "outputs": [],
   "source": [
    "# ldf['Model forecast'] = ldf['Model forecast'].shift(47)"
   ]
  },
  {
   "cell_type": "code",
   "execution_count": 264,
   "metadata": {},
   "outputs": [
    {
     "data": {
      "text/html": [
       "<div>\n",
       "<style scoped>\n",
       "    .dataframe tbody tr th:only-of-type {\n",
       "        vertical-align: middle;\n",
       "    }\n",
       "\n",
       "    .dataframe tbody tr th {\n",
       "        vertical-align: top;\n",
       "    }\n",
       "\n",
       "    .dataframe thead th {\n",
       "        text-align: right;\n",
       "    }\n",
       "</style>\n",
       "<table border=\"1\" class=\"dataframe\">\n",
       "  <thead>\n",
       "    <tr style=\"text-align: right;\">\n",
       "      <th></th>\n",
       "      <th>valid_time_cos_clock</th>\n",
       "      <th>valid_time_sin_clock</th>\n",
       "      <th>valid_time_cos</th>\n",
       "      <th>valid_time_sin</th>\n",
       "      <th>t2m_BKLN</th>\n",
       "      <th>target_error</th>\n",
       "      <th>sh2_BKLN</th>\n",
       "      <th>d2m_BKLN</th>\n",
       "      <th>r2_BKLN</th>\n",
       "      <th>u10_BKLN</th>\n",
       "      <th>...</th>\n",
       "      <th>relh_WARW</th>\n",
       "      <th>srad_WARW</th>\n",
       "      <th>pres_WARW</th>\n",
       "      <th>mslp_WARW</th>\n",
       "      <th>wspd_sonic_mean_WARW</th>\n",
       "      <th>wspd_sonic_WARW</th>\n",
       "      <th>wmax_sonic_WARW</th>\n",
       "      <th>wdir_sonic_WARW</th>\n",
       "      <th>snow_depth_WARW</th>\n",
       "      <th>precip_total_WARW</th>\n",
       "    </tr>\n",
       "  </thead>\n",
       "  <tbody>\n",
       "    <tr>\n",
       "      <th>0</th>\n",
       "      <td>1.000000e+00</td>\n",
       "      <td>0.000000e+00</td>\n",
       "      <td>0.999411</td>\n",
       "      <td>0.034328</td>\n",
       "      <td>6.091976</td>\n",
       "      <td>-1.129788</td>\n",
       "      <td>0.003453</td>\n",
       "      <td>-1.194376</td>\n",
       "      <td>59.489020</td>\n",
       "      <td>3.657995</td>\n",
       "      <td>...</td>\n",
       "      <td>71.680573</td>\n",
       "      <td>0.209680</td>\n",
       "      <td>999.441223</td>\n",
       "      <td>1000.459290</td>\n",
       "      <td>4.357557</td>\n",
       "      <td>3.840953</td>\n",
       "      <td>5.110470</td>\n",
       "      <td>307.336914</td>\n",
       "      <td>0.003187</td>\n",
       "      <td>0.0</td>\n",
       "    </tr>\n",
       "    <tr>\n",
       "      <th>1</th>\n",
       "      <td>-1.608123e-16</td>\n",
       "      <td>1.000000e+00</td>\n",
       "      <td>0.999411</td>\n",
       "      <td>0.034328</td>\n",
       "      <td>1.846576</td>\n",
       "      <td>-2.336546</td>\n",
       "      <td>0.002536</td>\n",
       "      <td>-5.353119</td>\n",
       "      <td>59.045923</td>\n",
       "      <td>1.997683</td>\n",
       "      <td>...</td>\n",
       "      <td>64.433456</td>\n",
       "      <td>0.158562</td>\n",
       "      <td>1002.427979</td>\n",
       "      <td>1003.691040</td>\n",
       "      <td>3.429064</td>\n",
       "      <td>3.260892</td>\n",
       "      <td>5.025475</td>\n",
       "      <td>305.753815</td>\n",
       "      <td>0.003355</td>\n",
       "      <td>0.0</td>\n",
       "    </tr>\n",
       "    <tr>\n",
       "      <th>2</th>\n",
       "      <td>-1.000000e+00</td>\n",
       "      <td>-3.216245e-16</td>\n",
       "      <td>0.999411</td>\n",
       "      <td>0.034328</td>\n",
       "      <td>0.271015</td>\n",
       "      <td>-2.712766</td>\n",
       "      <td>0.002178</td>\n",
       "      <td>-7.387833</td>\n",
       "      <td>57.159128</td>\n",
       "      <td>0.742134</td>\n",
       "      <td>...</td>\n",
       "      <td>67.167297</td>\n",
       "      <td>0.276249</td>\n",
       "      <td>1005.843018</td>\n",
       "      <td>1007.221375</td>\n",
       "      <td>1.353006</td>\n",
       "      <td>1.464957</td>\n",
       "      <td>2.895741</td>\n",
       "      <td>300.270599</td>\n",
       "      <td>0.004692</td>\n",
       "      <td>0.0</td>\n",
       "    </tr>\n",
       "    <tr>\n",
       "      <th>3</th>\n",
       "      <td>-1.836970e-16</td>\n",
       "      <td>-1.000000e+00</td>\n",
       "      <td>0.999411</td>\n",
       "      <td>0.034328</td>\n",
       "      <td>3.912207</td>\n",
       "      <td>0.289278</td>\n",
       "      <td>0.001819</td>\n",
       "      <td>-9.840616</td>\n",
       "      <td>36.400864</td>\n",
       "      <td>-0.874005</td>\n",
       "      <td>...</td>\n",
       "      <td>48.934978</td>\n",
       "      <td>341.757690</td>\n",
       "      <td>1005.601990</td>\n",
       "      <td>1006.780273</td>\n",
       "      <td>1.124892</td>\n",
       "      <td>1.089735</td>\n",
       "      <td>2.275084</td>\n",
       "      <td>260.809998</td>\n",
       "      <td>0.003993</td>\n",
       "      <td>0.0</td>\n",
       "    </tr>\n",
       "    <tr>\n",
       "      <th>4</th>\n",
       "      <td>1.000000e+00</td>\n",
       "      <td>0.000000e+00</td>\n",
       "      <td>0.998674</td>\n",
       "      <td>0.051479</td>\n",
       "      <td>3.008378</td>\n",
       "      <td>0.160819</td>\n",
       "      <td>0.002536</td>\n",
       "      <td>-5.379980</td>\n",
       "      <td>54.524680</td>\n",
       "      <td>-1.615571</td>\n",
       "      <td>...</td>\n",
       "      <td>60.596130</td>\n",
       "      <td>0.184124</td>\n",
       "      <td>1002.325989</td>\n",
       "      <td>1003.523010</td>\n",
       "      <td>4.149696</td>\n",
       "      <td>4.093899</td>\n",
       "      <td>6.512049</td>\n",
       "      <td>154.015305</td>\n",
       "      <td>0.004483</td>\n",
       "      <td>0.0</td>\n",
       "    </tr>\n",
       "  </tbody>\n",
       "</table>\n",
       "<p>5 rows × 186 columns</p>\n",
       "</div>"
      ],
      "text/plain": [
       "   valid_time_cos_clock  valid_time_sin_clock  valid_time_cos  valid_time_sin  \\\n",
       "0          1.000000e+00          0.000000e+00        0.999411        0.034328   \n",
       "1         -1.608123e-16          1.000000e+00        0.999411        0.034328   \n",
       "2         -1.000000e+00         -3.216245e-16        0.999411        0.034328   \n",
       "3         -1.836970e-16         -1.000000e+00        0.999411        0.034328   \n",
       "4          1.000000e+00          0.000000e+00        0.998674        0.051479   \n",
       "\n",
       "   t2m_BKLN  target_error  sh2_BKLN  d2m_BKLN    r2_BKLN  u10_BKLN  ...  \\\n",
       "0  6.091976     -1.129788  0.003453 -1.194376  59.489020  3.657995  ...   \n",
       "1  1.846576     -2.336546  0.002536 -5.353119  59.045923  1.997683  ...   \n",
       "2  0.271015     -2.712766  0.002178 -7.387833  57.159128  0.742134  ...   \n",
       "3  3.912207      0.289278  0.001819 -9.840616  36.400864 -0.874005  ...   \n",
       "4  3.008378      0.160819  0.002536 -5.379980  54.524680 -1.615571  ...   \n",
       "\n",
       "   relh_WARW   srad_WARW    pres_WARW    mslp_WARW  wspd_sonic_mean_WARW  \\\n",
       "0  71.680573    0.209680   999.441223  1000.459290              4.357557   \n",
       "1  64.433456    0.158562  1002.427979  1003.691040              3.429064   \n",
       "2  67.167297    0.276249  1005.843018  1007.221375              1.353006   \n",
       "3  48.934978  341.757690  1005.601990  1006.780273              1.124892   \n",
       "4  60.596130    0.184124  1002.325989  1003.523010              4.149696   \n",
       "\n",
       "   wspd_sonic_WARW  wmax_sonic_WARW  wdir_sonic_WARW  snow_depth_WARW  \\\n",
       "0         3.840953         5.110470       307.336914         0.003187   \n",
       "1         3.260892         5.025475       305.753815         0.003355   \n",
       "2         1.464957         2.895741       300.270599         0.004692   \n",
       "3         1.089735         2.275084       260.809998         0.003993   \n",
       "4         4.093899         6.512049       154.015305         0.004483   \n",
       "\n",
       "   precip_total_WARW  \n",
       "0                0.0  \n",
       "1                0.0  \n",
       "2                0.0  \n",
       "3                0.0  \n",
       "4                0.0  \n",
       "\n",
       "[5 rows x 186 columns]"
      ]
     },
     "execution_count": 264,
     "metadata": {},
     "output_type": "execute_result"
    }
   ],
   "source": [
    "full_df.dropna(inplace=True)\n",
    "full_df.head()"
   ]
  },
  {
   "cell_type": "code",
   "execution_count": 265,
   "metadata": {},
   "outputs": [
    {
     "name": "stdout",
     "output_type": "stream",
     "text": [
      "valid_time_cos_clock\n",
      "valid_time_sin_clock\n",
      "valid_time_cos\n",
      "valid_time_sin\n",
      "t2m_BKLN\n",
      "target_error\n",
      "sh2_BKLN\n",
      "d2m_BKLN\n",
      "r2_BKLN\n",
      "u10_BKLN\n",
      "v10_BKLN\n",
      "u_total_BKLN\n",
      "u_dir_BKLN\n",
      "tp_BKLN\n",
      "prmsl_BKLN\n",
      "orog_BKLN\n",
      "tcc_BKLN\n",
      "cape_BKLN\n",
      "cin_BKLN\n",
      "dswrf_BKLN\n",
      "dlwrf_BKLN\n",
      "gh_BKLN\n",
      "valid_time\n",
      "lulc_cat_BKLN\n",
      "elev_cat_BKLN\n",
      "slope_cat_BKLN\n",
      "t2m_WANT\n",
      "sh2_WANT\n",
      "d2m_WANT\n",
      "r2_WANT\n",
      "u10_WANT\n",
      "v10_WANT\n",
      "u_total_WANT\n",
      "u_dir_WANT\n",
      "tp_WANT\n",
      "prmsl_WANT\n",
      "orog_WANT\n",
      "tcc_WANT\n",
      "cape_WANT\n",
      "cin_WANT\n",
      "dswrf_WANT\n",
      "dlwrf_WANT\n",
      "gh_WANT\n",
      "lulc_cat_WANT\n",
      "elev_cat_WANT\n",
      "slope_cat_WANT\n",
      "t2m_SUFF\n",
      "sh2_SUFF\n",
      "d2m_SUFF\n",
      "r2_SUFF\n",
      "u10_SUFF\n",
      "v10_SUFF\n",
      "u_total_SUFF\n",
      "u_dir_SUFF\n",
      "tp_SUFF\n",
      "prmsl_SUFF\n",
      "orog_SUFF\n",
      "tcc_SUFF\n",
      "cape_SUFF\n",
      "cin_SUFF\n",
      "dswrf_SUFF\n",
      "dlwrf_SUFF\n",
      "gh_SUFF\n",
      "lulc_cat_SUFF\n",
      "elev_cat_SUFF\n",
      "slope_cat_SUFF\n",
      "t2m_STON\n",
      "sh2_STON\n",
      "d2m_STON\n",
      "r2_STON\n",
      "u10_STON\n",
      "v10_STON\n",
      "u_total_STON\n",
      "u_dir_STON\n",
      "tp_STON\n",
      "prmsl_STON\n",
      "orog_STON\n",
      "tcc_STON\n",
      "cape_STON\n",
      "cin_STON\n",
      "dswrf_STON\n",
      "dlwrf_STON\n",
      "gh_STON\n",
      "lulc_cat_STON\n",
      "elev_cat_STON\n",
      "slope_cat_STON\n",
      "t2m_WARW\n",
      "sh2_WARW\n",
      "d2m_WARW\n",
      "r2_WARW\n",
      "u10_WARW\n",
      "v10_WARW\n",
      "u_total_WARW\n",
      "u_dir_WARW\n",
      "tp_WARW\n",
      "prmsl_WARW\n",
      "orog_WARW\n",
      "tcc_WARW\n",
      "cape_WARW\n",
      "cin_WARW\n",
      "dswrf_WARW\n",
      "dlwrf_WARW\n",
      "gh_WARW\n",
      "lulc_cat_WARW\n",
      "elev_cat_WARW\n",
      "slope_cat_WARW\n",
      "lat_BKLN\n",
      "lon_BKLN\n",
      "elev_BKLN\n",
      "tair_BKLN\n",
      "ta9m_BKLN\n",
      "td_BKLN\n",
      "relh_BKLN\n",
      "srad_BKLN\n",
      "pres_BKLN\n",
      "mslp_BKLN\n",
      "wspd_sonic_mean_BKLN\n",
      "wspd_sonic_BKLN\n",
      "wmax_sonic_BKLN\n",
      "wdir_sonic_BKLN\n",
      "snow_depth_BKLN\n",
      "precip_total_BKLN\n",
      "lat_WANT\n",
      "lon_WANT\n",
      "elev_WANT\n",
      "tair_WANT\n",
      "ta9m_WANT\n",
      "td_WANT\n",
      "relh_WANT\n",
      "srad_WANT\n",
      "pres_WANT\n",
      "mslp_WANT\n",
      "wspd_sonic_mean_WANT\n",
      "wspd_sonic_WANT\n",
      "wmax_sonic_WANT\n",
      "wdir_sonic_WANT\n",
      "snow_depth_WANT\n",
      "precip_total_WANT\n",
      "lat_SUFF\n",
      "lon_SUFF\n",
      "elev_SUFF\n",
      "tair_SUFF\n",
      "ta9m_SUFF\n",
      "td_SUFF\n",
      "relh_SUFF\n",
      "srad_SUFF\n",
      "pres_SUFF\n",
      "mslp_SUFF\n",
      "wspd_sonic_mean_SUFF\n",
      "wspd_sonic_SUFF\n",
      "wmax_sonic_SUFF\n",
      "wdir_sonic_SUFF\n",
      "snow_depth_SUFF\n",
      "precip_total_SUFF\n",
      "lat_STON\n",
      "lon_STON\n",
      "elev_STON\n",
      "tair_STON\n",
      "ta9m_STON\n",
      "td_STON\n",
      "relh_STON\n",
      "srad_STON\n",
      "pres_STON\n",
      "mslp_STON\n",
      "wspd_sonic_mean_STON\n",
      "wspd_sonic_STON\n",
      "wmax_sonic_STON\n",
      "wdir_sonic_STON\n",
      "snow_depth_STON\n",
      "precip_total_STON\n",
      "lat_WARW\n",
      "lon_WARW\n",
      "elev_WARW\n",
      "tair_WARW\n",
      "ta9m_WARW\n",
      "td_WARW\n",
      "relh_WARW\n",
      "srad_WARW\n",
      "pres_WARW\n",
      "mslp_WARW\n",
      "wspd_sonic_mean_WARW\n",
      "wspd_sonic_WARW\n",
      "wmax_sonic_WARW\n",
      "wdir_sonic_WARW\n",
      "snow_depth_WARW\n",
      "precip_total_WARW\n"
     ]
    }
   ],
   "source": [
    "for k in full_df.keys():\n",
    "    print(k)"
   ]
  },
  {
   "cell_type": "code",
   "execution_count": 266,
   "metadata": {},
   "outputs": [],
   "source": [
    "# ldf[\"valid_time\"] = full_df[\"valid_time\"]"
   ]
  },
  {
   "cell_type": "code",
   "execution_count": 267,
   "metadata": {},
   "outputs": [],
   "source": [
    "def which_fold(df, fold):\n",
    "    length = len(df)\n",
    "    test_len = int(length * 0.2)\n",
    "    df_train = pd.DataFrame()\n",
    "\n",
    "    for n in np.arange(0, 5):\n",
    "        if n != fold:\n",
    "            df1 = df.iloc[int(0.2 * n * length) : int(0.2 * (n + 1) * length)]\n",
    "            df_train = pd.concat([df_train, df1])\n",
    "        else:\n",
    "            df_test = df.iloc[int(0.2 * n * length) : int(0.2 * (n + 1) * length)]\n",
    "            f = int(len(df_test) * 0.5)\n",
    "            df_val = df_test.iloc[:f]\n",
    "            df_test = df_test[-f:]\n",
    "\n",
    "    return df_train[\"valid_time\"], df_test[\"valid_time\"], df_val[\"valid_time\"]"
   ]
  },
  {
   "cell_type": "code",
   "execution_count": 268,
   "metadata": {},
   "outputs": [],
   "source": [
    "ldf[\"valid_time\"] = pd.to_datetime(ldf[\"valid_time\"])"
   ]
  },
  {
   "cell_type": "code",
   "execution_count": 269,
   "metadata": {},
   "outputs": [],
   "source": [
    "df_train, df_test, df_val = which_fold(ldf, 4)"
   ]
  },
  {
   "cell_type": "code",
   "execution_count": 270,
   "metadata": {},
   "outputs": [
    {
     "data": {
      "text/plain": [
       "Timestamp('2023-06-26 15:00:00')"
      ]
     },
     "execution_count": 270,
     "metadata": {},
     "output_type": "execute_result"
    }
   ],
   "source": [
    "test_set_start = df_test.iloc[0]\n",
    "test_set_start"
   ]
  },
  {
   "cell_type": "code",
   "execution_count": 271,
   "metadata": {},
   "outputs": [
    {
     "data": {
      "text/plain": [
       "Timestamp('2023-12-31 15:00:00')"
      ]
     },
     "execution_count": 271,
     "metadata": {},
     "output_type": "execute_result"
    }
   ],
   "source": [
    "test_set_finish = df_test.iloc[-1]\n",
    "test_set_finish"
   ]
  },
  {
   "cell_type": "code",
   "execution_count": 272,
   "metadata": {},
   "outputs": [
    {
     "data": {
      "text/plain": [
       "Timestamp('2022-10-06 15:00:00')"
      ]
     },
     "execution_count": 272,
     "metadata": {},
     "output_type": "execute_result"
    }
   ],
   "source": [
    "df_val.iloc[0]"
   ]
  },
  {
   "cell_type": "code",
   "execution_count": 273,
   "metadata": {},
   "outputs": [
    {
     "data": {
      "text/plain": [
       "Timestamp('2023-06-26 03:00:00')"
      ]
     },
     "execution_count": 273,
     "metadata": {},
     "output_type": "execute_result"
    }
   ],
   "source": [
    "df_val.iloc[-1]"
   ]
  },
  {
   "cell_type": "code",
   "execution_count": 274,
   "metadata": {},
   "outputs": [],
   "source": [
    "def date_filter(ldf, time1, time2):\n",
    "    ldf = ldf[ldf[\"valid_time\"] > time1]\n",
    "    ldf = ldf[ldf[\"valid_time\"] < time2]\n",
    "\n",
    "    return ldf"
   ]
  },
  {
   "cell_type": "markdown",
   "metadata": {},
   "source": [
    "## Time filter "
   ]
  },
  {
   "cell_type": "code",
   "execution_count": 275,
   "metadata": {},
   "outputs": [],
   "source": [
    "time1 = datetime(2023, 1, 1, 0, 0, 0)\n",
    "time2 = datetime(2023, 3, 30, 23, 0, 0)\n",
    "\n",
    "ldf = date_filter(ldf, time1, time2)\n",
    "full_df = date_filter(full_df, time1, time2)"
   ]
  },
  {
   "cell_type": "code",
   "execution_count": 276,
   "metadata": {},
   "outputs": [],
   "source": [
    "import pandas as pd\n",
    "import numpy as np\n",
    "import seaborn as sns\n",
    "import matplotlib.pyplot as plt\n",
    "\n",
    "\n",
    "def create_heatmap(df, x_column=\"target_error_lead_0\", y_column=\"Model forecast\"):\n",
    "    # Round values\n",
    "    df[x_column] = np.round(df[x_column] / 1.0) * 1.0\n",
    "    df[y_column] = np.round(df[y_column] / 1.0) * 1.0\n",
    "\n",
    "    # Pivot the DataFrame to create a matrix suitable for the heatmap\n",
    "    heatmap_data = pd.pivot_table(\n",
    "        df, index=y_column, columns=x_column, aggfunc=\"size\", fill_value=0\n",
    "    )\n",
    "\n",
    "    # Calculate percentages\n",
    "    total = heatmap_data.sum()\n",
    "    heatmap_data_percent = (heatmap_data / total) * 100\n",
    "\n",
    "    # Create the heatmap using seaborn\n",
    "    plt.figure(figsize=(16, 12))\n",
    "    sns.heatmap(\n",
    "        heatmap_data_percent,\n",
    "        vmax=100,\n",
    "        cmap=\"Reds\",\n",
    "        annot=True,\n",
    "        fmt=\".1f\",  # Format as percentage with one decimal place\n",
    "        cbar_kws={\"label\": \"Percentage (%)\"},  # Add color bar label\n",
    "    )\n",
    "\n",
    "    # Set the labels and title\n",
    "    plt.xlabel(\"Target\")\n",
    "    plt.ylabel(\"LSTM\")\n",
    "    plt.title(\"Heatmap of Target vs LSTM\")\n",
    "\n",
    "    # Show the heatmap\n",
    "    plt.show()"
   ]
  },
  {
   "cell_type": "code",
   "execution_count": 277,
   "metadata": {},
   "outputs": [],
   "source": [
    "import pandas as pd\n",
    "import matplotlib.pyplot as plt\n",
    "import numpy as np\n",
    "from scipy.stats import gaussian_kde\n",
    "\n",
    "\n",
    "def create_scatterplot(df, x_column=\"target_error_lead_0\", y_column=\"Model forecast\"):\n",
    "    # Calculate point density\n",
    "    xy = np.vstack([df[x_column], df[y_column]])\n",
    "    z = gaussian_kde(xy)(xy)\n",
    "\n",
    "    plt.figure(figsize=(8, 8))\n",
    "\n",
    "    # Create the scatterplot\n",
    "    scatter = plt.scatter(\n",
    "        df[x_column],\n",
    "        df[y_column],\n",
    "        c=z,\n",
    "        cmap=\"YlOrRd\",\n",
    "        s=100,\n",
    "        edgecolor=\"black\",\n",
    "        alpha=0.3,\n",
    "    )\n",
    "\n",
    "    # Add color bar with label\n",
    "    cbar = plt.colorbar(scatter)\n",
    "    cbar.set_label(\"Point Density\")\n",
    "\n",
    "    # Set labels and title\n",
    "    plt.xlabel(\"Target\", fontsize=18)\n",
    "    plt.xlim(-6, 6)\n",
    "    plt.ylim(-6, 6)\n",
    "    plt.ylabel(\"LSTM\", fontsize=18)\n",
    "    plt.title(\"Scatterplot with Density and Colorbar\", fontsize=24)\n",
    "\n",
    "    # Show the plot\n",
    "    plt.show()"
   ]
  },
  {
   "cell_type": "code",
   "execution_count": 278,
   "metadata": {},
   "outputs": [],
   "source": [
    "import pandas as pd\n",
    "import matplotlib.pyplot as plt\n",
    "import numpy as np\n",
    "\n",
    "\n",
    "def create_scatterplot_heatmap(\n",
    "    df, x_column=\"target_error_lead_0\", y_column=\"Model forecast\", gridsize=100\n",
    "):\n",
    "    plt.figure(figsize=(16, 12))\n",
    "\n",
    "    # Create a 2D histogram (binning) to calculate point concentration\n",
    "    hb = plt.hexbin(\n",
    "        df[x_column], df[y_column], gridsize=gridsize, cmap=\"viridis\", mincnt=1\n",
    "    )\n",
    "\n",
    "    # Add color bar with label\n",
    "    cbar = plt.colorbar(hb)\n",
    "    cbar.set_label(\"Number of Points\")\n",
    "\n",
    "    # Set labels and title\n",
    "    plt.xlabel(\"Target\", fontsize=18)\n",
    "    plt.ylabel(\"LSTM\", fontsize=18)\n",
    "    plt.xlim(-6, 6)\n",
    "    plt.ylim(-6, 6)\n",
    "    plt.title(\"Scatterplot Heatmap with Point Frequency\", fontsize=24)\n",
    "\n",
    "    # Show the plot\n",
    "    plt.show()"
   ]
  },
  {
   "cell_type": "code",
   "execution_count": 279,
   "metadata": {},
   "outputs": [],
   "source": [
    "import matplotlib.pyplot as plt\n",
    "import numpy as np\n",
    "\n",
    "\n",
    "def create_hexbin_heatmap(\n",
    "    df, x_column=\"target_error_lead_0\", y_column=\"Model forecast\"\n",
    "):\n",
    "    plt.figure(figsize=(16, 12))\n",
    "\n",
    "    # Create hexbin plot with continuous color density\n",
    "    hexplot = plt.hexbin(\n",
    "        df[x_column], df[y_column], gridsize=50, cmap=\"cividis\", mincnt=1\n",
    "    )\n",
    "\n",
    "    # Add color bar with label\n",
    "    cbar = plt.colorbar(hexplot)\n",
    "    cbar.set_label(\"Count in Bin\")\n",
    "\n",
    "    # Set labels and title\n",
    "    plt.xlabel(\"Target\", fontsize=18)\n",
    "    plt.ylabel(\"LSTM\", fontsize=18)\n",
    "    plt.xlim(-10, 10)\n",
    "    plt.ylim(-10, 10)\n",
    "    plt.title(\"Hexbin Scatterplot Heatmap with Colorbar\", fontsize=24)\n",
    "    # Add gridlines\n",
    "    plt.grid(visible=True, which=\"both\", color=\"gray\", linestyle=\"--\", linewidth=0.5)\n",
    "\n",
    "    # Show the plot\n",
    "    plt.show()"
   ]
  },
  {
   "cell_type": "code",
   "execution_count": 280,
   "metadata": {},
   "outputs": [],
   "source": [
    "def quantile_regression(x, y):\n",
    "    X = x[:, np.newaxis]\n",
    "    quantiles = [0.10, 0.5, 0.90]\n",
    "    predictions = {}\n",
    "    out_bounds_predictions = np.zeros_like(y, dtype=np.bool_)\n",
    "    for quantile in quantiles:\n",
    "        qr = QuantileRegressor(quantile=quantile, alpha=0, solver=solver)\n",
    "        y_pred = qr.fit(X, y).predict(X)\n",
    "        predictions[quantile] = y_pred\n",
    "\n",
    "    predictions_df = pd.DataFrame()\n",
    "    predictions_df[\"target\"] = x\n",
    "\n",
    "    for q in quantiles:\n",
    "        predictions_df[q] = predictions.get(q)\n",
    "\n",
    "    return qr, y_pred, predictions_df"
   ]
  },
  {
   "cell_type": "code",
   "execution_count": 281,
   "metadata": {},
   "outputs": [],
   "source": [
    "import matplotlib.pyplot as plt\n",
    "import matplotlib.dates as mdates\n",
    "import numpy as np\n",
    "\n",
    "\n",
    "def ml_output(df, full_df, fold, station, test_set_start, test_set_finish, fh):\n",
    "    fig, ax = plt.subplots(figsize=(24, 6))\n",
    "    x = df[\"valid_time\"]\n",
    "\n",
    "    # Convert datetime values to numerical values\n",
    "    x_numeric = mdates.date2num(x)\n",
    "\n",
    "    # Assuming your timestamps are in a datetime64 format\n",
    "    day_mask = (x.dt.hour >= 6) & (\n",
    "        x.dt.hour < 18\n",
    "    )  # Adjust the hours based on your day/night definition\n",
    "\n",
    "    plt.plot(\n",
    "        np.array(x),\n",
    "        np.array(df[\"target_error_lead_0\"]),\n",
    "        c=\"black\",\n",
    "        linewidth=1,\n",
    "        label=\"Target\",\n",
    "    )\n",
    "\n",
    "    plt.plot(\n",
    "        np.array(x),\n",
    "        np.array(df[\"Model forecast\"]),\n",
    "        c=\"red\",\n",
    "        linewidth=3,\n",
    "        alpha=0.7,\n",
    "        label=\"LSTM Output\",\n",
    "    )\n",
    "\n",
    "    # plt.axvline(\n",
    "    #     x=test_set_start,\n",
    "    #     c=\"green\",\n",
    "    #     linestyle=\"--\",\n",
    "    #     linewidth=2.0,\n",
    "    #     label=\"Test Set Start\",\n",
    "    # )\n",
    "    # plt.axvline(\n",
    "    #     x=test_set_finish,\n",
    "    #     c=\"red\",\n",
    "    #     linestyle=\"--\",\n",
    "    #     linewidth=2.0,\n",
    "    #     label=\"Test Set Finish\",\n",
    "    # )\n",
    "\n",
    "    # Fill daytime hours with white color\n",
    "    ax.fill_between(\n",
    "        x_numeric, -6, 6, where=day_mask, color=\"white\", alpha=0.5, label=\"Daytime\"\n",
    "    )\n",
    "\n",
    "    # Fill nighttime hours with grey color\n",
    "    ax.fill_between(\n",
    "        x_numeric, -6, 6, where=~day_mask, color=\"grey\", alpha=0.2, label=\"Nighttime\"\n",
    "    )\n",
    "\n",
    "    ax.set_title(f\"NAM Wind Error LSTM Output v Target: {station}: FH{fh}\", fontsize=28)\n",
    "    # plt.ylim(-5, 5.)\n",
    "    ax.legend()\n",
    "\n",
    "    plt.show()"
   ]
  },
  {
   "cell_type": "code",
   "execution_count": 282,
   "metadata": {},
   "outputs": [],
   "source": [
    "def find_linear_coefficients(df):\n",
    "    \"\"\"\n",
    "    Adjusts the 'Model forecast' column of the input DataFrame by aligning it with\n",
    "    the statistics of the 'target_error_lead_0' column. The alignment involves\n",
    "    subtracting the difference in means and scaling based on the maximum absolute values\n",
    "    of both columns. The result is that the 'Model forecast' is transformed to better fit\n",
    "    the target error profile.\n",
    "\n",
    "    Parameters:\n",
    "    df (pandas.DataFrame): Input DataFrame with 'target_error_lead_0' and 'Model forecast' columns.\n",
    "\n",
    "    Returns:\n",
    "    pandas.DataFrame: The modified DataFrame with updated 'Model forecast' values.\n",
    "    \"\"\"\n",
    "\n",
    "    # Calculate the mean of 'target_error_lead_0' and 'Model forecast'\n",
    "    mean1 = st.mean(df[\"target_error_lead_0\"])\n",
    "    mean2 = st.mean(df[\"Model forecast\"])\n",
    "\n",
    "    # Find the row with the maximum absolute value in 'target_error_lead_0'\n",
    "    max1_index = df[\"target_error_lead_0\"].abs().idxmax()\n",
    "    # Retrieve the row that contains this maximum absolute value\n",
    "    max_row = df.loc[max1_index]\n",
    "\n",
    "    # Find the row with the maximum absolute value in 'target_error_lead_0'\n",
    "    min1_index = df[\"target_error_lead_0\"].abs().idxmin()\n",
    "    # Retrieve the row that contains this maximum absolute value\n",
    "    min_row = df.loc[min1_index]\n",
    "\n",
    "    # Find the maximum absolute value of 'target_error_lead_0' and 'Model forecast'\n",
    "    max1 = abs(max_row[\"target_error_lead_0\"])\n",
    "    max2 = abs(max_row[\"Model forecast\"])\n",
    "\n",
    "    # Find the maximum absolute value of 'target_error_lead_0' and 'Model forecast'\n",
    "    min1 = abs(min_row[\"target_error_lead_0\"])\n",
    "    min2 = abs(min_row[\"Model forecast\"])\n",
    "\n",
    "    # Calculate the difference in means between 'Model forecast' and 'target_error_lead_0'\n",
    "    diff = mean2 - mean1\n",
    "\n",
    "    # # Recalculate the maximum absolute value after adjustment\n",
    "    # max1 = abs(max(df['target_error_lead_0']))\n",
    "    # max2 = abs(max(df['Model forecast']))\n",
    "\n",
    "    # Scale the 'Model forecast' by the ratio of maximum absolute values\n",
    "    multiply1 = max1 / max2\n",
    "\n",
    "    multiply2 = min1 / min2\n",
    "\n",
    "    multiply = (multiply1 + multiply2) / 2.0\n",
    "\n",
    "    # Return the modified DataFrame\n",
    "    return diff, multiply"
   ]
  },
  {
   "cell_type": "code",
   "execution_count": 283,
   "metadata": {},
   "outputs": [],
   "source": [
    "def refit_output(df, diff, multiply):\n",
    "    # Adjust the 'Model forecast' by subtracting the difference in means\n",
    "    df[\"Model forecast\"] = df[\"Model forecast\"] - diff\n",
    "    df[\"Model forecast\"] = df[\"Model forecast\"] * multiply\n",
    "\n",
    "    # Calculate the median of 'target_error_lead_0' and 'Model forecast'\n",
    "    mean3 = st.median(df[\"target_error_lead_0\"])\n",
    "    mean4 = st.median(df[\"Model forecast\"])\n",
    "\n",
    "    # Center both 'target_error_lead_0' and 'Model forecast' by subtracting their medians\n",
    "    df[\"target_error_lead_0\"] = df[\"target_error_lead_0\"] - mean3\n",
    "    df[\"Model forecast\"] = df[\"Model forecast\"] - mean4\n",
    "\n",
    "    return df"
   ]
  },
  {
   "cell_type": "code",
   "execution_count": 284,
   "metadata": {},
   "outputs": [],
   "source": [
    "def refit_output_quad(df, a, b, c):\n",
    "    quadratic_fit = np.poly1d([a, b, c])\n",
    "    # adjust total model output\n",
    "    adjusted_lstm_output = df_out[\"Model forecast\"] + quadratic_fit(\n",
    "        df_out[\"Model forecast\"]\n",
    "    )\n",
    "    df_out[\"Model forecast\"] = adjusted_lstm_output\n",
    "\n",
    "    # Calculate the median of 'target_error_lead_0' and 'Model forecast'\n",
    "    mean3 = st.median(df[\"target_error_lead_0\"])\n",
    "    mean4 = st.median(df[\"Model forecast\"])\n",
    "\n",
    "    # Center both 'target_error_lead_0' and 'Model forecast' by subtracting their medians\n",
    "    df[\"target_error_lead_0\"] = df[\"target_error_lead_0\"] - mean3\n",
    "    df[\"Model forecast\"] = df[\"Model forecast\"] - mean4\n",
    "\n",
    "    return df"
   ]
  },
  {
   "cell_type": "code",
   "execution_count": 285,
   "metadata": {},
   "outputs": [],
   "source": [
    "def get_alpha_diff_from_lookup(ldf, lookup_path, station, fh):\n",
    "    lookup = pd.read_csv(lookup_path)\n",
    "    lookup = lookup[lookup[\"station\"] == station]\n",
    "    lookup = lookup[lookup[\"forecast_hour\"] == fh]\n",
    "\n",
    "    alpha = lookup[\"alpha\"].values\n",
    "    diff = lookup[\"diff\"].values\n",
    "\n",
    "    return alpha, diff"
   ]
  },
  {
   "cell_type": "code",
   "execution_count": 286,
   "metadata": {},
   "outputs": [],
   "source": [
    "def get_alpha_beta_charli_from_lookup(ldf, lookup_path, station, fh):\n",
    "    lookup = pd.read_csv(lookup_path)\n",
    "    lookup = lookup[lookup[\"station\"] == station]\n",
    "    lookup = lookup[lookup[\"forecast_hour\"] == fh]\n",
    "\n",
    "    alpha = lookup[\"alpha\"].values\n",
    "    beta = lookup[\"beta\"].values\n",
    "    charli = lookup[\"charli\"].values\n",
    "\n",
    "    return alpha, beta, charli"
   ]
  },
  {
   "cell_type": "code",
   "execution_count": 287,
   "metadata": {},
   "outputs": [],
   "source": [
    "# alpha, diff = get_alpha_diff_from_lookup(ldf, lookup_path, station, fh)"
   ]
  },
  {
   "cell_type": "code",
   "execution_count": 288,
   "metadata": {},
   "outputs": [],
   "source": [
    "# a, b, c = get_alpha_beta_charli_from_lookup(ldf, lookup_path_quad, station, fh)"
   ]
  },
  {
   "cell_type": "code",
   "execution_count": 289,
   "metadata": {},
   "outputs": [],
   "source": [
    "# ldf_linear = refit_output(ldf, alpha, diff)"
   ]
  },
  {
   "cell_type": "code",
   "execution_count": 290,
   "metadata": {},
   "outputs": [],
   "source": [
    "# ldf_quad = refit_output_quad(ldf, a, b, c)"
   ]
  },
  {
   "cell_type": "code",
   "execution_count": 291,
   "metadata": {},
   "outputs": [],
   "source": [
    "# ldf_linear[\"diff\"] = ldf_linear.iloc[:, 0] - ldf_linear.iloc[:, 1]\n",
    "# ldf_quad[\"diff\"] = ldf_quad.iloc[:, 0] - ldf_quad.iloc[:, 1]"
   ]
  },
  {
   "cell_type": "code",
   "execution_count": 292,
   "metadata": {},
   "outputs": [],
   "source": [
    "ldf[\"diff\"] = ldf.iloc[:, 0] - ldf.iloc[:, 1]"
   ]
  },
  {
   "cell_type": "code",
   "execution_count": 293,
   "metadata": {},
   "outputs": [
    {
     "data": {
      "text/plain": [
       "0.6140573377990249"
      ]
     },
     "execution_count": 293,
     "metadata": {},
     "output_type": "execute_result"
    }
   ],
   "source": [
    "mean = st.mean(abs(ldf[\"diff\"]))\n",
    "mean"
   ]
  },
  {
   "cell_type": "code",
   "execution_count": 294,
   "metadata": {},
   "outputs": [
    {
     "data": {
      "text/plain": [
       "0.5907539013573487"
      ]
     },
     "execution_count": 294,
     "metadata": {},
     "output_type": "execute_result"
    }
   ],
   "source": [
    "mean_s = st.mean(ldf[\"diff\"] ** 2)\n",
    "mean_s"
   ]
  },
  {
   "cell_type": "code",
   "execution_count": 295,
   "metadata": {},
   "outputs": [
    {
     "data": {
      "image/png": "[encoded data removed]",
      "text/plain": [
       "<Figure size 2400x600 with 1 Axes>"
      ]
     },
     "metadata": {},
     "output_type": "display_data"
    }
   ],
   "source": [
    "x = ml_output(ldf, full_df, 4, station, test_set_start, test_set_finish, fh)"
   ]
  },
  {
   "cell_type": "code",
   "execution_count": 296,
   "metadata": {},
   "outputs": [],
   "source": [
    "# mean = st.mean(abs(ldf_quad[\"diff\"]))\n",
    "# mean"
   ]
  },
  {
   "cell_type": "code",
   "execution_count": 297,
   "metadata": {},
   "outputs": [],
   "source": [
    "# mean_s = st.mean(ldf_quad[\"diff\"] ** 2)\n",
    "# mean_s"
   ]
  },
  {
   "cell_type": "code",
   "execution_count": 298,
   "metadata": {},
   "outputs": [],
   "source": [
    "# x = ml_output(ldf_quad, full_df, 4, station, test_set_start, test_set_finish, fh)"
   ]
  },
  {
   "cell_type": "code",
   "execution_count": 299,
   "metadata": {},
   "outputs": [],
   "source": [
    "for k in full_df.columns:\n",
    "    if re.search(\n",
    "        f\"{station}|valid|Model forecast|Abs_err\",\n",
    "        k,\n",
    "    ):\n",
    "        continue\n",
    "    else:\n",
    "        full_df = full_df.drop(columns=[k])"
   ]
  },
  {
   "cell_type": "code",
   "execution_count": 300,
   "metadata": {},
   "outputs": [],
   "source": [
    "# test_len = int(len(full_df['valid_time'])*0.2)\n",
    "# full_df = full_df.iloc[0:test_len]"
   ]
  },
  {
   "cell_type": "code",
   "execution_count": 301,
   "metadata": {},
   "outputs": [],
   "source": [
    "def groupby_month(df, col):\n",
    "    df = df[df[col] > -999]\n",
    "    GB = df.groupby([(df.valid_time.dt.month), (df.valid_time.dt.year)])[col].mean()\n",
    "    the_list = GB.tolist()\n",
    "    fig, ax = plt.subplots(figsize=(21, 6))\n",
    "    x = np.arange(1, len(the_list) + 1)\n",
    "    plt.bar(x, the_list)\n",
    "    ax.set_xticklabels([2018, 2019, 2020, 2021, 2022, 2023])\n",
    "    ax.set_xticks(np.arange(1, len(the_list) + 1, int((len(the_list) + 1) / 6)))\n",
    "    return the_list"
   ]
  },
  {
   "cell_type": "code",
   "execution_count": 302,
   "metadata": {},
   "outputs": [
    {
     "data": {
      "text/html": [
       "<div>\n",
       "<style scoped>\n",
       "    .dataframe tbody tr th:only-of-type {\n",
       "        vertical-align: middle;\n",
       "    }\n",
       "\n",
       "    .dataframe tbody tr th {\n",
       "        vertical-align: top;\n",
       "    }\n",
       "\n",
       "    .dataframe thead th {\n",
       "        text-align: right;\n",
       "    }\n",
       "</style>\n",
       "<table border=\"1\" class=\"dataframe\">\n",
       "  <thead>\n",
       "    <tr style=\"text-align: right;\">\n",
       "      <th></th>\n",
       "      <th>valid_time_cos_clock</th>\n",
       "      <th>valid_time_sin_clock</th>\n",
       "      <th>valid_time_cos</th>\n",
       "      <th>valid_time_sin</th>\n",
       "      <th>t2m_BKLN</th>\n",
       "      <th>sh2_BKLN</th>\n",
       "      <th>d2m_BKLN</th>\n",
       "      <th>r2_BKLN</th>\n",
       "      <th>u10_BKLN</th>\n",
       "      <th>v10_BKLN</th>\n",
       "      <th>...</th>\n",
       "      <th>relh_BKLN</th>\n",
       "      <th>srad_BKLN</th>\n",
       "      <th>pres_BKLN</th>\n",
       "      <th>mslp_BKLN</th>\n",
       "      <th>wspd_sonic_mean_BKLN</th>\n",
       "      <th>wspd_sonic_BKLN</th>\n",
       "      <th>wmax_sonic_BKLN</th>\n",
       "      <th>wdir_sonic_BKLN</th>\n",
       "      <th>snow_depth_BKLN</th>\n",
       "      <th>precip_total_BKLN</th>\n",
       "    </tr>\n",
       "  </thead>\n",
       "  <tbody>\n",
       "    <tr>\n",
       "      <th>5184</th>\n",
       "      <td>-1.836970e-16</td>\n",
       "      <td>-1.000000e+00</td>\n",
       "      <td>0.985301</td>\n",
       "      <td>0.170830</td>\n",
       "      <td>4.715346</td>\n",
       "      <td>0.002811</td>\n",
       "      <td>-3.945111</td>\n",
       "      <td>53.483235</td>\n",
       "      <td>3.484933</td>\n",
       "      <td>-1.258265</td>\n",
       "      <td>...</td>\n",
       "      <td>58.937481</td>\n",
       "      <td>101.005608</td>\n",
       "      <td>1012.517029</td>\n",
       "      <td>1012.967102</td>\n",
       "      <td>3.852439</td>\n",
       "      <td>3.497539</td>\n",
       "      <td>5.128475</td>\n",
       "      <td>268.030487</td>\n",
       "      <td>-0.001898</td>\n",
       "      <td>0.0</td>\n",
       "    </tr>\n",
       "    <tr>\n",
       "      <th>5185</th>\n",
       "      <td>1.000000e+00</td>\n",
       "      <td>0.000000e+00</td>\n",
       "      <td>0.982223</td>\n",
       "      <td>0.187719</td>\n",
       "      <td>3.380902</td>\n",
       "      <td>0.002958</td>\n",
       "      <td>-3.295205</td>\n",
       "      <td>62.024489</td>\n",
       "      <td>1.313702</td>\n",
       "      <td>-1.239089</td>\n",
       "      <td>...</td>\n",
       "      <td>59.454861</td>\n",
       "      <td>0.000000</td>\n",
       "      <td>1014.127991</td>\n",
       "      <td>1014.573547</td>\n",
       "      <td>3.374343</td>\n",
       "      <td>3.752576</td>\n",
       "      <td>5.392201</td>\n",
       "      <td>281.663513</td>\n",
       "      <td>-0.003368</td>\n",
       "      <td>0.0</td>\n",
       "    </tr>\n",
       "    <tr>\n",
       "      <th>5186</th>\n",
       "      <td>-1.608123e-16</td>\n",
       "      <td>1.000000e+00</td>\n",
       "      <td>0.982223</td>\n",
       "      <td>0.187719</td>\n",
       "      <td>1.234926</td>\n",
       "      <td>0.002509</td>\n",
       "      <td>-5.665332</td>\n",
       "      <td>61.300151</td>\n",
       "      <td>-0.758227</td>\n",
       "      <td>-2.388232</td>\n",
       "      <td>...</td>\n",
       "      <td>53.730930</td>\n",
       "      <td>0.000000</td>\n",
       "      <td>1016.247986</td>\n",
       "      <td>1016.712769</td>\n",
       "      <td>2.711540</td>\n",
       "      <td>3.537868</td>\n",
       "      <td>5.214347</td>\n",
       "      <td>9.352241</td>\n",
       "      <td>-0.003313</td>\n",
       "      <td>0.0</td>\n",
       "    </tr>\n",
       "    <tr>\n",
       "      <th>5187</th>\n",
       "      <td>-1.000000e+00</td>\n",
       "      <td>-3.216245e-16</td>\n",
       "      <td>0.982223</td>\n",
       "      <td>0.187719</td>\n",
       "      <td>-0.208312</td>\n",
       "      <td>0.002460</td>\n",
       "      <td>-5.856225</td>\n",
       "      <td>66.840953</td>\n",
       "      <td>-1.250496</td>\n",
       "      <td>-2.090228</td>\n",
       "      <td>...</td>\n",
       "      <td>56.967300</td>\n",
       "      <td>0.072272</td>\n",
       "      <td>1018.494995</td>\n",
       "      <td>1018.995667</td>\n",
       "      <td>3.204557</td>\n",
       "      <td>3.772202</td>\n",
       "      <td>6.511433</td>\n",
       "      <td>10.447210</td>\n",
       "      <td>-0.004206</td>\n",
       "      <td>0.0</td>\n",
       "    </tr>\n",
       "    <tr>\n",
       "      <th>5188</th>\n",
       "      <td>-1.836970e-16</td>\n",
       "      <td>-1.000000e+00</td>\n",
       "      <td>0.982223</td>\n",
       "      <td>0.187719</td>\n",
       "      <td>4.523922</td>\n",
       "      <td>0.002619</td>\n",
       "      <td>-4.892537</td>\n",
       "      <td>50.350210</td>\n",
       "      <td>-2.262154</td>\n",
       "      <td>0.089149</td>\n",
       "      <td>...</td>\n",
       "      <td>50.025471</td>\n",
       "      <td>240.823685</td>\n",
       "      <td>1019.502014</td>\n",
       "      <td>1019.980225</td>\n",
       "      <td>1.887011</td>\n",
       "      <td>1.330090</td>\n",
       "      <td>2.479899</td>\n",
       "      <td>85.596024</td>\n",
       "      <td>0.000238</td>\n",
       "      <td>0.0</td>\n",
       "    </tr>\n",
       "  </tbody>\n",
       "</table>\n",
       "<p>5 rows × 41 columns</p>\n",
       "</div>"
      ],
      "text/plain": [
       "      valid_time_cos_clock  valid_time_sin_clock  valid_time_cos  \\\n",
       "5184         -1.836970e-16         -1.000000e+00        0.985301   \n",
       "5185          1.000000e+00          0.000000e+00        0.982223   \n",
       "5186         -1.608123e-16          1.000000e+00        0.982223   \n",
       "5187         -1.000000e+00         -3.216245e-16        0.982223   \n",
       "5188         -1.836970e-16         -1.000000e+00        0.982223   \n",
       "\n",
       "      valid_time_sin  t2m_BKLN  sh2_BKLN  d2m_BKLN    r2_BKLN  u10_BKLN  \\\n",
       "5184        0.170830  4.715346  0.002811 -3.945111  53.483235  3.484933   \n",
       "5185        0.187719  3.380902  0.002958 -3.295205  62.024489  1.313702   \n",
       "5186        0.187719  1.234926  0.002509 -5.665332  61.300151 -0.758227   \n",
       "5187        0.187719 -0.208312  0.002460 -5.856225  66.840953 -1.250496   \n",
       "5188        0.187719  4.523922  0.002619 -4.892537  50.350210 -2.262154   \n",
       "\n",
       "      v10_BKLN  ...  relh_BKLN   srad_BKLN    pres_BKLN    mslp_BKLN  \\\n",
       "5184 -1.258265  ...  58.937481  101.005608  1012.517029  1012.967102   \n",
       "5185 -1.239089  ...  59.454861    0.000000  1014.127991  1014.573547   \n",
       "5186 -2.388232  ...  53.730930    0.000000  1016.247986  1016.712769   \n",
       "5187 -2.090228  ...  56.967300    0.072272  1018.494995  1018.995667   \n",
       "5188  0.089149  ...  50.025471  240.823685  1019.502014  1019.980225   \n",
       "\n",
       "      wspd_sonic_mean_BKLN  wspd_sonic_BKLN  wmax_sonic_BKLN  wdir_sonic_BKLN  \\\n",
       "5184              3.852439         3.497539         5.128475       268.030487   \n",
       "5185              3.374343         3.752576         5.392201       281.663513   \n",
       "5186              2.711540         3.537868         5.214347         9.352241   \n",
       "5187              3.204557         3.772202         6.511433        10.447210   \n",
       "5188              1.887011         1.330090         2.479899        85.596024   \n",
       "\n",
       "      snow_depth_BKLN  precip_total_BKLN  \n",
       "5184        -0.001898                0.0  \n",
       "5185        -0.003368                0.0  \n",
       "5186        -0.003313                0.0  \n",
       "5187        -0.004206                0.0  \n",
       "5188         0.000238                0.0  \n",
       "\n",
       "[5 rows x 41 columns]"
      ]
     },
     "execution_count": 302,
     "metadata": {},
     "output_type": "execute_result"
    }
   ],
   "source": [
    "full_df.head()"
   ]
  },
  {
   "cell_type": "code",
   "execution_count": 303,
   "metadata": {},
   "outputs": [
    {
     "data": {
      "image/png": "[encoded data removed]",
      "text/plain": [
       "<Figure size 1600x1200 with 2 Axes>"
      ]
     },
     "metadata": {},
     "output_type": "display_data"
    }
   ],
   "source": [
    "create_hexbin_heatmap(ldf)"
   ]
  },
  {
   "cell_type": "code",
   "execution_count": 304,
   "metadata": {},
   "outputs": [
    {
     "data": {
      "image/png": "[encoded data removed]",
      "text/plain": [
       "<Figure size 1600x1200 with 2 Axes>"
      ]
     },
     "metadata": {},
     "output_type": "display_data"
    }
   ],
   "source": [
    "create_scatterplot_heatmap(ldf)"
   ]
  },
  {
   "cell_type": "code",
   "execution_count": 305,
   "metadata": {},
   "outputs": [
    {
     "data": {
      "image/png": "[encoded data removed]",
      "text/plain": [
       "<Figure size 1600x1200 with 2 Axes>"
      ]
     },
     "metadata": {},
     "output_type": "display_data"
    }
   ],
   "source": [
    "create_heatmap(ldf)"
   ]
  },
  {
   "cell_type": "code",
   "execution_count": 306,
   "metadata": {},
   "outputs": [
    {
     "name": "stderr",
     "output_type": "stream",
     "text": [
      "/tmp/tmp.kIoXgixglD/ipykernel_1087713/2351311710.py:8: UserWarning: FixedFormatter should only be used together with FixedLocator\n",
      "  ax.set_xticklabels([2018, 2019, 2020, 2021, 2022, 2023])\n"
     ]
    },
    {
     "ename": "ZeroDivisionError",
     "evalue": "division by zero",
     "output_type": "error",
     "traceback": [
      "\u001b[0;31m---------------------------------------------------------------------------\u001b[0m",
      "\u001b[0;31mZeroDivisionError\u001b[0m                         Traceback (most recent call last)",
      "Cell \u001b[0;32mIn[306], line 1\u001b[0m\n\u001b[0;32m----> 1\u001b[0m err_by_month \u001b[38;5;241m=\u001b[39m groupby_month(ldf, \u001b[38;5;124m\"\u001b[39m\u001b[38;5;124mdiff\u001b[39m\u001b[38;5;124m\"\u001b[39m)\n\u001b[1;32m      2\u001b[0m err_by_month\n",
      "Cell \u001b[0;32mIn[301], line 9\u001b[0m, in \u001b[0;36mgroupby_month\u001b[0;34m(df, col)\u001b[0m\n\u001b[1;32m      7\u001b[0m plt\u001b[38;5;241m.\u001b[39mbar(x, the_list)\n\u001b[1;32m      8\u001b[0m ax\u001b[38;5;241m.\u001b[39mset_xticklabels([\u001b[38;5;241m2018\u001b[39m, \u001b[38;5;241m2019\u001b[39m, \u001b[38;5;241m2020\u001b[39m, \u001b[38;5;241m2021\u001b[39m, \u001b[38;5;241m2022\u001b[39m, \u001b[38;5;241m2023\u001b[39m])\n\u001b[0;32m----> 9\u001b[0m ax\u001b[38;5;241m.\u001b[39mset_xticks(\u001b[43mnp\u001b[49m\u001b[38;5;241;43m.\u001b[39;49m\u001b[43marange\u001b[49m\u001b[43m(\u001b[49m\u001b[38;5;241;43m1\u001b[39;49m\u001b[43m,\u001b[49m\u001b[43m \u001b[49m\u001b[38;5;28;43mlen\u001b[39;49m\u001b[43m(\u001b[49m\u001b[43mthe_list\u001b[49m\u001b[43m)\u001b[49m\u001b[43m \u001b[49m\u001b[38;5;241;43m+\u001b[39;49m\u001b[43m \u001b[49m\u001b[38;5;241;43m1\u001b[39;49m\u001b[43m,\u001b[49m\u001b[43m \u001b[49m\u001b[38;5;28;43mint\u001b[39;49m\u001b[43m(\u001b[49m\u001b[43m(\u001b[49m\u001b[38;5;28;43mlen\u001b[39;49m\u001b[43m(\u001b[49m\u001b[43mthe_list\u001b[49m\u001b[43m)\u001b[49m\u001b[43m \u001b[49m\u001b[38;5;241;43m+\u001b[39;49m\u001b[43m \u001b[49m\u001b[38;5;241;43m1\u001b[39;49m\u001b[43m)\u001b[49m\u001b[43m \u001b[49m\u001b[38;5;241;43m/\u001b[39;49m\u001b[43m \u001b[49m\u001b[38;5;241;43m6\u001b[39;49m\u001b[43m)\u001b[49m\u001b[43m)\u001b[49m)\n\u001b[1;32m     10\u001b[0m \u001b[38;5;28;01mreturn\u001b[39;00m the_list\n",
      "\u001b[0;31mZeroDivisionError\u001b[0m: division by zero"
     ]
    },
    {
     "data": {
      "image/png": "[encoded data removed]",
      "text/plain": [
       "<Figure size 2100x600 with 1 Axes>"
      ]
     },
     "metadata": {},
     "output_type": "display_data"
    }
   ],
   "source": [
    "err_by_month = groupby_month(ldf, \"diff\")\n",
    "err_by_month"
   ]
  },
  {
   "cell_type": "code",
   "execution_count": null,
   "metadata": {},
   "outputs": [],
   "source": [
    "def groupby_time(df, col):\n",
    "    df = df[df[col] > -999]\n",
    "    GB = df.groupby([(df.valid_time.dt.hour)])[col].mean()\n",
    "    the_list = GB.tolist()\n",
    "    fig, ax = plt.subplots(figsize=(21, 6))\n",
    "    x = np.arange(0, len(the_list))\n",
    "    plt.bar(x, the_list, color=\"g\")\n",
    "    return the_list"
   ]
  },
  {
   "cell_type": "code",
   "execution_count": null,
   "metadata": {},
   "outputs": [],
   "source": [
    "err_by_time = groupby_time(ldf, \"diff\")"
   ]
  },
  {
   "cell_type": "code",
   "execution_count": null,
   "metadata": {},
   "outputs": [],
   "source": [
    "import calendar\n",
    "\n",
    "\n",
    "def groupby_month_total(df, col):\n",
    "    df = df[df[col] > -999]\n",
    "    GB = df.groupby([(df.valid_time.dt.month)])[col].mean()\n",
    "    the_list = GB.tolist()\n",
    "    fig, ax = plt.subplots(figsize=(21, 6))\n",
    "    x = np.arange(0, len(the_list))\n",
    "\n",
    "    # Get a colormap\n",
    "    cmap = plt.get_cmap(\"RdBu\")\n",
    "    # Normalize your data to map to the colormap\n",
    "    norm = plt.Normalize(min(the_list), max(the_list))\n",
    "    colors = cmap(norm(the_list))\n",
    "\n",
    "    # Create a bar chart\n",
    "    plt.bar(x, the_list, color=colors)\n",
    "    ax.set_xticks(x)  # Set x-ticks to be at the positions of the months\n",
    "    month_labels = [calendar.month_name[month] for month in GB.index]\n",
    "    ax.set_xticklabels(month_labels)  # Label x-ticks with month numbers\n",
    "\n",
    "    plt.show()\n",
    "    return the_list"
   ]
  },
  {
   "cell_type": "code",
   "execution_count": null,
   "metadata": {},
   "outputs": [],
   "source": [
    "groupby_month_total(ldf, \"diff\")"
   ]
  },
  {
   "cell_type": "code",
   "execution_count": null,
   "metadata": {},
   "outputs": [],
   "source": [
    "def myround(x, base):\n",
    "    return base * round(x / base)"
   ]
  },
  {
   "cell_type": "code",
   "execution_count": null,
   "metadata": {},
   "outputs": [],
   "source": [
    "# function to get unique values\n",
    "def unique(list1):\n",
    "    # initialize a null list\n",
    "    unique_list = []\n",
    "\n",
    "    # traverse for all elements\n",
    "    for x in list1:\n",
    "        # check if exists in unique_list or not\n",
    "        if x not in unique_list:\n",
    "            unique_list.append(x)\n",
    "    return unique_list"
   ]
  },
  {
   "cell_type": "code",
   "execution_count": null,
   "metadata": {},
   "outputs": [],
   "source": [
    "def err_bucket(full_df, met_col, rounded_base):\n",
    "    temps = []\n",
    "    for i, _ in enumerate(full_df[met_col]):\n",
    "        rounded = myround(full_df[met_col].iloc[i], rounded_base)\n",
    "        temps.append(rounded)\n",
    "\n",
    "    unique_temps = unique(temps)\n",
    "\n",
    "    zeros = np.zeros(len(unique_temps))\n",
    "    rs = np.resize(zeros, (len(unique_temps), len(unique_temps)))\n",
    "\n",
    "    temp_df = pd.DataFrame(\n",
    "        data=rs, index=[np.arange(len(unique_temps))], columns=sorted(unique_temps)\n",
    "    )\n",
    "\n",
    "    for i, _ in enumerate(full_df[met_col]):\n",
    "        rounded = myround(full_df[met_col].iloc[i], rounded_base)\n",
    "        err = full_df[\"Abs_err\"].iloc[i]\n",
    "        temp_df[rounded].iloc[0] = abs(err) + abs(temp_df[rounded].iloc[0])\n",
    "        temp_df[rounded].iloc[-1] += 1\n",
    "\n",
    "    instances = temp_df.iloc[-1]\n",
    "    temp_df = temp_df.iloc[0]\n",
    "\n",
    "    return temp_df, instances"
   ]
  },
  {
   "cell_type": "code",
   "execution_count": null,
   "metadata": {},
   "outputs": [],
   "source": [
    "def plot_buckets(temp_df, instances, var_name, cmap, width):\n",
    "    my_cmap = plt.get_cmap(cmap)\n",
    "    averages = temp_df / instances\n",
    "    y = averages\n",
    "    rescale = lambda y: (y - np.min(y)) / (np.max(y) - np.min(y))\n",
    "    the_list = averages.tolist()\n",
    "    fig, ax = plt.subplots(\n",
    "        figsize=(21, 6), facecolor=\"slategrey\", constrained_layout=True\n",
    "    )\n",
    "    bars = plt.bar(temp_df.keys(), the_list, color=my_cmap(rescale(y)), width=width)\n",
    "    ax.set_title(\"Absolute Error of LSTM\", fontsize=28, c=\"white\")\n",
    "    ax.set_xlabel(var_name, fontsize=18, c=\"white\")\n",
    "    ax.set_ylabel(\"Mean Absolute Error\", fontsize=18, c=\"white\")\n",
    "    # Iterating over the bars one-by-one\n",
    "    # Annotate each bar with its value\n",
    "    # Annotate each bar with the number of instances\n",
    "    for bar, value, instance_count in zip(bars, the_list, instances):\n",
    "        yval = value + 0.01  # Adjust the vertical position of the label\n",
    "        ax.text(\n",
    "            bar.get_x() + bar.get_width() / 2,\n",
    "            yval,\n",
    "            f\"n={instance_count}\",\n",
    "            ha=\"center\",\n",
    "            va=\"bottom\",\n",
    "            color=\"black\",\n",
    "            fontsize=12,\n",
    "            rotation=90,\n",
    "        )"
   ]
  },
  {
   "cell_type": "code",
   "execution_count": null,
   "metadata": {},
   "outputs": [],
   "source": [
    "# for k in full_df.keys():\n",
    "#     print(k)"
   ]
  },
  {
   "cell_type": "code",
   "execution_count": null,
   "metadata": {},
   "outputs": [],
   "source": [
    "# diector = sorted(os.listdir('/home/aevans/nwp_bias/src/machine_learning/data/lstm_eval_csvs/20231129/'))\n",
    "\n",
    "# for d in diector:\n",
    "#         full_df = pd.read_parquet(\n",
    "#         f\"/home/aevans/nwp_bias/src/machine_learning/data/lstm_eval_csvs/20231129/{d}\"\n",
    "#     )\n",
    "#         for k in full_df.columns:\n",
    "#             if re.search(\n",
    "#                 f\"{station}\",\n",
    "#                 k,\n",
    "#             ):\n",
    "#                 print(\"Succes!!\")\n",
    "#                 print(d)\n",
    "#             else:\n",
    "#                 continue"
   ]
  },
  {
   "cell_type": "code",
   "execution_count": null,
   "metadata": {},
   "outputs": [],
   "source": [
    "# Reset index for both DataFrames to ensure alignment\n",
    "full_df = full_df.reset_index(drop=True)\n",
    "ldf = ldf.reset_index(drop=True)\n",
    "full_df[\"Abs_err\"] = ldf[\"diff\"]"
   ]
  },
  {
   "cell_type": "code",
   "execution_count": null,
   "metadata": {},
   "outputs": [],
   "source": [
    "full_df.dropna(inplace=True)"
   ]
  },
  {
   "cell_type": "code",
   "execution_count": null,
   "metadata": {},
   "outputs": [],
   "source": [
    "temp_df, instances = err_bucket(full_df, f\"tair_{station}\", 2)"
   ]
  },
  {
   "cell_type": "code",
   "execution_count": null,
   "metadata": {},
   "outputs": [],
   "source": [
    "instances"
   ]
  },
  {
   "cell_type": "code",
   "execution_count": null,
   "metadata": {},
   "outputs": [],
   "source": [
    "plot_buckets(temp_df, instances, \"Temperature (C)\", \"Wistia\", 2.5)"
   ]
  },
  {
   "cell_type": "code",
   "execution_count": null,
   "metadata": {},
   "outputs": [],
   "source": [
    "relh_df, instances = err_bucket(full_df, f\"relh_{station}\", 2)"
   ]
  },
  {
   "cell_type": "code",
   "execution_count": null,
   "metadata": {},
   "outputs": [],
   "source": [
    "plot_buckets(relh_df, instances, \"Relative Humidity (%)\", \"copper\", 5.0)"
   ]
  },
  {
   "cell_type": "code",
   "execution_count": null,
   "metadata": {},
   "outputs": [],
   "source": [
    "new_df, instances = err_bucket(full_df, f\"srad_{station}\", 40)"
   ]
  },
  {
   "cell_type": "code",
   "execution_count": null,
   "metadata": {},
   "outputs": [],
   "source": [
    "plot_buckets(new_df, instances, \"Solar Radiation (W / m*m)\", \"copper\", 50.0)"
   ]
  },
  {
   "cell_type": "code",
   "execution_count": null,
   "metadata": {},
   "outputs": [],
   "source": [
    "pres_df, instances = err_bucket(full_df, f\"pres_{station}\", 2)"
   ]
  },
  {
   "cell_type": "code",
   "execution_count": null,
   "metadata": {},
   "outputs": [],
   "source": [
    "print(f'The mean pressure at {station} is {full_df[f\"pres_{station}\"].mean()}')"
   ]
  },
  {
   "cell_type": "code",
   "execution_count": null,
   "metadata": {},
   "outputs": [],
   "source": [
    "plot_buckets(pres_df, instances, \"Surface Pressure (mb)\", \"copper\", 1.5)"
   ]
  },
  {
   "cell_type": "code",
   "execution_count": null,
   "metadata": {},
   "outputs": [],
   "source": [
    "def round_small(full_df, met_col, rounded_base):\n",
    "    temps = []\n",
    "    for i, _ in enumerate(full_df[met_col]):\n",
    "        if full_df[met_col].iloc[i] < 1.0 and full_df[met_col].iloc[i] >= 0:\n",
    "            rounded = round(full_df[met_col].iloc[i], rounded_base)\n",
    "            temps.append(rounded)\n",
    "        else:\n",
    "            rounded = myround(full_df[met_col].iloc[i], 1)\n",
    "            temps.append(rounded)\n",
    "\n",
    "    unique_temps = unique(temps)\n",
    "\n",
    "    zeros = np.zeros(len(unique_temps))\n",
    "    rs = np.resize(zeros, (len(unique_temps), len(unique_temps)))\n",
    "    temp_df = pd.DataFrame(\n",
    "        data=rs, index=[np.arange(len(unique_temps))], columns=sorted(unique_temps)\n",
    "    )\n",
    "\n",
    "    for i, _ in enumerate(full_df[met_col]):\n",
    "        if full_df[met_col].iloc[i] < 1.0 and full_df[met_col].iloc[i] >= 0:\n",
    "            rounded = round(full_df[met_col].iloc[i], rounded_base)\n",
    "        else:\n",
    "            rounded = float(myround(full_df[met_col].iloc[i], base=1))\n",
    "        err = float(full_df[\"Abs_err\"].iloc[i])\n",
    "        temp_df[rounded].iloc[0] = abs(err) + abs(temp_df[rounded].iloc[0])\n",
    "        temp_df[rounded].iloc[-1] += 1\n",
    "\n",
    "    instances = temp_df.iloc[-1]\n",
    "    temp_df = temp_df.iloc[0]\n",
    "    temp_df = temp_df.loc[~(temp_df == 0)]\n",
    "    instances = instances.loc[~(instances == 0)]\n",
    "    return temp_df, instances"
   ]
  },
  {
   "cell_type": "code",
   "execution_count": null,
   "metadata": {},
   "outputs": [],
   "source": [
    "rain_df, instances = err_bucket(full_df, f\"precip_total_{station}\", 0.1)"
   ]
  },
  {
   "cell_type": "code",
   "execution_count": null,
   "metadata": {},
   "outputs": [],
   "source": [
    "plot_buckets(rain_df, instances, \"Precipitation [mm/hr]\", \"winter\", 0.1)"
   ]
  },
  {
   "cell_type": "code",
   "execution_count": null,
   "metadata": {},
   "outputs": [],
   "source": [
    "snow_df, instances = round_small(full_df, f\"snow_depth_{station}\", 2)"
   ]
  },
  {
   "cell_type": "code",
   "execution_count": null,
   "metadata": {},
   "outputs": [],
   "source": [
    "snow_df = snow_df.iloc[1:]\n",
    "instances = instances.iloc[1:]"
   ]
  },
  {
   "cell_type": "code",
   "execution_count": null,
   "metadata": {},
   "outputs": [],
   "source": [
    "plot_buckets(snow_df, instances, \"Accumulated Snow (m)\", \"cool\", 0.01)"
   ]
  },
  {
   "cell_type": "code",
   "execution_count": null,
   "metadata": {},
   "outputs": [],
   "source": [
    "wmax, instances = err_bucket(full_df, f\"wmax_sonic_{station}\", 2)"
   ]
  },
  {
   "cell_type": "code",
   "execution_count": null,
   "metadata": {},
   "outputs": [],
   "source": [
    "plot_buckets(wmax, instances, \"Wind Max (m/s)\", \"copper\", 1.0)"
   ]
  },
  {
   "cell_type": "code",
   "execution_count": null,
   "metadata": {},
   "outputs": [],
   "source": [
    "wdir, instances = err_bucket(full_df, f\"wdir_sonic_{station}\", 45)"
   ]
  },
  {
   "cell_type": "code",
   "execution_count": null,
   "metadata": {},
   "outputs": [],
   "source": [
    "plot_buckets(wdir, instances, \"Wind Dir (degrees)\", \"copper\", 10.0)"
   ]
  },
  {
   "cell_type": "code",
   "execution_count": null,
   "metadata": {},
   "outputs": [],
   "source": []
  }
 ],
 "metadata": {
  "kernelspec": {
   "display_name": "Python 3.9.16 ('base': conda)",
   "language": "python",
   "name": "python3"
  },
  "language_info": {
   "codemirror_mode": {
    "name": "ipython",
    "version": 3
   },
   "file_extension": ".py",
   "mimetype": "text/x-python",
   "name": "python",
   "nbconvert_exporter": "python",
   "pygments_lexer": "ipython3",
   "version": "3.9.16"
  },
  "orig_nbformat": 4,
  "vscode": {
   "interpreter": {
    "hash": "44818f36aeaf89db1a1d21a2bee6031a28b4e41595a65903b38b9b0c4417365f"
   }
  }
 },
 "nbformat": 4,
 "nbformat_minor": 2
}
