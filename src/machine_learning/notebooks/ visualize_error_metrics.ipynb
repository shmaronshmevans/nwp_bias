{
 "cells": [
  {
   "cell_type": "code",
   "execution_count": 70,
   "metadata": {},
   "outputs": [],
   "source": [
    "import pandas as pd\n",
    "import numpy as np\n",
    "import matplotlib.pyplot as plt\n",
    "import re\n",
    "import statistics as st\n",
    "from datetime import datetime"
   ]
  },
  {
   "cell_type": "code",
   "execution_count": 71,
   "metadata": {},
   "outputs": [],
   "source": [
    "model_path = \"/home/aevans/nwp_bias/src/machine_learning/data/lstm_eval_csvs/20240617/SPRA/SPRA_loss_0.28774181436747315_ml_output_SPRA.parquet\""
   ]
  },
  {
   "cell_type": "code",
   "execution_count": 72,
   "metadata": {},
   "outputs": [],
   "source": [
    "df = pd.read_parquet(model_path)\n",
    "df = df.sort_index()"
   ]
  },
  {
   "cell_type": "code",
   "execution_count": 73,
   "metadata": {},
   "outputs": [
    {
     "data": {
      "text/html": [
       "<div>\n",
       "<style scoped>\n",
       "    .dataframe tbody tr th:only-of-type {\n",
       "        vertical-align: middle;\n",
       "    }\n",
       "\n",
       "    .dataframe tbody tr th {\n",
       "        vertical-align: top;\n",
       "    }\n",
       "\n",
       "    .dataframe thead th {\n",
       "        text-align: right;\n",
       "    }\n",
       "</style>\n",
       "<table border=\"1\" class=\"dataframe\">\n",
       "  <thead>\n",
       "    <tr style=\"text-align: right;\">\n",
       "      <th></th>\n",
       "      <th>target_error_lead_0</th>\n",
       "      <th>Model forecast</th>\n",
       "      <th>diff</th>\n",
       "    </tr>\n",
       "  </thead>\n",
       "  <tbody>\n",
       "    <tr>\n",
       "      <th>0</th>\n",
       "      <td>0.228950</td>\n",
       "      <td>-0.349106</td>\n",
       "      <td>0.578056</td>\n",
       "    </tr>\n",
       "    <tr>\n",
       "      <th>1</th>\n",
       "      <td>-0.021114</td>\n",
       "      <td>-0.030797</td>\n",
       "      <td>0.009683</td>\n",
       "    </tr>\n",
       "    <tr>\n",
       "      <th>2</th>\n",
       "      <td>0.074036</td>\n",
       "      <td>-0.101597</td>\n",
       "      <td>0.175634</td>\n",
       "    </tr>\n",
       "    <tr>\n",
       "      <th>3</th>\n",
       "      <td>-0.484450</td>\n",
       "      <td>-0.141904</td>\n",
       "      <td>-0.342545</td>\n",
       "    </tr>\n",
       "    <tr>\n",
       "      <th>4</th>\n",
       "      <td>-0.726711</td>\n",
       "      <td>-0.053275</td>\n",
       "      <td>-0.673436</td>\n",
       "    </tr>\n",
       "    <tr>\n",
       "      <th>...</th>\n",
       "      <td>...</td>\n",
       "      <td>...</td>\n",
       "      <td>...</td>\n",
       "    </tr>\n",
       "    <tr>\n",
       "      <th>48819</th>\n",
       "      <td>-0.771535</td>\n",
       "      <td>0.005092</td>\n",
       "      <td>-0.776627</td>\n",
       "    </tr>\n",
       "    <tr>\n",
       "      <th>48820</th>\n",
       "      <td>-0.808309</td>\n",
       "      <td>0.016657</td>\n",
       "      <td>-0.824967</td>\n",
       "    </tr>\n",
       "    <tr>\n",
       "      <th>48821</th>\n",
       "      <td>-0.731789</td>\n",
       "      <td>0.004809</td>\n",
       "      <td>-0.736598</td>\n",
       "    </tr>\n",
       "    <tr>\n",
       "      <th>48822</th>\n",
       "      <td>-0.615351</td>\n",
       "      <td>0.011146</td>\n",
       "      <td>-0.626498</td>\n",
       "    </tr>\n",
       "    <tr>\n",
       "      <th>48823</th>\n",
       "      <td>-0.575919</td>\n",
       "      <td>0.026844</td>\n",
       "      <td>-0.602763</td>\n",
       "    </tr>\n",
       "  </tbody>\n",
       "</table>\n",
       "<p>48824 rows × 3 columns</p>\n",
       "</div>"
      ],
      "text/plain": [
       "       target_error_lead_0  Model forecast      diff\n",
       "0                 0.228950       -0.349106  0.578056\n",
       "1                -0.021114       -0.030797  0.009683\n",
       "2                 0.074036       -0.101597  0.175634\n",
       "3                -0.484450       -0.141904 -0.342545\n",
       "4                -0.726711       -0.053275 -0.673436\n",
       "...                    ...             ...       ...\n",
       "48819            -0.771535        0.005092 -0.776627\n",
       "48820            -0.808309        0.016657 -0.824967\n",
       "48821            -0.731789        0.004809 -0.736598\n",
       "48822            -0.615351        0.011146 -0.626498\n",
       "48823            -0.575919        0.026844 -0.602763\n",
       "\n",
       "[48824 rows x 3 columns]"
      ]
     },
     "execution_count": 73,
     "metadata": {},
     "output_type": "execute_result"
    }
   ],
   "source": [
    "df"
   ]
  },
  {
   "cell_type": "code",
   "execution_count": 74,
   "metadata": {},
   "outputs": [],
   "source": [
    "# rnn_path = \"/home/aevans/nwp_bias/src/machine_learning/data/lstm_eval_csvs/RNN/RAND_loss_0.037602543272078036_ml_output_RAND.parquet\"\n",
    "# rnn_df = pd.read_parquet(rnn_path)\n",
    "# rnn_df = rnn_df.sort_index()"
   ]
  },
  {
   "cell_type": "code",
   "execution_count": 75,
   "metadata": {},
   "outputs": [],
   "source": [
    "# rnn_df"
   ]
  },
  {
   "cell_type": "code",
   "execution_count": 76,
   "metadata": {},
   "outputs": [],
   "source": [
    "full_df = pd.read_parquet(\n",
    "    \"/home/aevans/nwp_bias/src/machine_learning/data/lstm_eval_csvs/20240617/SPRA/06_17_2024_13:26:56_full_SPRA.parquet\"\n",
    ")"
   ]
  },
  {
   "cell_type": "code",
   "execution_count": 77,
   "metadata": {},
   "outputs": [
    {
     "data": {
      "text/plain": [
       "Index(['valid_time', 'valid_time_cos', 'valid_time_sin', 'target_error',\n",
       "       't2m_SPRA', 'sh2_SPRA', 'd2m_SPRA', 'r2_SPRA', 'u10_SPRA', 'v10_SPRA',\n",
       "       ...\n",
       "       'relh_OPPE', 'srad_OPPE', 'pres_OPPE', 'mslp_OPPE',\n",
       "       'wspd_sonic_mean_OPPE', 'wspd_sonic_OPPE', 'wmax_sonic_OPPE',\n",
       "       'wdir_sonic_OPPE', 'snow_depth_OPPE', 'precip_total_OPPE'],\n",
       "      dtype='object', length=140)"
      ]
     },
     "execution_count": 77,
     "metadata": {},
     "output_type": "execute_result"
    }
   ],
   "source": [
    "full_df.keys()"
   ]
  },
  {
   "cell_type": "code",
   "execution_count": 78,
   "metadata": {},
   "outputs": [
    {
     "name": "stdout",
     "output_type": "stream",
     "text": [
      "valid_time\n",
      "valid_time_cos\n",
      "valid_time_sin\n",
      "target_error\n",
      "t2m_SPRA\n",
      "sh2_SPRA\n",
      "d2m_SPRA\n",
      "r2_SPRA\n",
      "u10_SPRA\n",
      "v10_SPRA\n",
      "tp_SPRA\n",
      "mslma_SPRA\n",
      "orog_SPRA\n",
      "tcc_SPRA\n",
      "asnow_SPRA\n",
      "cape_SPRA\n",
      "dswrf_SPRA\n",
      "dlwrf_SPRA\n",
      "gh_SPRA\n",
      "u_total_SPRA\n",
      "u_dir_SPRA\n",
      "new_tp_SPRA\n",
      "t2m_JOHN\n",
      "sh2_JOHN\n",
      "d2m_JOHN\n",
      "r2_JOHN\n",
      "u10_JOHN\n",
      "v10_JOHN\n",
      "tp_JOHN\n",
      "mslma_JOHN\n",
      "orog_JOHN\n",
      "tcc_JOHN\n",
      "asnow_JOHN\n",
      "cape_JOHN\n",
      "dswrf_JOHN\n",
      "dlwrf_JOHN\n",
      "gh_JOHN\n",
      "u_total_JOHN\n",
      "u_dir_JOHN\n",
      "new_tp_JOHN\n",
      "t2m_COBL\n",
      "sh2_COBL\n",
      "d2m_COBL\n",
      "r2_COBL\n",
      "u10_COBL\n",
      "v10_COBL\n",
      "tp_COBL\n",
      "mslma_COBL\n",
      "orog_COBL\n",
      "tcc_COBL\n",
      "asnow_COBL\n",
      "cape_COBL\n",
      "dswrf_COBL\n",
      "dlwrf_COBL\n",
      "gh_COBL\n",
      "u_total_COBL\n",
      "u_dir_COBL\n",
      "new_tp_COBL\n",
      "t2m_OPPE\n",
      "sh2_OPPE\n",
      "d2m_OPPE\n",
      "r2_OPPE\n",
      "u10_OPPE\n",
      "v10_OPPE\n",
      "tp_OPPE\n",
      "mslma_OPPE\n",
      "orog_OPPE\n",
      "tcc_OPPE\n",
      "asnow_OPPE\n",
      "cape_OPPE\n",
      "dswrf_OPPE\n",
      "dlwrf_OPPE\n",
      "gh_OPPE\n",
      "u_total_OPPE\n",
      "u_dir_OPPE\n",
      "new_tp_OPPE\n",
      "lat_SPRA\n",
      "lon_SPRA\n",
      "elev_SPRA\n",
      "tair_SPRA\n",
      "ta9m_SPRA\n",
      "td_SPRA\n",
      "relh_SPRA\n",
      "srad_SPRA\n",
      "pres_SPRA\n",
      "mslp_SPRA\n",
      "wspd_sonic_mean_SPRA\n",
      "wspd_sonic_SPRA\n",
      "wmax_sonic_SPRA\n",
      "wdir_sonic_SPRA\n",
      "snow_depth_SPRA\n",
      "precip_total_SPRA\n",
      "lat_JOHN\n",
      "lon_JOHN\n",
      "elev_JOHN\n",
      "tair_JOHN\n",
      "ta9m_JOHN\n",
      "td_JOHN\n",
      "relh_JOHN\n",
      "srad_JOHN\n",
      "pres_JOHN\n",
      "mslp_JOHN\n",
      "wspd_sonic_mean_JOHN\n",
      "wspd_sonic_JOHN\n",
      "wmax_sonic_JOHN\n",
      "wdir_sonic_JOHN\n",
      "snow_depth_JOHN\n",
      "precip_total_JOHN\n",
      "lat_COBL\n",
      "lon_COBL\n",
      "elev_COBL\n",
      "tair_COBL\n",
      "ta9m_COBL\n",
      "td_COBL\n",
      "relh_COBL\n",
      "srad_COBL\n",
      "pres_COBL\n",
      "mslp_COBL\n",
      "wspd_sonic_mean_COBL\n",
      "wspd_sonic_COBL\n",
      "wmax_sonic_COBL\n",
      "wdir_sonic_COBL\n",
      "snow_depth_COBL\n",
      "precip_total_COBL\n",
      "lat_OPPE\n",
      "lon_OPPE\n",
      "elev_OPPE\n",
      "tair_OPPE\n",
      "ta9m_OPPE\n",
      "td_OPPE\n",
      "relh_OPPE\n",
      "srad_OPPE\n",
      "pres_OPPE\n",
      "mslp_OPPE\n",
      "wspd_sonic_mean_OPPE\n",
      "wspd_sonic_OPPE\n",
      "wmax_sonic_OPPE\n",
      "wdir_sonic_OPPE\n",
      "snow_depth_OPPE\n",
      "precip_total_OPPE\n"
     ]
    }
   ],
   "source": [
    "for k in full_df.keys():\n",
    "    print(k)"
   ]
  },
  {
   "cell_type": "code",
   "execution_count": 79,
   "metadata": {},
   "outputs": [],
   "source": [
    "df[\"valid_time\"] = full_df[\"valid_time\"]\n",
    "# df['rnn_err'] = rnn_df['diff']"
   ]
  },
  {
   "cell_type": "code",
   "execution_count": 80,
   "metadata": {},
   "outputs": [
    {
     "data": {
      "text/html": [
       "<div>\n",
       "<style scoped>\n",
       "    .dataframe tbody tr th:only-of-type {\n",
       "        vertical-align: middle;\n",
       "    }\n",
       "\n",
       "    .dataframe tbody tr th {\n",
       "        vertical-align: top;\n",
       "    }\n",
       "\n",
       "    .dataframe thead th {\n",
       "        text-align: right;\n",
       "    }\n",
       "</style>\n",
       "<table border=\"1\" class=\"dataframe\">\n",
       "  <thead>\n",
       "    <tr style=\"text-align: right;\">\n",
       "      <th></th>\n",
       "      <th>target_error_lead_0</th>\n",
       "      <th>Model forecast</th>\n",
       "      <th>diff</th>\n",
       "      <th>valid_time</th>\n",
       "    </tr>\n",
       "  </thead>\n",
       "  <tbody>\n",
       "    <tr>\n",
       "      <th>0</th>\n",
       "      <td>0.228950</td>\n",
       "      <td>-0.349106</td>\n",
       "      <td>0.578056</td>\n",
       "      <td>2018-01-01 16:00:00</td>\n",
       "    </tr>\n",
       "    <tr>\n",
       "      <th>1</th>\n",
       "      <td>-0.021114</td>\n",
       "      <td>-0.030797</td>\n",
       "      <td>0.009683</td>\n",
       "      <td>2018-01-01 17:00:00</td>\n",
       "    </tr>\n",
       "    <tr>\n",
       "      <th>2</th>\n",
       "      <td>0.074036</td>\n",
       "      <td>-0.101597</td>\n",
       "      <td>0.175634</td>\n",
       "      <td>2018-01-01 18:00:00</td>\n",
       "    </tr>\n",
       "    <tr>\n",
       "      <th>3</th>\n",
       "      <td>-0.484450</td>\n",
       "      <td>-0.141904</td>\n",
       "      <td>-0.342545</td>\n",
       "      <td>2018-01-01 19:00:00</td>\n",
       "    </tr>\n",
       "    <tr>\n",
       "      <th>4</th>\n",
       "      <td>-0.726711</td>\n",
       "      <td>-0.053275</td>\n",
       "      <td>-0.673436</td>\n",
       "      <td>2018-01-01 20:00:00</td>\n",
       "    </tr>\n",
       "    <tr>\n",
       "      <th>...</th>\n",
       "      <td>...</td>\n",
       "      <td>...</td>\n",
       "      <td>...</td>\n",
       "      <td>...</td>\n",
       "    </tr>\n",
       "    <tr>\n",
       "      <th>48819</th>\n",
       "      <td>-0.771535</td>\n",
       "      <td>0.005092</td>\n",
       "      <td>-0.776627</td>\n",
       "      <td>2023-12-31 19:00:00</td>\n",
       "    </tr>\n",
       "    <tr>\n",
       "      <th>48820</th>\n",
       "      <td>-0.808309</td>\n",
       "      <td>0.016657</td>\n",
       "      <td>-0.824967</td>\n",
       "      <td>2023-12-31 20:00:00</td>\n",
       "    </tr>\n",
       "    <tr>\n",
       "      <th>48821</th>\n",
       "      <td>-0.731789</td>\n",
       "      <td>0.004809</td>\n",
       "      <td>-0.736598</td>\n",
       "      <td>2023-12-31 21:00:00</td>\n",
       "    </tr>\n",
       "    <tr>\n",
       "      <th>48822</th>\n",
       "      <td>-0.615351</td>\n",
       "      <td>0.011146</td>\n",
       "      <td>-0.626498</td>\n",
       "      <td>2023-12-31 22:00:00</td>\n",
       "    </tr>\n",
       "    <tr>\n",
       "      <th>48823</th>\n",
       "      <td>-0.575919</td>\n",
       "      <td>0.026844</td>\n",
       "      <td>-0.602763</td>\n",
       "      <td>2023-12-31 23:00:00</td>\n",
       "    </tr>\n",
       "  </tbody>\n",
       "</table>\n",
       "<p>48824 rows × 4 columns</p>\n",
       "</div>"
      ],
      "text/plain": [
       "       target_error_lead_0  Model forecast      diff          valid_time\n",
       "0                 0.228950       -0.349106  0.578056 2018-01-01 16:00:00\n",
       "1                -0.021114       -0.030797  0.009683 2018-01-01 17:00:00\n",
       "2                 0.074036       -0.101597  0.175634 2018-01-01 18:00:00\n",
       "3                -0.484450       -0.141904 -0.342545 2018-01-01 19:00:00\n",
       "4                -0.726711       -0.053275 -0.673436 2018-01-01 20:00:00\n",
       "...                    ...             ...       ...                 ...\n",
       "48819            -0.771535        0.005092 -0.776627 2023-12-31 19:00:00\n",
       "48820            -0.808309        0.016657 -0.824967 2023-12-31 20:00:00\n",
       "48821            -0.731789        0.004809 -0.736598 2023-12-31 21:00:00\n",
       "48822            -0.615351        0.011146 -0.626498 2023-12-31 22:00:00\n",
       "48823            -0.575919        0.026844 -0.602763 2023-12-31 23:00:00\n",
       "\n",
       "[48824 rows x 4 columns]"
      ]
     },
     "execution_count": 80,
     "metadata": {},
     "output_type": "execute_result"
    }
   ],
   "source": [
    "df"
   ]
  },
  {
   "cell_type": "code",
   "execution_count": 81,
   "metadata": {},
   "outputs": [],
   "source": [
    "def which_fold(df, fold):\n",
    "    length = len(df)\n",
    "    test_len = int(length * 0.2)\n",
    "    df_train = pd.DataFrame()\n",
    "\n",
    "    for n in np.arange(0, 5):\n",
    "        if n != fold:\n",
    "            df1 = df.iloc[int(0.2 * n * length) : int(0.2 * (n + 1) * length)]\n",
    "            df_train = pd.concat([df_train, df1])\n",
    "        else:\n",
    "            df_test = df.iloc[int(0.2 * n * length) : int(0.2 * (n + 1) * length)]\n",
    "\n",
    "    return df_train['valid_time'], df_test['valid_time']"
   ]
  },
  {
   "cell_type": "code",
   "execution_count": 82,
   "metadata": {},
   "outputs": [],
   "source": [
    "station = \"SPRA\""
   ]
  },
  {
   "cell_type": "code",
   "execution_count": 83,
   "metadata": {},
   "outputs": [],
   "source": [
    "df['valid_time'] = pd.to_datetime(df['valid_time'])"
   ]
  },
  {
   "cell_type": "code",
   "execution_count": 84,
   "metadata": {},
   "outputs": [],
   "source": [
    "df.dropna(inplace=True)"
   ]
  },
  {
   "cell_type": "code",
   "execution_count": 85,
   "metadata": {},
   "outputs": [],
   "source": [
    "df_train, df_test = which_fold(df, 4)"
   ]
  },
  {
   "cell_type": "code",
   "execution_count": 86,
   "metadata": {},
   "outputs": [
    {
     "data": {
      "text/plain": [
       "Timestamp('2022-11-13 04:00:00')"
      ]
     },
     "execution_count": 86,
     "metadata": {},
     "output_type": "execute_result"
    }
   ],
   "source": [
    "df_test.iloc[0]"
   ]
  },
  {
   "cell_type": "code",
   "execution_count": 87,
   "metadata": {},
   "outputs": [
    {
     "data": {
      "text/plain": [
       "Timestamp('2023-12-31 23:00:00')"
      ]
     },
     "execution_count": 87,
     "metadata": {},
     "output_type": "execute_result"
    }
   ],
   "source": [
    "df_test.iloc[-1]"
   ]
  },
  {
   "cell_type": "code",
   "execution_count": 88,
   "metadata": {},
   "outputs": [],
   "source": [
    "df = df[df['valid_time'] > datetime(2021,10, 1, 0, 0, 0)]\n",
    "df = df[df['valid_time'] < datetime(2021, 10, 28, 23, 0, 0)]"
   ]
  },
  {
   "cell_type": "code",
   "execution_count": 89,
   "metadata": {},
   "outputs": [
    {
     "data": {
      "text/plain": [
       "0.6893162769556286"
      ]
     },
     "execution_count": 89,
     "metadata": {},
     "output_type": "execute_result"
    }
   ],
   "source": [
    "mean = st.mean(abs(df['diff']))\n",
    "mean"
   ]
  },
  {
   "cell_type": "code",
   "execution_count": 90,
   "metadata": {},
   "outputs": [],
   "source": [
    "import matplotlib.dates as mdates"
   ]
  },
  {
   "cell_type": "code",
   "execution_count": 91,
   "metadata": {},
   "outputs": [],
   "source": [
    "import matplotlib.pyplot as plt\n",
    "import matplotlib.dates as mdates\n",
    "import numpy as np\n",
    "\n",
    "def ml_output(df, fold, station):\n",
    "    fig, ax = plt.subplots(figsize=(24, 6))\n",
    "    x = df[\"valid_time\"]\n",
    "\n",
    "    # Convert datetime values to numerical values\n",
    "    x_numeric = mdates.date2num(x)\n",
    "\n",
    "    # Assuming your timestamps are in a datetime64 format\n",
    "    day_mask = (x.dt.hour >= 6) & (x.dt.hour < 18)  # Adjust the hours based on your day/night definition\n",
    "\n",
    "    plt.plot(x, df[\"target_error_lead_0\"], c=\"r\", linewidth=3, label=\"T2M_error: HRRR\")\n",
    "    plt.plot(x, df[\"Model forecast\"], c=\"b\", alpha=0.7, label=\"LSTM Output\")\n",
    "    # plt.plot(x, df[\"rnn_err\"], c=\"g\", alpha=0.7, label=\"RNN Output\")\n",
    "\n",
    "    # plt.axvline(\n",
    "    #     x=(int(0.2 * len(x)) * fold),\n",
    "    #     c=\"green\",\n",
    "    #     linestyle=\"--\",\n",
    "    #     linewidth=2.0,\n",
    "    #     label=\"Test Set Start\",\n",
    "    # )\n",
    "    # plt.axvline(\n",
    "    #     x=(int(0.2 * len(x)) * (fold + 1)),\n",
    "    #     c=\"red\",\n",
    "    #     linestyle=\"--\",\n",
    "    #     linewidth=2.0,\n",
    "    #     label=\"Test Set Finish\",\n",
    "    # )\n",
    "\n",
    "\n",
    "\n",
    "    # Fill daytime hours with white color\n",
    "    ax.fill_between(x_numeric, -4, 4.1, where=day_mask, color=\"white\", alpha=0.5, label=\"Daytime\")\n",
    "\n",
    "    # Fill nighttime hours with grey color\n",
    "    ax.fill_between(x_numeric, -4, 4.1, where=~day_mask, color=\"grey\", alpha=0.2, label=\"Nighttime\")\n",
    "\n",
    "    ax.set_title(f\"LSTM Output v Target: {station}: FH16\", fontsize=28)\n",
    "    # plt.ylim(-5, 5.)\n",
    "    ax.legend()\n",
    "    \n",
    "    plt.show()\n",
    "\n",
    "# Example usage\n",
    "# ml_output(df, fold, station)\n"
   ]
  },
  {
   "cell_type": "code",
   "execution_count": 92,
   "metadata": {},
   "outputs": [
    {
     "data": {
      "image/png": "[encoded data removed]",
      "text/plain": [
       "<Figure size 2400x600 with 1 Axes>"
      ]
     },
     "metadata": {},
     "output_type": "display_data"
    }
   ],
   "source": [
    "x = ml_output(df, 4, station)"
   ]
  },
  {
   "cell_type": "code",
   "execution_count": 179,
   "metadata": {},
   "outputs": [],
   "source": [
    "full_df[\"Abs_err\"] = df[\"diff\"]"
   ]
  },
  {
   "cell_type": "code",
   "execution_count": 180,
   "metadata": {},
   "outputs": [],
   "source": [
    "for k in full_df.columns:\n",
    "    if re.search(\n",
    "        f\"{station}|valid|Model forecast|Abs_err\",\n",
    "        k,\n",
    "    ):\n",
    "        continue\n",
    "    else:\n",
    "        full_df = full_df.drop(columns=[k])"
   ]
  },
  {
   "cell_type": "code",
   "execution_count": 181,
   "metadata": {},
   "outputs": [],
   "source": [
    "# test_len = int(len(full_df['valid_time'])*0.2)\n",
    "# full_df = full_df.iloc[0:test_len]"
   ]
  },
  {
   "cell_type": "code",
   "execution_count": 182,
   "metadata": {},
   "outputs": [],
   "source": [
    "def groupby_month(df, col):\n",
    "    df = df[df[col] > -999]\n",
    "    GB = df.groupby([(df.valid_time.dt.month), (df.valid_time.dt.year)])[col].mean()\n",
    "    the_list = GB.tolist()\n",
    "    fig, ax = plt.subplots(figsize=(21, 6))\n",
    "    x = np.arange(1, len(the_list) + 1)\n",
    "    plt.bar(x, the_list)\n",
    "    ax.set_xticklabels([2018, 2019, 2020, 2021, 2022, 2023])\n",
    "    ax.set_xticks(np.arange(1, len(the_list) + 1, int((len(the_list) + 1) / 6)))\n",
    "    return the_list"
   ]
  },
  {
   "cell_type": "code",
   "execution_count": 183,
   "metadata": {},
   "outputs": [
    {
     "name": "stderr",
     "output_type": "stream",
     "text": [
      "/tmp/tmp.tf9rnvatzf/ipykernel_581593/2351311710.py:8: UserWarning: FixedFormatter should only be used together with FixedLocator\n",
      "  ax.set_xticklabels([2018, 2019, 2020, 2021, 2022, 2023])\n"
     ]
    },
    {
     "ename": "ZeroDivisionError",
     "evalue": "division by zero",
     "output_type": "error",
     "traceback": [
      "\u001b[0;31m---------------------------------------------------------------------------\u001b[0m",
      "\u001b[0;31mZeroDivisionError\u001b[0m                         Traceback (most recent call last)",
      "Cell \u001b[0;32mIn[183], line 1\u001b[0m\n\u001b[0;32m----> 1\u001b[0m err_by_month \u001b[38;5;241m=\u001b[39m groupby_month(full_df, \u001b[38;5;124m\"\u001b[39m\u001b[38;5;124mAbs_err\u001b[39m\u001b[38;5;124m\"\u001b[39m)\n",
      "Cell \u001b[0;32mIn[182], line 9\u001b[0m, in \u001b[0;36mgroupby_month\u001b[0;34m(df, col)\u001b[0m\n\u001b[1;32m      7\u001b[0m plt\u001b[38;5;241m.\u001b[39mbar(x, the_list)\n\u001b[1;32m      8\u001b[0m ax\u001b[38;5;241m.\u001b[39mset_xticklabels([\u001b[38;5;241m2018\u001b[39m, \u001b[38;5;241m2019\u001b[39m, \u001b[38;5;241m2020\u001b[39m, \u001b[38;5;241m2021\u001b[39m, \u001b[38;5;241m2022\u001b[39m, \u001b[38;5;241m2023\u001b[39m])\n\u001b[0;32m----> 9\u001b[0m ax\u001b[38;5;241m.\u001b[39mset_xticks(\u001b[43mnp\u001b[49m\u001b[38;5;241;43m.\u001b[39;49m\u001b[43marange\u001b[49m\u001b[43m(\u001b[49m\u001b[38;5;241;43m1\u001b[39;49m\u001b[43m,\u001b[49m\u001b[43m \u001b[49m\u001b[38;5;28;43mlen\u001b[39;49m\u001b[43m(\u001b[49m\u001b[43mthe_list\u001b[49m\u001b[43m)\u001b[49m\u001b[43m \u001b[49m\u001b[38;5;241;43m+\u001b[39;49m\u001b[43m \u001b[49m\u001b[38;5;241;43m1\u001b[39;49m\u001b[43m,\u001b[49m\u001b[43m \u001b[49m\u001b[38;5;28;43mint\u001b[39;49m\u001b[43m(\u001b[49m\u001b[43m(\u001b[49m\u001b[38;5;28;43mlen\u001b[39;49m\u001b[43m(\u001b[49m\u001b[43mthe_list\u001b[49m\u001b[43m)\u001b[49m\u001b[43m \u001b[49m\u001b[38;5;241;43m+\u001b[39;49m\u001b[43m \u001b[49m\u001b[38;5;241;43m1\u001b[39;49m\u001b[43m)\u001b[49m\u001b[43m \u001b[49m\u001b[38;5;241;43m/\u001b[39;49m\u001b[43m \u001b[49m\u001b[38;5;241;43m6\u001b[39;49m\u001b[43m)\u001b[49m\u001b[43m)\u001b[49m)\n\u001b[1;32m     10\u001b[0m \u001b[38;5;28;01mreturn\u001b[39;00m the_list\n",
      "\u001b[0;31mZeroDivisionError\u001b[0m: division by zero"
     ]
    },
    {
     "data": {
      "image/png": "[encoded data removed]",
      "text/plain": [
       "<Figure size 2100x600 with 1 Axes>"
      ]
     },
     "metadata": {},
     "output_type": "display_data"
    }
   ],
   "source": [
    "err_by_month = groupby_month(full_df, \"Abs_err\")"
   ]
  },
  {
   "cell_type": "code",
   "execution_count": null,
   "metadata": {},
   "outputs": [],
   "source": [
    "def groupby_time(df, col):\n",
    "    df = df[df[col] > -999]\n",
    "    GB = df.groupby([(df.valid_time.dt.hour)])[col].mean()\n",
    "    the_list = GB.tolist()\n",
    "    fig, ax = plt.subplots(figsize=(21, 6))\n",
    "    x = np.arange(0, len(the_list))\n",
    "    plt.bar(x, the_list, color=\"g\")\n",
    "    return the_list"
   ]
  },
  {
   "cell_type": "code",
   "execution_count": null,
   "metadata": {},
   "outputs": [],
   "source": [
    "err_by_time = groupby_time(full_df, \"Abs_err\")"
   ]
  },
  {
   "cell_type": "code",
   "execution_count": null,
   "metadata": {},
   "outputs": [],
   "source": [
    "def myround(x, base):\n",
    "    return base * round(x / base)"
   ]
  },
  {
   "cell_type": "code",
   "execution_count": null,
   "metadata": {},
   "outputs": [],
   "source": [
    "# function to get unique values\n",
    "def unique(list1):\n",
    "    # initialize a null list\n",
    "    unique_list = []\n",
    "\n",
    "    # traverse for all elements\n",
    "    for x in list1:\n",
    "        # check if exists in unique_list or not\n",
    "        if x not in unique_list:\n",
    "            unique_list.append(x)\n",
    "    return unique_list"
   ]
  },
  {
   "cell_type": "code",
   "execution_count": null,
   "metadata": {},
   "outputs": [],
   "source": [
    "def err_bucket(full_df, met_col, rounded_base):\n",
    "    temps = []\n",
    "    for i, _ in enumerate(full_df[met_col]):\n",
    "        rounded = myround(full_df[met_col].iloc[i], rounded_base)\n",
    "        temps.append(rounded)\n",
    "\n",
    "    unique_temps = unique(temps)\n",
    "\n",
    "    zeros = np.zeros(len(unique_temps))\n",
    "    rs = np.resize(zeros, (len(unique_temps), len(unique_temps)))\n",
    "\n",
    "    temp_df = pd.DataFrame(\n",
    "        data=rs, index=[np.arange(len(unique_temps))], columns=sorted(unique_temps)\n",
    "    )\n",
    "\n",
    "    for i, _ in enumerate(full_df[met_col]):\n",
    "        rounded = myround(full_df[met_col].iloc[i], rounded_base)\n",
    "        err = full_df[\"Abs_err\"].iloc[i]\n",
    "        temp_df[rounded].iloc[0] = abs(err) + abs(temp_df[rounded].iloc[0])\n",
    "        temp_df[rounded].iloc[-1] += 1\n",
    "\n",
    "    instances = temp_df.iloc[-1]\n",
    "    temp_df = temp_df.iloc[0]\n",
    "\n",
    "    return temp_df, instances"
   ]
  },
  {
   "cell_type": "code",
   "execution_count": null,
   "metadata": {},
   "outputs": [],
   "source": [
    "def plot_buckets(temp_df, instances, var_name, cmap, width):\n",
    "    my_cmap = plt.get_cmap(cmap)\n",
    "    averages = temp_df / instances\n",
    "    y = averages\n",
    "    rescale = lambda y: (y - np.min(y)) / (np.max(y) - np.min(y))\n",
    "    the_list = averages.tolist()\n",
    "    fig, ax = plt.subplots(figsize=(21, 6), facecolor=\"slategrey\", layout=\"compressed\")\n",
    "    bars = plt.bar(temp_df.keys(), the_list, color=my_cmap(rescale(y)), width=width)\n",
    "    ax.set_title(\"Absolute Error of LSTM\", fontsize=28, c=\"white\")\n",
    "    ax.set_xlabel(var_name, fontsize=18, c=\"white\")\n",
    "    ax.set_ylabel(\"Mean Absolute Error\", fontsize=18, c=\"white\")\n",
    "    # Iterating over the bars one-by-one\n",
    "    # Annotate each bar with its value\n",
    "    # Annotate each bar with the number of instances\n",
    "    for bar, value, instance_count in zip(bars, the_list, instances):\n",
    "        yval = value + 0.01  # Adjust the vertical position of the label\n",
    "        ax.text(\n",
    "            bar.get_x() + bar.get_width() / 2,\n",
    "            yval,\n",
    "            f\"n={instance_count}\",\n",
    "            ha=\"center\",\n",
    "            va=\"bottom\",\n",
    "            color=\"black\",\n",
    "            fontsize=12,\n",
    "            rotation=90,\n",
    "        )"
   ]
  },
  {
   "cell_type": "code",
   "execution_count": null,
   "metadata": {},
   "outputs": [],
   "source": [
    "for k in full_df.keys():\n",
    "    print(k)"
   ]
  },
  {
   "cell_type": "code",
   "execution_count": null,
   "metadata": {},
   "outputs": [],
   "source": [
    "# diector = sorted(os.listdir('/home/aevans/nwp_bias/src/machine_learning/data/lstm_eval_csvs/20231129/'))\n",
    "\n",
    "# for d in diector:\n",
    "#         full_df = pd.read_parquet(\n",
    "#         f\"/home/aevans/nwp_bias/src/machine_learning/data/lstm_eval_csvs/20231129/{d}\"\n",
    "#     )\n",
    "#         for k in full_df.columns:\n",
    "#             if re.search(\n",
    "#                 f\"{station}\",\n",
    "#                 k,\n",
    "#             ):\n",
    "#                 print(\"Succes!!\")\n",
    "#                 print(d)\n",
    "#             else:\n",
    "#                 continue"
   ]
  },
  {
   "cell_type": "code",
   "execution_count": null,
   "metadata": {},
   "outputs": [],
   "source": [
    "temp_df, instances = err_bucket(full_df, f\"tair_{station}\", 2)"
   ]
  },
  {
   "cell_type": "code",
   "execution_count": null,
   "metadata": {},
   "outputs": [],
   "source": [
    "plot_buckets(temp_df, instances, \"Temperature (C)\", \"Wistia\", 2.5)"
   ]
  },
  {
   "cell_type": "code",
   "execution_count": null,
   "metadata": {},
   "outputs": [],
   "source": [
    "relh_df, instances = err_bucket(full_df, f\"relh_{station}\", 2)"
   ]
  },
  {
   "cell_type": "code",
   "execution_count": null,
   "metadata": {},
   "outputs": [],
   "source": [
    "plot_buckets(relh_df, instances, \"Relative Humidity (%)\", \"copper\", 2.5)"
   ]
  },
  {
   "cell_type": "code",
   "execution_count": null,
   "metadata": {},
   "outputs": [],
   "source": [
    "new_df, instances = err_bucket(full_df, f\"srad_{station}\", 40)"
   ]
  },
  {
   "cell_type": "code",
   "execution_count": null,
   "metadata": {},
   "outputs": [],
   "source": [
    "plot_buckets(new_df, instances, \"Solar Radiation (W / m*m)\", \"copper\", 50.0)"
   ]
  },
  {
   "cell_type": "code",
   "execution_count": null,
   "metadata": {},
   "outputs": [],
   "source": [
    "pres_df, instances = err_bucket(full_df, f\"pres_{station}\", 2)"
   ]
  },
  {
   "cell_type": "code",
   "execution_count": null,
   "metadata": {},
   "outputs": [],
   "source": [
    "full_df[f\"pres_{station}\"].mean()"
   ]
  },
  {
   "cell_type": "code",
   "execution_count": null,
   "metadata": {},
   "outputs": [],
   "source": [
    "plot_buckets(pres_df, instances, \"Surface Pressure (mb)\", \"copper\", 1.5)"
   ]
  },
  {
   "cell_type": "code",
   "execution_count": null,
   "metadata": {},
   "outputs": [],
   "source": [
    "def round_small(full_df, met_col, rounded_base):\n",
    "    temps = []\n",
    "    for i, _ in enumerate(full_df[met_col]):\n",
    "        if full_df[met_col].iloc[i] < 1.0 and full_df[met_col].iloc[i] >= 0:\n",
    "            rounded = round(full_df[met_col].iloc[i], rounded_base)\n",
    "            temps.append(rounded)\n",
    "        else:\n",
    "            rounded = myround(full_df[met_col].iloc[i], 1)\n",
    "            temps.append(rounded)\n",
    "\n",
    "    unique_temps = unique(temps)\n",
    "\n",
    "    zeros = np.zeros(len(unique_temps))\n",
    "    rs = np.resize(zeros, (len(unique_temps), len(unique_temps)))\n",
    "    temp_df = pd.DataFrame(\n",
    "        data=rs, index=[np.arange(len(unique_temps))], columns=sorted(unique_temps)\n",
    "    )\n",
    "\n",
    "    for i, _ in enumerate(full_df[met_col]):\n",
    "        if full_df[met_col].iloc[i] < 1.0 and full_df[met_col].iloc[i] >= 0:\n",
    "            rounded = round(full_df[met_col].iloc[i], rounded_base)\n",
    "        else:\n",
    "            rounded = float(myround(full_df[met_col].iloc[i], base=1))\n",
    "        err = float(full_df[\"Abs_err\"].iloc[i])\n",
    "        temp_df[rounded].iloc[0] = abs(err) + abs(temp_df[rounded].iloc[0])\n",
    "        temp_df[rounded].iloc[-1] += 1\n",
    "\n",
    "    instances = temp_df.iloc[-1]\n",
    "    temp_df = temp_df.iloc[0]\n",
    "    temp_df = temp_df.loc[~(temp_df == 0)]\n",
    "    instances = instances.loc[~(instances == 0)]\n",
    "    return temp_df, instances"
   ]
  },
  {
   "cell_type": "code",
   "execution_count": null,
   "metadata": {},
   "outputs": [],
   "source": [
    "rain_df, instances = err_bucket(full_df, f\"precip_total_{station}\", 2)"
   ]
  },
  {
   "cell_type": "code",
   "execution_count": null,
   "metadata": {},
   "outputs": [],
   "source": [
    "plot_buckets(rain_df, instances, \"Precipitation [mm/hr]\", \"winter\", 1.0)"
   ]
  },
  {
   "cell_type": "code",
   "execution_count": null,
   "metadata": {},
   "outputs": [],
   "source": [
    "snow_df, instances = round_small(full_df, f\"snow_depth_{station}\", 2)"
   ]
  },
  {
   "cell_type": "code",
   "execution_count": null,
   "metadata": {},
   "outputs": [],
   "source": [
    "snow_df = snow_df.iloc[1:]\n",
    "instances = instances.iloc[1:]"
   ]
  },
  {
   "cell_type": "code",
   "execution_count": null,
   "metadata": {},
   "outputs": [],
   "source": [
    "plot_buckets(snow_df, instances, \"Accumulated Snow (m)\", \"cool\", 0.01)"
   ]
  },
  {
   "cell_type": "code",
   "execution_count": null,
   "metadata": {},
   "outputs": [],
   "source": [
    "wmax, instances = err_bucket(full_df, f\"wmax_sonic_{station}\", 2)"
   ]
  },
  {
   "cell_type": "code",
   "execution_count": null,
   "metadata": {},
   "outputs": [],
   "source": [
    "plot_buckets(wmax, instances, \"Wind Max (m/s)\", \"copper\", 1.0)"
   ]
  },
  {
   "cell_type": "code",
   "execution_count": null,
   "metadata": {},
   "outputs": [],
   "source": []
  }
 ],
 "metadata": {
  "kernelspec": {
   "display_name": "Python 3.9.16 ('base': conda)",
   "language": "python",
   "name": "python3"
  },
  "language_info": {
   "codemirror_mode": {
    "name": "ipython",
    "version": 3
   },
   "file_extension": ".py",
   "mimetype": "text/x-python",
   "name": "python",
   "nbconvert_exporter": "python",
   "pygments_lexer": "ipython3",
   "version": "3.9.16"
  },
  "orig_nbformat": 4,
  "vscode": {
   "interpreter": {
    "hash": "44818f36aeaf89db1a1d21a2bee6031a28b4e41595a65903b38b9b0c4417365f"
   }
  }
 },
 "nbformat": 4,
 "nbformat_minor": 2
}
