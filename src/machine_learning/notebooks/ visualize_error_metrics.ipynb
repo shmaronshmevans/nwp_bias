{
 "cells": [
  {
   "cell_type": "code",
   "execution_count": 157,
   "metadata": {},
   "outputs": [],
   "source": [
    "import pandas as pd\n",
    "import numpy as np\n",
    "import matplotlib.pyplot as plt\n",
    "import re\n",
    "import statistics as st\n",
    "from datetime import datetime"
   ]
  },
  {
   "cell_type": "code",
   "execution_count": 158,
   "metadata": {},
   "outputs": [],
   "source": [
    "model_path = \"/home/aevans/nwp_bias/src/machine_learning/data/lstm_eval_csvs/20240521/VOOR/VOOR_loss_0.29039093520906234_ml_output_VOOR.parquet\""
   ]
  },
  {
   "cell_type": "code",
   "execution_count": 159,
   "metadata": {},
   "outputs": [],
   "source": [
    "df = pd.read_parquet(model_path)\n",
    "df = df.sort_index()"
   ]
  },
  {
   "cell_type": "code",
   "execution_count": 160,
   "metadata": {},
   "outputs": [
    {
     "data": {
      "text/html": [
       "<div>\n",
       "<style scoped>\n",
       "    .dataframe tbody tr th:only-of-type {\n",
       "        vertical-align: middle;\n",
       "    }\n",
       "\n",
       "    .dataframe tbody tr th {\n",
       "        vertical-align: top;\n",
       "    }\n",
       "\n",
       "    .dataframe thead th {\n",
       "        text-align: right;\n",
       "    }\n",
       "</style>\n",
       "<table border=\"1\" class=\"dataframe\">\n",
       "  <thead>\n",
       "    <tr style=\"text-align: right;\">\n",
       "      <th></th>\n",
       "      <th>target_error_lead_0</th>\n",
       "      <th>Model forecast</th>\n",
       "      <th>diff</th>\n",
       "    </tr>\n",
       "  </thead>\n",
       "  <tbody>\n",
       "    <tr>\n",
       "      <th>0</th>\n",
       "      <td>-0.898754</td>\n",
       "      <td>-0.587250</td>\n",
       "      <td>-0.311504</td>\n",
       "    </tr>\n",
       "    <tr>\n",
       "      <th>1</th>\n",
       "      <td>-0.719284</td>\n",
       "      <td>-0.537059</td>\n",
       "      <td>-0.182225</td>\n",
       "    </tr>\n",
       "    <tr>\n",
       "      <th>2</th>\n",
       "      <td>-0.620341</td>\n",
       "      <td>-0.358690</td>\n",
       "      <td>-0.261651</td>\n",
       "    </tr>\n",
       "    <tr>\n",
       "      <th>3</th>\n",
       "      <td>-0.760743</td>\n",
       "      <td>-0.038499</td>\n",
       "      <td>-0.722245</td>\n",
       "    </tr>\n",
       "    <tr>\n",
       "      <th>4</th>\n",
       "      <td>-0.702514</td>\n",
       "      <td>0.572761</td>\n",
       "      <td>-1.275275</td>\n",
       "    </tr>\n",
       "    <tr>\n",
       "      <th>...</th>\n",
       "      <td>...</td>\n",
       "      <td>...</td>\n",
       "      <td>...</td>\n",
       "    </tr>\n",
       "    <tr>\n",
       "      <th>45249</th>\n",
       "      <td>-0.062534</td>\n",
       "      <td>-1.010861</td>\n",
       "      <td>0.948327</td>\n",
       "    </tr>\n",
       "    <tr>\n",
       "      <th>45250</th>\n",
       "      <td>-0.632795</td>\n",
       "      <td>-0.843460</td>\n",
       "      <td>0.210665</td>\n",
       "    </tr>\n",
       "    <tr>\n",
       "      <th>45251</th>\n",
       "      <td>-0.706664</td>\n",
       "      <td>-0.907011</td>\n",
       "      <td>0.200347</td>\n",
       "    </tr>\n",
       "    <tr>\n",
       "      <th>45252</th>\n",
       "      <td>-0.523162</td>\n",
       "      <td>-1.197491</td>\n",
       "      <td>0.674328</td>\n",
       "    </tr>\n",
       "    <tr>\n",
       "      <th>45253</th>\n",
       "      <td>-0.521472</td>\n",
       "      <td>-0.998599</td>\n",
       "      <td>0.477127</td>\n",
       "    </tr>\n",
       "  </tbody>\n",
       "</table>\n",
       "<p>45131 rows × 3 columns</p>\n",
       "</div>"
      ],
      "text/plain": [
       "       target_error_lead_0  Model forecast      diff\n",
       "0                -0.898754       -0.587250 -0.311504\n",
       "1                -0.719284       -0.537059 -0.182225\n",
       "2                -0.620341       -0.358690 -0.261651\n",
       "3                -0.760743       -0.038499 -0.722245\n",
       "4                -0.702514        0.572761 -1.275275\n",
       "...                    ...             ...       ...\n",
       "45249            -0.062534       -1.010861  0.948327\n",
       "45250            -0.632795       -0.843460  0.210665\n",
       "45251            -0.706664       -0.907011  0.200347\n",
       "45252            -0.523162       -1.197491  0.674328\n",
       "45253            -0.521472       -0.998599  0.477127\n",
       "\n",
       "[45131 rows x 3 columns]"
      ]
     },
     "execution_count": 160,
     "metadata": {},
     "output_type": "execute_result"
    }
   ],
   "source": [
    "df"
   ]
  },
  {
   "cell_type": "code",
   "execution_count": 161,
   "metadata": {},
   "outputs": [],
   "source": [
    "# rnn_path = \"/home/aevans/nwp_bias/src/machine_learning/data/lstm_eval_csvs/RNN/RAND_loss_0.037602543272078036_ml_output_RAND.parquet\"\n",
    "# rnn_df = pd.read_parquet(rnn_path)\n",
    "# rnn_df = rnn_df.sort_index()"
   ]
  },
  {
   "cell_type": "code",
   "execution_count": 162,
   "metadata": {},
   "outputs": [],
   "source": [
    "# rnn_df"
   ]
  },
  {
   "cell_type": "code",
   "execution_count": 163,
   "metadata": {},
   "outputs": [],
   "source": [
    "full_df = pd.read_parquet(\n",
    "    \"/home/aevans/nwp_bias/src/machine_learning/data/lstm_eval_csvs/20240521/VOOR/05_21_2024_13:05:19_full_VOOR.parquet\"\n",
    ")"
   ]
  },
  {
   "cell_type": "code",
   "execution_count": 164,
   "metadata": {},
   "outputs": [
    {
     "data": {
      "text/plain": [
       "Index(['valid_time', 'valid_time_cos', 'valid_time_sin', 'target_error',\n",
       "       't2m_VOOR', 'sh2_VOOR', 'd2m_VOOR', 'r2_VOOR', 'u10_VOOR', 'v10_VOOR',\n",
       "       ...\n",
       "       'relh_SCHO', 'srad_SCHO', 'pres_SCHO', 'mslp_SCHO',\n",
       "       'wspd_sonic_mean_SCHO', 'wspd_sonic_SCHO', 'wmax_sonic_SCHO',\n",
       "       'wdir_sonic_SCHO', 'snow_depth_SCHO', 'precip_total_SCHO'],\n",
       "      dtype='object', length=140)"
      ]
     },
     "execution_count": 164,
     "metadata": {},
     "output_type": "execute_result"
    }
   ],
   "source": [
    "full_df.keys()"
   ]
  },
  {
   "cell_type": "code",
   "execution_count": 165,
   "metadata": {},
   "outputs": [
    {
     "name": "stdout",
     "output_type": "stream",
     "text": [
      "valid_time\n",
      "valid_time_cos\n",
      "valid_time_sin\n",
      "target_error\n",
      "t2m_VOOR\n",
      "sh2_VOOR\n",
      "d2m_VOOR\n",
      "r2_VOOR\n",
      "u10_VOOR\n",
      "v10_VOOR\n",
      "tp_VOOR\n",
      "mslma_VOOR\n",
      "orog_VOOR\n",
      "tcc_VOOR\n",
      "asnow_VOOR\n",
      "cape_VOOR\n",
      "dswrf_VOOR\n",
      "dlwrf_VOOR\n",
      "gh_VOOR\n",
      "u_total_VOOR\n",
      "u_dir_VOOR\n",
      "new_tp_VOOR\n",
      "t2m_DUAN\n",
      "sh2_DUAN\n",
      "d2m_DUAN\n",
      "r2_DUAN\n",
      "u10_DUAN\n",
      "v10_DUAN\n",
      "tp_DUAN\n",
      "mslma_DUAN\n",
      "orog_DUAN\n",
      "tcc_DUAN\n",
      "asnow_DUAN\n",
      "cape_DUAN\n",
      "dswrf_DUAN\n",
      "dlwrf_DUAN\n",
      "gh_DUAN\n",
      "u_total_DUAN\n",
      "u_dir_DUAN\n",
      "new_tp_DUAN\n",
      "t2m_MEDU\n",
      "sh2_MEDU\n",
      "d2m_MEDU\n",
      "r2_MEDU\n",
      "u10_MEDU\n",
      "v10_MEDU\n",
      "tp_MEDU\n",
      "mslma_MEDU\n",
      "orog_MEDU\n",
      "tcc_MEDU\n",
      "asnow_MEDU\n",
      "cape_MEDU\n",
      "dswrf_MEDU\n",
      "dlwrf_MEDU\n",
      "gh_MEDU\n",
      "u_total_MEDU\n",
      "u_dir_MEDU\n",
      "new_tp_MEDU\n",
      "t2m_SCHO\n",
      "sh2_SCHO\n",
      "d2m_SCHO\n",
      "r2_SCHO\n",
      "u10_SCHO\n",
      "v10_SCHO\n",
      "tp_SCHO\n",
      "mslma_SCHO\n",
      "orog_SCHO\n",
      "tcc_SCHO\n",
      "asnow_SCHO\n",
      "cape_SCHO\n",
      "dswrf_SCHO\n",
      "dlwrf_SCHO\n",
      "gh_SCHO\n",
      "u_total_SCHO\n",
      "u_dir_SCHO\n",
      "new_tp_SCHO\n",
      "lat_VOOR\n",
      "lon_VOOR\n",
      "elev_VOOR\n",
      "tair_VOOR\n",
      "ta9m_VOOR\n",
      "td_VOOR\n",
      "relh_VOOR\n",
      "srad_VOOR\n",
      "pres_VOOR\n",
      "mslp_VOOR\n",
      "wspd_sonic_mean_VOOR\n",
      "wspd_sonic_VOOR\n",
      "wmax_sonic_VOOR\n",
      "wdir_sonic_VOOR\n",
      "snow_depth_VOOR\n",
      "precip_total_VOOR\n",
      "lat_DUAN\n",
      "lon_DUAN\n",
      "elev_DUAN\n",
      "tair_DUAN\n",
      "ta9m_DUAN\n",
      "td_DUAN\n",
      "relh_DUAN\n",
      "srad_DUAN\n",
      "pres_DUAN\n",
      "mslp_DUAN\n",
      "wspd_sonic_mean_DUAN\n",
      "wspd_sonic_DUAN\n",
      "wmax_sonic_DUAN\n",
      "wdir_sonic_DUAN\n",
      "snow_depth_DUAN\n",
      "precip_total_DUAN\n",
      "lat_MEDU\n",
      "lon_MEDU\n",
      "elev_MEDU\n",
      "tair_MEDU\n",
      "ta9m_MEDU\n",
      "td_MEDU\n",
      "relh_MEDU\n",
      "srad_MEDU\n",
      "pres_MEDU\n",
      "mslp_MEDU\n",
      "wspd_sonic_mean_MEDU\n",
      "wspd_sonic_MEDU\n",
      "wmax_sonic_MEDU\n",
      "wdir_sonic_MEDU\n",
      "snow_depth_MEDU\n",
      "precip_total_MEDU\n",
      "lat_SCHO\n",
      "lon_SCHO\n",
      "elev_SCHO\n",
      "tair_SCHO\n",
      "ta9m_SCHO\n",
      "td_SCHO\n",
      "relh_SCHO\n",
      "srad_SCHO\n",
      "pres_SCHO\n",
      "mslp_SCHO\n",
      "wspd_sonic_mean_SCHO\n",
      "wspd_sonic_SCHO\n",
      "wmax_sonic_SCHO\n",
      "wdir_sonic_SCHO\n",
      "snow_depth_SCHO\n",
      "precip_total_SCHO\n"
     ]
    }
   ],
   "source": [
    "for k in full_df.keys():\n",
    "    print(k)"
   ]
  },
  {
   "cell_type": "code",
   "execution_count": 166,
   "metadata": {},
   "outputs": [],
   "source": [
    "df[\"valid_time\"] = full_df[\"valid_time\"]\n",
    "# df['rnn_err'] = rnn_df['diff']"
   ]
  },
  {
   "cell_type": "code",
   "execution_count": 167,
   "metadata": {},
   "outputs": [
    {
     "data": {
      "text/html": [
       "<div>\n",
       "<style scoped>\n",
       "    .dataframe tbody tr th:only-of-type {\n",
       "        vertical-align: middle;\n",
       "    }\n",
       "\n",
       "    .dataframe tbody tr th {\n",
       "        vertical-align: top;\n",
       "    }\n",
       "\n",
       "    .dataframe thead th {\n",
       "        text-align: right;\n",
       "    }\n",
       "</style>\n",
       "<table border=\"1\" class=\"dataframe\">\n",
       "  <thead>\n",
       "    <tr style=\"text-align: right;\">\n",
       "      <th></th>\n",
       "      <th>target_error_lead_0</th>\n",
       "      <th>Model forecast</th>\n",
       "      <th>diff</th>\n",
       "      <th>valid_time</th>\n",
       "    </tr>\n",
       "  </thead>\n",
       "  <tbody>\n",
       "    <tr>\n",
       "      <th>0</th>\n",
       "      <td>-0.898754</td>\n",
       "      <td>-0.587250</td>\n",
       "      <td>-0.311504</td>\n",
       "      <td>2018-01-01 04:00:00</td>\n",
       "    </tr>\n",
       "    <tr>\n",
       "      <th>1</th>\n",
       "      <td>-0.719284</td>\n",
       "      <td>-0.537059</td>\n",
       "      <td>-0.182225</td>\n",
       "      <td>2018-01-01 05:00:00</td>\n",
       "    </tr>\n",
       "    <tr>\n",
       "      <th>2</th>\n",
       "      <td>-0.620341</td>\n",
       "      <td>-0.358690</td>\n",
       "      <td>-0.261651</td>\n",
       "      <td>2018-01-01 06:00:00</td>\n",
       "    </tr>\n",
       "    <tr>\n",
       "      <th>3</th>\n",
       "      <td>-0.760743</td>\n",
       "      <td>-0.038499</td>\n",
       "      <td>-0.722245</td>\n",
       "      <td>2018-01-01 07:00:00</td>\n",
       "    </tr>\n",
       "    <tr>\n",
       "      <th>4</th>\n",
       "      <td>-0.702514</td>\n",
       "      <td>0.572761</td>\n",
       "      <td>-1.275275</td>\n",
       "      <td>2018-01-01 08:00:00</td>\n",
       "    </tr>\n",
       "    <tr>\n",
       "      <th>...</th>\n",
       "      <td>...</td>\n",
       "      <td>...</td>\n",
       "      <td>...</td>\n",
       "      <td>...</td>\n",
       "    </tr>\n",
       "    <tr>\n",
       "      <th>45249</th>\n",
       "      <td>-0.062534</td>\n",
       "      <td>-1.010861</td>\n",
       "      <td>0.948327</td>\n",
       "      <td>2023-11-22 16:00:00</td>\n",
       "    </tr>\n",
       "    <tr>\n",
       "      <th>45250</th>\n",
       "      <td>-0.632795</td>\n",
       "      <td>-0.843460</td>\n",
       "      <td>0.210665</td>\n",
       "      <td>2023-11-22 17:00:00</td>\n",
       "    </tr>\n",
       "    <tr>\n",
       "      <th>45251</th>\n",
       "      <td>-0.706664</td>\n",
       "      <td>-0.907011</td>\n",
       "      <td>0.200347</td>\n",
       "      <td>2023-11-22 18:00:00</td>\n",
       "    </tr>\n",
       "    <tr>\n",
       "      <th>45252</th>\n",
       "      <td>-0.523162</td>\n",
       "      <td>-1.197491</td>\n",
       "      <td>0.674328</td>\n",
       "      <td>2023-11-22 19:00:00</td>\n",
       "    </tr>\n",
       "    <tr>\n",
       "      <th>45253</th>\n",
       "      <td>-0.521472</td>\n",
       "      <td>-0.998599</td>\n",
       "      <td>0.477127</td>\n",
       "      <td>2023-11-22 20:00:00</td>\n",
       "    </tr>\n",
       "  </tbody>\n",
       "</table>\n",
       "<p>45131 rows × 4 columns</p>\n",
       "</div>"
      ],
      "text/plain": [
       "       target_error_lead_0  Model forecast      diff          valid_time\n",
       "0                -0.898754       -0.587250 -0.311504 2018-01-01 04:00:00\n",
       "1                -0.719284       -0.537059 -0.182225 2018-01-01 05:00:00\n",
       "2                -0.620341       -0.358690 -0.261651 2018-01-01 06:00:00\n",
       "3                -0.760743       -0.038499 -0.722245 2018-01-01 07:00:00\n",
       "4                -0.702514        0.572761 -1.275275 2018-01-01 08:00:00\n",
       "...                    ...             ...       ...                 ...\n",
       "45249            -0.062534       -1.010861  0.948327 2023-11-22 16:00:00\n",
       "45250            -0.632795       -0.843460  0.210665 2023-11-22 17:00:00\n",
       "45251            -0.706664       -0.907011  0.200347 2023-11-22 18:00:00\n",
       "45252            -0.523162       -1.197491  0.674328 2023-11-22 19:00:00\n",
       "45253            -0.521472       -0.998599  0.477127 2023-11-22 20:00:00\n",
       "\n",
       "[45131 rows x 4 columns]"
      ]
     },
     "execution_count": 167,
     "metadata": {},
     "output_type": "execute_result"
    }
   ],
   "source": [
    "df"
   ]
  },
  {
   "cell_type": "code",
   "execution_count": 168,
   "metadata": {},
   "outputs": [],
   "source": [
    "def which_fold(df, fold):\n",
    "    length = len(df)\n",
    "    test_len = int(length * 0.2)\n",
    "    df_train = pd.DataFrame()\n",
    "\n",
    "    for n in np.arange(0, 5):\n",
    "        if n != fold:\n",
    "            df1 = df.iloc[int(0.2 * n * length) : int(0.2 * (n + 1) * length)]\n",
    "            df_train = pd.concat([df_train, df1])\n",
    "        else:\n",
    "            df_test = df.iloc[int(0.2 * n * length) : int(0.2 * (n + 1) * length)]\n",
    "\n",
    "    return df_train['valid_time'], df_test['valid_time']"
   ]
  },
  {
   "cell_type": "code",
   "execution_count": 169,
   "metadata": {},
   "outputs": [],
   "source": [
    "station = \"VOOR\""
   ]
  },
  {
   "cell_type": "code",
   "execution_count": 170,
   "metadata": {},
   "outputs": [],
   "source": [
    "df['valid_time'] = pd.to_datetime(df['valid_time'])"
   ]
  },
  {
   "cell_type": "code",
   "execution_count": 171,
   "metadata": {},
   "outputs": [],
   "source": [
    "df.dropna(inplace=True)"
   ]
  },
  {
   "cell_type": "code",
   "execution_count": 172,
   "metadata": {},
   "outputs": [],
   "source": [
    "df_train, df_test = which_fold(df, 4)"
   ]
  },
  {
   "cell_type": "code",
   "execution_count": 173,
   "metadata": {},
   "outputs": [
    {
     "data": {
      "text/plain": [
       "Timestamp('2022-08-16 11:00:00')"
      ]
     },
     "execution_count": 173,
     "metadata": {},
     "output_type": "execute_result"
    }
   ],
   "source": [
    "df_test.iloc[0]"
   ]
  },
  {
   "cell_type": "code",
   "execution_count": 174,
   "metadata": {},
   "outputs": [
    {
     "data": {
      "text/plain": [
       "Timestamp('2023-11-22 20:00:00')"
      ]
     },
     "execution_count": 174,
     "metadata": {},
     "output_type": "execute_result"
    }
   ],
   "source": [
    "df_test.iloc[-1]"
   ]
  },
  {
   "cell_type": "code",
   "execution_count": 180,
   "metadata": {},
   "outputs": [],
   "source": [
    "df = df[df['valid_time'] > datetime(2021, 3, 1, 0, 0, 0)]\n",
    "df = df[df['valid_time'] < datetime(2021, 4, 28, 23, 0, 0)]"
   ]
  },
  {
   "cell_type": "code",
   "execution_count": 181,
   "metadata": {},
   "outputs": [
    {
     "data": {
      "text/plain": [
       "0.9541781403068647"
      ]
     },
     "execution_count": 181,
     "metadata": {},
     "output_type": "execute_result"
    }
   ],
   "source": [
    "mean = st.mean(abs(df['diff']))\n",
    "mean"
   ]
  },
  {
   "cell_type": "code",
   "execution_count": 182,
   "metadata": {},
   "outputs": [],
   "source": [
    "import matplotlib.dates as mdates"
   ]
  },
  {
   "cell_type": "code",
   "execution_count": 183,
   "metadata": {},
   "outputs": [],
   "source": [
    "import matplotlib.pyplot as plt\n",
    "import matplotlib.dates as mdates\n",
    "import numpy as np\n",
    "\n",
    "def ml_output(df, fold, station):\n",
    "    fig, ax = plt.subplots(figsize=(24, 6))\n",
    "    x = df[\"valid_time\"]\n",
    "\n",
    "    # Convert datetime values to numerical values\n",
    "    x_numeric = mdates.date2num(x)\n",
    "\n",
    "    # Assuming your timestamps are in a datetime64 format\n",
    "    day_mask = (x.dt.hour >= 6) & (x.dt.hour < 18)  # Adjust the hours based on your day/night definition\n",
    "\n",
    "    plt.plot(x, df[\"target_error_lead_0\"], c=\"r\", linewidth=3, label=\"T2M_error: HRRR\")\n",
    "    plt.plot(x, df[\"Model forecast\"], c=\"b\", alpha=0.7, label=\"LSTM Output\")\n",
    "    # plt.plot(x, df[\"rnn_err\"], c=\"g\", alpha=0.7, label=\"RNN Output\")\n",
    "\n",
    "    # plt.axvline(\n",
    "    #     x=(int(0.2 * len(x)) * fold),\n",
    "    #     c=\"green\",\n",
    "    #     linestyle=\"--\",\n",
    "    #     linewidth=2.0,\n",
    "    #     label=\"Test Set Start\",\n",
    "    # )\n",
    "    # plt.axvline(\n",
    "    #     x=(int(0.2 * len(x)) * (fold + 1)),\n",
    "    #     c=\"red\",\n",
    "    #     linestyle=\"--\",\n",
    "    #     linewidth=2.0,\n",
    "    #     label=\"Test Set Finish\",\n",
    "    # )\n",
    "\n",
    "\n",
    "\n",
    "    # Fill daytime hours with white color\n",
    "    ax.fill_between(x_numeric, -10, 10.1, where=day_mask, color=\"white\", alpha=0.5, label=\"Daytime\")\n",
    "\n",
    "    # Fill nighttime hours with grey color\n",
    "    ax.fill_between(x_numeric, -10, 10.1, where=~day_mask, color=\"grey\", alpha=0.2, label=\"Nighttime\")\n",
    "\n",
    "    ax.set_title(f\"LSTM Output v Target: {station}: FH30\", fontsize=28)\n",
    "    # plt.ylim(-5, 5.)\n",
    "    ax.legend()\n",
    "    \n",
    "    plt.show()\n",
    "\n",
    "# Example usage\n",
    "# ml_output(df, fold, station)\n"
   ]
  },
  {
   "cell_type": "code",
   "execution_count": 184,
   "metadata": {},
   "outputs": [
    {
     "data": {
      "image/png": "[encoded data removed]",
      "text/plain": [
       "<Figure size 2400x600 with 1 Axes>"
      ]
     },
     "metadata": {},
     "output_type": "display_data"
    }
   ],
   "source": [
    "x = ml_output(df, 4, station)"
   ]
  },
  {
   "cell_type": "code",
   "execution_count": 156,
   "metadata": {},
   "outputs": [],
   "source": [
    "full_df[\"Abs_err\"] = df[\"diff\"]"
   ]
  },
  {
   "cell_type": "code",
   "execution_count": null,
   "metadata": {},
   "outputs": [],
   "source": [
    "for k in full_df.columns:\n",
    "    if re.search(\n",
    "        f\"{station}|valid|Model forecast|Abs_err\",\n",
    "        k,\n",
    "    ):\n",
    "        continue\n",
    "    else:\n",
    "        full_df = full_df.drop(columns=[k])"
   ]
  },
  {
   "cell_type": "code",
   "execution_count": null,
   "metadata": {},
   "outputs": [],
   "source": [
    "# test_len = int(len(full_df['valid_time'])*0.2)\n",
    "# full_df = full_df.iloc[0:test_len]"
   ]
  },
  {
   "cell_type": "code",
   "execution_count": null,
   "metadata": {},
   "outputs": [],
   "source": [
    "def groupby_month(df, col):\n",
    "    df = df[df[col] > -999]\n",
    "    GB = df.groupby([(df.valid_time.dt.month), (df.valid_time.dt.year)])[col].mean()\n",
    "    the_list = GB.tolist()\n",
    "    fig, ax = plt.subplots(figsize=(21, 6))\n",
    "    x = np.arange(1, len(the_list) + 1)\n",
    "    plt.bar(x, the_list)\n",
    "    ax.set_xticklabels([2018, 2019, 2020, 2021, 2022, 2023])\n",
    "    ax.set_xticks(np.arange(1, len(the_list) + 1, int((len(the_list) + 1) / 6)))\n",
    "    return the_list"
   ]
  },
  {
   "cell_type": "code",
   "execution_count": null,
   "metadata": {},
   "outputs": [],
   "source": [
    "err_by_month = groupby_month(full_df, \"Abs_err\")"
   ]
  },
  {
   "cell_type": "code",
   "execution_count": null,
   "metadata": {},
   "outputs": [],
   "source": [
    "def groupby_time(df, col):\n",
    "    df = df[df[col] > -999]\n",
    "    GB = df.groupby([(df.valid_time.dt.hour)])[col].mean()\n",
    "    the_list = GB.tolist()\n",
    "    fig, ax = plt.subplots(figsize=(21, 6))\n",
    "    x = np.arange(0, len(the_list))\n",
    "    plt.bar(x, the_list, color=\"g\")\n",
    "    return the_list"
   ]
  },
  {
   "cell_type": "code",
   "execution_count": null,
   "metadata": {},
   "outputs": [],
   "source": [
    "err_by_time = groupby_time(full_df, \"Abs_err\")"
   ]
  },
  {
   "cell_type": "code",
   "execution_count": null,
   "metadata": {},
   "outputs": [],
   "source": [
    "def myround(x, base):\n",
    "    return base * round(x / base)"
   ]
  },
  {
   "cell_type": "code",
   "execution_count": null,
   "metadata": {},
   "outputs": [],
   "source": [
    "# function to get unique values\n",
    "def unique(list1):\n",
    "    # initialize a null list\n",
    "    unique_list = []\n",
    "\n",
    "    # traverse for all elements\n",
    "    for x in list1:\n",
    "        # check if exists in unique_list or not\n",
    "        if x not in unique_list:\n",
    "            unique_list.append(x)\n",
    "    return unique_list"
   ]
  },
  {
   "cell_type": "code",
   "execution_count": null,
   "metadata": {},
   "outputs": [],
   "source": [
    "def err_bucket(full_df, met_col, rounded_base):\n",
    "    temps = []\n",
    "    for i, _ in enumerate(full_df[met_col]):\n",
    "        rounded = myround(full_df[met_col].iloc[i], rounded_base)\n",
    "        temps.append(rounded)\n",
    "\n",
    "    unique_temps = unique(temps)\n",
    "\n",
    "    zeros = np.zeros(len(unique_temps))\n",
    "    rs = np.resize(zeros, (len(unique_temps), len(unique_temps)))\n",
    "\n",
    "    temp_df = pd.DataFrame(\n",
    "        data=rs, index=[np.arange(len(unique_temps))], columns=sorted(unique_temps)\n",
    "    )\n",
    "\n",
    "    for i, _ in enumerate(full_df[met_col]):\n",
    "        rounded = myround(full_df[met_col].iloc[i], rounded_base)\n",
    "        err = full_df[\"Abs_err\"].iloc[i]\n",
    "        temp_df[rounded].iloc[0] = abs(err) + abs(temp_df[rounded].iloc[0])\n",
    "        temp_df[rounded].iloc[-1] += 1\n",
    "\n",
    "    instances = temp_df.iloc[-1]\n",
    "    temp_df = temp_df.iloc[0]\n",
    "\n",
    "    return temp_df, instances"
   ]
  },
  {
   "cell_type": "code",
   "execution_count": null,
   "metadata": {},
   "outputs": [],
   "source": [
    "def plot_buckets(temp_df, instances, var_name, cmap, width):\n",
    "    my_cmap = plt.get_cmap(cmap)\n",
    "    averages = temp_df / instances\n",
    "    y = averages\n",
    "    rescale = lambda y: (y - np.min(y)) / (np.max(y) - np.min(y))\n",
    "    the_list = averages.tolist()\n",
    "    fig, ax = plt.subplots(figsize=(21, 6), facecolor=\"slategrey\", layout=\"compressed\")\n",
    "    bars = plt.bar(temp_df.keys(), the_list, color=my_cmap(rescale(y)), width=width)\n",
    "    ax.set_title(\"Absolute Error of LSTM\", fontsize=28, c=\"white\")\n",
    "    ax.set_xlabel(var_name, fontsize=18, c=\"white\")\n",
    "    ax.set_ylabel(\"Mean Absolute Error\", fontsize=18, c=\"white\")\n",
    "    # Iterating over the bars one-by-one\n",
    "    # Annotate each bar with its value\n",
    "    # Annotate each bar with the number of instances\n",
    "    for bar, value, instance_count in zip(bars, the_list, instances):\n",
    "        yval = value + 0.01  # Adjust the vertical position of the label\n",
    "        ax.text(\n",
    "            bar.get_x() + bar.get_width() / 2,\n",
    "            yval,\n",
    "            f\"n={instance_count}\",\n",
    "            ha=\"center\",\n",
    "            va=\"bottom\",\n",
    "            color=\"black\",\n",
    "            fontsize=12,\n",
    "            rotation=90,\n",
    "        )"
   ]
  },
  {
   "cell_type": "code",
   "execution_count": null,
   "metadata": {},
   "outputs": [],
   "source": [
    "for k in full_df.keys():\n",
    "    print(k)"
   ]
  },
  {
   "cell_type": "code",
   "execution_count": null,
   "metadata": {},
   "outputs": [],
   "source": [
    "# diector = sorted(os.listdir('/home/aevans/nwp_bias/src/machine_learning/data/lstm_eval_csvs/20231129/'))\n",
    "\n",
    "# for d in diector:\n",
    "#         full_df = pd.read_parquet(\n",
    "#         f\"/home/aevans/nwp_bias/src/machine_learning/data/lstm_eval_csvs/20231129/{d}\"\n",
    "#     )\n",
    "#         for k in full_df.columns:\n",
    "#             if re.search(\n",
    "#                 f\"{station}\",\n",
    "#                 k,\n",
    "#             ):\n",
    "#                 print(\"Succes!!\")\n",
    "#                 print(d)\n",
    "#             else:\n",
    "#                 continue"
   ]
  },
  {
   "cell_type": "code",
   "execution_count": null,
   "metadata": {},
   "outputs": [],
   "source": [
    "temp_df, instances = err_bucket(full_df, f\"tair_{station}\", 2)"
   ]
  },
  {
   "cell_type": "code",
   "execution_count": null,
   "metadata": {},
   "outputs": [],
   "source": [
    "plot_buckets(temp_df, instances, \"Temperature (C)\", \"Wistia\", 2.5)"
   ]
  },
  {
   "cell_type": "code",
   "execution_count": null,
   "metadata": {},
   "outputs": [],
   "source": [
    "relh_df, instances = err_bucket(full_df, f\"relh_{station}\", 2)"
   ]
  },
  {
   "cell_type": "code",
   "execution_count": null,
   "metadata": {},
   "outputs": [],
   "source": [
    "plot_buckets(relh_df, instances, \"Relative Humidity (%)\", \"copper\", 2.5)"
   ]
  },
  {
   "cell_type": "code",
   "execution_count": null,
   "metadata": {},
   "outputs": [],
   "source": [
    "new_df, instances = err_bucket(full_df, f\"srad_{station}\", 40)"
   ]
  },
  {
   "cell_type": "code",
   "execution_count": null,
   "metadata": {},
   "outputs": [],
   "source": [
    "plot_buckets(new_df, instances, \"Solar Radiation (W / m*m)\", \"copper\", 50.0)"
   ]
  },
  {
   "cell_type": "code",
   "execution_count": null,
   "metadata": {},
   "outputs": [],
   "source": [
    "pres_df, instances = err_bucket(full_df, f\"pres_{station}\", 2)"
   ]
  },
  {
   "cell_type": "code",
   "execution_count": null,
   "metadata": {},
   "outputs": [],
   "source": [
    "full_df[f\"pres_{station}\"].mean()"
   ]
  },
  {
   "cell_type": "code",
   "execution_count": null,
   "metadata": {},
   "outputs": [],
   "source": [
    "plot_buckets(pres_df, instances, \"Surface Pressure (mb)\", \"copper\", 1.5)"
   ]
  },
  {
   "cell_type": "code",
   "execution_count": null,
   "metadata": {},
   "outputs": [],
   "source": [
    "def round_small(full_df, met_col, rounded_base):\n",
    "    temps = []\n",
    "    for i, _ in enumerate(full_df[met_col]):\n",
    "        if full_df[met_col].iloc[i] < 1.0 and full_df[met_col].iloc[i] >= 0:\n",
    "            rounded = round(full_df[met_col].iloc[i], rounded_base)\n",
    "            temps.append(rounded)\n",
    "        else:\n",
    "            rounded = myround(full_df[met_col].iloc[i], 1)\n",
    "            temps.append(rounded)\n",
    "\n",
    "    unique_temps = unique(temps)\n",
    "\n",
    "    zeros = np.zeros(len(unique_temps))\n",
    "    rs = np.resize(zeros, (len(unique_temps), len(unique_temps)))\n",
    "    temp_df = pd.DataFrame(\n",
    "        data=rs, index=[np.arange(len(unique_temps))], columns=sorted(unique_temps)\n",
    "    )\n",
    "\n",
    "    for i, _ in enumerate(full_df[met_col]):\n",
    "        if full_df[met_col].iloc[i] < 1.0 and full_df[met_col].iloc[i] >= 0:\n",
    "            rounded = round(full_df[met_col].iloc[i], rounded_base)\n",
    "        else:\n",
    "            rounded = float(myround(full_df[met_col].iloc[i], base=1))\n",
    "        err = float(full_df[\"Abs_err\"].iloc[i])\n",
    "        temp_df[rounded].iloc[0] = abs(err) + abs(temp_df[rounded].iloc[0])\n",
    "        temp_df[rounded].iloc[-1] += 1\n",
    "\n",
    "    instances = temp_df.iloc[-1]\n",
    "    temp_df = temp_df.iloc[0]\n",
    "    temp_df = temp_df.loc[~(temp_df == 0)]\n",
    "    instances = instances.loc[~(instances == 0)]\n",
    "    return temp_df, instances"
   ]
  },
  {
   "cell_type": "code",
   "execution_count": null,
   "metadata": {},
   "outputs": [],
   "source": [
    "rain_df, instances = err_bucket(full_df, f\"precip_total_{station}\", 2)"
   ]
  },
  {
   "cell_type": "code",
   "execution_count": null,
   "metadata": {},
   "outputs": [],
   "source": [
    "plot_buckets(rain_df, instances, \"Precipitation [mm/hr]\", \"winter\", 1.0)"
   ]
  },
  {
   "cell_type": "code",
   "execution_count": null,
   "metadata": {},
   "outputs": [],
   "source": [
    "snow_df, instances = round_small(full_df, f\"snow_depth_{station}\", 2)"
   ]
  },
  {
   "cell_type": "code",
   "execution_count": null,
   "metadata": {},
   "outputs": [],
   "source": [
    "snow_df = snow_df.iloc[1:]\n",
    "instances = instances.iloc[1:]"
   ]
  },
  {
   "cell_type": "code",
   "execution_count": null,
   "metadata": {},
   "outputs": [],
   "source": [
    "plot_buckets(snow_df, instances, \"Accumulated Snow (m)\", \"cool\", 0.01)"
   ]
  },
  {
   "cell_type": "code",
   "execution_count": null,
   "metadata": {},
   "outputs": [],
   "source": [
    "wmax, instances = err_bucket(full_df, f\"wmax_sonic_{station}\", 2)"
   ]
  },
  {
   "cell_type": "code",
   "execution_count": null,
   "metadata": {},
   "outputs": [],
   "source": [
    "plot_buckets(wmax, instances, \"Wind Max (m/s)\", \"copper\", 1.0)"
   ]
  },
  {
   "cell_type": "code",
   "execution_count": null,
   "metadata": {},
   "outputs": [],
   "source": []
  }
 ],
 "metadata": {
  "kernelspec": {
   "display_name": "Python 3.9.16 ('base': conda)",
   "language": "python",
   "name": "python3"
  },
  "language_info": {
   "codemirror_mode": {
    "name": "ipython",
    "version": 3
   },
   "file_extension": ".py",
   "mimetype": "text/x-python",
   "name": "python",
   "nbconvert_exporter": "python",
   "pygments_lexer": "ipython3",
   "version": "3.9.16"
  },
  "orig_nbformat": 4,
  "vscode": {
   "interpreter": {
    "hash": "44818f36aeaf89db1a1d21a2bee6031a28b4e41595a65903b38b9b0c4417365f"
   }
  }
 },
 "nbformat": 4,
 "nbformat_minor": 2
}
