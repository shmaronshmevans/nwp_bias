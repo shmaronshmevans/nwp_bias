{
 "cells": [
  {
   "cell_type": "code",
   "execution_count": null,
   "metadata": {},
   "outputs": [],
   "source": [
    "%load_ext autoreload\n",
    "%autoreload 2\n",
    "import sys\n",
    "\n",
    "# instead of creating a package using setup.py or building from a docker/singularity file,\n",
    "# import the sister directory of src code to be called on in notebook.\n",
    "# This keeps the notebook free from code to only hold visualizations and is easier to test\n",
    "# It also helps keep the state of variables clean such that cells aren't run out of order with a mysterious state\n",
    "sys.path.append(\"..\")"
   ]
  },
  {
   "cell_type": "code",
   "execution_count": null,
   "metadata": {},
   "outputs": [],
   "source": [
    "import xarray as xr\n",
    "import numpy as np\n",
    "import pandas as pd\n",
    "import datetime as dt\n",
    "import glob\n",
    "import os\n",
    "import matplotlib.pyplot as plt"
   ]
  },
  {
   "cell_type": "code",
   "execution_count": null,
   "metadata": {},
   "outputs": [],
   "source": [
    "save_path = \"/home/aevans/nwp_bias/src/machine_learning/data/profiler_images/\""
   ]
  },
  {
   "cell_type": "code",
   "execution_count": null,
   "metadata": {},
   "outputs": [],
   "source": [
    "radiometer_data_path = (\n",
    "    \"/home/aevans/nysm/archive/profiler/netcdf/proc-range/2024/02/20240201.nc\"\n",
    ")"
   ]
  },
  {
   "cell_type": "code",
   "execution_count": null,
   "metadata": {},
   "outputs": [],
   "source": [
    "df = xr.open_mfdataset(f\"{radiometer_data_path}\")"
   ]
  },
  {
   "cell_type": "code",
   "execution_count": null,
   "metadata": {},
   "outputs": [],
   "source": [
    "df"
   ]
  },
  {
   "cell_type": "code",
   "execution_count": null,
   "metadata": {},
   "outputs": [],
   "source": [
    "df = df.to_dataframe()"
   ]
  },
  {
   "cell_type": "code",
   "execution_count": null,
   "metadata": {},
   "outputs": [],
   "source": [
    "df.reset_index(inplace=True)"
   ]
  },
  {
   "cell_type": "code",
   "execution_count": null,
   "metadata": {},
   "outputs": [],
   "source": [
    "# sites = df['station'].unique()\n",
    "# for i in np.arange(2018,2026):\n",
    "#     for s in sites:\n",
    "#         os.mkdir(f'{save_path}/{i}/{s}')"
   ]
  },
  {
   "cell_type": "code",
   "execution_count": null,
   "metadata": {},
   "outputs": [],
   "source": [
    "df[\"temperature\"] = df[\"temperature\"] - 273.13\n",
    "df[\"ir_temperature\"] = df[\"ir_temperature\"] - 273.13\n",
    "df[\"dewpoint\"] = df[\"dewpoint\"] - 273.13\n",
    "df[\"relative_humidity\"] = df[\"relative_humidity\"] / 100"
   ]
  },
  {
   "cell_type": "code",
   "execution_count": null,
   "metadata": {},
   "outputs": [],
   "source": [
    "for c in df.columns:\n",
    "    print(\"column\", c)\n",
    "    # Count NaN values in the 'temperature' column\n",
    "    nan_count = df[c].isna().sum()\n",
    "\n",
    "    percent = (nan_count / 423504) * 100\n",
    "    print(\"percent of column that is corrupted\", percent)"
   ]
  },
  {
   "cell_type": "code",
   "execution_count": null,
   "metadata": {},
   "outputs": [],
   "source": [
    "# Drop columns with the suffix '_qc'\n",
    "df = df.drop(columns=df.filter(like=\"_qc\").columns)\n",
    "df = df.drop(columns=df.filter(like=\"surface\").columns)\n",
    "drop_list = [\"v\", \"w\", \"velocity\", \"direction\", \"u\", \"cnr\", \"rws\"]\n",
    "df = df.drop(columns=drop_list)\n",
    "df = df[df[\"range\"] <= 5000]\n",
    "df.head()"
   ]
  },
  {
   "cell_type": "code",
   "execution_count": null,
   "metadata": {},
   "outputs": [],
   "source": [
    "df = df[df[\"station\"] == \"PROF_ALBA\"]\n",
    "df.fillna(-999, inplace=True)\n",
    "df = df.drop(columns=\"station\")\n",
    "df[\"time\"] = pd.to_datetime(df[\"time\"])"
   ]
  },
  {
   "cell_type": "code",
   "execution_count": null,
   "metadata": {},
   "outputs": [],
   "source": [
    "# Extract unique days\n",
    "unique_days = df[\"time\"].dt.date.unique()"
   ]
  },
  {
   "cell_type": "code",
   "execution_count": null,
   "metadata": {},
   "outputs": [],
   "source": [
    "unique_days"
   ]
  },
  {
   "cell_type": "code",
   "execution_count": null,
   "metadata": {},
   "outputs": [],
   "source": [
    "# # Filter rows where the hour matches the query time's hour\n",
    "# filtered_df = df[df['datetime'].dt.hour == query_time.hour]"
   ]
  },
  {
   "cell_type": "code",
   "execution_count": null,
   "metadata": {},
   "outputs": [],
   "source": [
    "df"
   ]
  },
  {
   "cell_type": "code",
   "execution_count": null,
   "metadata": {},
   "outputs": [],
   "source": [
    "skip_list = [\"time\", \"range\"]\n",
    "for c in df.columns:\n",
    "    if c in skip_list:\n",
    "        continue\n",
    "    else:\n",
    "        var_pivot = df.pivot(index=\"range\", columns=\"time\", values=c)\n",
    "        var_array = var_pivot.to_numpy()\n",
    "        try:\n",
    "            stacked_array = np.vstack((stacked_array, var_array))\n",
    "        except:\n",
    "            stacked_array = var_array"
   ]
  },
  {
   "cell_type": "code",
   "execution_count": null,
   "metadata": {},
   "outputs": [],
   "source": [
    "stacked_array"
   ]
  }
 ],
 "metadata": {
  "kernelspec": {
   "display_name": "Python 3.11.0 ('metpy-ams-2023': conda)",
   "language": "python",
   "name": "python3"
  },
  "language_info": {
   "codemirror_mode": {
    "name": "ipython",
    "version": 3
   },
   "file_extension": ".py",
   "mimetype": "text/x-python",
   "name": "python",
   "nbconvert_exporter": "python",
   "pygments_lexer": "ipython3",
   "version": "3.11.0"
  },
  "orig_nbformat": 4,
  "vscode": {
   "interpreter": {
    "hash": "e61dc22b1d7735d9ed6eeec2ec3738742023a22462180b494137f4b5863456cf"
   }
  }
 },
 "nbformat": 4,
 "nbformat_minor": 2
}
