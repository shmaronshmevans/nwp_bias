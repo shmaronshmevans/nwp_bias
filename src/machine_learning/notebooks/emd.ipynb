{
 "cells": [
  {
   "cell_type": "code",
   "execution_count": 1,
   "metadata": {},
   "outputs": [],
   "source": [
    "%load_ext autoreload\n",
    "%autoreload 2\n",
    "import sys\n",
    "\n",
    "# instead of creating a package using setup.py or building from a docker/singularity file,\n",
    "# import the sister directory of src code to be called on in notebook.\n",
    "# This keeps the notebook free from code to only hold visualizations and is easier to test\n",
    "# It also helps keep the state of variables clean such that cells aren't run out of order with a mysterious state\n",
    "sys.path.append(\"..\")"
   ]
  },
  {
   "cell_type": "code",
   "execution_count": 2,
   "metadata": {},
   "outputs": [],
   "source": [
    "import matplotlib.pyplot as plt\n",
    "import numpy as np\n",
    "import emd\n",
    "import pandas as pd\n",
    "import plotly.express as px\n",
    "import plotly.graph_objects as go\n",
    "import plotly.io as pio\n",
    "from statistics import mean\n",
    "import statistics\n",
    "from dateutil.parser import parse\n",
    "import statistics as st\n",
    "\n",
    "from src.data import nysm_data"
   ]
  },
  {
   "cell_type": "code",
   "execution_count": 3,
   "metadata": {},
   "outputs": [
    {
     "data": {
      "text/plain": [
       "datetime.datetime(2024, 8, 29, 14, 18, 27, 728373)"
      ]
     },
     "execution_count": 3,
     "metadata": {},
     "output_type": "execute_result"
    }
   ],
   "source": [
    "from datetime import datetime\n",
    "\n",
    "datetime.now()"
   ]
  },
  {
   "cell_type": "code",
   "execution_count": 4,
   "metadata": {},
   "outputs": [
    {
     "name": "stderr",
     "output_type": "stream",
     "text": [
      "/home/aevans/nwp_bias/src/machine_learning/notebooks/../src/data/nysm_data.py:44: FutureWarning: A value is trying to be set on a copy of a DataFrame or Series through chained assignment using an inplace method.\n",
      "The behavior will change in pandas 3.0. This inplace method will never work because the intermediate object on which we are setting values always behaves as a copy.\n",
      "\n",
      "For example, when doing 'df[col].method(value, inplace=True)', try using 'df.method({col: value}, inplace=True)' or df[col] = df[col].method(value) instead, to perform the operation inplace on the original object.\n",
      "\n",
      "\n",
      "  nysm_1H_obs['snow_depth'].fillna(-999, inplace=True)\n"
     ]
    }
   ],
   "source": [
    "nysm_df = nysm_data.load_nysm_data()"
   ]
  },
  {
   "cell_type": "code",
   "execution_count": 5,
   "metadata": {},
   "outputs": [],
   "source": [
    "triangles = [\n",
    "    \"BSPA\",\n",
    "    \"BUFF\",\n",
    "    \"CROG\",\n",
    "    \"ESSX\",\n",
    "    \"GROT\",\n",
    "    \"HARP\",\n",
    "    \"HERK\",\n",
    "    \"POTS\",\n",
    "    \"RAND\",\n",
    "    \"STON\",\n",
    "]"
   ]
  },
  {
   "cell_type": "code",
   "execution_count": 6,
   "metadata": {},
   "outputs": [],
   "source": [
    "triangle_nysm = nysm_df[nysm_df[\"station\"].isin(triangles)]"
   ]
  },
  {
   "cell_type": "code",
   "execution_count": 7,
   "metadata": {},
   "outputs": [],
   "source": [
    "triangle_nysm = triangle_nysm[triangle_nysm[\"time_1H\"] > datetime(2020, 8, 26, 7, 0, 0)]\n",
    "triangle_nysm = triangle_nysm[triangle_nysm[\"time_1H\"] < datetime(2020, 8, 29, 3, 0, 0)]"
   ]
  },
  {
   "cell_type": "code",
   "execution_count": 8,
   "metadata": {},
   "outputs": [
    {
     "data": {
      "text/html": [
       "<div>\n",
       "<style scoped>\n",
       "    .dataframe tbody tr th:only-of-type {\n",
       "        vertical-align: middle;\n",
       "    }\n",
       "\n",
       "    .dataframe tbody tr th {\n",
       "        vertical-align: top;\n",
       "    }\n",
       "\n",
       "    .dataframe thead th {\n",
       "        text-align: right;\n",
       "    }\n",
       "</style>\n",
       "<table border=\"1\" class=\"dataframe\">\n",
       "  <thead>\n",
       "    <tr style=\"text-align: right;\">\n",
       "      <th></th>\n",
       "      <th>station</th>\n",
       "      <th>time_1H</th>\n",
       "      <th>lat</th>\n",
       "      <th>lon</th>\n",
       "      <th>elev</th>\n",
       "      <th>tair</th>\n",
       "      <th>ta9m</th>\n",
       "      <th>td</th>\n",
       "      <th>relh</th>\n",
       "      <th>srad</th>\n",
       "      <th>pres</th>\n",
       "      <th>mslp</th>\n",
       "      <th>wspd_sonic_mean</th>\n",
       "      <th>wspd_sonic</th>\n",
       "      <th>wmax_sonic</th>\n",
       "      <th>wdir_sonic</th>\n",
       "      <th>snow_depth</th>\n",
       "      <th>precip_total</th>\n",
       "    </tr>\n",
       "  </thead>\n",
       "  <tbody>\n",
       "    <tr>\n",
       "      <th>655880</th>\n",
       "      <td>BSPA</td>\n",
       "      <td>2020-08-26 08:00:00</td>\n",
       "      <td>43.022800</td>\n",
       "      <td>-73.874977</td>\n",
       "      <td>120.517998</td>\n",
       "      <td>12.322200</td>\n",
       "      <td>12.740660</td>\n",
       "      <td>8.996674</td>\n",
       "      <td>80.130417</td>\n",
       "      <td>0.000000</td>\n",
       "      <td>999.118774</td>\n",
       "      <td>999.492065</td>\n",
       "      <td>0.943401</td>\n",
       "      <td>0.866603</td>\n",
       "      <td>1.256254</td>\n",
       "      <td>288.798401</td>\n",
       "      <td>-999.0</td>\n",
       "      <td>0.0</td>\n",
       "    </tr>\n",
       "    <tr>\n",
       "      <th>655881</th>\n",
       "      <td>BSPA</td>\n",
       "      <td>2020-08-26 09:00:00</td>\n",
       "      <td>43.022800</td>\n",
       "      <td>-73.874977</td>\n",
       "      <td>120.517998</td>\n",
       "      <td>11.131720</td>\n",
       "      <td>12.201570</td>\n",
       "      <td>9.083740</td>\n",
       "      <td>87.196358</td>\n",
       "      <td>0.000000</td>\n",
       "      <td>999.565613</td>\n",
       "      <td>1000.001404</td>\n",
       "      <td>0.922018</td>\n",
       "      <td>0.952720</td>\n",
       "      <td>1.586694</td>\n",
       "      <td>288.927704</td>\n",
       "      <td>-999.0</td>\n",
       "      <td>0.0</td>\n",
       "    </tr>\n",
       "    <tr>\n",
       "      <th>655882</th>\n",
       "      <td>BSPA</td>\n",
       "      <td>2020-08-26 10:00:00</td>\n",
       "      <td>43.022800</td>\n",
       "      <td>-73.874977</td>\n",
       "      <td>120.517998</td>\n",
       "      <td>10.552780</td>\n",
       "      <td>11.953450</td>\n",
       "      <td>8.813507</td>\n",
       "      <td>88.981247</td>\n",
       "      <td>0.674864</td>\n",
       "      <td>1000.109985</td>\n",
       "      <td>1000.577148</td>\n",
       "      <td>1.234016</td>\n",
       "      <td>1.328556</td>\n",
       "      <td>2.246809</td>\n",
       "      <td>289.477814</td>\n",
       "      <td>-999.0</td>\n",
       "      <td>0.0</td>\n",
       "    </tr>\n",
       "    <tr>\n",
       "      <th>655883</th>\n",
       "      <td>BSPA</td>\n",
       "      <td>2020-08-26 11:00:00</td>\n",
       "      <td>43.022800</td>\n",
       "      <td>-73.874977</td>\n",
       "      <td>120.517998</td>\n",
       "      <td>11.346440</td>\n",
       "      <td>11.909390</td>\n",
       "      <td>9.013031</td>\n",
       "      <td>85.554718</td>\n",
       "      <td>23.419249</td>\n",
       "      <td>1000.466003</td>\n",
       "      <td>1000.893127</td>\n",
       "      <td>1.297324</td>\n",
       "      <td>1.003778</td>\n",
       "      <td>1.809671</td>\n",
       "      <td>291.614685</td>\n",
       "      <td>-999.0</td>\n",
       "      <td>0.0</td>\n",
       "    </tr>\n",
       "    <tr>\n",
       "      <th>655884</th>\n",
       "      <td>BSPA</td>\n",
       "      <td>2020-08-26 12:00:00</td>\n",
       "      <td>43.022800</td>\n",
       "      <td>-73.874977</td>\n",
       "      <td>120.517998</td>\n",
       "      <td>14.114090</td>\n",
       "      <td>14.097770</td>\n",
       "      <td>8.950104</td>\n",
       "      <td>71.059959</td>\n",
       "      <td>237.766907</td>\n",
       "      <td>1000.841003</td>\n",
       "      <td>1001.128174</td>\n",
       "      <td>2.328292</td>\n",
       "      <td>1.490497</td>\n",
       "      <td>3.997994</td>\n",
       "      <td>277.309113</td>\n",
       "      <td>-999.0</td>\n",
       "      <td>0.0</td>\n",
       "    </tr>\n",
       "    <tr>\n",
       "      <th>...</th>\n",
       "      <td>...</td>\n",
       "      <td>...</td>\n",
       "      <td>...</td>\n",
       "      <td>...</td>\n",
       "      <td>...</td>\n",
       "      <td>...</td>\n",
       "      <td>...</td>\n",
       "      <td>...</td>\n",
       "      <td>...</td>\n",
       "      <td>...</td>\n",
       "      <td>...</td>\n",
       "      <td>...</td>\n",
       "      <td>...</td>\n",
       "      <td>...</td>\n",
       "      <td>...</td>\n",
       "      <td>...</td>\n",
       "      <td>...</td>\n",
       "      <td>...</td>\n",
       "    </tr>\n",
       "    <tr>\n",
       "      <th>722156</th>\n",
       "      <td>STON</td>\n",
       "      <td>2020-08-28 20:00:00</td>\n",
       "      <td>40.919121</td>\n",
       "      <td>-73.131683</td>\n",
       "      <td>43.921700</td>\n",
       "      <td>27.998560</td>\n",
       "      <td>27.778061</td>\n",
       "      <td>17.301270</td>\n",
       "      <td>52.203110</td>\n",
       "      <td>517.713440</td>\n",
       "      <td>1004.007996</td>\n",
       "      <td>1004.060730</td>\n",
       "      <td>2.164566</td>\n",
       "      <td>2.129330</td>\n",
       "      <td>3.556499</td>\n",
       "      <td>324.378113</td>\n",
       "      <td>-999.0</td>\n",
       "      <td>0.0</td>\n",
       "    </tr>\n",
       "    <tr>\n",
       "      <th>722157</th>\n",
       "      <td>STON</td>\n",
       "      <td>2020-08-28 21:00:00</td>\n",
       "      <td>40.919121</td>\n",
       "      <td>-73.131683</td>\n",
       "      <td>43.921700</td>\n",
       "      <td>28.348471</td>\n",
       "      <td>28.144880</td>\n",
       "      <td>17.135651</td>\n",
       "      <td>50.615620</td>\n",
       "      <td>271.790405</td>\n",
       "      <td>1003.781006</td>\n",
       "      <td>1003.827637</td>\n",
       "      <td>0.870820</td>\n",
       "      <td>1.723410</td>\n",
       "      <td>2.929441</td>\n",
       "      <td>272.532898</td>\n",
       "      <td>-999.0</td>\n",
       "      <td>0.0</td>\n",
       "    </tr>\n",
       "    <tr>\n",
       "      <th>722158</th>\n",
       "      <td>STON</td>\n",
       "      <td>2020-08-28 22:00:00</td>\n",
       "      <td>40.919121</td>\n",
       "      <td>-73.131683</td>\n",
       "      <td>43.921700</td>\n",
       "      <td>26.624969</td>\n",
       "      <td>27.551069</td>\n",
       "      <td>18.563446</td>\n",
       "      <td>61.263672</td>\n",
       "      <td>77.050545</td>\n",
       "      <td>1003.447021</td>\n",
       "      <td>1003.523071</td>\n",
       "      <td>1.225164</td>\n",
       "      <td>0.512785</td>\n",
       "      <td>0.682504</td>\n",
       "      <td>194.375198</td>\n",
       "      <td>-999.0</td>\n",
       "      <td>0.0</td>\n",
       "    </tr>\n",
       "    <tr>\n",
       "      <th>722159</th>\n",
       "      <td>STON</td>\n",
       "      <td>2020-08-28 23:00:00</td>\n",
       "      <td>40.919121</td>\n",
       "      <td>-73.131683</td>\n",
       "      <td>43.921700</td>\n",
       "      <td>25.445049</td>\n",
       "      <td>25.467430</td>\n",
       "      <td>19.961273</td>\n",
       "      <td>71.677650</td>\n",
       "      <td>33.391567</td>\n",
       "      <td>1003.861023</td>\n",
       "      <td>1003.958008</td>\n",
       "      <td>1.964557</td>\n",
       "      <td>1.464407</td>\n",
       "      <td>3.919325</td>\n",
       "      <td>211.218796</td>\n",
       "      <td>-999.0</td>\n",
       "      <td>0.0</td>\n",
       "    </tr>\n",
       "    <tr>\n",
       "      <th>722160</th>\n",
       "      <td>STON</td>\n",
       "      <td>2020-08-29 00:00:00</td>\n",
       "      <td>40.919121</td>\n",
       "      <td>-73.131683</td>\n",
       "      <td>43.921700</td>\n",
       "      <td>24.201500</td>\n",
       "      <td>24.256590</td>\n",
       "      <td>22.611450</td>\n",
       "      <td>90.843193</td>\n",
       "      <td>0.000260</td>\n",
       "      <td>1003.838989</td>\n",
       "      <td>1003.957458</td>\n",
       "      <td>1.403316</td>\n",
       "      <td>2.219375</td>\n",
       "      <td>4.807508</td>\n",
       "      <td>191.248993</td>\n",
       "      <td>-999.0</td>\n",
       "      <td>0.0</td>\n",
       "    </tr>\n",
       "  </tbody>\n",
       "</table>\n",
       "<p>590 rows × 18 columns</p>\n",
       "</div>"
      ],
      "text/plain": [
       "       station             time_1H        lat        lon        elev  \\\n",
       "655880    BSPA 2020-08-26 08:00:00  43.022800 -73.874977  120.517998   \n",
       "655881    BSPA 2020-08-26 09:00:00  43.022800 -73.874977  120.517998   \n",
       "655882    BSPA 2020-08-26 10:00:00  43.022800 -73.874977  120.517998   \n",
       "655883    BSPA 2020-08-26 11:00:00  43.022800 -73.874977  120.517998   \n",
       "655884    BSPA 2020-08-26 12:00:00  43.022800 -73.874977  120.517998   \n",
       "...        ...                 ...        ...        ...         ...   \n",
       "722156    STON 2020-08-28 20:00:00  40.919121 -73.131683   43.921700   \n",
       "722157    STON 2020-08-28 21:00:00  40.919121 -73.131683   43.921700   \n",
       "722158    STON 2020-08-28 22:00:00  40.919121 -73.131683   43.921700   \n",
       "722159    STON 2020-08-28 23:00:00  40.919121 -73.131683   43.921700   \n",
       "722160    STON 2020-08-29 00:00:00  40.919121 -73.131683   43.921700   \n",
       "\n",
       "             tair       ta9m         td       relh        srad         pres  \\\n",
       "655880  12.322200  12.740660   8.996674  80.130417    0.000000   999.118774   \n",
       "655881  11.131720  12.201570   9.083740  87.196358    0.000000   999.565613   \n",
       "655882  10.552780  11.953450   8.813507  88.981247    0.674864  1000.109985   \n",
       "655883  11.346440  11.909390   9.013031  85.554718   23.419249  1000.466003   \n",
       "655884  14.114090  14.097770   8.950104  71.059959  237.766907  1000.841003   \n",
       "...           ...        ...        ...        ...         ...          ...   \n",
       "722156  27.998560  27.778061  17.301270  52.203110  517.713440  1004.007996   \n",
       "722157  28.348471  28.144880  17.135651  50.615620  271.790405  1003.781006   \n",
       "722158  26.624969  27.551069  18.563446  61.263672   77.050545  1003.447021   \n",
       "722159  25.445049  25.467430  19.961273  71.677650   33.391567  1003.861023   \n",
       "722160  24.201500  24.256590  22.611450  90.843193    0.000260  1003.838989   \n",
       "\n",
       "               mslp  wspd_sonic_mean  wspd_sonic  wmax_sonic  wdir_sonic  \\\n",
       "655880   999.492065         0.943401    0.866603    1.256254  288.798401   \n",
       "655881  1000.001404         0.922018    0.952720    1.586694  288.927704   \n",
       "655882  1000.577148         1.234016    1.328556    2.246809  289.477814   \n",
       "655883  1000.893127         1.297324    1.003778    1.809671  291.614685   \n",
       "655884  1001.128174         2.328292    1.490497    3.997994  277.309113   \n",
       "...             ...              ...         ...         ...         ...   \n",
       "722156  1004.060730         2.164566    2.129330    3.556499  324.378113   \n",
       "722157  1003.827637         0.870820    1.723410    2.929441  272.532898   \n",
       "722158  1003.523071         1.225164    0.512785    0.682504  194.375198   \n",
       "722159  1003.958008         1.964557    1.464407    3.919325  211.218796   \n",
       "722160  1003.957458         1.403316    2.219375    4.807508  191.248993   \n",
       "\n",
       "        snow_depth  precip_total  \n",
       "655880      -999.0           0.0  \n",
       "655881      -999.0           0.0  \n",
       "655882      -999.0           0.0  \n",
       "655883      -999.0           0.0  \n",
       "655884      -999.0           0.0  \n",
       "...            ...           ...  \n",
       "722156      -999.0           0.0  \n",
       "722157      -999.0           0.0  \n",
       "722158      -999.0           0.0  \n",
       "722159      -999.0           0.0  \n",
       "722160      -999.0           0.0  \n",
       "\n",
       "[590 rows x 18 columns]"
      ]
     },
     "execution_count": 8,
     "metadata": {},
     "output_type": "execute_result"
    }
   ],
   "source": [
    "triangle_nysm"
   ]
  },
  {
   "cell_type": "code",
   "execution_count": 9,
   "metadata": {},
   "outputs": [],
   "source": [
    "# triangle_nysm.to_csv(\n",
    "#     \"/home/aevans/nwp_bias/src/machine_learning/notebooks/nwp_nysm.csv\"\n",
    "# )"
   ]
  },
  {
   "cell_type": "code",
   "execution_count": 10,
   "metadata": {},
   "outputs": [],
   "source": [
    "# exp_df = pd.DataFrame()\n",
    "# for i in np.arange(0, 5):\n",
    "#     df = pd.read_csv(\n",
    "#         f\"/home/aevans/nwp_bias/src/machine_learning/notebooks/bkln/bkln_{i}.csv\"\n",
    "#     )\n",
    "#     exp_df = pd.concat([df, exp_df])"
   ]
  },
  {
   "cell_type": "code",
   "execution_count": 11,
   "metadata": {},
   "outputs": [],
   "source": [
    "# my_stations = exp_df[\"station\"].unique()"
   ]
  },
  {
   "cell_type": "code",
   "execution_count": 12,
   "metadata": {},
   "outputs": [],
   "source": [
    "# my_stations"
   ]
  },
  {
   "cell_type": "code",
   "execution_count": 13,
   "metadata": {},
   "outputs": [],
   "source": [
    "# my_stations = np.delete(my_stations, 0)\n",
    "# my_stations = np.delete(my_stations, 6)\n",
    "# my_stations = np.delete(my_stations, -3)"
   ]
  },
  {
   "cell_type": "code",
   "execution_count": 14,
   "metadata": {},
   "outputs": [],
   "source": [
    "my_stations = triangles"
   ]
  },
  {
   "cell_type": "code",
   "execution_count": 15,
   "metadata": {},
   "outputs": [],
   "source": [
    "# exp_df = exp_df.sort_values(\"forecast_hour\")"
   ]
  },
  {
   "cell_type": "code",
   "execution_count": 16,
   "metadata": {},
   "outputs": [],
   "source": [
    "# bkln_df = exp_df[exp_df[\"station\"] == \"BKLN\"]\n",
    "# want_df = exp_df[exp_df[\"station\"] == \"WANT\"]\n",
    "# tyro_df = exp_df[exp_df[\"station\"] == \"TYRO\"]\n",
    "# wall_df = exp_df[exp_df[\"station\"] == \"WALL\"]\n",
    "# medu_df = exp_df[exp_df[\"station\"] == \"MEDU\"]\n",
    "# addi_df = exp_df[exp_df[\"station\"] == \"ADDI\"]\n",
    "# fred_df = exp_df[exp_df[\"station\"] == \"FRED\"]\n",
    "# ches_df = exp_df[exp_df[\"station\"] == \"CHES\"]\n",
    "# oppe_df = exp_df[exp_df[\"station\"] == \"OPPE\"]\n",
    "# gabr_df = exp_df[exp_df[\"station\"] == \"GABR\"]\n",
    "# loui_df = exp_df[exp_df[\"station\"] == \"LOUI\"]"
   ]
  },
  {
   "cell_type": "code",
   "execution_count": 17,
   "metadata": {},
   "outputs": [],
   "source": [
    "# fig, ax = plt.subplots(figsize=(24, 9))\n",
    "# plt.title(\"Forecast Hour Drift\", fontsize=28)\n",
    "# plt.xlabel(\"HRRR Forecast Hour\", fontsize=18)\n",
    "# plt.ylabel(\"Min Test Loss\", fontsize=18)\n",
    "# plt.xticks(fontsize=12)\n",
    "# plt.yticks(fontsize=12)\n",
    "\n",
    "# # stations\n",
    "# plt.plot(\n",
    "#     bkln_df[\"forecast_hour\"],\n",
    "#     bkln_df[\"test_loss (Min)\"],\n",
    "#     c=\"indigo\",\n",
    "#     marker=\"d\",\n",
    "#     markersize=12,\n",
    "#     linewidth=2,\n",
    "#     label=\"Brooklyn\",\n",
    "#     zorder=7,\n",
    "# )\n",
    "# plt.plot(\n",
    "#     want_df[\"forecast_hour\"],\n",
    "#     want_df[\"test_loss (Min)\"],\n",
    "#     c=\"olive\",\n",
    "#     marker=\"v\",\n",
    "#     markersize=12,\n",
    "#     linewidth=2,\n",
    "#     label=\"Wantagh\",\n",
    "#     zorder=7,\n",
    "#     alpha=0.4,\n",
    "# )\n",
    "# plt.plot(\n",
    "#     tyro_df[\"forecast_hour\"],\n",
    "#     tyro_df[\"test_loss (Min)\"],\n",
    "#     c=\"forestgreen\",\n",
    "#     marker=\"o\",\n",
    "#     markersize=12,\n",
    "#     linewidth=2,\n",
    "#     label=\"Tyrone\",\n",
    "#     zorder=7,\n",
    "#     alpha=0.4,\n",
    "# )\n",
    "# plt.plot(\n",
    "#     wall_df[\"forecast_hour\"],\n",
    "#     wall_df[\"test_loss (Min)\"],\n",
    "#     c=\"goldenrod\",\n",
    "#     marker=\"s\",\n",
    "#     markersize=12,\n",
    "#     linewidth=2,\n",
    "#     label=\"Wallkill\",\n",
    "#     zorder=7,\n",
    "#     alpha=0.4,\n",
    "# )\n",
    "# plt.plot(\n",
    "#     medu_df[\"forecast_hour\"],\n",
    "#     medu_df[\"test_loss (Min)\"],\n",
    "#     c=\"teal\",\n",
    "#     marker=\"^\",\n",
    "#     markersize=12,\n",
    "#     linewidth=2,\n",
    "#     label=\"Medusa\",\n",
    "#     zorder=7,\n",
    "#     alpha=0.4,\n",
    "# )\n",
    "# plt.plot(\n",
    "#     addi_df[\"forecast_hour\"],\n",
    "#     addi_df[\"test_loss (Min)\"],\n",
    "#     c=\"darkred\",\n",
    "#     marker=\"X\",\n",
    "#     markersize=12,\n",
    "#     linewidth=2,\n",
    "#     label=\"Addison\",\n",
    "#     zorder=7,\n",
    "#     alpha=1.0,\n",
    "# )\n",
    "# plt.plot(\n",
    "#     fred_df[\"forecast_hour\"],\n",
    "#     fred_df[\"test_loss (Min)\"],\n",
    "#     c=\"sienna\",\n",
    "#     marker=\"p\",\n",
    "#     markersize=12,\n",
    "#     linewidth=2,\n",
    "#     label=\"Fredonia\",\n",
    "#     zorder=7,\n",
    "#     alpha=0.4,\n",
    "# )\n",
    "# plt.plot(\n",
    "#     ches_df[\"forecast_hour\"],\n",
    "#     ches_df[\"test_loss (Min)\"],\n",
    "#     c=\"darkorange\",\n",
    "#     marker=\"P\",\n",
    "#     markersize=12,\n",
    "#     linewidth=2,\n",
    "#     label=\"Chestertown\",\n",
    "#     zorder=7,\n",
    "#     alpha=1.0,\n",
    "# )\n",
    "\n",
    "# plt.plot(\n",
    "#     oppe_df[\"forecast_hour\"],\n",
    "#     oppe_df[\"test_loss (Min)\"],\n",
    "#     c=\"royalblue\",\n",
    "#     marker=\"<\",\n",
    "#     markersize=12,\n",
    "#     linewidth=2,\n",
    "#     label=\"Oppenheim\",\n",
    "#     zorder=7,\n",
    "#     alpha=1.0,\n",
    "# )\n",
    "# plt.plot(\n",
    "#     gabr_df[\"forecast_hour\"],\n",
    "#     gabr_df[\"test_loss (Min)\"],\n",
    "#     c=\"violet\",\n",
    "#     marker=\">\",\n",
    "#     markersize=12,\n",
    "#     linewidth=2,\n",
    "#     label=\"Gabriels\",\n",
    "#     zorder=7,\n",
    "# )\n",
    "# plt.plot(\n",
    "#     loui_df[\"forecast_hour\"],\n",
    "#     loui_df[\"test_loss (Min)\"],\n",
    "#     c=\"deeppink\",\n",
    "#     marker=\"D\",\n",
    "#     markersize=12,\n",
    "#     linewidth=2,\n",
    "#     label=\"Louisville\",\n",
    "#     zorder=7,\n",
    "# )\n",
    "# plt.legend(bbox_to_anchor=(1.1, 1), loc=\"upper left\", borderaxespad=0, fontsize=16)"
   ]
  },
  {
   "cell_type": "code",
   "execution_count": 18,
   "metadata": {},
   "outputs": [
    {
     "name": "stdout",
     "output_type": "stream",
     "text": [
      "2\n",
      "4\n",
      "6\n",
      "8\n",
      "10\n",
      "12\n",
      "14\n",
      "16\n",
      "18\n"
     ]
    }
   ],
   "source": [
    "for i in np.arange(2, 19, 2):\n",
    "    print(i)"
   ]
  },
  {
   "cell_type": "code",
   "execution_count": 19,
   "metadata": {},
   "outputs": [],
   "source": [
    "nysm_cats_path = \"/home/aevans/nwp_bias/src/landtype/data/nysm.csv\"\n",
    "\n",
    "nysm_cats_df = pd.read_csv(nysm_cats_path)"
   ]
  },
  {
   "cell_type": "code",
   "execution_count": 20,
   "metadata": {},
   "outputs": [
    {
     "data": {
      "text/html": [
       "<div>\n",
       "<style scoped>\n",
       "    .dataframe tbody tr th:only-of-type {\n",
       "        vertical-align: middle;\n",
       "    }\n",
       "\n",
       "    .dataframe tbody tr th {\n",
       "        vertical-align: top;\n",
       "    }\n",
       "\n",
       "    .dataframe thead th {\n",
       "        text-align: right;\n",
       "    }\n",
       "</style>\n",
       "<table border=\"1\" class=\"dataframe\">\n",
       "  <thead>\n",
       "    <tr style=\"text-align: right;\">\n",
       "      <th></th>\n",
       "      <th>stid</th>\n",
       "      <th>number</th>\n",
       "      <th>name</th>\n",
       "      <th>lat [degrees]</th>\n",
       "      <th>lon [degrees]</th>\n",
       "      <th>elevation [m]</th>\n",
       "      <th>county</th>\n",
       "      <th>nearest_city</th>\n",
       "      <th>state</th>\n",
       "      <th>distance_from_town [km]</th>\n",
       "      <th>direction_from_town [degrees]</th>\n",
       "      <th>climate_division</th>\n",
       "      <th>climate_division_name</th>\n",
       "      <th>wfo</th>\n",
       "      <th>commissioned</th>\n",
       "      <th>decommissioned</th>\n",
       "    </tr>\n",
       "  </thead>\n",
       "  <tbody>\n",
       "    <tr>\n",
       "      <th>15</th>\n",
       "      <td>BSPA</td>\n",
       "      <td>97</td>\n",
       "      <td>Ballston Spa</td>\n",
       "      <td>43.022800</td>\n",
       "      <td>-73.874980</td>\n",
       "      <td>120.5180</td>\n",
       "      <td>Saratoga</td>\n",
       "      <td>Ballston Spa</td>\n",
       "      <td>NY</td>\n",
       "      <td>3.20</td>\n",
       "      <td>NW</td>\n",
       "      <td>5</td>\n",
       "      <td>Hudson Valley</td>\n",
       "      <td>ALY</td>\n",
       "      <td>2016-08-18 16:40:00 UTC</td>\n",
       "      <td>NaN</td>\n",
       "    </tr>\n",
       "    <tr>\n",
       "      <th>16</th>\n",
       "      <td>BUFF</td>\n",
       "      <td>4</td>\n",
       "      <td>Buffalo</td>\n",
       "      <td>43.000170</td>\n",
       "      <td>-78.767170</td>\n",
       "      <td>179.5880</td>\n",
       "      <td>Erie</td>\n",
       "      <td>Buffalo</td>\n",
       "      <td>NY</td>\n",
       "      <td>15.60</td>\n",
       "      <td>NE</td>\n",
       "      <td>9</td>\n",
       "      <td>Great Lakes</td>\n",
       "      <td>BUF</td>\n",
       "      <td>2017-03-09 21:20:00 UTC</td>\n",
       "      <td>NaN</td>\n",
       "    </tr>\n",
       "    <tr>\n",
       "      <th>32</th>\n",
       "      <td>CROG</td>\n",
       "      <td>51</td>\n",
       "      <td>Croghan</td>\n",
       "      <td>43.974960</td>\n",
       "      <td>-75.201000</td>\n",
       "      <td>418.9480</td>\n",
       "      <td>Lewis</td>\n",
       "      <td>Croghan</td>\n",
       "      <td>NY</td>\n",
       "      <td>17.70</td>\n",
       "      <td>ENE</td>\n",
       "      <td>3</td>\n",
       "      <td>Northern Plateau</td>\n",
       "      <td>BUF</td>\n",
       "      <td>2016-11-02 18:50:00 UTC</td>\n",
       "      <td>NaN</td>\n",
       "    </tr>\n",
       "    <tr>\n",
       "      <th>44</th>\n",
       "      <td>ESSX</td>\n",
       "      <td>13</td>\n",
       "      <td>Essex</td>\n",
       "      <td>44.313604</td>\n",
       "      <td>-73.371896</td>\n",
       "      <td>55.5000</td>\n",
       "      <td>Essex</td>\n",
       "      <td>Essex</td>\n",
       "      <td>NY</td>\n",
       "      <td>1.60</td>\n",
       "      <td>WNW</td>\n",
       "      <td>7</td>\n",
       "      <td>Champlain Valley</td>\n",
       "      <td>BTV</td>\n",
       "      <td>2015-12-05 21:15:00 UTC</td>\n",
       "      <td>NaN</td>\n",
       "    </tr>\n",
       "    <tr>\n",
       "      <th>50</th>\n",
       "      <td>GROT</td>\n",
       "      <td>41</td>\n",
       "      <td>Groton</td>\n",
       "      <td>42.548550</td>\n",
       "      <td>-76.375340</td>\n",
       "      <td>392.2470</td>\n",
       "      <td>Tompkins</td>\n",
       "      <td>Groton</td>\n",
       "      <td>NY</td>\n",
       "      <td>4.40</td>\n",
       "      <td>S</td>\n",
       "      <td>10</td>\n",
       "      <td>Central Lakes</td>\n",
       "      <td>BGM</td>\n",
       "      <td>2016-12-21 19:40:00 UTC</td>\n",
       "      <td>NaN</td>\n",
       "    </tr>\n",
       "    <tr>\n",
       "      <th>53</th>\n",
       "      <td>HARP</td>\n",
       "      <td>101</td>\n",
       "      <td>Harpersfield</td>\n",
       "      <td>42.472800</td>\n",
       "      <td>-74.698490</td>\n",
       "      <td>519.8970</td>\n",
       "      <td>Delaware</td>\n",
       "      <td>Harpersfield</td>\n",
       "      <td>NY</td>\n",
       "      <td>4.00</td>\n",
       "      <td>NNW</td>\n",
       "      <td>2</td>\n",
       "      <td>Eastern Plateau</td>\n",
       "      <td>BGM</td>\n",
       "      <td>2016-08-04 19:55:00 UTC</td>\n",
       "      <td>NaN</td>\n",
       "    </tr>\n",
       "    <tr>\n",
       "      <th>56</th>\n",
       "      <td>HERK</td>\n",
       "      <td>50</td>\n",
       "      <td>Herkimer</td>\n",
       "      <td>43.036620</td>\n",
       "      <td>-75.009570</td>\n",
       "      <td>217.5360</td>\n",
       "      <td>Herkimer</td>\n",
       "      <td>Herkimer</td>\n",
       "      <td>NY</td>\n",
       "      <td>2.20</td>\n",
       "      <td>WNW</td>\n",
       "      <td>6</td>\n",
       "      <td>Mohawk Valley</td>\n",
       "      <td>ALY</td>\n",
       "      <td>2016-08-10 01:10:00 UTC</td>\n",
       "      <td>NaN</td>\n",
       "    </tr>\n",
       "    <tr>\n",
       "      <th>83</th>\n",
       "      <td>POTS</td>\n",
       "      <td>22</td>\n",
       "      <td>Potsdam</td>\n",
       "      <td>44.656867</td>\n",
       "      <td>-74.974433</td>\n",
       "      <td>128.6870</td>\n",
       "      <td>St. Lawrence</td>\n",
       "      <td>Potsdam</td>\n",
       "      <td>NY</td>\n",
       "      <td>1.50</td>\n",
       "      <td>SSE</td>\n",
       "      <td>8</td>\n",
       "      <td>St. Lawrence Valley</td>\n",
       "      <td>BTV</td>\n",
       "      <td>2016-07-08 01:45:00 UTC</td>\n",
       "      <td>NaN</td>\n",
       "    </tr>\n",
       "    <tr>\n",
       "      <th>85</th>\n",
       "      <td>RAND</td>\n",
       "      <td>125</td>\n",
       "      <td>Randolph</td>\n",
       "      <td>42.149280</td>\n",
       "      <td>-78.900960</td>\n",
       "      <td>448.9700</td>\n",
       "      <td>Cattaraugus</td>\n",
       "      <td>Randolph</td>\n",
       "      <td>NY</td>\n",
       "      <td>6.30</td>\n",
       "      <td>ESE</td>\n",
       "      <td>1</td>\n",
       "      <td>Western Plateau</td>\n",
       "      <td>BUF</td>\n",
       "      <td>2016-06-02 15:50:00 UTC</td>\n",
       "      <td>NaN</td>\n",
       "    </tr>\n",
       "    <tr>\n",
       "      <th>104</th>\n",
       "      <td>STON</td>\n",
       "      <td>2</td>\n",
       "      <td>Stony Brook</td>\n",
       "      <td>40.919120</td>\n",
       "      <td>-73.131680</td>\n",
       "      <td>43.9217</td>\n",
       "      <td>Suffolk</td>\n",
       "      <td>Stony Brook</td>\n",
       "      <td>NY</td>\n",
       "      <td>1.06</td>\n",
       "      <td>SE</td>\n",
       "      <td>4</td>\n",
       "      <td>Coastal</td>\n",
       "      <td>OKX</td>\n",
       "      <td>2018-02-21 15:35:00 UTC</td>\n",
       "      <td>NaN</td>\n",
       "    </tr>\n",
       "  </tbody>\n",
       "</table>\n",
       "</div>"
      ],
      "text/plain": [
       "     stid  number          name  lat [degrees]  lon [degrees]  elevation [m]  \\\n",
       "15   BSPA      97  Ballston Spa      43.022800     -73.874980       120.5180   \n",
       "16   BUFF       4       Buffalo      43.000170     -78.767170       179.5880   \n",
       "32   CROG      51       Croghan      43.974960     -75.201000       418.9480   \n",
       "44   ESSX      13         Essex      44.313604     -73.371896        55.5000   \n",
       "50   GROT      41        Groton      42.548550     -76.375340       392.2470   \n",
       "53   HARP     101  Harpersfield      42.472800     -74.698490       519.8970   \n",
       "56   HERK      50      Herkimer      43.036620     -75.009570       217.5360   \n",
       "83   POTS      22       Potsdam      44.656867     -74.974433       128.6870   \n",
       "85   RAND     125      Randolph      42.149280     -78.900960       448.9700   \n",
       "104  STON       2   Stony Brook      40.919120     -73.131680        43.9217   \n",
       "\n",
       "           county  nearest_city state  distance_from_town [km]  \\\n",
       "15       Saratoga  Ballston Spa    NY                     3.20   \n",
       "16           Erie       Buffalo    NY                    15.60   \n",
       "32          Lewis       Croghan    NY                    17.70   \n",
       "44          Essex         Essex    NY                     1.60   \n",
       "50       Tompkins        Groton    NY                     4.40   \n",
       "53       Delaware  Harpersfield    NY                     4.00   \n",
       "56       Herkimer      Herkimer    NY                     2.20   \n",
       "83   St. Lawrence       Potsdam    NY                     1.50   \n",
       "85    Cattaraugus      Randolph    NY                     6.30   \n",
       "104       Suffolk   Stony Brook    NY                     1.06   \n",
       "\n",
       "    direction_from_town [degrees]  climate_division climate_division_name  \\\n",
       "15                             NW                 5         Hudson Valley   \n",
       "16                             NE                 9           Great Lakes   \n",
       "32                            ENE                 3      Northern Plateau   \n",
       "44                            WNW                 7      Champlain Valley   \n",
       "50                              S                10         Central Lakes   \n",
       "53                            NNW                 2       Eastern Plateau   \n",
       "56                            WNW                 6         Mohawk Valley   \n",
       "83                            SSE                 8   St. Lawrence Valley   \n",
       "85                            ESE                 1       Western Plateau   \n",
       "104                            SE                 4               Coastal   \n",
       "\n",
       "     wfo             commissioned  decommissioned  \n",
       "15   ALY  2016-08-18 16:40:00 UTC             NaN  \n",
       "16   BUF  2017-03-09 21:20:00 UTC             NaN  \n",
       "32   BUF  2016-11-02 18:50:00 UTC             NaN  \n",
       "44   BTV  2015-12-05 21:15:00 UTC             NaN  \n",
       "50   BGM  2016-12-21 19:40:00 UTC             NaN  \n",
       "53   BGM  2016-08-04 19:55:00 UTC             NaN  \n",
       "56   ALY  2016-08-10 01:10:00 UTC             NaN  \n",
       "83   BTV  2016-07-08 01:45:00 UTC             NaN  \n",
       "85   BUF  2016-06-02 15:50:00 UTC             NaN  \n",
       "104  OKX  2018-02-21 15:35:00 UTC             NaN  "
      ]
     },
     "execution_count": 20,
     "metadata": {},
     "output_type": "execute_result"
    }
   ],
   "source": [
    "# triangles = [\"BRON\", \"BUFF\", \"ANDE\", \"WALL\"]\n",
    "triangle = nysm_cats_df[nysm_cats_df[\"stid\"].isin(triangles)]\n",
    "\n",
    "triangle\n",
    "# # nysm_cats_df = nysm_cats_df[nysm_cats_df[\"stid\"].isin(my_stations)]\n",
    "# nysm_cats_df"
   ]
  },
  {
   "cell_type": "code",
   "execution_count": 21,
   "metadata": {},
   "outputs": [],
   "source": [
    "# df_ = nysm_cats_df[nysm_cats_df[\"climate_division_name\"] == \"Western Plateau\"]\n",
    "# my_stations = df_[\"stid\"].unique()"
   ]
  },
  {
   "cell_type": "code",
   "execution_count": 22,
   "metadata": {},
   "outputs": [],
   "source": [
    "# my_stations\n",
    "df_ = triangle"
   ]
  },
  {
   "cell_type": "code",
   "execution_count": 28,
   "metadata": {},
   "outputs": [
    {
     "name": "stdout",
     "output_type": "stream",
     "text": [
      "BSPA\n",
      "forestgreen\n",
      "0\n",
      "BUFF\n",
      "olive\n",
      "1\n",
      "CROG\n",
      "goldenrod\n",
      "2\n",
      "ESSX\n",
      "teal\n",
      "3\n",
      "GROT\n",
      "darkred\n",
      "4\n",
      "HARP\n",
      "indigo\n",
      "5\n",
      "HERK\n",
      "sienna\n",
      "6\n",
      "POTS\n",
      "darkorange\n",
      "7\n",
      "RAND\n",
      "royalblue\n",
      "8\n",
      "STON\n",
      "violet\n",
      "9\n"
     ]
    },
    {
     "data": {
      "image/png": "[encoded data removed]",
      "text/plain": [
       "<Figure size 1200x800 with 1 Axes>"
      ]
     },
     "metadata": {},
     "output_type": "display_data"
    }
   ],
   "source": [
    "import geopandas as gpd\n",
    "import matplotlib.pyplot as plt\n",
    "import cartopy.crs as ccrs\n",
    "import cartopy.feature as cfeature\n",
    "import numpy as np\n",
    "\n",
    "colors = [\n",
    "    \"forestgreen\",\n",
    "    \"olive\",\n",
    "    \"goldenrod\",\n",
    "    \"teal\",\n",
    "    \"darkred\",\n",
    "    \"indigo\",\n",
    "    \"sienna\",\n",
    "    \"darkorange\",\n",
    "    \"royalblue\",\n",
    "    # \"deeppink\",\n",
    "    \"violet\",\n",
    "]\n",
    "j = 0\n",
    "\n",
    "fig = plt.figure(figsize=(12, 8))\n",
    "ax = fig.add_subplot(\n",
    "    1,\n",
    "    1,\n",
    "    1,\n",
    "    projection=ccrs.LambertConformal(\n",
    "        central_longitude=-75.0, standard_parallels=(49, 77)\n",
    "    ),\n",
    ")\n",
    "\n",
    "# Replace 'your_shapefile.shp' with the path to your shapefile\n",
    "shapefile_path = \"/home/aevans/nwp_bias/src/machine_learning/notebooks/data/GIS.OFFICIAL_CLIM_DIVISIONS.shp\"\n",
    "\n",
    "# Read the shapefile\n",
    "gdf = gpd.read_file(shapefile_path)\n",
    "\n",
    "# Load the boundaries of New York State (replace with your actual file path)\n",
    "ny_state_boundaries_path = \"/home/aevans/nwp_bias/src/landtype/data/State.shx\"\n",
    "\n",
    "# Read the shapefile and set the CRS explicitly\n",
    "ny_state_boundaries_geo = gpd.read_file(ny_state_boundaries_path).to_crs(epsg=4326)\n",
    "\n",
    "# Get the bounding box of New York State\n",
    "ny_bbox = ny_state_boundaries_geo.total_bounds\n",
    "\n",
    "# Filter the GeoDataFrame to include only polygons within New York State\n",
    "gdf_filtered = gdf.cx[ny_bbox[0] : ny_bbox[2], ny_bbox[1] : ny_bbox[3]]\n",
    "gdf_filtered = gdf_filtered.iloc[20:29]\n",
    "\n",
    "# Create a categorical column for coloring\n",
    "gdf_filtered[\"category\"] = np.arange(len(gdf_filtered))\n",
    "\n",
    "# Plot the shapefile with multiple colors based on the 'category' column\n",
    "gdf_filtered.plot(\n",
    "    ax=ax, transform=ccrs.PlateCarree(), column=\"category\", cmap=\"tab10\", alpha=0.3\n",
    ")\n",
    "\n",
    "# Set extent for the plot\n",
    "ax.set_extent([-80.0, -70.7, 40.0, 45.0], crs=ccrs.PlateCarree())\n",
    "\n",
    "# Add map features\n",
    "ax.add_feature(cfeature.BORDERS.with_scale(\"50m\"), linestyle=\":\", zorder=1)\n",
    "ax.add_feature(cfeature.STATES.with_scale(\"50m\"), linestyle=\":\", zorder=1)\n",
    "ax.add_feature(cfeature.LAKES.with_scale(\"50m\"), zorder=1)\n",
    "ax.gridlines(\n",
    "    crs=ccrs.PlateCarree(),\n",
    "    draw_labels=True,\n",
    "    linewidth=2,\n",
    "    color=\"black\",\n",
    "    alpha=0.5,\n",
    "    linestyle=\"--\",\n",
    ")\n",
    "ax.xticklabels_top = False\n",
    "ax.ylabels_right = False\n",
    "\n",
    "# Annotate scatter points with station IDs\n",
    "for i, row in df_.iterrows():\n",
    "    lon, lat = row[\"lon [degrees]\"], row[\"lat [degrees]\"]\n",
    "    ax.annotate(\n",
    "        row[\"stid\"],\n",
    "        (lon, lat),\n",
    "        textcoords=\"offset points\",\n",
    "        xytext=(0, 7),\n",
    "        ha=\"center\",\n",
    "        fontsize=12,\n",
    "        color=\"black\",\n",
    "        transform=ccrs.PlateCarree(),\n",
    "    )\n",
    "\n",
    "# Plot scatter points\n",
    "for j, s in enumerate(triangles):\n",
    "    print(s)\n",
    "    print(colors[j])\n",
    "    # df = nysm_cats_df[nysm_cats_df[\"stid\"] == s]\n",
    "    ax.scatter(\n",
    "        df_[\"lon [degrees]\"],\n",
    "        df_[\"lat [degrees]\"],\n",
    "        c=colors[j],\n",
    "        s=250,\n",
    "        edgecolors=\"black\",\n",
    "        transform=ccrs.PlateCarree(),\n",
    "        zorder=10,\n",
    "        label=s,\n",
    "    )\n",
    "    print(j)\n",
    "    j += 1\n",
    "\n",
    "# Display the plot\n",
    "plt.show()"
   ]
  },
  {
   "cell_type": "code",
   "execution_count": 24,
   "metadata": {},
   "outputs": [
    {
     "data": {
      "text/html": [
       "<div>\n",
       "<style scoped>\n",
       "    .dataframe tbody tr th:only-of-type {\n",
       "        vertical-align: middle;\n",
       "    }\n",
       "\n",
       "    .dataframe tbody tr th {\n",
       "        vertical-align: top;\n",
       "    }\n",
       "\n",
       "    .dataframe thead th {\n",
       "        text-align: right;\n",
       "    }\n",
       "</style>\n",
       "<table border=\"1\" class=\"dataframe\">\n",
       "  <thead>\n",
       "    <tr style=\"text-align: right;\">\n",
       "      <th></th>\n",
       "      <th>geometry</th>\n",
       "      <th>category</th>\n",
       "    </tr>\n",
       "  </thead>\n",
       "  <tbody>\n",
       "  </tbody>\n",
       "</table>\n",
       "</div>"
      ],
      "text/plain": [
       "Empty GeoDataFrame\n",
       "Columns: [geometry, category]\n",
       "Index: []"
      ]
     },
     "execution_count": 24,
     "metadata": {},
     "output_type": "execute_result"
    }
   ],
   "source": [
    "# need 0 row\n",
    "gdf_filtered_1 = gdf_filtered.iloc[20:30]\n",
    "gdf_filtered_1"
   ]
  },
  {
   "cell_type": "code",
   "execution_count": 25,
   "metadata": {},
   "outputs": [
    {
     "name": "stderr",
     "output_type": "stream",
     "text": [
      "/tmp/tmp.gbtM5VcZzi/ipykernel_855487/4221669527.py:11: UserWarning: The GeoDataFrame you are attempting to plot is empty. Nothing has been displayed.\n",
      "  gdf_filtered_1.plot(\n"
     ]
    },
    {
     "data": {
      "text/plain": [
       "<GeoAxes: >"
      ]
     },
     "execution_count": 25,
     "metadata": {},
     "output_type": "execute_result"
    },
    {
     "data": {
      "image/png": "[encoded data removed]",
      "text/plain": [
       "<Figure size 1200x800 with 1 Axes>"
      ]
     },
     "metadata": {},
     "output_type": "display_data"
    }
   ],
   "source": [
    "fig = plt.figure(figsize=(12, 8))\n",
    "ax = fig.add_subplot(\n",
    "    1,\n",
    "    1,\n",
    "    1,\n",
    "    projection=ccrs.LambertConformal(\n",
    "        central_longitude=-75.0, standard_parallels=(49, 77)\n",
    "    ),\n",
    ")\n",
    "# Plot the shapefile with multiple colors based on the 'category' column\n",
    "gdf_filtered_1.plot(\n",
    "    ax=ax, transform=ccrs.PlateCarree(), column=\"category\", cmap=\"gist_ncar\", alpha=0.3\n",
    ")"
   ]
  },
  {
   "cell_type": "code",
   "execution_count": 26,
   "metadata": {},
   "outputs": [
    {
     "ename": "ModuleNotFoundError",
     "evalue": "No module named 'rasterio'",
     "output_type": "error",
     "traceback": [
      "\u001b[0;31m---------------------------------------------------------------------------\u001b[0m",
      "\u001b[0;31mModuleNotFoundError\u001b[0m                       Traceback (most recent call last)",
      "Cell \u001b[0;32mIn[26], line 1\u001b[0m\n\u001b[0;32m----> 1\u001b[0m \u001b[38;5;28;01mimport\u001b[39;00m \u001b[38;5;21;01mrasterio\u001b[39;00m\n\u001b[1;32m      2\u001b[0m \u001b[38;5;28;01mimport\u001b[39;00m \u001b[38;5;21;01mcartopy\u001b[39;00m\u001b[38;5;21;01m.\u001b[39;00m\u001b[38;5;21;01mcrs\u001b[39;00m \u001b[38;5;28;01mas\u001b[39;00m \u001b[38;5;21;01mcrs\u001b[39;00m\n\u001b[1;32m      3\u001b[0m \u001b[38;5;28;01mimport\u001b[39;00m \u001b[38;5;21;01mcartopy\u001b[39;00m\u001b[38;5;21;01m.\u001b[39;00m\u001b[38;5;21;01mfeature\u001b[39;00m \u001b[38;5;28;01mas\u001b[39;00m \u001b[38;5;21;01mcfeature\u001b[39;00m\n",
      "\u001b[0;31mModuleNotFoundError\u001b[0m: No module named 'rasterio'"
     ]
    }
   ],
   "source": [
    "import rasterio\n",
    "import cartopy.crs as crs\n",
    "import cartopy.feature as cfeature\n",
    "\n",
    "# Replace 'ny_dem.tif' with the path to your downloaded DEM file\n",
    "ny_dem = \"/home/aevans/nwp_bias/src/landtype/data/Map.tif\"\n",
    "colors = [\n",
    "    \"forestgreen\",\n",
    "    \"olive\",\n",
    "    \"goldenrod\",\n",
    "    \"teal\",\n",
    "    \"darkred\",\n",
    "    \"indigo\",\n",
    "    \"sienna\",\n",
    "    \"darkorange\",\n",
    "    \"royalblue\",\n",
    "    \"violet\",\n",
    "    \"deeppink\",\n",
    "]\n",
    "j = 0\n",
    "\n",
    "skip = 5\n",
    "\n",
    "# Open the DEM file using rasterio\n",
    "with rasterio.open(ny_dem) as src:\n",
    "    elevation_data = src.read(\n",
    "        1\n",
    "    )  # Read the first band (assuming it's the elevation data)\n",
    "    elevation_transform = src.transform\n",
    "# Get the number of rows and columns in the elevation data\n",
    "rows, cols = elevation_data.shape\n",
    "\n",
    "# Create 2D arrays of coordinates using numpy.meshgrid\n",
    "lons, lats = np.meshgrid(\n",
    "    np.linspace(\n",
    "        elevation_transform[2],\n",
    "        elevation_transform[2] + cols * elevation_transform[0],\n",
    "        cols,\n",
    "    ),\n",
    "    np.linspace(\n",
    "        elevation_transform[5],\n",
    "        elevation_transform[5] + rows * elevation_transform[4],\n",
    "        rows,\n",
    "    ),\n",
    ")\n",
    "\n",
    "fig = plt.figure(figsize=(8, 6))\n",
    "ax = fig.add_subplot(\n",
    "    1,\n",
    "    1,\n",
    "    1,\n",
    "    projection=crs.LambertConformal(\n",
    "        central_longitude=-75.0, standard_parallels=(49, 77)\n",
    "    ),\n",
    ")\n",
    "\n",
    "# ax.add_feature(cfeature.LAND.with_scale('50m'), zorder=3)\n",
    "ax.add_feature(cfeature.OCEAN.with_scale(\"50m\"), zorder=1)\n",
    "ax.add_feature(cfeature.BORDERS.with_scale(\"50m\"), linestyle=\":\", zorder=1)\n",
    "ax.add_feature(cfeature.STATES.with_scale(\"50m\"), linestyle=\":\", zorder=1)\n",
    "ax.add_feature(cfeature.LAKES.with_scale(\"50m\"), zorder=1)\n",
    "ax.gridlines(\n",
    "    crs=crs.PlateCarree(),\n",
    "    draw_labels=True,\n",
    "    linewidth=2,\n",
    "    color=\"black\",\n",
    "    alpha=0.5,\n",
    "    linestyle=\"--\",\n",
    ")\n",
    "ax.xticklabels_top = False\n",
    "ax.ylabels_right = False\n",
    "\n",
    "plt.contourf(\n",
    "    lons[::skip, ::skip],\n",
    "    lats[::skip, ::skip],\n",
    "    elevation_data[::skip, ::skip],\n",
    "    transform=crs.PlateCarree(),\n",
    "    levels=np.arange(0, 1500, 100),\n",
    "    cmap=\"gist_earth_r\",\n",
    "    zorder=0,\n",
    ")\n",
    "for s in my_stations:\n",
    "    df = nysm_cats_df[nysm_cats_df[\"stid\"] == s]\n",
    "    plt.scatter(\n",
    "        df[\"lon [degrees]\"],\n",
    "        df[\"lat [degrees]\"],\n",
    "        c=colors[j],\n",
    "        s=250,\n",
    "        edgecolors=\"black\",\n",
    "        transform=crs.PlateCarree(),\n",
    "        zorder=10,\n",
    "        label=s,\n",
    "    )\n",
    "    j += 1\n",
    "\n",
    "ax.set_extent([-79.82, -72.0, 40.48, 44.9])\n",
    "fig.tight_layout(rect=[0, 0.03, 1, 0.95])\n",
    "plt.legend(bbox_to_anchor=(1.1, 1), loc=\"upper left\", borderaxespad=0, fontsize=16)"
   ]
  },
  {
   "cell_type": "code",
   "execution_count": null,
   "metadata": {},
   "outputs": [],
   "source": [
    "def load_nysm_data():\n",
    "    # these parquet files are created by running \"get_resampled_nysm_data.ipynb\"\n",
    "    nysm_path = \"/home/aevans/nwp_bias/data/nysm/\"\n",
    "\n",
    "    nysm_1H = []\n",
    "    for year in np.arange(2018, 2023):\n",
    "        df = pd.read_parquet(f\"{nysm_path}nysm_1H_obs_{year}.parquet\")\n",
    "        df.reset_index(inplace=True)\n",
    "        nysm_1H.append(df)\n",
    "    nysm_1H_obs = pd.concat(nysm_1H)\n",
    "    nysm_1H_obs[\"snow_depth\"] = nysm_1H_obs[\"snow_depth\"].fillna(0)\n",
    "    nysm_1H_obs.fillna(-999, inplace=True)\n",
    "    return nysm_1H_obs"
   ]
  },
  {
   "cell_type": "code",
   "execution_count": null,
   "metadata": {},
   "outputs": [],
   "source": [
    "nysm_df = load_nysm_data()"
   ]
  },
  {
   "cell_type": "code",
   "execution_count": null,
   "metadata": {},
   "outputs": [],
   "source": [
    "stations = [\"ANDE\", \"BRON\", \"BUFF\", \"WALL\"]"
   ]
  },
  {
   "cell_type": "code",
   "execution_count": null,
   "metadata": {},
   "outputs": [],
   "source": [
    "nysm_df = nysm_df[nysm_df[\"station\"].isin(stations)]"
   ]
  },
  {
   "cell_type": "code",
   "execution_count": null,
   "metadata": {},
   "outputs": [],
   "source": [
    "nysm_df = nysm_df[nysm_df[\"time_1H\"] > datetime(2020, 8, 26, 0, 0, 0)]\n",
    "nysm_df = nysm_df[nysm_df[\"time_1H\"] < datetime(2020, 8, 29, 0, 0, 0)]"
   ]
  },
  {
   "cell_type": "code",
   "execution_count": null,
   "metadata": {},
   "outputs": [],
   "source": [
    "nysm_df"
   ]
  },
  {
   "cell_type": "code",
   "execution_count": null,
   "metadata": {},
   "outputs": [],
   "source": [
    "def plot_weather(df, var):\n",
    "    fig, ax = plt.subplots(figsize=(12, 9))\n",
    "    ax.set_xlabel(f\"Time\", fontsize=18)\n",
    "    ax.set_ylabel(f\"{var} [m/s]\", fontsize=18)\n",
    "    ax.set_title(f\"{df['station'].iloc[0]}\", fontsize=24)\n",
    "    plt.ylim([0, 20])\n",
    "\n",
    "    plt.plot(df[\"time_1H\"], df[var], c=\"red\")"
   ]
  },
  {
   "cell_type": "code",
   "execution_count": null,
   "metadata": {},
   "outputs": [],
   "source": [
    "temp_1 = nysm_df[nysm_df[\"station\"] == \"ANDE\"]\n",
    "temp_2 = nysm_df[nysm_df[\"station\"] == \"BUFF\"]\n",
    "temp_3 = nysm_df[nysm_df[\"station\"] == \"BRON\"]\n",
    "temp_4 = nysm_df[nysm_df[\"station\"] == \"WALL\"]"
   ]
  },
  {
   "cell_type": "code",
   "execution_count": null,
   "metadata": {},
   "outputs": [],
   "source": [
    "plot_weather(temp_1, \"wmax_sonic\")"
   ]
  },
  {
   "cell_type": "code",
   "execution_count": null,
   "metadata": {},
   "outputs": [],
   "source": [
    "plot_weather(temp_2, \"wmax_sonic\")"
   ]
  },
  {
   "cell_type": "code",
   "execution_count": null,
   "metadata": {},
   "outputs": [],
   "source": [
    "plot_weather(temp_3, \"wmax_sonic\")"
   ]
  },
  {
   "cell_type": "code",
   "execution_count": null,
   "metadata": {},
   "outputs": [],
   "source": [
    "plot_weather(temp_4, \"wmax_sonic\")"
   ]
  },
  {
   "cell_type": "code",
   "execution_count": null,
   "metadata": {},
   "outputs": [],
   "source": [
    "def read_hrrr_data():\n",
    "    \"\"\"\n",
    "    Reads and concatenates parquet files containing forecast and error data for HRRR weather models\n",
    "    for the years 2018 to 2022.\n",
    "\n",
    "    Returns:\n",
    "        pandas.DataFrame: of hrrr weather forecast information for each NYSM site.\n",
    "    \"\"\"\n",
    "\n",
    "    years = [\"2018\", \"2019\", \"2020\", \"2021\", \"2022\"]\n",
    "    savedir = \"/home/aevans/ai2es/processed_data/HRRR/ny/\"\n",
    "\n",
    "    # create empty lists to hold dataframes for each model\n",
    "    hrrr_fcast_and_error = []\n",
    "\n",
    "    # loop over years and read in parquet files for each model\n",
    "    for year in years:\n",
    "        for month in np.arange(1, 13):\n",
    "            str_month = str(month).zfill(2)\n",
    "            if (\n",
    "                os.path.exists(\n",
    "                    f\"{savedir}HRRR_{year}_{str_month}_direct_compare_to_nysm_sites_mask_water.parquet\"\n",
    "                )\n",
    "                == True\n",
    "            ):\n",
    "                hrrr_fcast_and_error.append(\n",
    "                    pd.read_parquet(\n",
    "                        f\"{savedir}HRRR_{year}_{str_month}_direct_compare_to_nysm_sites_mask_water.parquet\"\n",
    "                    )\n",
    "                )\n",
    "            else:\n",
    "                continue\n",
    "\n",
    "    # concatenate dataframes for each model\n",
    "    hrrr_fcast_and_error_df = pd.concat(hrrr_fcast_and_error)\n",
    "    hrrr_fcast_and_error_df = hrrr_fcast_and_error_df.reset_index().dropna()\n",
    "\n",
    "    # return dataframes for each model\n",
    "    return hrrr_fcast_and_error_df"
   ]
  },
  {
   "cell_type": "code",
   "execution_count": null,
   "metadata": {},
   "outputs": [],
   "source": [
    "# -*- coding: utf-8 -*-\n",
    "import numpy as np\n",
    "import pandas as pd\n",
    "\n",
    "\n",
    "def format_climate_df(data_path):\n",
    "    \"\"\"\n",
    "    Formats a climate data file located at the specified `data_path` into a pandas DataFrame.\n",
    "\n",
    "    Args:\n",
    "        data_path (str): The file path for the climate data file.\n",
    "\n",
    "    Returns:\n",
    "        pandas.DataFrame: A DataFrame containing the climate data, with the first column renamed to \"year\".\n",
    "    \"\"\"\n",
    "    raw_index = np.loadtxt(f\"{data_path}\")\n",
    "    cl_index = pd.DataFrame(raw_index)\n",
    "    cl_index = cl_index.rename(columns={0: \"year\"})\n",
    "    return cl_index"
   ]
  },
  {
   "cell_type": "code",
   "execution_count": null,
   "metadata": {},
   "outputs": [],
   "source": [
    "def groupby_month(df, col):\n",
    "    df = df[df[col] > -999]\n",
    "    GB = df.groupby([(df.valid_time.dt.year), (df.valid_time.dt.month)])[col].mean()\n",
    "    the_list = GB.tolist()\n",
    "    fig, ax = plt.subplots(figsize=(21, 6))\n",
    "    plt.plot(the_list)\n",
    "    ax.set_xticklabels([2018, 2019, 2020, 2021, 2022])\n",
    "    ax.set_xticks(np.arange(0, len(the_list), int(len(the_list) / 5)))\n",
    "    return the_list"
   ]
  },
  {
   "cell_type": "code",
   "execution_count": null,
   "metadata": {},
   "outputs": [],
   "source": [
    "def groupby_month_hrrr(df, col):\n",
    "    df = df[df[col] > -999]\n",
    "    GB = df.groupby([(df.time.dt.year), (df.time.dt.month)])[col].mean()\n",
    "    the_list = GB.tolist()\n",
    "    fig, ax = plt.subplots(figsize=(21, 6))\n",
    "    plt.plot(the_list)\n",
    "    ax.set_xticklabels([2018, 2019, 2020, 2021, 2022])\n",
    "    ax.set_xticks(np.arange(0, 60, 12))\n",
    "    return the_list"
   ]
  },
  {
   "cell_type": "code",
   "execution_count": null,
   "metadata": {},
   "outputs": [],
   "source": [
    "def anoms_detection_hrrr(df, means, col):\n",
    "    anoms = []\n",
    "\n",
    "    for i, _ in enumerate(df[\"time\"]):\n",
    "        t = df[\"time\"].iloc[i]\n",
    "        tair = df[col].iloc[i]\n",
    "        dt_object = parse(str(t))\n",
    "        year = dt_object.strftime(\"%Y\")\n",
    "        month = dt_object.strftime(\"%m\")\n",
    "\n",
    "        for m in np.arange(1, 13):\n",
    "            if year == str(2018) and month == str(m).zfill(2):\n",
    "                new_means = means[:12]\n",
    "                anom = tair - new_means[m - 1]\n",
    "                anoms.append(anom)\n",
    "            if year == str(2019) and month == str(m).zfill(2):\n",
    "                new_means = means[12:24]\n",
    "                anom = tair - new_means[m - 1]\n",
    "                anoms.append(anom)\n",
    "            if year == str(2020) and month == str(m).zfill(2):\n",
    "                new_means = means[24:36]\n",
    "                anom = tair - new_means[m - 1]\n",
    "                anoms.append(anom)\n",
    "            if year == str(2021) and month == str(m).zfill(2):\n",
    "                new_means = means[36:48]\n",
    "                anom = tair - new_means[m - 1]\n",
    "                anoms.append(anom)\n",
    "            if year == str(2022) and month == str(m).zfill(2):\n",
    "                new_means = means[48:60]\n",
    "                anom = tair - new_means[m - 1]\n",
    "                anoms.append(anom)\n",
    "\n",
    "    fig, ax = plt.subplots(figsize=(21, 7))\n",
    "    plt.plot(anoms, c=\"red\")\n",
    "    print(len(anoms))\n",
    "    ax.set_xticklabels([2018, 2019, 2020, 2021, 2022])\n",
    "    ax.set_xticks(np.arange(0, len(anoms), (len(anoms) / 5)))"
   ]
  },
  {
   "cell_type": "code",
   "execution_count": null,
   "metadata": {},
   "outputs": [],
   "source": [
    "def anoms_detection(df, means, col):\n",
    "    times = []\n",
    "    anoms = []\n",
    "\n",
    "    df = df[df[\"valid_time\"] > datetime(2022, 7, 20, 0, 0, 0)]\n",
    "    df = df[df[\"valid_time\"] < datetime(2022, 8, 11, 0, 0, 0)]\n",
    "\n",
    "    for i, _ in enumerate(df[\"valid_time\"]):\n",
    "        t = df[\"valid_time\"].iloc[i]\n",
    "        tair = df[col].iloc[i]\n",
    "        dt_object = parse(str(t))\n",
    "        year = dt_object.strftime(\"%Y\")\n",
    "        month = dt_object.strftime(\"%m\")\n",
    "\n",
    "        for m in np.arange(1, 13):\n",
    "            new_means = st.mean(means)\n",
    "            anom = tair - new_means\n",
    "            anoms.append(anom)\n",
    "            times.append(t)\n",
    "\n",
    "            # if year == str(2018) and month == str(m).zfill(2):\n",
    "            #     new_means = means[:12]\n",
    "            #     anom = tair - new_means[m-1]\n",
    "            #     anoms.append(anom)\n",
    "            # if year == str(2019) and month == str(m).zfill(2):\n",
    "            #     new_means = means[12:24]\n",
    "            #     anom = tair - new_means[m-1]\n",
    "            #     anoms.append(anom)\n",
    "            # if year == str(2020) and month == str(m).zfill(2):\n",
    "            #     new_means = means[24:36]\n",
    "            #     anom = tair - new_means[m-1]\n",
    "            #     anoms.append(anom)\n",
    "            # if year == str(2021) and month == str(m).zfill(2):\n",
    "            #     new_means = means[36:48]\n",
    "            #     anom = tair - new_means[m-1]\n",
    "            #     anoms.append(anom)\n",
    "            # if year == str(2022) and month == str(m).zfill(2):\n",
    "            #     new_means = means[48:60]\n",
    "            #     anom = tair - new_means[m-1]\n",
    "            #     anoms.append(anom)\n",
    "\n",
    "    fig, ax = plt.subplots(figsize=(21, 6))\n",
    "    plt.plot(times, anoms, c=\"red\")\n",
    "    print(len(anoms))\n",
    "    # ax.set_xticklabels([2018, 2019, 2020, 2021, 2022])\n",
    "    # ax.set_xticks(np.arange(0, len(anoms), (len(anoms) / 5)))"
   ]
  },
  {
   "cell_type": "markdown",
   "metadata": {},
   "source": []
  },
  {
   "cell_type": "code",
   "execution_count": null,
   "metadata": {},
   "outputs": [],
   "source": [
    "# directory = sorted(os.listdir(\"/home/aevans/nwp_bias/src/correlation/data/indexes\"))\n",
    "\n",
    "# # years = ['2018', '2019', '2020', '2021', '2022']\n",
    "# years = np.arange(2018, 2023)\n",
    "# for d in directory:\n",
    "#     if d != \"csv\":\n",
    "#         path = f\"/home/aevans/nwp_bias/src/correlation/data/indexes/{d}\"\n",
    "#         cldf = format_climate_df(path)\n",
    "#         cldf = cldf[cldf[\"year\"].isin(years)]\n",
    "#         filename = d\n",
    "\n",
    "#         # plot\n",
    "#         parts = filename.split(\".\")\n",
    "#         title = parts[0]\n",
    "#         cldf = cldf.drop(columns=[\"year\"])\n",
    "#         y = []\n",
    "#         for d, _ in enumerate(cldf[1]):\n",
    "#             vals = cldf.iloc[d]\n",
    "#             for v in vals:\n",
    "#                 y.append(v)\n",
    "\n",
    "#         x = np.arange(0, len(y))\n",
    "#         print(len(y))\n",
    "\n",
    "#         fig, ax = plt.subplots(figsize=(21, 7))\n",
    "#         plt.plot(\n",
    "#             x,\n",
    "#             y,\n",
    "#         )\n",
    "#         plt.title(f\"{title}\")\n",
    "#         ax.set_xticklabels([2018, 2019, 2020, 2021, 2022])\n",
    "#         ax.set_xticks(np.arange(0, len(y), (len(y) / 5)))\n",
    "#         ax.axhline(y=0, c=\"black\")\n",
    "#         ax.set_ylim(-3, 3)\n",
    "#         plt.show()"
   ]
  },
  {
   "cell_type": "code",
   "execution_count": null,
   "metadata": {},
   "outputs": [],
   "source": [
    "hrrr_df = read_hrrr_data()\n",
    "# hrrr_df = hrrr_df[hrrr_df[\"station\"] == \"OLEA\"]\n",
    "hrrr_df.keys()"
   ]
  },
  {
   "cell_type": "code",
   "execution_count": null,
   "metadata": {},
   "outputs": [],
   "source": [
    "hrrr_df = hrrr_df[hrrr_df[\"station\"] == \"BKLN\"]"
   ]
  },
  {
   "cell_type": "code",
   "execution_count": null,
   "metadata": {},
   "outputs": [],
   "source": [
    "hrrr_df\n",
    "# Filter for summer months (assuming summer is June, July, and August)"
   ]
  },
  {
   "cell_type": "code",
   "execution_count": null,
   "metadata": {},
   "outputs": [],
   "source": [
    "nysm_df = load_nysm_data()"
   ]
  },
  {
   "cell_type": "code",
   "execution_count": null,
   "metadata": {},
   "outputs": [],
   "source": [
    "nysm_df[\"station\"].unique()"
   ]
  },
  {
   "cell_type": "code",
   "execution_count": null,
   "metadata": {},
   "outputs": [],
   "source": [
    "nysm_df = nysm_df[nysm_df[\"station\"] == \"BKLN\"]"
   ]
  },
  {
   "cell_type": "code",
   "execution_count": null,
   "metadata": {},
   "outputs": [],
   "source": [
    "nysm_df = nysm_df[nysm_df[\"tair\"] > -100]\n",
    "nysm_df = nysm_df.rename(columns={\"time_1H\": \"valid_time\"})\n",
    "nysm_df.dropna(inplace=True)\n",
    "\n",
    "summer_df = nysm_df[\n",
    "    (nysm_df[\"valid_time\"].dt.month >= 5) & (nysm_df[\"valid_time\"].dt.month <= 9)\n",
    "]"
   ]
  },
  {
   "cell_type": "code",
   "execution_count": null,
   "metadata": {},
   "outputs": [],
   "source": [
    "# df = pd.read_parquet(\n",
    "#     \"/home/aevans/nwp_bias/src/machine_learning/data/lstm_eval_csvs/20231204/WANT/WANT_loss_0.05465654283761978_ml_output.parquet\"\n",
    "# )\n",
    "# df = df.sort_index()"
   ]
  },
  {
   "cell_type": "code",
   "execution_count": null,
   "metadata": {},
   "outputs": [],
   "source": [
    "df"
   ]
  },
  {
   "cell_type": "code",
   "execution_count": null,
   "metadata": {},
   "outputs": [],
   "source": [
    "nysm_df[39490:40960]"
   ]
  },
  {
   "cell_type": "code",
   "execution_count": null,
   "metadata": {},
   "outputs": [],
   "source": [
    "# tcc_means = groupby_month_hrrr(hrrr_df, \"tcc\")"
   ]
  },
  {
   "cell_type": "code",
   "execution_count": null,
   "metadata": {},
   "outputs": [],
   "source": [
    "# anoms_detection_hrrr(hrrr_df, tcc_means, \"tcc\")"
   ]
  },
  {
   "cell_type": "code",
   "execution_count": null,
   "metadata": {},
   "outputs": [],
   "source": [
    "for k in summer_df.keys():\n",
    "    print(k)"
   ]
  },
  {
   "cell_type": "code",
   "execution_count": null,
   "metadata": {},
   "outputs": [],
   "source": [
    "t2m_means = groupby_month(summer_df, \"tair\")"
   ]
  },
  {
   "cell_type": "code",
   "execution_count": null,
   "metadata": {},
   "outputs": [],
   "source": [
    "df = summer_df[summer_df[\"valid_time\"] > datetime(2022, 7, 7, 0, 0, 0)]\n",
    "df = df[df[\"valid_time\"] < datetime(2022, 8, 15, 0, 0, 0)]"
   ]
  },
  {
   "cell_type": "code",
   "execution_count": null,
   "metadata": {},
   "outputs": [],
   "source": [
    "fig, ax = plt.subplots(figsize=(21, 6))\n",
    "\n",
    "# Plotting the temperature data\n",
    "ax.plot(df[\"valid_time\"], df[\"tair\"], color=\"darkorange\", label=\"Temperature\")\n",
    "\n",
    "# Plotting the horizontal line for the mean temperature\n",
    "mean_temp = st.mean(t2m_means)\n",
    "ax.axhline(\n",
    "    mean_temp,\n",
    "    color=\"red\",\n",
    "    linestyle=\"--\",\n",
    "    label=f\"Summer Average for BKLN = {round(mean_temp, 2)}\",\n",
    ")\n",
    "\n",
    "# Adding legend\n",
    "ax.legend()\n",
    "\n",
    "ax.set_title(\"Brooklyn NYSM 2 Meter Temperature\", fontsize=24)\n",
    "ax.set_ylabel(\"Degrees Celsius\", fontsize=12)\n",
    "ax.set_xlabel(\"Date\", fontsize=12)\n",
    "ax.set_ylim(21, 36)\n",
    "\n",
    "plt.show()"
   ]
  },
  {
   "cell_type": "code",
   "execution_count": null,
   "metadata": {},
   "outputs": [],
   "source": [
    "relh_means = groupby_month(summer_df, \"relh\")"
   ]
  },
  {
   "cell_type": "code",
   "execution_count": null,
   "metadata": {},
   "outputs": [],
   "source": [
    "fig, ax = plt.subplots(figsize=(21, 6))\n",
    "\n",
    "# Plotting the temperature data\n",
    "ax.plot(df[\"valid_time\"], df[\"relh\"], color=\"green\", label=\"Temperature\")\n",
    "\n",
    "# Plotting the horizontal line for the mean temperature\n",
    "mean_temp = st.mean(relh_means)\n",
    "ax.axhline(\n",
    "    mean_temp,\n",
    "    color=\"red\",\n",
    "    linestyle=\"--\",\n",
    "    label=f\"Summer Average for BKLN = {round(mean_temp, 2)}\",\n",
    ")\n",
    "\n",
    "# Adding legend\n",
    "ax.legend()\n",
    "\n",
    "ax.set_title(\"Brooklyn NYSM 2 Meter Temperature\", fontsize=24)\n",
    "ax.set_ylabel(\"% Humidity\", fontsize=12)\n",
    "ax.set_xlabel(\"Date\", fontsize=12)\n",
    "# ax.set_ylim(15, 40)\n",
    "\n",
    "plt.show()"
   ]
  },
  {
   "cell_type": "code",
   "execution_count": null,
   "metadata": {},
   "outputs": [],
   "source": [
    "wind_means = groupby_month(summer_df, \"wmax_sonic\")"
   ]
  },
  {
   "cell_type": "code",
   "execution_count": null,
   "metadata": {},
   "outputs": [],
   "source": [
    "# Assuming you have 't2m_means' defined somewhere\n",
    "\n",
    "fig, ax = plt.subplots(figsize=(21, 6))\n",
    "\n",
    "# Plotting the temperature data\n",
    "ax.plot(df[\"valid_time\"], df[\"wmax_sonic\"], color=\"blue\", label=\"Temperature\")\n",
    "\n",
    "# Plotting the horizontal line for the mean temperature\n",
    "mean_temp = st.mean(wind_means)\n",
    "ax.axhline(\n",
    "    mean_temp,\n",
    "    color=\"red\",\n",
    "    linestyle=\"--\",\n",
    "    label=f\"Summer Average for BKLN = {round(mean_temp, 2)}\",\n",
    ")\n",
    "\n",
    "# Adding legend\n",
    "ax.legend()\n",
    "\n",
    "ax.set_title(\"Brooklyn NYSM 2 Meter Temperature\", fontsize=24)\n",
    "ax.set_ylabel(\"Meters / Second\", fontsize=12)\n",
    "ax.set_xlabel(\"Date\", fontsize=12)\n",
    "# ax.set_ylim(15, 40)\n",
    "\n",
    "plt.show()"
   ]
  },
  {
   "cell_type": "code",
   "execution_count": null,
   "metadata": {},
   "outputs": [],
   "source": [
    "p_means = groupby_month(summer_df, \"precip_total\")"
   ]
  },
  {
   "cell_type": "code",
   "execution_count": null,
   "metadata": {},
   "outputs": [],
   "source": [
    "# Assuming you have 't2m_means' defined somewhere\n",
    "fig, ax = plt.subplots(figsize=(21, 6))\n",
    "\n",
    "# Plotting the temperature data\n",
    "ax.plot(df[\"valid_time\"], df[\"precip_total\"], color=\"purple\", label=\"Temperature\")\n",
    "\n",
    "# Plotting the horizontal line for the mean temperature\n",
    "mean_temp = st.mean(p_means)\n",
    "ax.axhline(\n",
    "    mean_temp,\n",
    "    color=\"red\",\n",
    "    linestyle=\"--\",\n",
    "    label=f\"Summer Average for BKLN = {round(mean_temp, 2)}\",\n",
    ")\n",
    "\n",
    "# Adding legend\n",
    "ax.legend()\n",
    "\n",
    "ax.set_title(\"Brooklyn NYSM 2 Meter Temperature\", fontsize=24)\n",
    "ax.set_ylabel(\"Millimeters / Hour\", fontsize=12)\n",
    "ax.set_xlabel(\"Date\", fontsize=12)\n",
    "# ax.set_ylim(15, 40)\n",
    "\n",
    "plt.show()"
   ]
  },
  {
   "cell_type": "code",
   "execution_count": null,
   "metadata": {},
   "outputs": [],
   "source": [
    "def calc_hi(T, RH):\n",
    "    _hi = (\n",
    "        -42.379\n",
    "        + 2.04901523 * T\n",
    "        + 10.14333127 * RH\n",
    "        - 0.22475541 * T * RH\n",
    "        - 0.00683783 * T * T\n",
    "        - 0.05481717 * RH * RH\n",
    "        + 0.00122874 * T * T * RH\n",
    "        + 0.00085282 * T * RH * RH\n",
    "        - 0.00000199 * T * T * RH * RH\n",
    "    )\n",
    "\n",
    "    return _hi"
   ]
  },
  {
   "cell_type": "code",
   "execution_count": null,
   "metadata": {},
   "outputs": [],
   "source": [
    "def f_to_c(ls):\n",
    "    new_ls = []\n",
    "    for i in ls:\n",
    "        new = (i - 32) * (5 / 9)\n",
    "        new_ls.append(new)\n",
    "    return new_ls"
   ]
  },
  {
   "cell_type": "code",
   "execution_count": null,
   "metadata": {},
   "outputs": [],
   "source": [
    "def heat_index(df):\n",
    "    heat_index = []\n",
    "    for i, _ in enumerate(df[\"valid_time\"]):\n",
    "        T = df[\"tair\"].iloc[i]\n",
    "        T = T * (9 / 5) + 32\n",
    "        RH = df[\"relh\"].iloc[i]\n",
    "\n",
    "        hi = calc_hi(T, RH)\n",
    "        heat_index.append(hi)\n",
    "    new_heat = f_to_c(heat_index)\n",
    "    return new_heat"
   ]
  },
  {
   "cell_type": "code",
   "execution_count": null,
   "metadata": {},
   "outputs": [],
   "source": [
    "heat_index = heat_index(df)"
   ]
  },
  {
   "cell_type": "code",
   "execution_count": null,
   "metadata": {},
   "outputs": [],
   "source": [
    "heat_index"
   ]
  },
  {
   "cell_type": "code",
   "execution_count": null,
   "metadata": {},
   "outputs": [],
   "source": [
    "# Assuming you have 't2m_means' defined somewhere\n",
    "fig, ax = plt.subplots(figsize=(21, 6))\n",
    "\n",
    "# Plotting the temperature data\n",
    "ax.plot(df[\"valid_time\"], heat_index, color=\"maroon\", label=\"Temperature\")\n",
    "\n",
    "# Plotting the horizontal line for the mean temperature\n",
    "mean_temp = st.mean(heat_index)\n",
    "ax.axhline(\n",
    "    mean_temp,\n",
    "    color=\"red\",\n",
    "    linestyle=\"--\",\n",
    "    label=f\"Summer Average for BKLN = {round(mean_temp, 2)}\",\n",
    ")\n",
    "\n",
    "# Adding legend\n",
    "ax.legend()\n",
    "\n",
    "ax.set_title(\"Brooklyn NYSM Heat Index\", fontsize=24)\n",
    "ax.set_ylabel(\"Degrees Fahrenheit\", fontsize=12)\n",
    "ax.set_xlabel(\"Date\", fontsize=12)\n",
    "\n",
    "plt.show()"
   ]
  },
  {
   "cell_type": "code",
   "execution_count": null,
   "metadata": {},
   "outputs": [],
   "source": [
    "elec_df = pd.read_csv(\n",
    "    \"/home/aevans/nwp_bias/data/model_data/nyc_electricity/nyc_elec_load_july_aug_2022.csv\"\n",
    ")"
   ]
  },
  {
   "cell_type": "code",
   "execution_count": null,
   "metadata": {},
   "outputs": [],
   "source": [
    "elec_df"
   ]
  },
  {
   "cell_type": "code",
   "execution_count": null,
   "metadata": {},
   "outputs": [],
   "source": [
    "date_format = \"%m/%d/%Y %H:%M:%S\"\n",
    "\n",
    "dates = []\n",
    "\n",
    "for i, _ in enumerate(elec_df[\"Time Stamp\"]):\n",
    "    date_string = elec_df[\"Time Stamp\"].iloc[i]\n",
    "    # Convert the string to a datetime object\n",
    "    datetime_object = datetime.strptime(date_string, date_format)\n",
    "    dates.append(datetime_object)"
   ]
  },
  {
   "cell_type": "code",
   "execution_count": null,
   "metadata": {},
   "outputs": [],
   "source": [
    "elec_df[\"valid_time\"] = dates"
   ]
  },
  {
   "cell_type": "code",
   "execution_count": null,
   "metadata": {},
   "outputs": [],
   "source": [
    "elec_df"
   ]
  },
  {
   "cell_type": "code",
   "execution_count": null,
   "metadata": {},
   "outputs": [],
   "source": [
    "df2 = elec_df[elec_df[\"valid_time\"] > datetime(2022, 7, 7, 0, 0, 0)]\n",
    "df2 = df2[df2[\"valid_time\"] < datetime(2022, 8, 15, 0, 0, 0)]"
   ]
  },
  {
   "cell_type": "code",
   "execution_count": null,
   "metadata": {},
   "outputs": [],
   "source": [
    "df2"
   ]
  },
  {
   "cell_type": "code",
   "execution_count": null,
   "metadata": {},
   "outputs": [],
   "source": [
    "# Sum up the 'value' column for each hour\n",
    "hourly_sum = df2.groupby([(df2.valid_time.dt.hour)])[\"Load\"].sum()"
   ]
  },
  {
   "cell_type": "code",
   "execution_count": null,
   "metadata": {},
   "outputs": [],
   "source": [
    "hourly_sum"
   ]
  },
  {
   "cell_type": "code",
   "execution_count": null,
   "metadata": {},
   "outputs": [],
   "source": [
    "# Assuming you have 't2m_means' defined somewhere\n",
    "fig, ax = plt.subplots(figsize=(21, 6))\n",
    "\n",
    "\n",
    "# Plotting the temperature data\n",
    "ax.plot(df2[\"valid_time\"], df2[\"Load\"], color=\"black\", label=\"Electrical Load for NYC\")\n",
    "ax.plot(df[\"valid_time\"], heat_index, color=\"maroon\", label=\"Temperature\")\n",
    "# Plotting the temperature data\n",
    "ax.plot(df[\"valid_time\"], df[\"tair\"], color=\"darkorange\", label=\"Temperature\")\n",
    "\n",
    "# Plotting the horizontal line for the mean temperature\n",
    "mean_temp = st.mean(heat_index)\n",
    "ax.axhline(\n",
    "    5500, color=\"red\", linestyle=\"--\", label=f\"Average electricity load = 5500 MW\"\n",
    ")\n",
    "\n",
    "# Adding legend\n",
    "ax.legend()\n",
    "\n",
    "ax.set_title(\"NYC Electrical Load\", fontsize=24)\n",
    "ax.set_ylabel(\"Megawatts\", fontsize=12)\n",
    "ax.set_xlabel(\"Date\", fontsize=12)\n",
    "# ax.set_ylim(80, 105)\n",
    "\n",
    "plt.show()"
   ]
  },
  {
   "cell_type": "code",
   "execution_count": null,
   "metadata": {},
   "outputs": [],
   "source": [
    "import matplotlib.pyplot as plt\n",
    "import pandas as pd\n",
    "import statistics as st\n",
    "\n",
    "# Assuming you have 't2m_means' and 'df2' defined somewhere\n",
    "fig, ax = plt.subplots(figsize=(21, 6))\n",
    "\n",
    "# Plotting the temperature data on the primary y-axis\n",
    "ax.plot(\n",
    "    df2[\"valid_time\"],\n",
    "    df2[\"Load\"],\n",
    "    color=\"black\",\n",
    "    label=\"Electrical Load for NYC\",\n",
    "    linewidth=3,\n",
    ")\n",
    "ax.set_ylabel(\"Megawatts\", fontsize=12)\n",
    "\n",
    "# Creating a second y-axis\n",
    "ax2 = ax.twinx()\n",
    "\n",
    "# Plotting the first temperature data on the second y-axis\n",
    "ax2.plot(df[\"valid_time\"], df[\"tair\"], color=\"darkorange\", label=\"Temperature\")\n",
    "ax2.set_ylabel(\"Degrees Celsius\", fontsize=12)\n",
    "# Set the y-axis limits for ax2\n",
    "ax2.set_ylim(ymin=15, ymax=40)\n",
    "\n",
    "# Creating a third y-axis\n",
    "ax3 = ax.twinx()\n",
    "\n",
    "# Plotting the second temperature data on the third y-axis\n",
    "ax3.plot(df[\"valid_time\"], heat_index, color=\"blue\", label=\"Heat Index\")\n",
    "ax3.set_ylim(ymin=15, ymax=40)\n",
    "\n",
    "\n",
    "ax.axhline(\n",
    "    5500, color=\"red\", linestyle=\"--\", label=f\"Average electricity load = 5500 MW\"\n",
    ")\n",
    "\n",
    "# Adding legend\n",
    "lines, labels = ax.get_legend_handles_labels()\n",
    "lines2, labels2 = ax2.get_legend_handles_labels()\n",
    "lines3, labels3 = ax3.get_legend_handles_labels()\n",
    "ax3.legend(lines + lines2 + lines3, labels + labels2 + labels3, loc=\"upper left\")\n",
    "\n",
    "ax.set_title(\"NYC Electrical Load and Temperature\", fontsize=24)\n",
    "ax.set_xlabel(\"Date\", fontsize=12)\n",
    "\n",
    "plt.show()"
   ]
  },
  {
   "cell_type": "code",
   "execution_count": null,
   "metadata": {},
   "outputs": [],
   "source": [
    "td_means = groupby_month(hrrr_df, \"d2m\")"
   ]
  },
  {
   "cell_type": "code",
   "execution_count": null,
   "metadata": {},
   "outputs": [],
   "source": [
    "anoms_td = anoms_detection(hrrr_df, td_means, \"d2m\")"
   ]
  },
  {
   "cell_type": "code",
   "execution_count": null,
   "metadata": {},
   "outputs": [],
   "source": [
    "relh_means = groupby_month(hrrr_df, \"r2\")"
   ]
  },
  {
   "cell_type": "code",
   "execution_count": null,
   "metadata": {},
   "outputs": [],
   "source": [
    "anoms_detection(hrrr_df, relh_means, \"r2\")"
   ]
  },
  {
   "cell_type": "code",
   "execution_count": null,
   "metadata": {},
   "outputs": [],
   "source": [
    "srad_means = groupby_month(hrrr_df, \"dswrf\")"
   ]
  },
  {
   "cell_type": "code",
   "execution_count": null,
   "metadata": {},
   "outputs": [],
   "source": [
    "anoms_detection(hrrr_df, srad_means, \"dswrf\")"
   ]
  },
  {
   "cell_type": "code",
   "execution_count": null,
   "metadata": {},
   "outputs": [],
   "source": [
    "pres_means = groupby_month(hrrr_df, \"mslma\")"
   ]
  },
  {
   "cell_type": "code",
   "execution_count": null,
   "metadata": {},
   "outputs": [],
   "source": [
    "anoms_detection(hrrr_df, pres_means, \"mslma\")"
   ]
  },
  {
   "cell_type": "code",
   "execution_count": null,
   "metadata": {},
   "outputs": [],
   "source": [
    "mslp_means = groupby_month(nysm_df, \"mslp\")"
   ]
  },
  {
   "cell_type": "code",
   "execution_count": null,
   "metadata": {},
   "outputs": [],
   "source": [
    "anoms_detection(nysm_df, mslp_means, \"mslp\")"
   ]
  },
  {
   "cell_type": "code",
   "execution_count": null,
   "metadata": {},
   "outputs": [],
   "source": [
    "wspd_means = groupby_month(hrrr_df, \"u_total\")"
   ]
  },
  {
   "cell_type": "code",
   "execution_count": null,
   "metadata": {},
   "outputs": [],
   "source": [
    "anoms_detection(hrrr_df, wspd_means, \"u_total\")"
   ]
  },
  {
   "cell_type": "code",
   "execution_count": null,
   "metadata": {},
   "outputs": [],
   "source": [
    "precip_means = groupby_month(hrrr_df, \"new_tp\")"
   ]
  },
  {
   "cell_type": "code",
   "execution_count": null,
   "metadata": {},
   "outputs": [],
   "source": [
    "anoms_detection(hrrr_df, precip_means, \"new_tp\")"
   ]
  },
  {
   "cell_type": "code",
   "execution_count": null,
   "metadata": {},
   "outputs": [],
   "source": [
    "snow_means = groupby_month(hrrr_df, \"asnow\")"
   ]
  },
  {
   "cell_type": "code",
   "execution_count": null,
   "metadata": {},
   "outputs": [],
   "source": [
    "anoms_detection(hrrr_df, snow_means, \"asnow\")"
   ]
  },
  {
   "cell_type": "code",
   "execution_count": null,
   "metadata": {},
   "outputs": [],
   "source": [
    "# now we can estimate the IMFs for the signal\n",
    "x = nysm_df[\"tair\"]\n",
    "imf = emd.sift.sift(x)\n",
    "print(imf.shape)"
   ]
  },
  {
   "cell_type": "markdown",
   "metadata": {},
   "source": [
    "and, from the IMFs, compute the instantaneous frequency, phase and amplitude using the Normalised Hilbert Transform Method:"
   ]
  },
  {
   "cell_type": "code",
   "execution_count": null,
   "metadata": {},
   "outputs": [],
   "source": [
    "IP, IF, IA = emd.spectra.frequency_transform(imf, 23618, \"hilbert\")"
   ]
  },
  {
   "cell_type": "markdown",
   "metadata": {},
   "source": [
    "From the instantaneous frequency and amplitude, we can compute the Hilbert-Huang spectrum:"
   ]
  },
  {
   "cell_type": "code",
   "execution_count": null,
   "metadata": {},
   "outputs": [],
   "source": [
    "# Define frequency range (low_freq, high_freq, nsteps, spacing)\n",
    "freq_range = (0.1, 10, 80, \"log\")\n",
    "f, hht = emd.spectra.hilberthuang(IF, IA, freq_range, sum_time=False)"
   ]
  },
  {
   "cell_type": "code",
   "execution_count": null,
   "metadata": {},
   "outputs": [],
   "source": [
    "# # visualize\n",
    "# fig = plt.figure(figsize=(25, 3))\n",
    "# plt.plot(nysm_df[\"tair\"])"
   ]
  },
  {
   "cell_type": "code",
   "execution_count": null,
   "metadata": {},
   "outputs": [],
   "source": [
    "# df.iloc[:, 9:11]"
   ]
  },
  {
   "cell_type": "markdown",
   "metadata": {},
   "source": [
    "Plot the IMFs"
   ]
  },
  {
   "cell_type": "code",
   "execution_count": null,
   "metadata": {},
   "outputs": [],
   "source": [
    "emd.plotting.plot_imfs(imf)"
   ]
  },
  {
   "cell_type": "code",
   "execution_count": null,
   "metadata": {},
   "outputs": [],
   "source": [
    "sample_rate = 23618\n",
    "time_vect = np.linspace(0, sample_rate)\n",
    "fig = plt.figure(figsize=(15, 9))\n",
    "emd.plotting.plot_hilberthuang(hht, time_vect, f, fig=fig, log_y=True)"
   ]
  },
  {
   "cell_type": "markdown",
   "metadata": {},
   "source": [
    "# ensemble sifting "
   ]
  },
  {
   "cell_type": "code",
   "execution_count": null,
   "metadata": {},
   "outputs": [],
   "source": [
    "x = nysm_df[\"wspd_sonic\"]\n",
    "imf_opts = {\"sd_thresh\": 0.05}"
   ]
  },
  {
   "cell_type": "code",
   "execution_count": null,
   "metadata": {},
   "outputs": [],
   "source": [
    "imf = emd.sift.ensemble_sift(\n",
    "    x, nensembles=42, nprocesses=12, ensemble_noise=1, imf_opts=imf_opts\n",
    ")\n",
    "emd.plotting.plot_imfs(imf)"
   ]
  },
  {
   "cell_type": "code",
   "execution_count": null,
   "metadata": {},
   "outputs": [],
   "source": [
    "imf.shape"
   ]
  },
  {
   "cell_type": "markdown",
   "metadata": {},
   "source": [
    "and now the Hilbert-Huang transform of this decomposition"
   ]
  },
  {
   "cell_type": "code",
   "execution_count": null,
   "metadata": {},
   "outputs": [],
   "source": [
    "sample_rate = 23618\n",
    "\n",
    "time_vect = np.linspace(0, sample_rate - 0.5)"
   ]
  },
  {
   "cell_type": "code",
   "execution_count": null,
   "metadata": {},
   "outputs": [],
   "source": [
    "fig = plt.figure(figsize=(10, 6))\n",
    "emd.plotting.plot_hilberthuang(hht, time_vect, f, fig=fig, log_y=True)"
   ]
  },
  {
   "cell_type": "code",
   "execution_count": null,
   "metadata": {},
   "outputs": [],
   "source": []
  }
 ],
 "metadata": {
  "kernelspec": {
   "display_name": "Python 3.11.0 (conda)",
   "language": "python",
   "name": "python3"
  },
  "language_info": {
   "codemirror_mode": {
    "name": "ipython",
    "version": 3
   },
   "file_extension": ".py",
   "mimetype": "text/x-python",
   "name": "python",
   "nbconvert_exporter": "python",
   "pygments_lexer": "ipython3",
   "version": "3.11.0"
  },
  "orig_nbformat": 4,
  "vscode": {
   "interpreter": {
    "hash": "168fdf287636bbedc06224370453d1ea17ee31ef28776649e24f81e171f8fc2d"
   }
  }
 },
 "nbformat": 4,
 "nbformat_minor": 2
}
