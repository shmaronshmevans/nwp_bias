{
 "cells": [
  {
   "cell_type": "code",
   "execution_count": 101,
   "metadata": {},
   "outputs": [],
   "source": [
    "import pandas as pd\n",
    "import numpy as np\n",
    "import matplotlib.pyplot as plt\n",
    "import re\n",
    "import statistics as st\n",
    "from datetime import datetime"
   ]
  },
  {
   "cell_type": "code",
   "execution_count": 102,
   "metadata": {},
   "outputs": [
    {
     "name": "stdout",
     "output_type": "stream",
     "text": [
      "(55164, 4)\n"
     ]
    }
   ],
   "source": [
    "ldf = pd.DataFrame()\n",
    "\n",
    "for i in np.arange(16, 17):\n",
    "    model_path_LSTM = f\"/home/aevans/nwp_bias/src/machine_learning/data/lstm_eval_csvs/hrrr_prospectus/BREW/BREW_fh{i}_tp_HRRR_ml_output_linear.parquet\"\n",
    "\n",
    "    # Read parquet file\n",
    "    ldf_ = pd.read_parquet(model_path_LSTM)\n",
    "\n",
    "    # Concatenate with the main DataFrame\n",
    "    ldf = pd.concat([ldf_, ldf], ignore_index=True)\n",
    "    print(ldf.shape)\n",
    "\n",
    "# Sort by valid_time\n",
    "ldf = ldf.sort_values(by=\"valid_time\").reset_index(drop=True)"
   ]
  },
  {
   "cell_type": "code",
   "execution_count": 103,
   "metadata": {},
   "outputs": [],
   "source": [
    "import sys\n",
    "\n",
    "sys.path.append(\"..\")\n",
    "\n",
    "from src.data import nysm_data\n",
    "from src.data import gfs_data\n",
    "from src.data import nam_data"
   ]
  },
  {
   "cell_type": "code",
   "execution_count": 104,
   "metadata": {},
   "outputs": [],
   "source": [
    "nysm_df = nysm_data.load_nysm_data(gfs=False)\n",
    "# nysm_df = nysm_df.rename(columns={'time_1H':'valid_time'})\n",
    "# gfs_df = gfs_data.read_gfs_data('012')\n",
    "station = \"BEAC\""
   ]
  },
  {
   "cell_type": "code",
   "execution_count": 105,
   "metadata": {},
   "outputs": [
    {
     "data": {
      "text/html": [
       "<div>\n",
       "<style scoped>\n",
       "    .dataframe tbody tr th:only-of-type {\n",
       "        vertical-align: middle;\n",
       "    }\n",
       "\n",
       "    .dataframe tbody tr th {\n",
       "        vertical-align: top;\n",
       "    }\n",
       "\n",
       "    .dataframe thead th {\n",
       "        text-align: right;\n",
       "    }\n",
       "</style>\n",
       "<table border=\"1\" class=\"dataframe\">\n",
       "  <thead>\n",
       "    <tr style=\"text-align: right;\">\n",
       "      <th></th>\n",
       "      <th>target_error_lead_0</th>\n",
       "      <th>Model forecast</th>\n",
       "      <th>diff</th>\n",
       "      <th>valid_time</th>\n",
       "    </tr>\n",
       "  </thead>\n",
       "  <tbody>\n",
       "    <tr>\n",
       "      <th>0</th>\n",
       "      <td>0.0</td>\n",
       "      <td>-2502.280273</td>\n",
       "      <td>998.817393</td>\n",
       "      <td>2018-01-01 16:00:00</td>\n",
       "    </tr>\n",
       "    <tr>\n",
       "      <th>1</th>\n",
       "      <td>0.0</td>\n",
       "      <td>-2502.280273</td>\n",
       "      <td>998.817393</td>\n",
       "      <td>2018-01-01 17:00:00</td>\n",
       "    </tr>\n",
       "    <tr>\n",
       "      <th>2</th>\n",
       "      <td>0.0</td>\n",
       "      <td>-2502.280273</td>\n",
       "      <td>998.817393</td>\n",
       "      <td>2018-01-01 18:00:00</td>\n",
       "    </tr>\n",
       "    <tr>\n",
       "      <th>3</th>\n",
       "      <td>0.0</td>\n",
       "      <td>-2502.280273</td>\n",
       "      <td>998.817393</td>\n",
       "      <td>2018-01-01 19:00:00</td>\n",
       "    </tr>\n",
       "    <tr>\n",
       "      <th>4</th>\n",
       "      <td>0.0</td>\n",
       "      <td>-2502.280273</td>\n",
       "      <td>998.817393</td>\n",
       "      <td>2018-01-01 20:00:00</td>\n",
       "    </tr>\n",
       "  </tbody>\n",
       "</table>\n",
       "</div>"
      ],
      "text/plain": [
       "   target_error_lead_0  Model forecast        diff          valid_time\n",
       "0                  0.0    -2502.280273  998.817393 2018-01-01 16:00:00\n",
       "1                  0.0    -2502.280273  998.817393 2018-01-01 17:00:00\n",
       "2                  0.0    -2502.280273  998.817393 2018-01-01 18:00:00\n",
       "3                  0.0    -2502.280273  998.817393 2018-01-01 19:00:00\n",
       "4                  0.0    -2502.280273  998.817393 2018-01-01 20:00:00"
      ]
     },
     "execution_count": 105,
     "metadata": {},
     "output_type": "execute_result"
    }
   ],
   "source": [
    "ldf.dropna(inplace=True)\n",
    "ldf.head()"
   ]
  },
  {
   "cell_type": "code",
   "execution_count": 106,
   "metadata": {},
   "outputs": [],
   "source": [
    "def which_fold(df, fold):\n",
    "    length = len(df)\n",
    "    test_len = int(length * 0.2)\n",
    "    df_train = pd.DataFrame()\n",
    "\n",
    "    for n in np.arange(0, 5):\n",
    "        if n != fold:\n",
    "            df1 = df.iloc[int(0.2 * n * length) : int(0.2 * (n + 1) * length)]\n",
    "            df_train = pd.concat([df_train, df1])\n",
    "        else:\n",
    "            df_test = df.iloc[int(0.2 * n * length) : int(0.2 * (n + 1) * length)]\n",
    "            f = int(len(df_test) * 0.5)\n",
    "            df_val = df_test.iloc[:f]\n",
    "            df_test = df_test[-f:]\n",
    "\n",
    "    return df_train[\"valid_time\"], df_test[\"valid_time\"], df_val[\"valid_time\"]"
   ]
  },
  {
   "cell_type": "code",
   "execution_count": 107,
   "metadata": {},
   "outputs": [],
   "source": [
    "# ldf[\"valid_time\"] = pd.to_datetime(ldf[\"valid_time\"])"
   ]
  },
  {
   "cell_type": "code",
   "execution_count": 108,
   "metadata": {},
   "outputs": [],
   "source": [
    "df_train, df_test, df_val = which_fold(ldf, 4)"
   ]
  },
  {
   "cell_type": "code",
   "execution_count": 109,
   "metadata": {},
   "outputs": [
    {
     "data": {
      "text/plain": [
       "Timestamp('2024-04-13 01:00:00')"
      ]
     },
     "execution_count": 109,
     "metadata": {},
     "output_type": "execute_result"
    }
   ],
   "source": [
    "test_set_start = df_test.iloc[0]\n",
    "test_set_start"
   ]
  },
  {
   "cell_type": "code",
   "execution_count": 110,
   "metadata": {},
   "outputs": [
    {
     "data": {
      "text/plain": [
       "Timestamp('2024-12-14 23:00:00')"
      ]
     },
     "execution_count": 110,
     "metadata": {},
     "output_type": "execute_result"
    }
   ],
   "source": [
    "test_set_finish = df_test.iloc[-1]\n",
    "test_set_finish"
   ]
  },
  {
   "cell_type": "code",
   "execution_count": 111,
   "metadata": {},
   "outputs": [
    {
     "data": {
      "text/plain": [
       "Timestamp('2023-08-13 16:00:00')"
      ]
     },
     "execution_count": 111,
     "metadata": {},
     "output_type": "execute_result"
    }
   ],
   "source": [
    "df_val.iloc[0]"
   ]
  },
  {
   "cell_type": "code",
   "execution_count": 112,
   "metadata": {},
   "outputs": [
    {
     "data": {
      "text/plain": [
       "Timestamp('2024-04-12 23:00:00')"
      ]
     },
     "execution_count": 112,
     "metadata": {},
     "output_type": "execute_result"
    }
   ],
   "source": [
    "df_val.iloc[-1]"
   ]
  },
  {
   "cell_type": "code",
   "execution_count": 113,
   "metadata": {},
   "outputs": [],
   "source": [
    "def date_filter(ldf, time1, time2):\n",
    "    ldf = ldf[ldf[\"valid_time\"] > time1]\n",
    "    ldf = ldf[ldf[\"valid_time\"] < time2]\n",
    "\n",
    "    return ldf"
   ]
  },
  {
   "cell_type": "code",
   "execution_count": 114,
   "metadata": {},
   "outputs": [],
   "source": [
    "def met_output(df, station, fh):\n",
    "    fig, ax = plt.subplots(figsize=(24, 6))\n",
    "    x = df[\"valid_time\"]\n",
    "\n",
    "    # Convert datetime values to numerical values\n",
    "    x_numeric = mdates.date2num(x)\n",
    "\n",
    "    # Assuming your timestamps are in a datetime64 format\n",
    "    day_mask = (x.dt.hour >= 6) & (\n",
    "        x.dt.hour < 18\n",
    "    )  # Adjust the hours based on your day/night definition\n",
    "\n",
    "    plt.plot(\n",
    "        np.array(x),\n",
    "        np.array(df[f\"u_total_{station}\"]),\n",
    "        c=\"mediumseagreen\",\n",
    "        linewidth=3,\n",
    "        label=\"NAM Prediction\",\n",
    "    )\n",
    "\n",
    "    plt.plot(\n",
    "        np.array(x),\n",
    "        np.array(df[\"reforecast\"]),\n",
    "        c=\"red\",\n",
    "        linewidth=3,\n",
    "        linestyle=\"--\",  # Dashed line\n",
    "        label=\"LSTM Reforecast\",\n",
    "    )\n",
    "\n",
    "    plt.plot(\n",
    "        np.array(x),\n",
    "        np.array(df[f\"wspd_sonic_mean_{station}\"]),\n",
    "        c=\"black\",\n",
    "        linewidth=1,\n",
    "        alpha=0.9,\n",
    "        label=\"NYSM Observation\",\n",
    "    )\n",
    "\n",
    "    # Fill daytime hours with white color\n",
    "    ax.fill_between(\n",
    "        x_numeric, 0, 10, where=day_mask, color=\"white\", alpha=0.5, label=\"Daytime\"\n",
    "    )\n",
    "\n",
    "    # Fill nighttime hours with grey color\n",
    "    ax.fill_between(\n",
    "        x_numeric, 0, 10, where=~day_mask, color=\"grey\", alpha=0.2, label=\"Nighttime\"\n",
    "    )\n",
    "\n",
    "    ax.set_title(f\"GFS Prediction v NYSM Observation: {station}: FH{fh}\", fontsize=28)\n",
    "    # plt.ylim(-5, 5.)\n",
    "    ax.legend()\n",
    "    plt.show()"
   ]
  },
  {
   "cell_type": "code",
   "execution_count": 115,
   "metadata": {},
   "outputs": [
    {
     "data": {
      "text/plain": [
       "Index(['station', 'valid_time', 'lat', 'lon', 'elev', 'tair', 'ta9m', 'td',\n",
       "       'relh', 'srad', 'pres', 'mslp', 'wspd_sonic_mean', 'wspd_sonic',\n",
       "       'wmax_sonic', 'wdir_sonic', 'snow_depth', 'precip_total'],\n",
       "      dtype='object')"
      ]
     },
     "execution_count": 115,
     "metadata": {},
     "output_type": "execute_result"
    }
   ],
   "source": [
    "nysm_df.columns"
   ]
  },
  {
   "cell_type": "markdown",
   "metadata": {},
   "source": [
    "# TIME FILTER"
   ]
  },
  {
   "cell_type": "code",
   "execution_count": 116,
   "metadata": {},
   "outputs": [],
   "source": [
    "time1 = datetime(2024, 1, 1, 0, 0, 0)\n",
    "time2 = datetime(2024, 12, 15, 23, 0, 0)\n",
    "\n",
    "ldf = date_filter(ldf, time1, time2)\n",
    "nysm_df = date_filter(nysm_df, time1, time2)\n",
    "# gfs_df = date_filter(gfs_df, time1, time2)"
   ]
  },
  {
   "cell_type": "code",
   "execution_count": 117,
   "metadata": {},
   "outputs": [],
   "source": [
    "import matplotlib.pyplot as plt\n",
    "import matplotlib.dates as mdates\n",
    "import numpy as np\n",
    "\n",
    "\n",
    "def ml_output(\n",
    "    df,\n",
    "    fold,\n",
    "    station,\n",
    "    test_set_start,\n",
    "    test_set_finish,\n",
    "    fill_between_min,\n",
    "    fill_between_max,\n",
    "):\n",
    "    fig, ax = plt.subplots(figsize=(24, 6))\n",
    "    x = df[\"valid_time\"]\n",
    "\n",
    "    # Convert datetime values to numerical values\n",
    "    x_numeric = mdates.date2num(x)\n",
    "\n",
    "    # Assuming your timestamps are in a datetime64 format\n",
    "    day_mask = (x.dt.hour >= 6) & (\n",
    "        x.dt.hour < 18\n",
    "    )  # Adjust the hours based on your day/night definition\n",
    "\n",
    "    plt.plot(\n",
    "        np.array(x),\n",
    "        np.array(df[\"target_error_lead_0\"]),\n",
    "        c=\"black\",\n",
    "        linewidth=1,\n",
    "        label=\"Target\",\n",
    "    )\n",
    "\n",
    "    plt.plot(\n",
    "        np.array(x),\n",
    "        np.array(df[\"Model forecast\"]),\n",
    "        c=\"red\",\n",
    "        linewidth=3,\n",
    "        alpha=0.7,\n",
    "        label=\"LSTM Output\",\n",
    "    )\n",
    "\n",
    "    # Fill daytime hours with white color\n",
    "    ax.fill_between(\n",
    "        x_numeric,\n",
    "        fill_between_min,\n",
    "        fill_between_max,\n",
    "        where=day_mask,\n",
    "        color=\"white\",\n",
    "        alpha=0.5,\n",
    "        label=\"Daytime\",\n",
    "    )\n",
    "\n",
    "    # Fill nighttime hours with grey color\n",
    "    ax.fill_between(\n",
    "        x_numeric,\n",
    "        fill_between_min,\n",
    "        fill_between_max,\n",
    "        where=~day_mask,\n",
    "        color=\"grey\",\n",
    "        alpha=0.2,\n",
    "        label=\"Nighttime\",\n",
    "    )\n",
    "\n",
    "    ax.set_title(f\"HRRR Precip Error LSTM Output v Target: {station}\", fontsize=28)\n",
    "    # plt.ylim(-5, 5.)\n",
    "    ax.legend()\n",
    "\n",
    "    plt.show()"
   ]
  },
  {
   "cell_type": "code",
   "execution_count": 118,
   "metadata": {},
   "outputs": [
    {
     "data": {
      "text/html": [
       "<div>\n",
       "<style scoped>\n",
       "    .dataframe tbody tr th:only-of-type {\n",
       "        vertical-align: middle;\n",
       "    }\n",
       "\n",
       "    .dataframe tbody tr th {\n",
       "        vertical-align: top;\n",
       "    }\n",
       "\n",
       "    .dataframe thead th {\n",
       "        text-align: right;\n",
       "    }\n",
       "</style>\n",
       "<table border=\"1\" class=\"dataframe\">\n",
       "  <thead>\n",
       "    <tr style=\"text-align: right;\">\n",
       "      <th></th>\n",
       "      <th>target_error_lead_0</th>\n",
       "      <th>Model forecast</th>\n",
       "      <th>diff</th>\n",
       "      <th>valid_time</th>\n",
       "    </tr>\n",
       "  </thead>\n",
       "  <tbody>\n",
       "    <tr>\n",
       "      <th>47378</th>\n",
       "      <td>0.0</td>\n",
       "      <td>-0.000164</td>\n",
       "      <td>0.006607</td>\n",
       "      <td>2024-01-01 01:00:00</td>\n",
       "    </tr>\n",
       "    <tr>\n",
       "      <th>47379</th>\n",
       "      <td>0.0</td>\n",
       "      <td>-0.000611</td>\n",
       "      <td>0.006786</td>\n",
       "      <td>2024-01-01 02:00:00</td>\n",
       "    </tr>\n",
       "    <tr>\n",
       "      <th>47380</th>\n",
       "      <td>0.0</td>\n",
       "      <td>-0.000634</td>\n",
       "      <td>0.006795</td>\n",
       "      <td>2024-01-01 03:00:00</td>\n",
       "    </tr>\n",
       "    <tr>\n",
       "      <th>47381</th>\n",
       "      <td>0.0</td>\n",
       "      <td>-0.000394</td>\n",
       "      <td>0.006699</td>\n",
       "      <td>2024-01-01 04:00:00</td>\n",
       "    </tr>\n",
       "    <tr>\n",
       "      <th>47382</th>\n",
       "      <td>0.0</td>\n",
       "      <td>-0.000552</td>\n",
       "      <td>0.006762</td>\n",
       "      <td>2024-01-01 05:00:00</td>\n",
       "    </tr>\n",
       "  </tbody>\n",
       "</table>\n",
       "</div>"
      ],
      "text/plain": [
       "       target_error_lead_0  Model forecast      diff          valid_time\n",
       "47378                  0.0       -0.000164  0.006607 2024-01-01 01:00:00\n",
       "47379                  0.0       -0.000611  0.006786 2024-01-01 02:00:00\n",
       "47380                  0.0       -0.000634  0.006795 2024-01-01 03:00:00\n",
       "47381                  0.0       -0.000394  0.006699 2024-01-01 04:00:00\n",
       "47382                  0.0       -0.000552  0.006762 2024-01-01 05:00:00"
      ]
     },
     "execution_count": 118,
     "metadata": {},
     "output_type": "execute_result"
    }
   ],
   "source": [
    "ldf.head()"
   ]
  },
  {
   "cell_type": "code",
   "execution_count": 119,
   "metadata": {},
   "outputs": [],
   "source": [
    "ldf[\"diff\"] = ldf.iloc[:, 0] - ldf.iloc[:, 1]\n",
    "ldf[\"Model forecast\"] = ldf[\"Model forecast\"] * 0.7"
   ]
  },
  {
   "cell_type": "code",
   "execution_count": 120,
   "metadata": {},
   "outputs": [
    {
     "data": {
      "text/plain": [
       "0.16830611373909565"
      ]
     },
     "execution_count": 120,
     "metadata": {},
     "output_type": "execute_result"
    }
   ],
   "source": [
    "mean = st.mean(abs(ldf[\"diff\"]))\n",
    "mean"
   ]
  },
  {
   "cell_type": "code",
   "execution_count": 121,
   "metadata": {},
   "outputs": [
    {
     "data": {
      "text/plain": [
       "0.5932717897940734"
      ]
     },
     "execution_count": 121,
     "metadata": {},
     "output_type": "execute_result"
    }
   ],
   "source": [
    "mean_s = st.mean(ldf[\"diff\"] ** 2)\n",
    "mean_s"
   ]
  },
  {
   "cell_type": "markdown",
   "metadata": {},
   "source": [
    "# MODEL OUTPUT"
   ]
  },
  {
   "cell_type": "code",
   "execution_count": 122,
   "metadata": {},
   "outputs": [
    {
     "data": {
      "image/png": "[encoded data removed]",
      "text/plain": [
       "<Figure size 2400x600 with 1 Axes>"
      ]
     },
     "metadata": {},
     "output_type": "display_data"
    }
   ],
   "source": [
    "x = ml_output(ldf, 4, station, test_set_start, test_set_finish, -5, 5)"
   ]
  },
  {
   "cell_type": "code",
   "execution_count": 123,
   "metadata": {},
   "outputs": [
    {
     "ename": "NameError",
     "evalue": "name 'full_df' is not defined",
     "output_type": "error",
     "traceback": [
      "\u001b[0;31m---------------------------------------------------------------------------\u001b[0m",
      "\u001b[0;31mNameError\u001b[0m                                 Traceback (most recent call last)",
      "Cell \u001b[0;32mIn[123], line 1\u001b[0m\n\u001b[0;32m----> 1\u001b[0m full_df[\u001b[38;5;124m\"\u001b[39m\u001b[38;5;124mreforecast\u001b[39m\u001b[38;5;124m\"\u001b[39m] \u001b[38;5;241m=\u001b[39m full_df[\u001b[38;5;124mf\u001b[39m\u001b[38;5;124m\"\u001b[39m\u001b[38;5;124mu_total_\u001b[39m\u001b[38;5;132;01m{\u001b[39;00mstation\u001b[38;5;132;01m}\u001b[39;00m\u001b[38;5;124m\"\u001b[39m] \u001b[38;5;241m-\u001b[39m full_df[\u001b[38;5;124m\"\u001b[39m\u001b[38;5;124mdiff\u001b[39m\u001b[38;5;124m\"\u001b[39m]\n\u001b[1;32m      2\u001b[0m full_df[\u001b[38;5;124m\"\u001b[39m\u001b[38;5;124mreforecast\u001b[39m\u001b[38;5;124m\"\u001b[39m] \u001b[38;5;241m=\u001b[39m full_df[\u001b[38;5;124m\"\u001b[39m\u001b[38;5;124mreforecast\u001b[39m\u001b[38;5;124m\"\u001b[39m]\u001b[38;5;241m.\u001b[39mapply(\u001b[38;5;28;01mlambda\u001b[39;00m x: \u001b[38;5;28mmax\u001b[39m(x, \u001b[38;5;241m0\u001b[39m))\n\u001b[1;32m      3\u001b[0m met_output(full_df, \u001b[38;5;124m\"\u001b[39m\u001b[38;5;124mVOOR\u001b[39m\u001b[38;5;124m\"\u001b[39m, fh)\n",
      "\u001b[0;31mNameError\u001b[0m: name 'full_df' is not defined"
     ]
    }
   ],
   "source": [
    "full_df[\"reforecast\"] = full_df[f\"u_total_{station}\"] - full_df[\"diff\"]\n",
    "full_df[\"reforecast\"] = full_df[\"reforecast\"].apply(lambda x: max(x, 0))\n",
    "met_output(full_df, \"VOOR\", fh)"
   ]
  },
  {
   "cell_type": "code",
   "execution_count": null,
   "metadata": {},
   "outputs": [],
   "source": [
    "for k in full_df.columns:\n",
    "    if re.search(\n",
    "        f\"{station}|valid|Model forecast|Abs_err\",\n",
    "        k,\n",
    "    ):\n",
    "        continue\n",
    "    else:\n",
    "        full_df = full_df.drop(columns=[k])"
   ]
  },
  {
   "cell_type": "code",
   "execution_count": null,
   "metadata": {},
   "outputs": [],
   "source": [
    "# test_len = int(len(full_df['valid_time'])*0.2)\n",
    "# full_df = full_df.iloc[0:test_len]"
   ]
  },
  {
   "cell_type": "code",
   "execution_count": null,
   "metadata": {},
   "outputs": [],
   "source": [
    "def groupby_month(df, col):\n",
    "    df = df[df[col] > -999]\n",
    "    GB = df.groupby([(df.valid_time.dt.month), (df.valid_time.dt.year)])[col].mean()\n",
    "    the_list = GB.tolist()\n",
    "    fig, ax = plt.subplots(figsize=(21, 6))\n",
    "    x = np.arange(1, len(the_list) + 1)\n",
    "    plt.bar(x, the_list)\n",
    "    ax.set_xticklabels([2018, 2019, 2020, 2021, 2022, 2023])\n",
    "    ax.set_xticks(np.arange(1, len(the_list) + 1, int((len(the_list) + 1) / 6)))\n",
    "    return the_list"
   ]
  },
  {
   "cell_type": "code",
   "execution_count": null,
   "metadata": {},
   "outputs": [],
   "source": [
    "full_df.head()"
   ]
  },
  {
   "cell_type": "code",
   "execution_count": null,
   "metadata": {},
   "outputs": [],
   "source": [
    "create_hexbin_heatmap(ldf)"
   ]
  },
  {
   "cell_type": "code",
   "execution_count": null,
   "metadata": {},
   "outputs": [],
   "source": [
    "create_scatterplot_heatmap(ldf)"
   ]
  },
  {
   "cell_type": "code",
   "execution_count": null,
   "metadata": {},
   "outputs": [],
   "source": [
    "create_heatmap(ldf)"
   ]
  },
  {
   "cell_type": "code",
   "execution_count": null,
   "metadata": {},
   "outputs": [],
   "source": [
    "err_by_month = groupby_month(ldf, \"diff\")\n",
    "err_by_month"
   ]
  },
  {
   "cell_type": "code",
   "execution_count": null,
   "metadata": {},
   "outputs": [],
   "source": [
    "def groupby_time(df, col):\n",
    "    df = df[df[col] > -999]\n",
    "    GB = df.groupby([(df.valid_time.dt.hour)])[col].mean()\n",
    "    the_list = GB.tolist()\n",
    "    fig, ax = plt.subplots(figsize=(21, 6))\n",
    "    x = np.arange(0, len(the_list))\n",
    "    plt.bar(x, the_list, color=\"g\")\n",
    "    return the_list"
   ]
  },
  {
   "cell_type": "code",
   "execution_count": null,
   "metadata": {},
   "outputs": [],
   "source": [
    "err_by_time = groupby_time(ldf, \"diff\")"
   ]
  },
  {
   "cell_type": "code",
   "execution_count": null,
   "metadata": {},
   "outputs": [],
   "source": [
    "import calendar\n",
    "\n",
    "\n",
    "def groupby_month_total(df, col):\n",
    "    df = df[df[col] > -999]\n",
    "    GB = df.groupby([(df.valid_time.dt.month)])[col].mean()\n",
    "    the_list = GB.tolist()\n",
    "    fig, ax = plt.subplots(figsize=(21, 6))\n",
    "    x = np.arange(0, len(the_list))\n",
    "\n",
    "    # Get a colormap\n",
    "    cmap = plt.get_cmap(\"RdBu\")\n",
    "    # Normalize your data to map to the colormap\n",
    "    norm = plt.Normalize(min(the_list), max(the_list))\n",
    "    colors = cmap(norm(the_list))\n",
    "\n",
    "    # Create a bar chart\n",
    "    plt.bar(x, the_list, color=colors)\n",
    "    ax.set_xticks(x)  # Set x-ticks to be at the positions of the months\n",
    "    month_labels = [calendar.month_name[month] for month in GB.index]\n",
    "    ax.set_xticklabels(month_labels)  # Label x-ticks with month numbers\n",
    "\n",
    "    plt.show()\n",
    "    return the_list"
   ]
  },
  {
   "cell_type": "code",
   "execution_count": null,
   "metadata": {},
   "outputs": [],
   "source": [
    "groupby_month_total(ldf, \"diff\")"
   ]
  },
  {
   "cell_type": "code",
   "execution_count": null,
   "metadata": {},
   "outputs": [],
   "source": [
    "def myround(x, base):\n",
    "    return base * round(x / base)"
   ]
  },
  {
   "cell_type": "code",
   "execution_count": null,
   "metadata": {},
   "outputs": [],
   "source": [
    "# function to get unique values\n",
    "def unique(list1):\n",
    "    # initialize a null list\n",
    "    unique_list = []\n",
    "\n",
    "    # traverse for all elements\n",
    "    for x in list1:\n",
    "        # check if exists in unique_list or not\n",
    "        if x not in unique_list:\n",
    "            unique_list.append(x)\n",
    "    return unique_list"
   ]
  },
  {
   "cell_type": "code",
   "execution_count": null,
   "metadata": {},
   "outputs": [],
   "source": [
    "def err_bucket(full_df, met_col, rounded_base):\n",
    "    temps = []\n",
    "    for i, _ in enumerate(full_df[met_col]):\n",
    "        rounded = myround(full_df[met_col].iloc[i], rounded_base)\n",
    "        temps.append(rounded)\n",
    "\n",
    "    unique_temps = unique(temps)\n",
    "\n",
    "    zeros = np.zeros(len(unique_temps))\n",
    "    rs = np.resize(zeros, (len(unique_temps), len(unique_temps)))\n",
    "\n",
    "    temp_df = pd.DataFrame(\n",
    "        data=rs, index=[np.arange(len(unique_temps))], columns=sorted(unique_temps)\n",
    "    )\n",
    "\n",
    "    for i, _ in enumerate(full_df[met_col]):\n",
    "        rounded = myround(full_df[met_col].iloc[i], rounded_base)\n",
    "        err = full_df[\"Abs_err\"].iloc[i]\n",
    "        temp_df[rounded].iloc[0] = abs(err) + abs(temp_df[rounded].iloc[0])\n",
    "        temp_df[rounded].iloc[-1] += 1\n",
    "\n",
    "    instances = temp_df.iloc[-1]\n",
    "    temp_df = temp_df.iloc[0]\n",
    "\n",
    "    return temp_df, instances"
   ]
  },
  {
   "cell_type": "code",
   "execution_count": null,
   "metadata": {},
   "outputs": [],
   "source": [
    "def plot_buckets(temp_df, instances, var_name, cmap, width):\n",
    "    my_cmap = plt.get_cmap(cmap)\n",
    "    averages = temp_df / instances\n",
    "    y = averages\n",
    "    rescale = lambda y: (y - np.min(y)) / (np.max(y) - np.min(y))\n",
    "    the_list = averages.tolist()\n",
    "    fig, ax = plt.subplots(\n",
    "        figsize=(21, 6), facecolor=\"slategrey\", constrained_layout=True\n",
    "    )\n",
    "    bars = plt.bar(temp_df.keys(), the_list, color=my_cmap(rescale(y)), width=width)\n",
    "    ax.set_title(\"Absolute Error of LSTM\", fontsize=28, c=\"white\")\n",
    "    ax.set_xlabel(var_name, fontsize=18, c=\"white\")\n",
    "    ax.set_ylabel(\"Mean Absolute Error\", fontsize=18, c=\"white\")\n",
    "    # Iterating over the bars one-by-one\n",
    "    # Annotate each bar with its value\n",
    "    # Annotate each bar with the number of instances\n",
    "    for bar, value, instance_count in zip(bars, the_list, instances):\n",
    "        yval = value + 0.01  # Adjust the vertical position of the label\n",
    "        ax.text(\n",
    "            bar.get_x() + bar.get_width() / 2,\n",
    "            yval,\n",
    "            f\"n={instance_count}\",\n",
    "            ha=\"center\",\n",
    "            va=\"bottom\",\n",
    "            color=\"black\",\n",
    "            fontsize=12,\n",
    "            rotation=90,\n",
    "        )"
   ]
  },
  {
   "cell_type": "code",
   "execution_count": null,
   "metadata": {},
   "outputs": [],
   "source": [
    "# for k in full_df.keys():\n",
    "#     print(k)"
   ]
  },
  {
   "cell_type": "code",
   "execution_count": null,
   "metadata": {},
   "outputs": [],
   "source": [
    "# diector = sorted(os.listdir('/home/aevans/nwp_bias/src/machine_learning/data/lstm_eval_csvs/20231129/'))\n",
    "\n",
    "# for d in diector:\n",
    "#         full_df = pd.read_parquet(\n",
    "#         f\"/home/aevans/nwp_bias/src/machine_learning/data/lstm_eval_csvs/20231129/{d}\"\n",
    "#     )\n",
    "#         for k in full_df.columns:\n",
    "#             if re.search(\n",
    "#                 f\"{station}\",\n",
    "#                 k,\n",
    "#             ):\n",
    "#                 print(\"Succes!!\")\n",
    "#                 print(d)\n",
    "#             else:\n",
    "#                 continue"
   ]
  },
  {
   "cell_type": "code",
   "execution_count": null,
   "metadata": {},
   "outputs": [],
   "source": [
    "# Reset index for both DataFrames to ensure alignment\n",
    "full_df = full_df.reset_index(drop=True)\n",
    "ldf = ldf.reset_index(drop=True)\n",
    "full_df[\"Abs_err\"] = ldf[\"diff\"]"
   ]
  },
  {
   "cell_type": "code",
   "execution_count": null,
   "metadata": {},
   "outputs": [],
   "source": [
    "full_df.dropna(inplace=True)"
   ]
  },
  {
   "cell_type": "code",
   "execution_count": null,
   "metadata": {},
   "outputs": [],
   "source": [
    "temp_df, instances = err_bucket(full_df, f\"tair_{station}\", 2)"
   ]
  },
  {
   "cell_type": "code",
   "execution_count": null,
   "metadata": {},
   "outputs": [],
   "source": [
    "instances"
   ]
  },
  {
   "cell_type": "code",
   "execution_count": null,
   "metadata": {},
   "outputs": [],
   "source": [
    "plot_buckets(temp_df, instances, \"Temperature (C)\", \"Wistia\", 2.5)"
   ]
  },
  {
   "cell_type": "code",
   "execution_count": null,
   "metadata": {},
   "outputs": [],
   "source": [
    "relh_df, instances = err_bucket(full_df, f\"relh_{station}\", 2)"
   ]
  },
  {
   "cell_type": "code",
   "execution_count": null,
   "metadata": {},
   "outputs": [],
   "source": [
    "plot_buckets(relh_df, instances, \"Relative Humidity (%)\", \"copper\", 5.0)"
   ]
  },
  {
   "cell_type": "code",
   "execution_count": null,
   "metadata": {},
   "outputs": [],
   "source": [
    "new_df, instances = err_bucket(full_df, f\"srad_{station}\", 40)"
   ]
  },
  {
   "cell_type": "code",
   "execution_count": null,
   "metadata": {},
   "outputs": [],
   "source": [
    "plot_buckets(new_df, instances, \"Solar Radiation (W / m*m)\", \"copper\", 50.0)"
   ]
  },
  {
   "cell_type": "code",
   "execution_count": null,
   "metadata": {},
   "outputs": [],
   "source": [
    "pres_df, instances = err_bucket(full_df, f\"pres_{station}\", 2)"
   ]
  },
  {
   "cell_type": "code",
   "execution_count": null,
   "metadata": {},
   "outputs": [],
   "source": [
    "print(f'The mean pressure at {station} is {full_df[f\"pres_{station}\"].mean()}')"
   ]
  },
  {
   "cell_type": "code",
   "execution_count": null,
   "metadata": {},
   "outputs": [],
   "source": [
    "plot_buckets(pres_df, instances, \"Surface Pressure (mb)\", \"copper\", 1.5)"
   ]
  },
  {
   "cell_type": "code",
   "execution_count": null,
   "metadata": {},
   "outputs": [],
   "source": [
    "def round_small(full_df, met_col, rounded_base):\n",
    "    temps = []\n",
    "    for i, _ in enumerate(full_df[met_col]):\n",
    "        if full_df[met_col].iloc[i] < 1.0 and full_df[met_col].iloc[i] >= 0:\n",
    "            rounded = round(full_df[met_col].iloc[i], rounded_base)\n",
    "            temps.append(rounded)\n",
    "        else:\n",
    "            rounded = myround(full_df[met_col].iloc[i], 1)\n",
    "            temps.append(rounded)\n",
    "\n",
    "    unique_temps = unique(temps)\n",
    "\n",
    "    zeros = np.zeros(len(unique_temps))\n",
    "    rs = np.resize(zeros, (len(unique_temps), len(unique_temps)))\n",
    "    temp_df = pd.DataFrame(\n",
    "        data=rs, index=[np.arange(len(unique_temps))], columns=sorted(unique_temps)\n",
    "    )\n",
    "\n",
    "    for i, _ in enumerate(full_df[met_col]):\n",
    "        if full_df[met_col].iloc[i] < 1.0 and full_df[met_col].iloc[i] >= 0:\n",
    "            rounded = round(full_df[met_col].iloc[i], rounded_base)\n",
    "        else:\n",
    "            rounded = float(myround(full_df[met_col].iloc[i], base=1))\n",
    "        err = float(full_df[\"Abs_err\"].iloc[i])\n",
    "        temp_df[rounded].iloc[0] = abs(err) + abs(temp_df[rounded].iloc[0])\n",
    "        temp_df[rounded].iloc[-1] += 1\n",
    "\n",
    "    instances = temp_df.iloc[-1]\n",
    "    temp_df = temp_df.iloc[0]\n",
    "    temp_df = temp_df.loc[~(temp_df == 0)]\n",
    "    instances = instances.loc[~(instances == 0)]\n",
    "    return temp_df, instances"
   ]
  },
  {
   "cell_type": "code",
   "execution_count": null,
   "metadata": {},
   "outputs": [],
   "source": [
    "rain_df, instances = err_bucket(full_df, f\"precip_total_{station}\", 0.1)"
   ]
  },
  {
   "cell_type": "code",
   "execution_count": null,
   "metadata": {},
   "outputs": [],
   "source": [
    "plot_buckets(rain_df, instances, \"Precipitation [mm/hr]\", \"winter\", 0.1)"
   ]
  },
  {
   "cell_type": "code",
   "execution_count": null,
   "metadata": {},
   "outputs": [],
   "source": [
    "snow_df, instances = round_small(full_df, f\"snow_depth_{station}\", 2)"
   ]
  },
  {
   "cell_type": "code",
   "execution_count": null,
   "metadata": {},
   "outputs": [],
   "source": [
    "snow_df = snow_df.iloc[1:]\n",
    "instances = instances.iloc[1:]"
   ]
  },
  {
   "cell_type": "code",
   "execution_count": null,
   "metadata": {},
   "outputs": [],
   "source": [
    "plot_buckets(snow_df, instances, \"Accumulated Snow (m)\", \"cool\", 0.01)"
   ]
  },
  {
   "cell_type": "code",
   "execution_count": null,
   "metadata": {},
   "outputs": [],
   "source": [
    "wmax, instances = err_bucket(full_df, f\"wmax_sonic_{station}\", 2)"
   ]
  },
  {
   "cell_type": "code",
   "execution_count": null,
   "metadata": {},
   "outputs": [],
   "source": [
    "plot_buckets(wmax, instances, \"Wind Max (m/s)\", \"copper\", 1.0)"
   ]
  },
  {
   "cell_type": "code",
   "execution_count": null,
   "metadata": {},
   "outputs": [],
   "source": [
    "wdir, instances = err_bucket(full_df, f\"wdir_sonic_{station}\", 45)"
   ]
  },
  {
   "cell_type": "code",
   "execution_count": null,
   "metadata": {},
   "outputs": [],
   "source": [
    "plot_buckets(wdir, instances, \"Wind Dir (degrees)\", \"copper\", 10.0)"
   ]
  },
  {
   "cell_type": "code",
   "execution_count": null,
   "metadata": {},
   "outputs": [],
   "source": []
  }
 ],
 "metadata": {
  "kernelspec": {
   "display_name": "Python 3.9.16 ('base': conda)",
   "language": "python",
   "name": "python3"
  },
  "language_info": {
   "codemirror_mode": {
    "name": "ipython",
    "version": 3
   },
   "file_extension": ".py",
   "mimetype": "text/x-python",
   "name": "python",
   "nbconvert_exporter": "python",
   "pygments_lexer": "ipython3",
   "version": "3.9.16"
  },
  "orig_nbformat": 4,
  "vscode": {
   "interpreter": {
    "hash": "44818f36aeaf89db1a1d21a2bee6031a28b4e41595a65903b38b9b0c4417365f"
   }
  }
 },
 "nbformat": 4,
 "nbformat_minor": 2
}
