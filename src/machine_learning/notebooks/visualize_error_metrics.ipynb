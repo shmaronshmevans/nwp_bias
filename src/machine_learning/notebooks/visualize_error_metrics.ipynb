{
 "cells": [
  {
   "cell_type": "code",
   "execution_count": null,
   "metadata": {},
   "outputs": [],
   "source": [
    "import pandas as pd\n",
    "import numpy as np\n",
    "import matplotlib.pyplot as plt\n",
    "import re\n",
    "import statistics as st\n",
    "from datetime import datetime"
   ]
  },
  {
   "cell_type": "code",
   "execution_count": null,
   "metadata": {},
   "outputs": [],
   "source": [
    "ldf = pd.DataFrame()\n",
    "\n",
    "for i in np.arange(12, 13):\n",
    "    model_path_LSTM = f\"/home/aevans/nwp_bias/src/machine_learning/data/lstm_eval_csvs/hrrr_prospectus/BKLN/BKLN_fh{i}_t2m_HRRR_ml_output_linear.parquet\"\n",
    "\n",
    "    # Read parquet file\n",
    "    ldf_ = pd.read_parquet(model_path_LSTM)\n",
    "\n",
    "    # Concatenate with the main DataFrame\n",
    "    ldf = pd.concat([ldf_, ldf], ignore_index=True)\n",
    "    print(ldf.shape)\n",
    "\n",
    "# Sort by valid_time\n",
    "ldf = ldf.sort_values(by=\"valid_time\").reset_index(drop=True)"
   ]
  },
  {
   "cell_type": "code",
   "execution_count": null,
   "metadata": {},
   "outputs": [],
   "source": [
    "import sys\n",
    "\n",
    "sys.path.append(\"..\")\n",
    "\n",
    "from src.data import nysm_data\n",
    "from src.data import gfs_data\n",
    "from src.data import nam_data"
   ]
  },
  {
   "cell_type": "code",
   "execution_count": null,
   "metadata": {},
   "outputs": [],
   "source": [
    "nysm_df = nysm_data.load_nysm_data(gfs=False)\n",
    "# nysm_df = nysm_df.rename(columns={'time_1H':'valid_time'})\n",
    "# gfs_df = gfs_data.read_gfs_data('012')\n",
    "station = \"BKLN\""
   ]
  },
  {
   "cell_type": "code",
   "execution_count": null,
   "metadata": {},
   "outputs": [],
   "source": [
    "ldf.dropna(inplace=True)\n",
    "ldf.head()"
   ]
  },
  {
   "cell_type": "code",
   "execution_count": null,
   "metadata": {},
   "outputs": [],
   "source": [
    "def which_fold(df, fold):\n",
    "    length = len(df)\n",
    "    test_len = int(length * 0.2)\n",
    "    df_train = pd.DataFrame()\n",
    "\n",
    "    for n in np.arange(0, 5):\n",
    "        if n != fold:\n",
    "            df1 = df.iloc[int(0.2 * n * length) : int(0.2 * (n + 1) * length)]\n",
    "            df_train = pd.concat([df_train, df1])\n",
    "        else:\n",
    "            df_test = df.iloc[int(0.2 * n * length) : int(0.2 * (n + 1) * length)]\n",
    "            f = int(len(df_test) * 0.5)\n",
    "            df_val = df_test.iloc[:f]\n",
    "            df_test = df_test[-f:]\n",
    "\n",
    "    return df_train[\"valid_time\"], df_test[\"valid_time\"], df_val[\"valid_time\"]"
   ]
  },
  {
   "cell_type": "code",
   "execution_count": null,
   "metadata": {},
   "outputs": [],
   "source": [
    "# ldf[\"valid_time\"] = pd.to_datetime(ldf[\"valid_time\"])"
   ]
  },
  {
   "cell_type": "code",
   "execution_count": null,
   "metadata": {},
   "outputs": [],
   "source": [
    "df_train, df_test, df_val = which_fold(ldf, 4)"
   ]
  },
  {
   "cell_type": "code",
   "execution_count": null,
   "metadata": {},
   "outputs": [],
   "source": [
    "test_set_start = df_test.iloc[0]\n",
    "test_set_start"
   ]
  },
  {
   "cell_type": "code",
   "execution_count": null,
   "metadata": {},
   "outputs": [],
   "source": [
    "test_set_finish = df_test.iloc[-1]\n",
    "test_set_finish"
   ]
  },
  {
   "cell_type": "code",
   "execution_count": null,
   "metadata": {},
   "outputs": [],
   "source": [
    "df_val.iloc[0]"
   ]
  },
  {
   "cell_type": "code",
   "execution_count": null,
   "metadata": {},
   "outputs": [],
   "source": [
    "df_val.iloc[-1]"
   ]
  },
  {
   "cell_type": "code",
   "execution_count": null,
   "metadata": {},
   "outputs": [],
   "source": [
    "def date_filter(ldf, time1, time2):\n",
    "    ldf = ldf[ldf[\"valid_time\"] > time1]\n",
    "    ldf = ldf[ldf[\"valid_time\"] < time2]\n",
    "\n",
    "    return ldf"
   ]
  },
  {
   "cell_type": "code",
   "execution_count": null,
   "metadata": {},
   "outputs": [],
   "source": [
    "def met_output(df, station, fh):\n",
    "    fig, ax = plt.subplots(figsize=(24, 6))\n",
    "    x = df[\"valid_time\"]\n",
    "\n",
    "    # Convert datetime values to numerical values\n",
    "    x_numeric = mdates.date2num(x)\n",
    "\n",
    "    # Assuming your timestamps are in a datetime64 format\n",
    "    day_mask = (x.dt.hour >= 6) & (\n",
    "        x.dt.hour < 18\n",
    "    )  # Adjust the hours based on your day/night definition\n",
    "\n",
    "    plt.plot(\n",
    "        np.array(x),\n",
    "        np.array(df[f\"u_total_{station}\"]),\n",
    "        c=\"mediumseagreen\",\n",
    "        linewidth=3,\n",
    "        label=\"NAM Prediction\",\n",
    "    )\n",
    "\n",
    "    plt.plot(\n",
    "        np.array(x),\n",
    "        np.array(df[\"reforecast\"]),\n",
    "        c=\"red\",\n",
    "        linewidth=3,\n",
    "        linestyle=\"--\",  # Dashed line\n",
    "        label=\"LSTM Reforecast\",\n",
    "    )\n",
    "\n",
    "    plt.plot(\n",
    "        np.array(x),\n",
    "        np.array(df[f\"wspd_sonic_mean_{station}\"]),\n",
    "        c=\"black\",\n",
    "        linewidth=1,\n",
    "        alpha=0.9,\n",
    "        label=\"NYSM Observation\",\n",
    "    )\n",
    "\n",
    "    # Fill daytime hours with white color\n",
    "    ax.fill_between(\n",
    "        x_numeric, 0, 10, where=day_mask, color=\"white\", alpha=0.5, label=\"Daytime\"\n",
    "    )\n",
    "\n",
    "    # Fill nighttime hours with grey color\n",
    "    ax.fill_between(\n",
    "        x_numeric, 0, 10, where=~day_mask, color=\"grey\", alpha=0.2, label=\"Nighttime\"\n",
    "    )\n",
    "\n",
    "    ax.set_title(f\"GFS Prediction v NYSM Observation: {station}: FH{fh}\", fontsize=28)\n",
    "    # plt.ylim(-5, 5.)\n",
    "    ax.legend()\n",
    "    plt.show()"
   ]
  },
  {
   "cell_type": "code",
   "execution_count": null,
   "metadata": {},
   "outputs": [],
   "source": [
    "nysm_df.columns"
   ]
  },
  {
   "cell_type": "markdown",
   "metadata": {},
   "source": [
    "# TIME FILTER"
   ]
  },
  {
   "cell_type": "code",
   "execution_count": null,
   "metadata": {},
   "outputs": [],
   "source": [
    "time1 = datetime(2024, 5, 1, 0, 0, 0)\n",
    "time2 = datetime(2024, 6, 30, 23, 0, 0)\n",
    "\n",
    "ldf = date_filter(ldf, time1, time2)\n",
    "nysm_df = date_filter(nysm_df, time1, time2)\n",
    "# gfs_df = date_filter(gfs_df, time1, time2)"
   ]
  },
  {
   "cell_type": "code",
   "execution_count": null,
   "metadata": {},
   "outputs": [],
   "source": [
    "import matplotlib.pyplot as plt\n",
    "import matplotlib.dates as mdates\n",
    "import numpy as np\n",
    "\n",
    "\n",
    "def ml_output(\n",
    "    df,\n",
    "    fold,\n",
    "    station,\n",
    "    test_set_start,\n",
    "    test_set_finish,\n",
    "    fill_between_min,\n",
    "    fill_between_max,\n",
    "):\n",
    "    fig, ax = plt.subplots(figsize=(24, 6))\n",
    "    x = df[\"valid_time\"]\n",
    "\n",
    "    # Convert datetime values to numerical values\n",
    "    x_numeric = mdates.date2num(x)\n",
    "\n",
    "    # Assuming your timestamps are in a datetime64 format\n",
    "    day_mask = (x.dt.hour >= 6) & (\n",
    "        x.dt.hour < 18\n",
    "    )  # Adjust the hours based on your day/night definition\n",
    "\n",
    "    plt.plot(\n",
    "        np.array(x),\n",
    "        np.array(df[\"target_error_lead_0\"]),\n",
    "        c=\"black\",\n",
    "        linewidth=1,\n",
    "        label=\"Target\",\n",
    "    )\n",
    "\n",
    "    plt.plot(\n",
    "        np.array(x),\n",
    "        np.array(df[\"Model forecast\"]),\n",
    "        c=\"red\",\n",
    "        linewidth=3,\n",
    "        alpha=0.7,\n",
    "        label=\"LSTM Output\",\n",
    "    )\n",
    "\n",
    "    # Fill daytime hours with white color\n",
    "    ax.fill_between(\n",
    "        x_numeric,\n",
    "        fill_between_min,\n",
    "        fill_between_max,\n",
    "        where=day_mask,\n",
    "        color=\"white\",\n",
    "        alpha=0.5,\n",
    "        label=\"Daytime\",\n",
    "    )\n",
    "\n",
    "    # Fill nighttime hours with grey color\n",
    "    ax.fill_between(\n",
    "        x_numeric,\n",
    "        fill_between_min,\n",
    "        fill_between_max,\n",
    "        where=~day_mask,\n",
    "        color=\"grey\",\n",
    "        alpha=0.2,\n",
    "        label=\"Nighttime\",\n",
    "    )\n",
    "\n",
    "    ax.set_title(f\"HRRR Precip Error LSTM Output v Target: {station}\", fontsize=28)\n",
    "    # plt.ylim(-5, 5.)\n",
    "    ax.legend()\n",
    "\n",
    "    plt.show()"
   ]
  },
  {
   "cell_type": "code",
   "execution_count": null,
   "metadata": {},
   "outputs": [],
   "source": [
    "ldf.head()"
   ]
  },
  {
   "cell_type": "code",
   "execution_count": null,
   "metadata": {},
   "outputs": [],
   "source": [
    "ldf[\"diff\"] = ldf.iloc[:, 0] - ldf.iloc[:, 1]\n",
    "# ldf[\"Model forecast\"] = ldf[\"Model forecast\"] * 0.7"
   ]
  },
  {
   "cell_type": "code",
   "execution_count": null,
   "metadata": {},
   "outputs": [],
   "source": [
    "mean = st.mean(abs(ldf[\"diff\"]))\n",
    "mean"
   ]
  },
  {
   "cell_type": "code",
   "execution_count": null,
   "metadata": {},
   "outputs": [],
   "source": [
    "mean_s = st.mean(ldf[\"diff\"] ** 2)\n",
    "mean_s"
   ]
  },
  {
   "cell_type": "markdown",
   "metadata": {},
   "source": [
    "# MODEL OUTPUT"
   ]
  },
  {
   "cell_type": "code",
   "execution_count": null,
   "metadata": {},
   "outputs": [],
   "source": [
    "x = ml_output(ldf, 4, station, test_set_start, test_set_finish, -5, 5)"
   ]
  },
  {
   "cell_type": "code",
   "execution_count": null,
   "metadata": {},
   "outputs": [],
   "source": [
    "def plot_fh_drift(mae_ls, clim_divs, nwp_model, metvar):\n",
    "    \"\"\"\n",
    "    Plots Mean Absolute Error (MAE) as a function of forecast hour (fh) for multiple climate divisions.\n",
    "\n",
    "    Parameters:\n",
    "        mae_dict (dict): Dictionary where keys are climate divisions and values are lists of MAE values.\n",
    "        fh (list): Forecast hours.\n",
    "        station (str): Station identifier.\n",
    "        nwp_model (str): Numerical weather prediction model name.\n",
    "        metvar (str): Meteorological variable.\n",
    "    \"\"\"\n",
    "    plt.figure(figsize=(12, 7))\n",
    "    fh = np.arange(1, 19)\n",
    "\n",
    "    colors = [\n",
    "        \"blue\",\n",
    "        \"green\",\n",
    "        \"red\",\n",
    "        \"orange\",\n",
    "        \"darkviolet\",\n",
    "        \"brown\",\n",
    "        \"black\",\n",
    "        \"gray\",\n",
    "        \"darkcyan\",\n",
    "        \"mustard\",\n",
    "    ]  # Color palette\n",
    "    for i, _ in enumerate(mae_ls):\n",
    "        color = colors[i % len(colors)]  # Cycle through colors\n",
    "        plt.plot(\n",
    "            fh, mae_ls[i], label=clim_divs[i], marker=\"o\", linestyle=\"-\", color=color\n",
    "        )\n",
    "        plt.scatter(fh, mae_ls[i], marker=\"o\", s=100, color=color)\n",
    "\n",
    "        # # Annotate points\n",
    "        # for j, txt in enumerate(mae_ls[i]):\n",
    "        #     plt.annotate(\n",
    "        #         f\"{txt:.2f}\",\n",
    "        #         (fh[j], mae_ls[i][j]),\n",
    "        #         textcoords=\"offset points\",\n",
    "        #         xytext=(0, 10),\n",
    "        #         ha=\"center\",\n",
    "        #         fontsize=10,\n",
    "        #         color=color,\n",
    "        #     )\n",
    "\n",
    "    # Add labels, legend, and title\n",
    "    plt.xlabel(\"Forecast Hour (FH)\", fontsize=16)\n",
    "    plt.ylabel(\"Mean Absolute Error (MAE)\", fontsize=16)\n",
    "    plt.title(\n",
    "        f\"MAE as a Function of Forecast Hour\\n{nwp_model}, {metvar}-Error\",\n",
    "        fontsize=18,\n",
    "    )\n",
    "    plt.legend(title=\"Climate Division\", fontsize=12)\n",
    "    plt.grid(True, linestyle=\"--\", alpha=0.6)\n",
    "\n",
    "    # Ensure x-ticks are integers\n",
    "    plt.xticks(ticks=range(int(min(fh)), int(max(fh)) + 1), fontsize=12)\n",
    "    plt.yticks(fontsize=12)\n",
    "    # plt.ylim(0, 1)\n",
    "\n",
    "    plt.tight_layout()"
   ]
  },
  {
   "cell_type": "code",
   "execution_count": null,
   "metadata": {},
   "outputs": [],
   "source": [
    "import seaborn as sns\n",
    "\n",
    "\n",
    "def plot_mae_boxplot(wind_df_list, temp_df_list, precip_df_list, climate_divisions):\n",
    "    \"\"\"\n",
    "    Creates a grouped boxplot where each climate division has three boxplots\n",
    "    representing wind error, temperature error, and precipitation error.\n",
    "\n",
    "    Parameters:\n",
    "        wind_df_list (list of pd.DataFrame): List of DataFrames containing 'mae' for wind error.\n",
    "        temp_df_list (list of pd.DataFrame): List of DataFrames containing 'mae' for temperature error.\n",
    "        precip_df_list (list of pd.DataFrame): List of DataFrames containing 'mae' for precipitation error.\n",
    "        climate_divisions (list of str): Names of the corresponding climate divisions.\n",
    "    \"\"\"\n",
    "    # Create a list to store the MAE values with their associated climate division and variable type\n",
    "    plot_data = []\n",
    "\n",
    "    for clim_div, wind_df, temp_df, precip_df in zip(\n",
    "        climate_divisions, wind_df_list, temp_df_list, precip_df_list\n",
    "    ):\n",
    "        if \"mae\" in wind_df.columns:\n",
    "            for mae_val in wind_df[\"mae\"]:\n",
    "                plot_data.append(\n",
    "                    {\"Climate Division\": clim_div, \"MAE\": mae_val, \"Variable\": \"Wind\"}\n",
    "                )\n",
    "\n",
    "        if \"mae\" in temp_df.columns:\n",
    "            for mae_val in temp_df[\"mae\"]:\n",
    "                plot_data.append(\n",
    "                    {\n",
    "                        \"Climate Division\": clim_div,\n",
    "                        \"MAE\": mae_val,\n",
    "                        \"Variable\": \"Temperature\",\n",
    "                    }\n",
    "                )\n",
    "\n",
    "        if \"mae\" in precip_df.columns:\n",
    "            for mae_val in precip_df[\"mae\"]:\n",
    "                plot_data.append(\n",
    "                    {\n",
    "                        \"Climate Division\": clim_div,\n",
    "                        \"MAE\": mae_val,\n",
    "                        \"Variable\": \"Precipitation\",\n",
    "                    }\n",
    "                )\n",
    "\n",
    "    # Convert to DataFrame\n",
    "    plot_df = pd.DataFrame(plot_data)\n",
    "\n",
    "    # Create the boxplot\n",
    "    plt.figure(figsize=(14, 8))\n",
    "    sns.boxplot(\n",
    "        x=\"Climate Division\", y=\"MAE\", hue=\"Variable\", data=plot_df, palette=\"Set2\"\n",
    "    )\n",
    "\n",
    "    # Format the plot\n",
    "    plt.xlabel(\"Climate Division\", fontsize=14)\n",
    "    plt.ylabel(\"Mean Absolute Error (MAE)\", fontsize=14)\n",
    "    plt.title(\n",
    "        \"MAE Distribution Across Climate Divisions for Forecast Error\", fontsize=16\n",
    "    )\n",
    "    plt.xticks(rotation=45)  # Rotate labels for readability\n",
    "    plt.legend(title=\"Variable\", fontsize=12, loc=\"upper left\")\n",
    "    plt.grid(axis=\"y\", linestyle=\"--\", alpha=0.7)\n",
    "\n",
    "    # Show the plot\n",
    "    plt.tight_layout()\n",
    "    plt.show()"
   ]
  },
  {
   "cell_type": "code",
   "execution_count": null,
   "metadata": {},
   "outputs": [],
   "source": [
    "geo_info_df = pd.read_csv(\"/home/aevans/nwp_bias/src/landtype/data/lstm_clusters.csv\")\n",
    "\n",
    "lulc_dict = geo_info_df.set_index(\"station\")[\"lulc_cat\"].to_dict()\n",
    "elev_dict = geo_info_df.set_index(\"station\")[\"elev_cat\"].to_dict()\n",
    "slope_dict = geo_info_df.set_index(\"station\")[\"slope_cat\"].to_dict()"
   ]
  },
  {
   "cell_type": "code",
   "execution_count": 176,
   "metadata": {},
   "outputs": [
    {
     "data": {
      "text/html": [
       "<div>\n",
       "<style scoped>\n",
       "    .dataframe tbody tr th:only-of-type {\n",
       "        vertical-align: middle;\n",
       "    }\n",
       "\n",
       "    .dataframe tbody tr th {\n",
       "        vertical-align: top;\n",
       "    }\n",
       "\n",
       "    .dataframe thead th {\n",
       "        text-align: right;\n",
       "    }\n",
       "</style>\n",
       "<table border=\"1\" class=\"dataframe\">\n",
       "  <thead>\n",
       "    <tr style=\"text-align: right;\">\n",
       "      <th></th>\n",
       "      <th>Unnamed: 0</th>\n",
       "      <th>index</th>\n",
       "      <th>station</th>\n",
       "      <th>lulc_cat</th>\n",
       "      <th>elev_cat</th>\n",
       "      <th>slope_cat</th>\n",
       "    </tr>\n",
       "  </thead>\n",
       "  <tbody>\n",
       "    <tr>\n",
       "      <th>0</th>\n",
       "      <td>0</td>\n",
       "      <td>181</td>\n",
       "      <td>ADDI</td>\n",
       "      <td>1</td>\n",
       "      <td>2</td>\n",
       "      <td>0</td>\n",
       "    </tr>\n",
       "    <tr>\n",
       "      <th>1</th>\n",
       "      <td>1</td>\n",
       "      <td>469</td>\n",
       "      <td>ANDE</td>\n",
       "      <td>5</td>\n",
       "      <td>2</td>\n",
       "      <td>2</td>\n",
       "    </tr>\n",
       "    <tr>\n",
       "      <th>2</th>\n",
       "      <td>2</td>\n",
       "      <td>757</td>\n",
       "      <td>BATA</td>\n",
       "      <td>3</td>\n",
       "      <td>1</td>\n",
       "      <td>1</td>\n",
       "    </tr>\n",
       "    <tr>\n",
       "      <th>3</th>\n",
       "      <td>3</td>\n",
       "      <td>1045</td>\n",
       "      <td>BEAC</td>\n",
       "      <td>2</td>\n",
       "      <td>3</td>\n",
       "      <td>3</td>\n",
       "    </tr>\n",
       "    <tr>\n",
       "      <th>4</th>\n",
       "      <td>4</td>\n",
       "      <td>1333</td>\n",
       "      <td>BELD</td>\n",
       "      <td>5</td>\n",
       "      <td>2</td>\n",
       "      <td>3</td>\n",
       "    </tr>\n",
       "  </tbody>\n",
       "</table>\n",
       "</div>"
      ],
      "text/plain": [
       "   Unnamed: 0  index station  lulc_cat  elev_cat  slope_cat\n",
       "0           0    181    ADDI         1         2          0\n",
       "1           1    469    ANDE         5         2          2\n",
       "2           2    757    BATA         3         1          1\n",
       "3           3   1045    BEAC         2         3          3\n",
       "4           4   1333    BELD         5         2          3"
      ]
     },
     "execution_count": 176,
     "metadata": {},
     "output_type": "execute_result"
    }
   ],
   "source": [
    "geo_info_df.head()"
   ]
  },
  {
   "cell_type": "code",
   "execution_count": null,
   "metadata": {},
   "outputs": [],
   "source": [
    "def geo_map(df, lulc_dict, elev_dict, slope_dict):\n",
    "    df[\"lulc\"] = df[\"station\"].map(lulc_dict)\n",
    "    df[\"elev\"] = df[\"station\"].map(elev_dict)\n",
    "    df[\"slope\"] = df[\"station\"].map(slope_dict)\n",
    "    return df"
   ]
  },
  {
   "cell_type": "code",
   "execution_count": null,
   "metadata": {},
   "outputs": [],
   "source": [
    "error_path = \"/home/aevans/nwp_bias/src/machine_learning/data/error_visuals\"\n",
    "\n",
    "error_dir = os.listdir(error_path)\n",
    "error_dir = sorted(error_dir)\n",
    "\n",
    "temp_master_ls = []\n",
    "wind_master_ls = []\n",
    "tp_master_ls = []\n",
    "\n",
    "temp_df_ls = []\n",
    "wind_df_ls = []\n",
    "precip_df_ls = []\n",
    "\n",
    "for d in error_dir:\n",
    "    print(d)\n",
    "    if d not in [\"Northern Plateau\"]:\n",
    "        error_df1 = pd.read_parquet(\n",
    "            f\"{error_path}/{d}/{d}_tp_error_metrics_master.parquet\"\n",
    "        )\n",
    "        error_df2 = pd.read_parquet(\n",
    "            f\"{error_path}/{d}/{d}_u_total_error_metrics_master.parquet\"\n",
    "        )\n",
    "        error_df3 = pd.read_parquet(\n",
    "            f\"{error_path}/{d}/{d}_t2m_error_metrics_master.parquet\"\n",
    "        )\n",
    "        # Group by forecast hour (fh) and compute the mean MAE\n",
    "        mean_mae_by_fh1 = error_df1.groupby(\"fh\")[\"mae\"].mean().reset_index()\n",
    "        mean_mae_by_fh2 = error_df2.groupby(\"fh\")[\"mae\"].mean().reset_index()\n",
    "        mean_mae_by_fh3 = error_df3.groupby(\"fh\")[\"mae\"].mean().reset_index()\n",
    "\n",
    "        temp_df_ls.append(error_df3.reset_index())\n",
    "        wind_df_ls.append(error_df2.reset_index())\n",
    "        precip_df_ls.append(error_df1.reset_index())\n",
    "\n",
    "        mae1 = mean_mae_by_fh1[\"mae\"].values\n",
    "        mae2 = mean_mae_by_fh2[\"mae\"].values\n",
    "        mae3 = mean_mae_by_fh3[\"mae\"].values\n",
    "\n",
    "        temp_master_ls.append(mae3)\n",
    "        wind_master_ls.append(mae2)\n",
    "        tp_master_ls.append(mae1)"
   ]
  },
  {
   "cell_type": "code",
   "execution_count": null,
   "metadata": {},
   "outputs": [],
   "source": [
    "plot_fh_drift(wind_master_ls, error_dir, \"HRRR\", \"tp\")"
   ]
  },
  {
   "cell_type": "code",
   "execution_count": 169,
   "metadata": {},
   "outputs": [
    {
     "data": {
      "image/png": "[encoded data removed]",
      "text/plain": [
       "<Figure size 1400x800 with 1 Axes>"
      ]
     },
     "metadata": {},
     "output_type": "display_data"
    }
   ],
   "source": [
    "plot_mae_boxplot(temp_df_ls, wind_df_ls, precip_df_ls, error_dir)"
   ]
  },
  {
   "cell_type": "code",
   "execution_count": 170,
   "metadata": {},
   "outputs": [],
   "source": [
    "mae_df = pd.concat(wind_df_ls)"
   ]
  },
  {
   "cell_type": "code",
   "execution_count": 171,
   "metadata": {},
   "outputs": [],
   "source": [
    "import seaborn as sns\n",
    "\n",
    "\n",
    "def plot_mae_boxplot_geo(wind_df_list, temp_df_list, precip_df_list, geo):\n",
    "    \"\"\"\n",
    "    Creates a grouped boxplot where each climate division has three boxplots\n",
    "    representing wind error, temperature error, and precipitation error.\n",
    "\n",
    "    Parameters:\n",
    "        wind_df_list (list of pd.DataFrame): List of DataFrames containing 'mae' for wind error.\n",
    "        temp_df_list (list of pd.DataFrame): List of DataFrames containing 'mae' for temperature error.\n",
    "        precip_df_list (list of pd.DataFrame): List of DataFrames containing 'mae' for precipitation error.\n",
    "        climate_divisions (list of str): Names of the corresponding climate divisions.\n",
    "    \"\"\"\n",
    "    # Create a list to store the MAE values with their associated climate division and variable type\n",
    "    plot_data = []\n",
    "\n",
    "    for clim_div, wind_df, temp_df, precip_df in zip(\n",
    "        geo, wind_df_list, temp_df_list, precip_df_list\n",
    "    ):\n",
    "        if \"mae\" in wind_df.columns:\n",
    "            for mae_val in wind_df[\"mae\"]:\n",
    "                plot_data.append(\n",
    "                    {\"Climate Division\": clim_div, \"MAE\": mae_val, \"Variable\": \"Wind\"}\n",
    "                )\n",
    "\n",
    "        if \"mae\" in temp_df.columns:\n",
    "            for mae_val in temp_df[\"mae\"]:\n",
    "                plot_data.append(\n",
    "                    {\n",
    "                        \"Climate Division\": clim_div,\n",
    "                        \"MAE\": mae_val,\n",
    "                        \"Variable\": \"Temperature\",\n",
    "                    }\n",
    "                )\n",
    "\n",
    "        if \"mae\" in precip_df.columns:\n",
    "            for mae_val in precip_df[\"mae\"]:\n",
    "                plot_data.append(\n",
    "                    {\n",
    "                        \"Climate Division\": clim_div,\n",
    "                        \"MAE\": mae_val,\n",
    "                        \"Variable\": \"Precipitation\",\n",
    "                    }\n",
    "                )\n",
    "\n",
    "    # Convert to DataFrame\n",
    "    plot_df = pd.DataFrame(plot_data)\n",
    "\n",
    "    # Create the boxplot\n",
    "    plt.figure(figsize=(14, 8))\n",
    "    sns.boxplot(\n",
    "        x=\"Climate Division\", y=\"MAE\", hue=\"Variable\", data=plot_df, palette=\"Set2\"\n",
    "    )\n",
    "\n",
    "    # Format the plot\n",
    "    plt.xlabel(\"Climate Division\", fontsize=14)\n",
    "    plt.ylabel(\"Mean Absolute Error (MAE)\", fontsize=14)\n",
    "    plt.title(\n",
    "        \"MAE Distribution Across Climate Divisions for Forecast Error\", fontsize=16\n",
    "    )\n",
    "    plt.xticks(rotation=45)  # Rotate labels for readability\n",
    "    plt.legend(title=\"Variable\", fontsize=12, loc=\"upper left\")\n",
    "    plt.grid(axis=\"y\", linestyle=\"--\", alpha=0.7)\n",
    "\n",
    "    # Show the plot\n",
    "    plt.tight_layout()\n",
    "    plt.show()"
   ]
  },
  {
   "cell_type": "code",
   "execution_count": 172,
   "metadata": {},
   "outputs": [
    {
     "name": "stdout",
     "output_type": "stream",
     "text": [
      "Central Lakes\n",
      "Champlain Valley\n",
      "Coastal\n",
      "Eastern Plateau\n",
      "Great Lakes\n",
      "Hudson Valley\n",
      "Mohawk Valley\n",
      "Northern Plateau\n",
      "St. Lawrence Valley\n",
      "Western Plateau\n"
     ]
    }
   ],
   "source": [
    "error_path = \"/home/aevans/nwp_bias/src/machine_learning/data/error_visuals\"\n",
    "\n",
    "error_dir = os.listdir(error_path)\n",
    "error_dir = sorted(error_dir)\n",
    "\n",
    "temp_master_ls = []\n",
    "wind_master_ls = []\n",
    "tp_master_ls = []\n",
    "\n",
    "temp_df_ls = []\n",
    "wind_df_ls = []\n",
    "precip_df_ls = []\n",
    "\n",
    "for d in error_dir:\n",
    "    print(d)\n",
    "    if d not in [\"Northern Plateau\"]:\n",
    "        error_df1 = pd.read_parquet(\n",
    "            f\"{error_path}/{d}/{d}_tp_error_metrics_master.parquet\"\n",
    "        ).reset_index()\n",
    "        error_df2 = pd.read_parquet(\n",
    "            f\"{error_path}/{d}/{d}_u_total_error_metrics_master.parquet\"\n",
    "        ).reset_index()\n",
    "        error_df3 = pd.read_parquet(\n",
    "            f\"{error_path}/{d}/{d}_t2m_error_metrics_master.parquet\"\n",
    "        ).reset_index()\n",
    "\n",
    "        error_df1 = geo_map(error_df1, lulc_dict, elev_dict, slope_dict)\n",
    "        error_df2 = geo_map(error_df2, lulc_dict, elev_dict, slope_dict)\n",
    "        error_df3 = geo_map(error_df3, lulc_dict, elev_dict, slope_dict)\n",
    "\n",
    "        # Group by forecast hour (fh) and compute the mean MAE\n",
    "        mean_mae_by_fh1 = error_df1.groupby(\"slope\")[\"mae\"].mean().reset_index()\n",
    "        mean_mae_by_fh2 = error_df2.groupby(\"slope\")[\"mae\"].mean().reset_index()\n",
    "        mean_mae_by_fh3 = error_df3.groupby(\"slope\")[\"mae\"].mean().reset_index()\n",
    "\n",
    "        temp_df_ls.append(error_df3.reset_index())\n",
    "        wind_df_ls.append(error_df2.reset_index())\n",
    "        precip_df_ls.append(error_df1.reset_index())\n",
    "\n",
    "        mae1 = mean_mae_by_fh1[\"mae\"].values\n",
    "        mae2 = mean_mae_by_fh2[\"mae\"].values\n",
    "        mae3 = mean_mae_by_fh3[\"mae\"].values\n",
    "\n",
    "        temp_master_ls.append(mae3)\n",
    "        wind_master_ls.append(mae2)\n",
    "        tp_master_ls.append(mae1)"
   ]
  },
  {
   "cell_type": "code",
   "execution_count": 173,
   "metadata": {},
   "outputs": [
    {
     "data": {
      "image/png": "[encoded data removed]",
      "text/plain": [
       "<Figure size 1400x800 with 1 Axes>"
      ]
     },
     "metadata": {},
     "output_type": "display_data"
    }
   ],
   "source": [
    "plot_mae_boxplot_geo(\n",
    "    wind_df_ls, temp_df_ls, precip_df_ls, geo_info_df[\"slope_cat\"].unique()\n",
    ")"
   ]
  },
  {
   "cell_type": "code",
   "execution_count": 174,
   "metadata": {},
   "outputs": [
    {
     "data": {
      "text/plain": [
       "1.1325968874181493"
      ]
     },
     "execution_count": 174,
     "metadata": {},
     "output_type": "execute_result"
    }
   ],
   "source": [
    "st.mean(mae_df[\"mae\"])"
   ]
  },
  {
   "cell_type": "code",
   "execution_count": 175,
   "metadata": {},
   "outputs": [
    {
     "ename": "NameError",
     "evalue": "name 'full_df' is not defined",
     "output_type": "error",
     "traceback": [
      "\u001b[0;31m---------------------------------------------------------------------------\u001b[0m",
      "\u001b[0;31mNameError\u001b[0m                                 Traceback (most recent call last)",
      "Cell \u001b[0;32mIn[175], line 1\u001b[0m\n\u001b[0;32m----> 1\u001b[0m full_df[\u001b[38;5;124m\"\u001b[39m\u001b[38;5;124mreforecast\u001b[39m\u001b[38;5;124m\"\u001b[39m] \u001b[38;5;241m=\u001b[39m full_df[\u001b[38;5;124mf\u001b[39m\u001b[38;5;124m\"\u001b[39m\u001b[38;5;124mu_total_\u001b[39m\u001b[38;5;132;01m{\u001b[39;00mstation\u001b[38;5;132;01m}\u001b[39;00m\u001b[38;5;124m\"\u001b[39m] \u001b[38;5;241m-\u001b[39m full_df[\u001b[38;5;124m\"\u001b[39m\u001b[38;5;124mdiff\u001b[39m\u001b[38;5;124m\"\u001b[39m]\n\u001b[1;32m      2\u001b[0m full_df[\u001b[38;5;124m\"\u001b[39m\u001b[38;5;124mreforecast\u001b[39m\u001b[38;5;124m\"\u001b[39m] \u001b[38;5;241m=\u001b[39m full_df[\u001b[38;5;124m\"\u001b[39m\u001b[38;5;124mreforecast\u001b[39m\u001b[38;5;124m\"\u001b[39m]\u001b[38;5;241m.\u001b[39mapply(\u001b[38;5;28;01mlambda\u001b[39;00m x: \u001b[38;5;28mmax\u001b[39m(x, \u001b[38;5;241m0\u001b[39m))\n\u001b[1;32m      3\u001b[0m met_output(full_df, \u001b[38;5;124m\"\u001b[39m\u001b[38;5;124mVOOR\u001b[39m\u001b[38;5;124m\"\u001b[39m, fh)\n",
      "\u001b[0;31mNameError\u001b[0m: name 'full_df' is not defined"
     ]
    }
   ],
   "source": [
    "full_df[\"reforecast\"] = full_df[f\"u_total_{station}\"] - full_df[\"diff\"]\n",
    "full_df[\"reforecast\"] = full_df[\"reforecast\"].apply(lambda x: max(x, 0))\n",
    "met_output(full_df, \"VOOR\", fh)"
   ]
  },
  {
   "cell_type": "code",
   "execution_count": null,
   "metadata": {},
   "outputs": [],
   "source": [
    "for k in full_df.columns:\n",
    "    if re.search(\n",
    "        f\"{station}|valid|Model forecast|Abs_err\",\n",
    "        k,\n",
    "    ):\n",
    "        continue\n",
    "    else:\n",
    "        full_df = full_df.drop(columns=[k])"
   ]
  },
  {
   "cell_type": "code",
   "execution_count": null,
   "metadata": {},
   "outputs": [],
   "source": [
    "# test_len = int(len(full_df['valid_time'])*0.2)\n",
    "# full_df = full_df.iloc[0:test_len]"
   ]
  },
  {
   "cell_type": "code",
   "execution_count": null,
   "metadata": {},
   "outputs": [],
   "source": [
    "def groupby_month(df, col):\n",
    "    df = df[df[col] > -999]\n",
    "    GB = df.groupby([(df.valid_time.dt.month), (df.valid_time.dt.year)])[col].mean()\n",
    "    the_list = GB.tolist()\n",
    "    fig, ax = plt.subplots(figsize=(21, 6))\n",
    "    x = np.arange(1, len(the_list) + 1)\n",
    "    plt.bar(x, the_list)\n",
    "    ax.set_xticklabels([2018, 2019, 2020, 2021, 2022, 2023])\n",
    "    ax.set_xticks(np.arange(1, len(the_list) + 1, int((len(the_list) + 1) / 6)))\n",
    "    return the_list"
   ]
  },
  {
   "cell_type": "code",
   "execution_count": null,
   "metadata": {},
   "outputs": [],
   "source": [
    "full_df.head()"
   ]
  },
  {
   "cell_type": "code",
   "execution_count": null,
   "metadata": {},
   "outputs": [],
   "source": [
    "create_hexbin_heatmap(ldf)"
   ]
  },
  {
   "cell_type": "code",
   "execution_count": null,
   "metadata": {},
   "outputs": [],
   "source": [
    "create_scatterplot_heatmap(ldf)"
   ]
  },
  {
   "cell_type": "code",
   "execution_count": null,
   "metadata": {},
   "outputs": [],
   "source": [
    "create_heatmap(ldf)"
   ]
  },
  {
   "cell_type": "code",
   "execution_count": null,
   "metadata": {},
   "outputs": [],
   "source": [
    "err_by_month = groupby_month(ldf, \"diff\")\n",
    "err_by_month"
   ]
  },
  {
   "cell_type": "code",
   "execution_count": null,
   "metadata": {},
   "outputs": [],
   "source": [
    "def groupby_time(df, col):\n",
    "    df = df[df[col] > -999]\n",
    "    GB = df.groupby([(df.valid_time.dt.hour)])[col].mean()\n",
    "    the_list = GB.tolist()\n",
    "    fig, ax = plt.subplots(figsize=(21, 6))\n",
    "    x = np.arange(0, len(the_list))\n",
    "    plt.bar(x, the_list, color=\"g\")\n",
    "    return the_list"
   ]
  },
  {
   "cell_type": "code",
   "execution_count": null,
   "metadata": {},
   "outputs": [],
   "source": [
    "err_by_time = groupby_time(ldf, \"diff\")"
   ]
  },
  {
   "cell_type": "code",
   "execution_count": null,
   "metadata": {},
   "outputs": [],
   "source": [
    "import calendar\n",
    "\n",
    "\n",
    "def groupby_month_total(df, col):\n",
    "    df = df[df[col] > -999]\n",
    "    GB = df.groupby([(df.valid_time.dt.month)])[col].mean()\n",
    "    the_list = GB.tolist()\n",
    "    fig, ax = plt.subplots(figsize=(21, 6))\n",
    "    x = np.arange(0, len(the_list))\n",
    "\n",
    "    # Get a colormap\n",
    "    cmap = plt.get_cmap(\"RdBu\")\n",
    "    # Normalize your data to map to the colormap\n",
    "    norm = plt.Normalize(min(the_list), max(the_list))\n",
    "    colors = cmap(norm(the_list))\n",
    "\n",
    "    # Create a bar chart\n",
    "    plt.bar(x, the_list, color=colors)\n",
    "    ax.set_xticks(x)  # Set x-ticks to be at the positions of the months\n",
    "    month_labels = [calendar.month_name[month] for month in GB.index]\n",
    "    ax.set_xticklabels(month_labels)  # Label x-ticks with month numbers\n",
    "\n",
    "    plt.show()\n",
    "    return the_list"
   ]
  },
  {
   "cell_type": "code",
   "execution_count": null,
   "metadata": {},
   "outputs": [],
   "source": [
    "groupby_month_total(ldf, \"diff\")"
   ]
  },
  {
   "cell_type": "code",
   "execution_count": null,
   "metadata": {},
   "outputs": [],
   "source": [
    "def myround(x, base):\n",
    "    return base * round(x / base)"
   ]
  },
  {
   "cell_type": "code",
   "execution_count": null,
   "metadata": {},
   "outputs": [],
   "source": [
    "# function to get unique values\n",
    "def unique(list1):\n",
    "    # initialize a null list\n",
    "    unique_list = []\n",
    "\n",
    "    # traverse for all elements\n",
    "    for x in list1:\n",
    "        # check if exists in unique_list or not\n",
    "        if x not in unique_list:\n",
    "            unique_list.append(x)\n",
    "    return unique_list"
   ]
  },
  {
   "cell_type": "code",
   "execution_count": null,
   "metadata": {},
   "outputs": [],
   "source": [
    "def err_bucket(full_df, met_col, rounded_base):\n",
    "    temps = []\n",
    "    for i, _ in enumerate(full_df[met_col]):\n",
    "        rounded = myround(full_df[met_col].iloc[i], rounded_base)\n",
    "        temps.append(rounded)\n",
    "\n",
    "    unique_temps = unique(temps)\n",
    "\n",
    "    zeros = np.zeros(len(unique_temps))\n",
    "    rs = np.resize(zeros, (len(unique_temps), len(unique_temps)))\n",
    "\n",
    "    temp_df = pd.DataFrame(\n",
    "        data=rs, index=[np.arange(len(unique_temps))], columns=sorted(unique_temps)\n",
    "    )\n",
    "\n",
    "    for i, _ in enumerate(full_df[met_col]):\n",
    "        rounded = myround(full_df[met_col].iloc[i], rounded_base)\n",
    "        err = full_df[\"Abs_err\"].iloc[i]\n",
    "        temp_df[rounded].iloc[0] = abs(err) + abs(temp_df[rounded].iloc[0])\n",
    "        temp_df[rounded].iloc[-1] += 1\n",
    "\n",
    "    instances = temp_df.iloc[-1]\n",
    "    temp_df = temp_df.iloc[0]\n",
    "\n",
    "    return temp_df, instances"
   ]
  },
  {
   "cell_type": "code",
   "execution_count": null,
   "metadata": {},
   "outputs": [],
   "source": [
    "def plot_buckets(temp_df, instances, var_name, cmap, width):\n",
    "    my_cmap = plt.get_cmap(cmap)\n",
    "    averages = temp_df / instances\n",
    "    y = averages\n",
    "    rescale = lambda y: (y - np.min(y)) / (np.max(y) - np.min(y))\n",
    "    the_list = averages.tolist()\n",
    "    fig, ax = plt.subplots(\n",
    "        figsize=(21, 6), facecolor=\"slategrey\", constrained_layout=True\n",
    "    )\n",
    "    bars = plt.bar(temp_df.keys(), the_list, color=my_cmap(rescale(y)), width=width)\n",
    "    ax.set_title(\"Absolute Error of LSTM\", fontsize=28, c=\"white\")\n",
    "    ax.set_xlabel(var_name, fontsize=18, c=\"white\")\n",
    "    ax.set_ylabel(\"Mean Absolute Error\", fontsize=18, c=\"white\")\n",
    "    # Iterating over the bars one-by-one\n",
    "    # Annotate each bar with its value\n",
    "    # Annotate each bar with the number of instances\n",
    "    for bar, value, instance_count in zip(bars, the_list, instances):\n",
    "        yval = value + 0.01  # Adjust the vertical position of the label\n",
    "        ax.text(\n",
    "            bar.get_x() + bar.get_width() / 2,\n",
    "            yval,\n",
    "            f\"n={instance_count}\",\n",
    "            ha=\"center\",\n",
    "            va=\"bottom\",\n",
    "            color=\"black\",\n",
    "            fontsize=12,\n",
    "            rotation=90,\n",
    "        )"
   ]
  },
  {
   "cell_type": "code",
   "execution_count": null,
   "metadata": {},
   "outputs": [],
   "source": [
    "# for k in full_df.keys():\n",
    "#     print(k)"
   ]
  },
  {
   "cell_type": "code",
   "execution_count": null,
   "metadata": {},
   "outputs": [],
   "source": [
    "# diector = sorted(os.listdir('/home/aevans/nwp_bias/src/machine_learning/data/lstm_eval_csvs/20231129/'))\n",
    "\n",
    "# for d in diector:\n",
    "#         full_df = pd.read_parquet(\n",
    "#         f\"/home/aevans/nwp_bias/src/machine_learning/data/lstm_eval_csvs/20231129/{d}\"\n",
    "#     )\n",
    "#         for k in full_df.columns:\n",
    "#             if re.search(\n",
    "#                 f\"{station}\",\n",
    "#                 k,\n",
    "#             ):\n",
    "#                 print(\"Succes!!\")\n",
    "#                 print(d)\n",
    "#             else:\n",
    "#                 continue"
   ]
  },
  {
   "cell_type": "code",
   "execution_count": null,
   "metadata": {},
   "outputs": [],
   "source": [
    "# Reset index for both DataFrames to ensure alignment\n",
    "full_df = full_df.reset_index(drop=True)\n",
    "ldf = ldf.reset_index(drop=True)\n",
    "full_df[\"Abs_err\"] = ldf[\"diff\"]"
   ]
  },
  {
   "cell_type": "code",
   "execution_count": null,
   "metadata": {},
   "outputs": [],
   "source": [
    "full_df.dropna(inplace=True)"
   ]
  },
  {
   "cell_type": "code",
   "execution_count": null,
   "metadata": {},
   "outputs": [],
   "source": [
    "temp_df, instances = err_bucket(full_df, f\"tair_{station}\", 2)"
   ]
  },
  {
   "cell_type": "code",
   "execution_count": null,
   "metadata": {},
   "outputs": [],
   "source": [
    "instances"
   ]
  },
  {
   "cell_type": "code",
   "execution_count": null,
   "metadata": {},
   "outputs": [],
   "source": [
    "plot_buckets(temp_df, instances, \"Temperature (C)\", \"Wistia\", 2.5)"
   ]
  },
  {
   "cell_type": "code",
   "execution_count": null,
   "metadata": {},
   "outputs": [],
   "source": [
    "relh_df, instances = err_bucket(full_df, f\"relh_{station}\", 2)"
   ]
  },
  {
   "cell_type": "code",
   "execution_count": null,
   "metadata": {},
   "outputs": [],
   "source": [
    "plot_buckets(relh_df, instances, \"Relative Humidity (%)\", \"copper\", 5.0)"
   ]
  },
  {
   "cell_type": "code",
   "execution_count": null,
   "metadata": {},
   "outputs": [],
   "source": [
    "new_df, instances = err_bucket(full_df, f\"srad_{station}\", 40)"
   ]
  },
  {
   "cell_type": "code",
   "execution_count": null,
   "metadata": {},
   "outputs": [],
   "source": [
    "plot_buckets(new_df, instances, \"Solar Radiation (W / m*m)\", \"copper\", 50.0)"
   ]
  },
  {
   "cell_type": "code",
   "execution_count": null,
   "metadata": {},
   "outputs": [],
   "source": [
    "pres_df, instances = err_bucket(full_df, f\"pres_{station}\", 2)"
   ]
  },
  {
   "cell_type": "code",
   "execution_count": null,
   "metadata": {},
   "outputs": [],
   "source": [
    "print(f'The mean pressure at {station} is {full_df[f\"pres_{station}\"].mean()}')"
   ]
  },
  {
   "cell_type": "code",
   "execution_count": null,
   "metadata": {},
   "outputs": [],
   "source": [
    "plot_buckets(pres_df, instances, \"Surface Pressure (mb)\", \"copper\", 1.5)"
   ]
  },
  {
   "cell_type": "code",
   "execution_count": null,
   "metadata": {},
   "outputs": [],
   "source": [
    "def round_small(full_df, met_col, rounded_base):\n",
    "    temps = []\n",
    "    for i, _ in enumerate(full_df[met_col]):\n",
    "        if full_df[met_col].iloc[i] < 1.0 and full_df[met_col].iloc[i] >= 0:\n",
    "            rounded = round(full_df[met_col].iloc[i], rounded_base)\n",
    "            temps.append(rounded)\n",
    "        else:\n",
    "            rounded = myround(full_df[met_col].iloc[i], 1)\n",
    "            temps.append(rounded)\n",
    "\n",
    "    unique_temps = unique(temps)\n",
    "\n",
    "    zeros = np.zeros(len(unique_temps))\n",
    "    rs = np.resize(zeros, (len(unique_temps), len(unique_temps)))\n",
    "    temp_df = pd.DataFrame(\n",
    "        data=rs, index=[np.arange(len(unique_temps))], columns=sorted(unique_temps)\n",
    "    )\n",
    "\n",
    "    for i, _ in enumerate(full_df[met_col]):\n",
    "        if full_df[met_col].iloc[i] < 1.0 and full_df[met_col].iloc[i] >= 0:\n",
    "            rounded = round(full_df[met_col].iloc[i], rounded_base)\n",
    "        else:\n",
    "            rounded = float(myround(full_df[met_col].iloc[i], base=1))\n",
    "        err = float(full_df[\"Abs_err\"].iloc[i])\n",
    "        temp_df[rounded].iloc[0] = abs(err) + abs(temp_df[rounded].iloc[0])\n",
    "        temp_df[rounded].iloc[-1] += 1\n",
    "\n",
    "    instances = temp_df.iloc[-1]\n",
    "    temp_df = temp_df.iloc[0]\n",
    "    temp_df = temp_df.loc[~(temp_df == 0)]\n",
    "    instances = instances.loc[~(instances == 0)]\n",
    "    return temp_df, instances"
   ]
  },
  {
   "cell_type": "code",
   "execution_count": null,
   "metadata": {},
   "outputs": [],
   "source": [
    "rain_df, instances = err_bucket(full_df, f\"precip_total_{station}\", 0.1)"
   ]
  },
  {
   "cell_type": "code",
   "execution_count": null,
   "metadata": {},
   "outputs": [],
   "source": [
    "plot_buckets(rain_df, instances, \"Precipitation [mm/hr]\", \"winter\", 0.1)"
   ]
  },
  {
   "cell_type": "code",
   "execution_count": null,
   "metadata": {},
   "outputs": [],
   "source": [
    "snow_df, instances = round_small(full_df, f\"snow_depth_{station}\", 2)"
   ]
  },
  {
   "cell_type": "code",
   "execution_count": null,
   "metadata": {},
   "outputs": [],
   "source": [
    "snow_df = snow_df.iloc[1:]\n",
    "instances = instances.iloc[1:]"
   ]
  },
  {
   "cell_type": "code",
   "execution_count": null,
   "metadata": {},
   "outputs": [],
   "source": [
    "plot_buckets(snow_df, instances, \"Accumulated Snow (m)\", \"cool\", 0.01)"
   ]
  },
  {
   "cell_type": "code",
   "execution_count": null,
   "metadata": {},
   "outputs": [],
   "source": [
    "wmax, instances = err_bucket(full_df, f\"wmax_sonic_{station}\", 2)"
   ]
  },
  {
   "cell_type": "code",
   "execution_count": null,
   "metadata": {},
   "outputs": [],
   "source": [
    "plot_buckets(wmax, instances, \"Wind Max (m/s)\", \"copper\", 1.0)"
   ]
  },
  {
   "cell_type": "code",
   "execution_count": null,
   "metadata": {},
   "outputs": [],
   "source": [
    "wdir, instances = err_bucket(full_df, f\"wdir_sonic_{station}\", 45)"
   ]
  },
  {
   "cell_type": "code",
   "execution_count": null,
   "metadata": {},
   "outputs": [],
   "source": [
    "plot_buckets(wdir, instances, \"Wind Dir (degrees)\", \"copper\", 10.0)"
   ]
  },
  {
   "cell_type": "code",
   "execution_count": null,
   "metadata": {},
   "outputs": [],
   "source": []
  }
 ],
 "metadata": {
  "kernelspec": {
   "display_name": "Python 3.9.16 ('base': conda)",
   "language": "python",
   "name": "python3"
  },
  "language_info": {
   "codemirror_mode": {
    "name": "ipython",
    "version": 3
   },
   "file_extension": ".py",
   "mimetype": "text/x-python",
   "name": "python",
   "nbconvert_exporter": "python",
   "pygments_lexer": "ipython3",
   "version": "3.9.16"
  },
  "orig_nbformat": 4,
  "vscode": {
   "interpreter": {
    "hash": "44818f36aeaf89db1a1d21a2bee6031a28b4e41595a65903b38b9b0c4417365f"
   }
  }
 },
 "nbformat": 4,
 "nbformat_minor": 2
}
