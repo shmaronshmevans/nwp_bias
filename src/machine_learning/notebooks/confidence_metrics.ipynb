{
 "cells": [
  {
   "cell_type": "code",
   "execution_count": 369,
   "metadata": {},
   "outputs": [],
   "source": [
    "import pandas as pd\n",
    "import numpy as np\n",
    "import matplotlib.pyplot as plt\n",
    "import re\n",
    "import statistics as st"
   ]
  },
  {
   "cell_type": "code",
   "execution_count": 370,
   "metadata": {},
   "outputs": [],
   "source": [
    "model_path = \"/home/aevans/nwp_bias/src/machine_learning/data/lstm_eval_csvs/v12_21_2023_16:54:04_VOOR_ml_output_VOOR.parquet\""
   ]
  },
  {
   "cell_type": "code",
   "execution_count": 371,
   "metadata": {},
   "outputs": [],
   "source": [
    "station = \"VOOR\""
   ]
  },
  {
   "cell_type": "code",
   "execution_count": 372,
   "metadata": {},
   "outputs": [],
   "source": [
    "df = pd.read_parquet(model_path)\n",
    "df = df.sort_index()"
   ]
  },
  {
   "cell_type": "code",
   "execution_count": 373,
   "metadata": {},
   "outputs": [],
   "source": [
    "full_df = pd.read_parquet(\n",
    "    \"/home/aevans/nwp_bias/src/machine_learning/data/lstm_eval_csvs/12_21_2023_16:59:08_full_VOOR.parquet\"\n",
    ")"
   ]
  },
  {
   "cell_type": "code",
   "execution_count": 374,
   "metadata": {},
   "outputs": [],
   "source": [
    "full_df[\"Abs_err\"] = df[\"diff\"]"
   ]
  },
  {
   "cell_type": "code",
   "execution_count": 375,
   "metadata": {},
   "outputs": [],
   "source": [
    "for k in full_df.columns:\n",
    "    if re.search(\n",
    "        f\"{station}|valid|Model forecast|Abs_err\",\n",
    "        k,\n",
    "    ):\n",
    "        continue\n",
    "    else:\n",
    "        full_df = full_df.drop(columns=[k])"
   ]
  },
  {
   "cell_type": "code",
   "execution_count": 376,
   "metadata": {},
   "outputs": [
    {
     "data": {
      "text/html": [
       "<div>\n",
       "<style scoped>\n",
       "    .dataframe tbody tr th:only-of-type {\n",
       "        vertical-align: middle;\n",
       "    }\n",
       "\n",
       "    .dataframe tbody tr th {\n",
       "        vertical-align: top;\n",
       "    }\n",
       "\n",
       "    .dataframe thead th {\n",
       "        text-align: right;\n",
       "    }\n",
       "</style>\n",
       "<table border=\"1\" class=\"dataframe\">\n",
       "  <thead>\n",
       "    <tr style=\"text-align: right;\">\n",
       "      <th></th>\n",
       "      <th>target_error_lead_0</th>\n",
       "      <th>Model forecast</th>\n",
       "      <th>diff</th>\n",
       "    </tr>\n",
       "  </thead>\n",
       "  <tbody>\n",
       "    <tr>\n",
       "      <th>0</th>\n",
       "      <td>-0.135570</td>\n",
       "      <td>-3.913963</td>\n",
       "      <td>3.778393</td>\n",
       "    </tr>\n",
       "    <tr>\n",
       "      <th>1</th>\n",
       "      <td>-0.129617</td>\n",
       "      <td>-4.032679</td>\n",
       "      <td>3.903062</td>\n",
       "    </tr>\n",
       "    <tr>\n",
       "      <th>2</th>\n",
       "      <td>-0.132693</td>\n",
       "      <td>-4.095132</td>\n",
       "      <td>3.962439</td>\n",
       "    </tr>\n",
       "    <tr>\n",
       "      <th>3</th>\n",
       "      <td>-0.124617</td>\n",
       "      <td>-3.663634</td>\n",
       "      <td>3.539017</td>\n",
       "    </tr>\n",
       "    <tr>\n",
       "      <th>4</th>\n",
       "      <td>-0.107547</td>\n",
       "      <td>-2.614908</td>\n",
       "      <td>2.507361</td>\n",
       "    </tr>\n",
       "    <tr>\n",
       "      <th>...</th>\n",
       "      <td>...</td>\n",
       "      <td>...</td>\n",
       "      <td>...</td>\n",
       "    </tr>\n",
       "    <tr>\n",
       "      <th>31087</th>\n",
       "      <td>-0.048112</td>\n",
       "      <td>3.327865</td>\n",
       "      <td>-3.375977</td>\n",
       "    </tr>\n",
       "    <tr>\n",
       "      <th>31088</th>\n",
       "      <td>-0.053138</td>\n",
       "      <td>2.574702</td>\n",
       "      <td>-2.627840</td>\n",
       "    </tr>\n",
       "    <tr>\n",
       "      <th>31089</th>\n",
       "      <td>-0.057231</td>\n",
       "      <td>2.248422</td>\n",
       "      <td>-2.305654</td>\n",
       "    </tr>\n",
       "    <tr>\n",
       "      <th>31090</th>\n",
       "      <td>-0.059433</td>\n",
       "      <td>1.716581</td>\n",
       "      <td>-1.776014</td>\n",
       "    </tr>\n",
       "    <tr>\n",
       "      <th>31091</th>\n",
       "      <td>9.582523</td>\n",
       "      <td>0.279791</td>\n",
       "      <td>9.302732</td>\n",
       "    </tr>\n",
       "  </tbody>\n",
       "</table>\n",
       "<p>31092 rows × 3 columns</p>\n",
       "</div>"
      ],
      "text/plain": [
       "       target_error_lead_0  Model forecast      diff\n",
       "0                -0.135570       -3.913963  3.778393\n",
       "1                -0.129617       -4.032679  3.903062\n",
       "2                -0.132693       -4.095132  3.962439\n",
       "3                -0.124617       -3.663634  3.539017\n",
       "4                -0.107547       -2.614908  2.507361\n",
       "...                    ...             ...       ...\n",
       "31087            -0.048112        3.327865 -3.375977\n",
       "31088            -0.053138        2.574702 -2.627840\n",
       "31089            -0.057231        2.248422 -2.305654\n",
       "31090            -0.059433        1.716581 -1.776014\n",
       "31091             9.582523        0.279791  9.302732\n",
       "\n",
       "[31092 rows x 3 columns]"
      ]
     },
     "execution_count": 376,
     "metadata": {},
     "output_type": "execute_result"
    }
   ],
   "source": [
    "df"
   ]
  },
  {
   "cell_type": "code",
   "execution_count": 377,
   "metadata": {},
   "outputs": [
    {
     "name": "stdout",
     "output_type": "stream",
     "text": [
      "valid_time\n",
      "valid_time_cos\n",
      "valid_time_sin\n",
      "t2m_VOOR\n",
      "sh2_VOOR\n",
      "d2m_VOOR\n",
      "r2_VOOR\n",
      "u10_VOOR\n",
      "v10_VOOR\n",
      "tp_VOOR\n",
      "mslma_VOOR\n",
      "orog_VOOR\n",
      "tcc_VOOR\n",
      "asnow_VOOR\n",
      "cape_VOOR\n",
      "dswrf_VOOR\n",
      "dlwrf_VOOR\n",
      "gh_VOOR\n",
      "u_total_VOOR\n",
      "u_dir_VOOR\n",
      "new_tp_VOOR\n",
      "lat_VOOR\n",
      "lon_VOOR\n",
      "elev_VOOR\n",
      "tair_VOOR\n",
      "ta9m_VOOR\n",
      "td_VOOR\n",
      "relh_VOOR\n",
      "srad_VOOR\n",
      "pres_VOOR\n",
      "mslp_VOOR\n",
      "wspd_sonic_VOOR\n",
      "wmax_sonic_VOOR\n",
      "wdir_sonic_VOOR\n",
      "precip_total_VOOR\n",
      "snow_depth_VOOR\n",
      "Abs_err\n"
     ]
    }
   ],
   "source": [
    "for k in full_df.keys():\n",
    "    print(k)"
   ]
  },
  {
   "cell_type": "code",
   "execution_count": 378,
   "metadata": {},
   "outputs": [],
   "source": [
    "def myround(x, base):\n",
    "    return base * round(x / base)"
   ]
  },
  {
   "cell_type": "code",
   "execution_count": 379,
   "metadata": {},
   "outputs": [],
   "source": [
    "# function to get unique values\n",
    "def unique(list1):\n",
    "    # initialize a null list\n",
    "    unique_list = []\n",
    "\n",
    "    # traverse for all elements\n",
    "    for x in list1:\n",
    "        # check if exists in unique_list or not\n",
    "        if x not in unique_list:\n",
    "            unique_list.append(x)\n",
    "    return unique_list"
   ]
  },
  {
   "cell_type": "code",
   "execution_count": 380,
   "metadata": {},
   "outputs": [],
   "source": [
    "def err_bucket(query, full_df, met_col, rounded_base):\n",
    "    errors = []\n",
    "    q_rounded = myround(query, rounded_base)\n",
    "\n",
    "    for i, _ in enumerate(full_df[met_col]):\n",
    "        rounded = myround(full_df[met_col].iloc[i], rounded_base)\n",
    "        q_rounded = myround(query, rounded_base)\n",
    "\n",
    "        if rounded == q_rounded:\n",
    "            errors.append(full_df[\"Abs_err\"].iloc[i])\n",
    "    return errors"
   ]
  },
  {
   "cell_type": "code",
   "execution_count": 381,
   "metadata": {},
   "outputs": [],
   "source": [
    "vars_list = [\n",
    "    \"tair\",\n",
    "    \"td\",\n",
    "    \"srad\",\n",
    "    \"pres\",\n",
    "    \"wmax_sonic\",\n",
    "    \"wdir_sonic\",\n",
    "    \"precip_total\",\n",
    "    \"snow_depth\",\n",
    "]\n",
    "# vars_list = ['snow_depth']"
   ]
  },
  {
   "cell_type": "code",
   "execution_count": 382,
   "metadata": {},
   "outputs": [
    {
     "data": {
      "text/plain": [
       "-5.110882666650203"
      ]
     },
     "execution_count": 382,
     "metadata": {},
     "output_type": "execute_result"
    }
   ],
   "source": [
    "l = 140\n",
    "queries = full_df.iloc[l, -13:]\n",
    "actual = full_df.iloc[l, -1]\n",
    "actual"
   ]
  },
  {
   "cell_type": "code",
   "execution_count": 383,
   "metadata": {},
   "outputs": [
    {
     "data": {
      "text/plain": [
       "tair_VOOR              1.057475\n",
       "ta9m_VOOR              1.027886\n",
       "td_VOOR                0.619995\n",
       "relh_VOOR             96.896446\n",
       "srad_VOOR              0.004413\n",
       "pres_VOOR            988.403198\n",
       "mslp_VOOR            989.311951\n",
       "wspd_sonic_VOOR        3.501485\n",
       "wmax_sonic_VOOR        5.228021\n",
       "wdir_sonic_VOOR        2.512433\n",
       "precip_total_VOOR      0.729996\n",
       "snow_depth_VOOR       -0.003382\n",
       "Abs_err               -5.110883\n",
       "Name: 140, dtype: object"
      ]
     },
     "execution_count": 383,
     "metadata": {},
     "output_type": "execute_result"
    }
   ],
   "source": [
    "queries"
   ]
  },
  {
   "cell_type": "code",
   "execution_count": 384,
   "metadata": {},
   "outputs": [],
   "source": [
    "queries_ls = [\n",
    "    queries[0],\n",
    "    queries[2],\n",
    "    queries[4],\n",
    "    queries[5],\n",
    "    queries[8],\n",
    "    queries[9],\n",
    "    queries[10],\n",
    "    queries[11],\n",
    "]"
   ]
  },
  {
   "cell_type": "code",
   "execution_count": 385,
   "metadata": {},
   "outputs": [
    {
     "data": {
      "text/plain": [
       "[1.057475,\n",
       " 0.6199951,\n",
       " 0.004413084,\n",
       " 988.4032,\n",
       " 5.228021,\n",
       " 2.512433,\n",
       " 0.7299957275390625,\n",
       " -0.0033822288]"
      ]
     },
     "execution_count": 385,
     "metadata": {},
     "output_type": "execute_result"
    }
   ],
   "source": [
    "queries_ls"
   ]
  },
  {
   "cell_type": "code",
   "execution_count": 386,
   "metadata": {},
   "outputs": [
    {
     "name": "stdout",
     "output_type": "stream",
     "text": [
      "tair\n",
      "td\n",
      "srad\n",
      "pres\n",
      "wmax_sonic\n",
      "wdir_sonic\n",
      "precip_total\n",
      "snow_depth\n"
     ]
    }
   ],
   "source": [
    "final_df = pd.DataFrame()\n",
    "i = 0\n",
    "for v in vars_list:\n",
    "    print(v)\n",
    "    if v == \"tair\":\n",
    "        r = 5\n",
    "    if v == \"td\":\n",
    "        r = 5\n",
    "    if v == \"srad\":\n",
    "        r = 100\n",
    "    if v == \"pres\":\n",
    "        r = 100\n",
    "    if v == \"wmax_sonic\":\n",
    "        r = 2\n",
    "    if v == \"wdir_sonic\":\n",
    "        r = 2\n",
    "    if v == \"precip_total\":\n",
    "        if queries_ls[i] == 0.0:\n",
    "            exit\n",
    "        else:\n",
    "            r = 1\n",
    "    if v == \"snow_depth\":\n",
    "        if queries_ls[i] == 0.0:\n",
    "            exit\n",
    "        else:\n",
    "            r = 1\n",
    "    _df = pd.DataFrame()\n",
    "    errors_ls = err_bucket(queries_ls[i], full_df, f\"{v}_{station}\", r)\n",
    "    i += 1\n",
    "    _df[f\"errors\"] = errors_ls\n",
    "    final_df = pd.concat([_df, final_df])"
   ]
  },
  {
   "cell_type": "code",
   "execution_count": 387,
   "metadata": {},
   "outputs": [
    {
     "data": {
      "text/html": [
       "<div>\n",
       "<style scoped>\n",
       "    .dataframe tbody tr th:only-of-type {\n",
       "        vertical-align: middle;\n",
       "    }\n",
       "\n",
       "    .dataframe tbody tr th {\n",
       "        vertical-align: top;\n",
       "    }\n",
       "\n",
       "    .dataframe thead th {\n",
       "        text-align: right;\n",
       "    }\n",
       "</style>\n",
       "<table border=\"1\" class=\"dataframe\">\n",
       "  <thead>\n",
       "    <tr style=\"text-align: right;\">\n",
       "      <th></th>\n",
       "      <th>errors</th>\n",
       "    </tr>\n",
       "  </thead>\n",
       "  <tbody>\n",
       "    <tr>\n",
       "      <th>0</th>\n",
       "      <td>3.778393</td>\n",
       "    </tr>\n",
       "    <tr>\n",
       "      <th>1</th>\n",
       "      <td>3.903062</td>\n",
       "    </tr>\n",
       "    <tr>\n",
       "      <th>2</th>\n",
       "      <td>3.962439</td>\n",
       "    </tr>\n",
       "    <tr>\n",
       "      <th>3</th>\n",
       "      <td>3.539017</td>\n",
       "    </tr>\n",
       "    <tr>\n",
       "      <th>4</th>\n",
       "      <td>2.507361</td>\n",
       "    </tr>\n",
       "    <tr>\n",
       "      <th>...</th>\n",
       "      <td>...</td>\n",
       "    </tr>\n",
       "    <tr>\n",
       "      <th>4720</th>\n",
       "      <td>-1.947924</td>\n",
       "    </tr>\n",
       "    <tr>\n",
       "      <th>4721</th>\n",
       "      <td>-0.995279</td>\n",
       "    </tr>\n",
       "    <tr>\n",
       "      <th>4722</th>\n",
       "      <td>-0.997330</td>\n",
       "    </tr>\n",
       "    <tr>\n",
       "      <th>4723</th>\n",
       "      <td>-1.473261</td>\n",
       "    </tr>\n",
       "    <tr>\n",
       "      <th>4724</th>\n",
       "      <td>-1.664358</td>\n",
       "    </tr>\n",
       "  </tbody>\n",
       "</table>\n",
       "<p>76864 rows × 1 columns</p>\n",
       "</div>"
      ],
      "text/plain": [
       "        errors\n",
       "0     3.778393\n",
       "1     3.903062\n",
       "2     3.962439\n",
       "3     3.539017\n",
       "4     2.507361\n",
       "...        ...\n",
       "4720 -1.947924\n",
       "4721 -0.995279\n",
       "4722 -0.997330\n",
       "4723 -1.473261\n",
       "4724 -1.664358\n",
       "\n",
       "[76864 rows x 1 columns]"
      ]
     },
     "execution_count": 387,
     "metadata": {},
     "output_type": "execute_result"
    }
   ],
   "source": [
    "final_df"
   ]
  },
  {
   "cell_type": "code",
   "execution_count": 388,
   "metadata": {},
   "outputs": [
    {
     "data": {
      "image/png": "[encoded data removed]",
      "text/plain": [
       "<Figure size 1200x1200 with 1 Axes>"
      ]
     },
     "metadata": {},
     "output_type": "display_data"
    }
   ],
   "source": [
    "# Create a red boxplot\n",
    "fig, ax = plt.subplots(figsize=(12, 12))\n",
    "\n",
    "# Remove top and right border\n",
    "ax.spines[\"right\"].set_visible(False)\n",
    "ax.spines[\"left\"].set_visible(False)\n",
    "\n",
    "# plt.ylim(-5.0,5.0)\n",
    "\n",
    "# Add major gridlines in the y-axis\n",
    "ax.grid(color=\"black\", axis=\"y\", linestyle=\"-\", linewidth=0.25, alpha=0.7)\n",
    "plt.axhline(\n",
    "    y=actual, color=\"green\", linestyle=\"--\", label=f\"Actual Error = {actual.round(4)}\"\n",
    ")\n",
    "\n",
    "# Create a red boxplot\n",
    "boxplot = ax.boxplot(\n",
    "    final_df, widths=0.70, boxprops=dict(color=\"red\"), showfliers=False, zorder=10\n",
    ")\n",
    "\n",
    "# Optionally, you can set other properties like linewidth and alpha for the boxes\n",
    "for box in boxplot[\"boxes\"]:\n",
    "    box.set_linewidth(2)\n",
    "    box.set_alpha(0.7)\n",
    "\n",
    "# Set title\n",
    "plt.title(\"Prediction Confidence Interval\", fontsize=28)\n",
    "# Set x-label\n",
    "# Hide x-axis ticks\n",
    "ax.set_xticks([])\n",
    "ax.set_ylabel(\"Relative Error of Past Predictions\", fontsize=14)\n",
    "ax.set_xlabel(\"Confidence Plot\", fontsize=14)\n",
    "ax.set_facecolor(\"floralwhite\")\n",
    "ax.legend(loc=\"lower right\")\n",
    "plt.show()"
   ]
  },
  {
   "cell_type": "code",
   "execution_count": null,
   "metadata": {},
   "outputs": [],
   "source": []
  }
 ],
 "metadata": {
  "kernelspec": {
   "display_name": "Python 3.9.16 ('base': conda)",
   "language": "python",
   "name": "python3"
  },
  "language_info": {
   "codemirror_mode": {
    "name": "ipython",
    "version": 3
   },
   "file_extension": ".py",
   "mimetype": "text/x-python",
   "name": "python",
   "nbconvert_exporter": "python",
   "pygments_lexer": "ipython3",
   "version": "3.9.16"
  },
  "orig_nbformat": 4,
  "vscode": {
   "interpreter": {
    "hash": "44818f36aeaf89db1a1d21a2bee6031a28b4e41595a65903b38b9b0c4417365f"
   }
  }
 },
 "nbformat": 4,
 "nbformat_minor": 2
}
