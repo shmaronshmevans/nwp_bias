{
 "cells": [
  {
   "cell_type": "code",
   "execution_count": 35,
   "metadata": {},
   "outputs": [
    {
     "name": "stdout",
     "output_type": "stream",
     "text": [
      "The autoreload extension is already loaded. To reload it, use:\n",
      "  %reload_ext autoreload\n"
     ]
    }
   ],
   "source": [
    "%load_ext autoreload\n",
    "%autoreload 2\n",
    "import sys\n",
    "\n",
    "# instead of creating a package using setup.py or building from a docker/singularity file,\n",
    "# import the sister directory of src code to be called on in notebook.\n",
    "# This keeps the notebook free from code to only hold visualizations and is easier to test\n",
    "# It also helps keep the state of variables clean such that cells aren't run out of order with a mysterious state\n",
    "sys.path.append(\"..\")"
   ]
  },
  {
   "cell_type": "code",
   "execution_count": 36,
   "metadata": {},
   "outputs": [],
   "source": [
    "import pandas as pd\n",
    "import numpy as np\n",
    "import gc\n",
    "\n",
    "from src.processing import get_closest_radiometer, get_closest_nysm_stations\n",
    "from src.data import nysm_data"
   ]
  },
  {
   "cell_type": "code",
   "execution_count": 37,
   "metadata": {},
   "outputs": [
    {
     "name": "stderr",
     "output_type": "stream",
     "text": [
      "/home/aevans/nwp_bias/src/machine_learning/notebooks/../src/data/nysm_data.py:51: FutureWarning: A value is trying to be set on a copy of a DataFrame or Series through chained assignment using an inplace method.\n",
      "The behavior will change in pandas 3.0. This inplace method will never work because the intermediate object on which we are setting values always behaves as a copy.\n",
      "\n",
      "For example, when doing 'df[col].method(value, inplace=True)', try using 'df.method({col: value}, inplace=True)' or df[col] = df[col].method(value) instead, to perform the operation inplace on the original object.\n",
      "\n",
      "\n",
      "  nysm_1H_obs['snow_depth'].fillna(-999, inplace=True)\n",
      "/home/aevans/nwp_bias/src/machine_learning/notebooks/../src/data/nysm_data.py:52: FutureWarning: A value is trying to be set on a copy of a DataFrame or Series through chained assignment using an inplace method.\n",
      "The behavior will change in pandas 3.0. This inplace method will never work because the intermediate object on which we are setting values always behaves as a copy.\n",
      "\n",
      "For example, when doing 'df[col].method(value, inplace=True)', try using 'df.method({col: value}, inplace=True)' or df[col] = df[col].method(value) instead, to perform the operation inplace on the original object.\n",
      "\n",
      "\n",
      "  nysm_1H_obs['ta9m'].fillna(-999, inplace=True)\n"
     ]
    }
   ],
   "source": [
    "nysm_df = nysm_data.load_nysm_data(gfs=True)\n",
    "nysm_df.reset_index(inplace=True)\n",
    "gc.collect()\n",
    "nysm_df = nysm_df.rename(columns={\"time_1H\": \"valid_time\"})"
   ]
  },
  {
   "cell_type": "code",
   "execution_count": 38,
   "metadata": {},
   "outputs": [],
   "source": [
    "inc = []\n",
    "for s in nysm_df[\"station\"].unique():\n",
    "    stations = get_closest_nysm_stations.get_closest_stations(nysm_df, 15, s, \"GFS\")\n",
    "    inc.append(stations)"
   ]
  },
  {
   "cell_type": "code",
   "execution_count": 39,
   "metadata": {},
   "outputs": [],
   "source": [
    "df = pd.DataFrame({\"station\": nysm_df[\"station\"].unique(), \"targets\": inc})"
   ]
  },
  {
   "cell_type": "code",
   "execution_count": 40,
   "metadata": {},
   "outputs": [
    {
     "data": {
      "text/html": [
       "<div>\n",
       "<style scoped>\n",
       "    .dataframe tbody tr th:only-of-type {\n",
       "        vertical-align: middle;\n",
       "    }\n",
       "\n",
       "    .dataframe tbody tr th {\n",
       "        vertical-align: top;\n",
       "    }\n",
       "\n",
       "    .dataframe thead th {\n",
       "        text-align: right;\n",
       "    }\n",
       "</style>\n",
       "<table border=\"1\" class=\"dataframe\">\n",
       "  <thead>\n",
       "    <tr style=\"text-align: right;\">\n",
       "      <th></th>\n",
       "      <th>station</th>\n",
       "      <th>targets</th>\n",
       "    </tr>\n",
       "  </thead>\n",
       "  <tbody>\n",
       "    <tr>\n",
       "      <th>0</th>\n",
       "      <td>ADDI</td>\n",
       "      <td>[ADDI, ELMI, HART, TYRO, COHO]</td>\n",
       "    </tr>\n",
       "    <tr>\n",
       "      <th>1</th>\n",
       "      <td>ANDE</td>\n",
       "      <td>[ANDE, WALT, ROXB, CLAR, HARP]</td>\n",
       "    </tr>\n",
       "    <tr>\n",
       "      <th>2</th>\n",
       "      <td>BATA</td>\n",
       "      <td>[BATA, RUSH, BUFF, EAUR, BURT]</td>\n",
       "    </tr>\n",
       "    <tr>\n",
       "      <th>3</th>\n",
       "      <td>BEAC</td>\n",
       "      <td>[BEAC, BREW, HFAL, DOVE, SUFF]</td>\n",
       "    </tr>\n",
       "    <tr>\n",
       "      <th>4</th>\n",
       "      <td>BELD</td>\n",
       "      <td>[BELD, WALT, CINC, BERK, SHER]</td>\n",
       "    </tr>\n",
       "    <tr>\n",
       "      <th>...</th>\n",
       "      <td>...</td>\n",
       "      <td>...</td>\n",
       "    </tr>\n",
       "    <tr>\n",
       "      <th>121</th>\n",
       "      <td>WOLC</td>\n",
       "      <td>[WOLC, OSWE, JORD, CLIF, WATE]</td>\n",
       "    </tr>\n",
       "    <tr>\n",
       "      <th>122</th>\n",
       "      <td>YORK</td>\n",
       "      <td>[YORK, WARS, BROC, SBRI, GROV]</td>\n",
       "    </tr>\n",
       "    <tr>\n",
       "      <th>123</th>\n",
       "      <td>CROG</td>\n",
       "      <td>[CROG, OLDF, COPE, GFLD, EDWA]</td>\n",
       "    </tr>\n",
       "    <tr>\n",
       "      <th>124</th>\n",
       "      <td>RAQU</td>\n",
       "      <td>[RAQU, ILAK, NEWC, PISE, TUPP]</td>\n",
       "    </tr>\n",
       "    <tr>\n",
       "      <th>125</th>\n",
       "      <td>STON</td>\n",
       "      <td>[STON, WANT, SOUT, QUEE, BRON]</td>\n",
       "    </tr>\n",
       "  </tbody>\n",
       "</table>\n",
       "<p>126 rows × 2 columns</p>\n",
       "</div>"
      ],
      "text/plain": [
       "    station                         targets\n",
       "0      ADDI  [ADDI, ELMI, HART, TYRO, COHO]\n",
       "1      ANDE  [ANDE, WALT, ROXB, CLAR, HARP]\n",
       "2      BATA  [BATA, RUSH, BUFF, EAUR, BURT]\n",
       "3      BEAC  [BEAC, BREW, HFAL, DOVE, SUFF]\n",
       "4      BELD  [BELD, WALT, CINC, BERK, SHER]\n",
       "..      ...                             ...\n",
       "121    WOLC  [WOLC, OSWE, JORD, CLIF, WATE]\n",
       "122    YORK  [YORK, WARS, BROC, SBRI, GROV]\n",
       "123    CROG  [CROG, OLDF, COPE, GFLD, EDWA]\n",
       "124    RAQU  [RAQU, ILAK, NEWC, PISE, TUPP]\n",
       "125    STON  [STON, WANT, SOUT, QUEE, BRON]\n",
       "\n",
       "[126 rows x 2 columns]"
      ]
     },
     "execution_count": 40,
     "metadata": {},
     "output_type": "execute_result"
    }
   ],
   "source": [
    "df"
   ]
  },
  {
   "cell_type": "code",
   "execution_count": 41,
   "metadata": {},
   "outputs": [],
   "source": [
    "df.to_csv(\n",
    "    \"/home/aevans/nwp_bias/src/machine_learning/data/gfs_data/gfs_stations_grouped.csv\"\n",
    ")"
   ]
  },
  {
   "cell_type": "code",
   "execution_count": null,
   "metadata": {},
   "outputs": [],
   "source": [
    "station = \"VOOR\""
   ]
  },
  {
   "cell_type": "code",
   "execution_count": null,
   "metadata": {},
   "outputs": [],
   "source": [
    "stations_df = pd.read_parquet(\n",
    "    \"/home/aevans/nwp_bias/src/machine_learning/data/gfs_data/gfs_stations_grouped.parquet\"\n",
    ")\n",
    "radiometer_df = pd.read_parquet(\n",
    "    \"/home/aevans/nwp_bias/src/machine_learning/data/profiler_images/profiler_stations_grouped.parquet\"\n",
    ")\n",
    "\n",
    "stations_df = stations_df[stations_df[\"station\"] == station]\n",
    "radiometer_df = radiometer_df[radiometer_df[\"station\"] == station]\n",
    "\n",
    "stations = stations_df.iloc[0, 1]\n",
    "stations"
   ]
  },
  {
   "cell_type": "code",
   "execution_count": null,
   "metadata": {},
   "outputs": [],
   "source": []
  }
 ],
 "metadata": {
  "kernelspec": {
   "display_name": "Python 3.11.0 (conda)",
   "language": "python",
   "name": "python3"
  },
  "language_info": {
   "codemirror_mode": {
    "name": "ipython",
    "version": 3
   },
   "file_extension": ".py",
   "mimetype": "text/x-python",
   "name": "python",
   "nbconvert_exporter": "python",
   "pygments_lexer": "ipython3",
   "version": "3.11.0"
  },
  "orig_nbformat": 4,
  "vscode": {
   "interpreter": {
    "hash": "168fdf287636bbedc06224370453d1ea17ee31ef28776649e24f81e171f8fc2d"
   }
  }
 },
 "nbformat": 4,
 "nbformat_minor": 2
}
